{
 "cells": [
  {
   "cell_type": "code",
   "execution_count": 1,
   "id": "b4a03362",
   "metadata": {},
   "outputs": [],
   "source": [
    "import sys\n",
    "sys.path.append('..')\n",
    "\n",
    "import math\n",
    "import random\n",
    "\n",
    "import torch\n",
    "import torch.nn as nn\n",
    "from collections import defaultdict\n",
    "\n",
    "device = torch.device('cuda' if torch.cuda.is_available() else 'cpu')\n",
    "\n",
    "import numpy as np\n",
    "# from models.parametric_models import VanillaOU"
   ]
  },
  {
   "cell_type": "code",
   "execution_count": 2,
   "id": "589e3fef",
   "metadata": {},
   "outputs": [],
   "source": [
    "import pickle \n",
    "vanilla_multi_output = '/mnt/qb/work/mlcolab/hzhou52/kt/logs/VanillaHSSM/junyi15/multi_skill/2023-04-03T17:43:45.130144__overfit_16/out_dict/train_out_dict_epoch_445.pkg'\n",
    "with open(vanilla_multi_output, 'rb') as f:\n",
    "    vanilla = pickle.load(f)"
   ]
  },
  {
   "cell_type": "code",
   "execution_count": 4,
   "id": "e0e50525",
   "metadata": {},
   "outputs": [
    {
     "data": {
      "text/plain": [
       "dict_keys(['label', 'prediction', 'sampled_z', 'sampled_s', 'sampled_y', 'mean_s', 'var_s', 'mean_z', 'var_z'])"
      ]
     },
     "execution_count": 4,
     "metadata": {},
     "output_type": "execute_result"
    }
   ],
   "source": [
    "vanilla.keys()"
   ]
  },
  {
   "cell_type": "code",
   "execution_count": 8,
   "id": "dc27b87c",
   "metadata": {},
   "outputs": [
    {
     "data": {
      "text/plain": [
       "tensor([[[-2.9287e+00, -2.5773e+00, -9.7406e-01],\n",
       "         [ 4.0082e+00,  1.9529e+00, -9.8137e-04],\n",
       "         [-5.4854e+00, -1.4790e+00,  1.3190e-04],\n",
       "         [ 7.5072e+00,  1.1204e+00, -6.8164e-05],\n",
       "         [-1.0274e+01, -8.4855e-01, -2.9160e-04],\n",
       "         [ 1.4061e+01,  6.4283e-01, -1.2824e-04],\n",
       "         [-1.9244e+01, -4.8721e-01, -4.0923e-04],\n",
       "         [ 2.6336e+01,  3.6873e-01, -4.4330e-04],\n",
       "         [-3.6043e+01, -2.7897e-01,  3.7817e-04],\n",
       "         [ 4.9327e+01,  2.1079e-01, -3.5803e-04],\n",
       "         [-6.7507e+01, -1.5971e-01, -2.1506e-05],\n",
       "         [ 9.2388e+01,  1.2143e-01,  1.8447e-04],\n",
       "         [-1.2644e+02, -9.2149e-02, -2.2462e-04],\n",
       "         [ 1.7304e+02,  6.9292e-02, -4.0123e-04],\n",
       "         [-2.3682e+02, -5.1951e-02,  3.3024e-04],\n",
       "         [ 3.2410e+02,  3.9737e-02,  3.1334e-04],\n",
       "         [-4.4356e+02, -3.1034e-02, -7.2110e-04],\n",
       "         [ 6.0704e+02,  2.3495e-02, -3.2820e-05],\n",
       "         [-8.3077e+02, -1.8090e-02, -2.6934e-05],\n",
       "         [ 1.1370e+03,  1.3562e-02,  1.3756e-04],\n",
       "         [-1.5560e+03, -9.6267e-03,  3.9030e-04],\n",
       "         [ 2.1295e+03,  7.4524e-03,  3.3297e-04],\n",
       "         [-2.9144e+03, -5.2888e-03,  2.9730e-04],\n",
       "         [ 3.9886e+03,  3.8823e-03,  7.4736e-05],\n",
       "         [-5.4586e+03, -3.3723e-03, -1.3853e-04],\n",
       "         [ 7.4705e+03,  3.1435e-03,  2.9636e-04],\n",
       "         [-1.0224e+04, -2.8369e-03, -5.6025e-04],\n",
       "         [ 1.3992e+04,  2.1828e-03,  2.0327e-04],\n",
       "         [-1.9149e+04, -1.4873e-03,  1.8236e-04],\n",
       "         [ 2.6207e+04,  5.6051e-04, -2.8403e-04],\n",
       "         [-3.5866e+04, -1.3097e-03, -1.7540e-04],\n",
       "         [ 4.9085e+04,  1.3981e-04, -4.8570e-04],\n",
       "         [-6.7176e+04, -6.0121e-04, -2.2019e-04],\n",
       "         [ 9.1935e+04,  4.4981e-04,  3.0051e-05],\n",
       "         [-1.2582e+05, -1.8826e-04,  9.4315e-05],\n",
       "         [ 1.7219e+05, -3.1046e-04, -2.8182e-04],\n",
       "         [-2.3566e+05,  1.1520e-04,  7.4834e-06],\n",
       "         [ 3.2251e+05, -2.8437e-04, -3.5658e-05],\n",
       "         [-4.4138e+05, -5.8790e-06,  6.3106e-05],\n",
       "         [ 6.0406e+05,  2.3198e-05,  1.2173e-04]]], device='cuda:0',\n",
       "       grad_fn=<SelectBackward0>)"
      ]
     },
     "execution_count": 8,
     "metadata": {},
     "output_type": "execute_result"
    }
   ],
   "source": [
    "vanilla['sampled_s'][0,0]"
   ]
  },
  {
   "cell_type": "code",
   "execution_count": null,
   "id": "5db34ee7",
   "metadata": {},
   "outputs": [],
   "source": []
  },
  {
   "cell_type": "code",
   "execution_count": 32,
   "id": "8725ac3f",
   "metadata": {},
   "outputs": [],
   "source": [
    "single_dict_path = '/mnt/qb/work/mlcolab/hzhou52/kt/logs/logs_0329_debug_hssm/0329_q2/debug4_train_0.2_epoch_1000/out_dict/train_out_dict_epoch_855.pkg'\n",
    "with open(single_dict_path, 'rb') as f:\n",
    "    single = pickle.load(f)"
   ]
  },
  {
   "cell_type": "code",
   "execution_count": 52,
   "id": "65f9d908",
   "metadata": {},
   "outputs": [
    {
     "data": {
      "text/plain": [
       "torch.Size([50, 16, 40, 3])"
      ]
     },
     "execution_count": 52,
     "metadata": {},
     "output_type": "execute_result"
    }
   ],
   "source": [
    "single['sampled_s'].shape"
   ]
  },
  {
   "cell_type": "code",
   "execution_count": 53,
   "id": "eca0978b",
   "metadata": {},
   "outputs": [
    {
     "data": {
      "text/plain": [
       "tensor([-1.7842e+00,  1.5710e-01, -1.3842e-02,  1.2189e-03, -1.0032e-04,\n",
       "         6.6902e-06, -1.6127e-06, -3.7648e-06,  1.3456e-05,  1.5951e-07,\n",
       "        -8.4946e-06,  1.6054e-05,  1.5516e-05, -7.1973e-06, -1.6511e-05,\n",
       "         1.0697e-05, -1.0905e-05,  1.2919e-05, -2.0037e-05, -7.9765e-06,\n",
       "        -7.9767e-07,  1.8461e-05, -1.3541e-05, -4.9268e-06,  8.2180e-07,\n",
       "        -6.9746e-06, -5.3884e-06,  1.9773e-05, -6.2672e-06,  4.7068e-06,\n",
       "        -5.5651e-06, -5.3231e-06,  3.4358e-06,  7.5010e-06, -5.4602e-06,\n",
       "         3.1807e-06,  1.1654e-06, -7.5865e-06, -5.0406e-06,  3.0317e-06],\n",
       "       device='cuda:0', grad_fn=<SelectBackward0>)"
      ]
     },
     "execution_count": 53,
     "metadata": {},
     "output_type": "execute_result"
    }
   ],
   "source": [
    "single['sampled_s'][0,0,:,0]"
   ]
  },
  {
   "cell_type": "code",
   "execution_count": 54,
   "id": "8c8ec051",
   "metadata": {},
   "outputs": [],
   "source": [
    "# @ \n",
    "single_model_path = '/mnt/qb/work/mlcolab/hzhou52/kt/logs/logs_0329_debug_hssm/0329_q2/debug4_train_0.2_epoch_1000/Model/Model_0.pt'\n",
    "single_model_dict = torch.load(single_model_path)"
   ]
  },
  {
   "cell_type": "code",
   "execution_count": 60,
   "id": "faa5460a",
   "metadata": {},
   "outputs": [
    {
     "data": {
      "text/plain": [
       "tensor([[-3.2562e-01, -9.5776e-01,  5.4656e-04],\n",
       "        [-1.0607e+00, -9.8498e-01, -1.1882e-04],\n",
       "        [-3.0524e-01, -8.2056e-01, -5.0997e-04],\n",
       "        ...,\n",
       "        [ 3.4182e-02,  3.5240e-02, -3.9822e-02],\n",
       "        [ 2.5166e-02, -3.8491e-02, -2.4818e-02],\n",
       "        [ 7.0661e-03, -1.8523e-02, -2.6388e-02]], device='cuda:0')"
      ]
     },
     "execution_count": 60,
     "metadata": {},
     "output_type": "execute_result"
    }
   ],
   "source": [
    "single_model_dict['s_trans_mean']"
   ]
  },
  {
   "cell_type": "code",
   "execution_count": 3,
   "id": "9140e2ad",
   "metadata": {},
   "outputs": [],
   "source": [
    "# @ check outdict\n",
    "import pickle \n",
    "outdict_path = '/mnt/qb/work/mlcolab/hzhou52/kt/logs/TestHSSM/junyi15/multi_skill/graphhssm_debug1/out_dict/train_out_dict_epoch_627.pkg'\n",
    "with open(outdict_path, 'rb') as f:\n",
    "    outdict = pickle.load(f)"
   ]
  },
  {
   "cell_type": "code",
   "execution_count": 4,
   "id": "14361ce8",
   "metadata": {},
   "outputs": [
    {
     "data": {
      "text/plain": [
       "dict_keys(['label', 'prediction', 'sampled_z', 'sampled_s', 'sampled_y', 'mean_s', 'var_s', 'mean_z', 'var_z'])"
      ]
     },
     "execution_count": 4,
     "metadata": {},
     "output_type": "execute_result"
    }
   ],
   "source": [
    "outdict.keys()"
   ]
  },
  {
   "cell_type": "code",
   "execution_count": 48,
   "id": "d2ca62d9",
   "metadata": {},
   "outputs": [
    {
     "data": {
      "text/plain": [
       "torch.Size([100, 16, 1, 40, 4])"
      ]
     },
     "execution_count": 48,
     "metadata": {},
     "output_type": "execute_result"
    }
   ],
   "source": [
    "outdict['sampled_s'].shape"
   ]
  },
  {
   "cell_type": "code",
   "execution_count": 51,
   "id": "2e5c3453",
   "metadata": {},
   "outputs": [
    {
     "data": {
      "text/plain": [
       "tensor([  -4.9614,    5.3721,   -5.8168,    6.2982,   -6.8196,    7.3841,\n",
       "          -7.9953,    8.6572,   -9.3738,   10.1497,  -10.9899,   11.8996,\n",
       "         -12.8846,   13.9511,  -15.1060,   16.3564,  -17.7103,   19.1763,\n",
       "         -20.7637,   22.4825,  -24.3435,   26.3586,  -28.5405,   30.9030,\n",
       "         -33.4610,   36.2308,  -39.2299,   42.4772,  -45.9934,   49.8006,\n",
       "         -53.9229,   58.3865,  -63.2196,   68.4527,  -74.1190,   80.2544,\n",
       "         -86.8976,   94.0907, -101.8792,  110.3125], device='cuda:0',\n",
       "       grad_fn=<SelectBackward0>)"
      ]
     },
     "execution_count": 51,
     "metadata": {},
     "output_type": "execute_result"
    }
   ],
   "source": [
    "outdict['sampled_s'][0,0,0,:,0]"
   ]
  },
  {
   "cell_type": "code",
   "execution_count": 43,
   "id": "07d82c71",
   "metadata": {},
   "outputs": [
    {
     "data": {
      "text/plain": [
       "tensor(0.7939, device='cuda:0', grad_fn=<MeanBackward0>)"
      ]
     },
     "execution_count": 43,
     "metadata": {},
     "output_type": "execute_result"
    }
   ],
   "source": [
    "outdict['prediction'].mean()"
   ]
  },
  {
   "cell_type": "code",
   "execution_count": 39,
   "id": "567a014c",
   "metadata": {
    "collapsed": true
   },
   "outputs": [
    {
     "data": {
      "text/plain": [
       "tensor([[[[ 5.0209e+00],\n",
       "          [ 2.5287e+00],\n",
       "          [ 2.5251e+00],\n",
       "          ...,\n",
       "          [ 7.8056e-08],\n",
       "          [ 7.8031e-08],\n",
       "          [-7.6688e-07]],\n",
       "\n",
       "         [[ 5.0209e+00],\n",
       "          [ 1.8179e-02],\n",
       "          [ 1.8153e-02],\n",
       "          ...,\n",
       "          [ 1.5101e-07],\n",
       "          [ 1.5072e-07],\n",
       "          [-7.9405e-07]],\n",
       "\n",
       "         [[ 5.0209e+00],\n",
       "          [ 2.5287e+00],\n",
       "          [ 2.5251e+00],\n",
       "          ...,\n",
       "          [ 5.4280e-08],\n",
       "          [ 5.4339e-08],\n",
       "          [-7.2125e-07]],\n",
       "\n",
       "         ...,\n",
       "\n",
       "         [[ 5.0209e+00],\n",
       "          [ 2.5287e+00],\n",
       "          [ 2.5251e+00],\n",
       "          ...,\n",
       "          [ 1.6376e-07],\n",
       "          [ 1.6343e-07],\n",
       "          [-7.5504e-07]],\n",
       "\n",
       "         [[ 5.0209e+00],\n",
       "          [ 2.5287e+00],\n",
       "          [ 2.5251e+00],\n",
       "          ...,\n",
       "          [ 1.4587e-07],\n",
       "          [ 1.4560e-07],\n",
       "          [-7.1869e-07]],\n",
       "\n",
       "         [[ 5.0209e+00],\n",
       "          [ 2.5287e+00],\n",
       "          [ 2.5251e+00],\n",
       "          ...,\n",
       "          [ 1.4587e-07],\n",
       "          [ 1.4560e-07],\n",
       "          [-7.1869e-07]]],\n",
       "\n",
       "\n",
       "        [[[ 2.5737e+00],\n",
       "          [ 4.4237e+00],\n",
       "          [ 4.4092e+00],\n",
       "          ...,\n",
       "          [ 1.3742e+08],\n",
       "          [ 1.3730e+08],\n",
       "          [ 3.6328e+08]],\n",
       "\n",
       "         [[ 2.5737e+00],\n",
       "          [ 3.1375e+00],\n",
       "          [ 3.1250e+00],\n",
       "          ...,\n",
       "          [ 1.2446e+08],\n",
       "          [ 1.2433e+08],\n",
       "          [ 3.2898e+08]],\n",
       "\n",
       "         [[ 2.5737e+00],\n",
       "          [ 4.4237e+00],\n",
       "          [ 4.4092e+00],\n",
       "          ...,\n",
       "          [ 1.3732e+08],\n",
       "          [ 1.3720e+08],\n",
       "          [ 3.6301e+08]],\n",
       "\n",
       "         ...,\n",
       "\n",
       "         [[ 2.5737e+00],\n",
       "          [ 4.4237e+00],\n",
       "          [ 4.4092e+00],\n",
       "          ...,\n",
       "          [ 1.3743e+08],\n",
       "          [ 1.3731e+08],\n",
       "          [ 3.6331e+08]],\n",
       "\n",
       "         [[ 2.5737e+00],\n",
       "          [ 4.4237e+00],\n",
       "          [ 4.4092e+00],\n",
       "          ...,\n",
       "          [ 1.3621e+08],\n",
       "          [ 1.3608e+08],\n",
       "          [ 3.6007e+08]],\n",
       "\n",
       "         [[ 2.5737e+00],\n",
       "          [ 4.4237e+00],\n",
       "          [ 4.4092e+00],\n",
       "          ...,\n",
       "          [ 1.3621e+08],\n",
       "          [ 1.3608e+08],\n",
       "          [ 3.6007e+08]]],\n",
       "\n",
       "\n",
       "        [[[ 3.9663e+00],\n",
       "          [ 2.9007e+00],\n",
       "          [ 2.9002e+00],\n",
       "          ...,\n",
       "          [ 2.9614e+00],\n",
       "          [ 2.9610e+00],\n",
       "          [ 2.9850e+00]],\n",
       "\n",
       "         [[ 3.9663e+00],\n",
       "          [ 1.9375e+00],\n",
       "          [ 1.9370e+00],\n",
       "          ...,\n",
       "          [ 2.2354e+00],\n",
       "          [ 2.2351e+00],\n",
       "          [ 2.2533e+00]],\n",
       "\n",
       "         [[ 3.9663e+00],\n",
       "          [ 2.9007e+00],\n",
       "          [ 2.9002e+00],\n",
       "          ...,\n",
       "          [ 2.9273e+00],\n",
       "          [ 2.9269e+00],\n",
       "          [ 2.9506e+00]],\n",
       "\n",
       "         ...,\n",
       "\n",
       "         [[ 3.9663e+00],\n",
       "          [ 2.9007e+00],\n",
       "          [ 2.9002e+00],\n",
       "          ...,\n",
       "          [ 2.9698e+00],\n",
       "          [ 2.9695e+00],\n",
       "          [ 2.9935e+00]],\n",
       "\n",
       "         [[ 3.9663e+00],\n",
       "          [ 2.9007e+00],\n",
       "          [ 2.9002e+00],\n",
       "          ...,\n",
       "          [ 2.7898e+00],\n",
       "          [ 2.7894e+00],\n",
       "          [ 2.8120e+00]],\n",
       "\n",
       "         [[ 3.9663e+00],\n",
       "          [ 2.9007e+00],\n",
       "          [ 2.9002e+00],\n",
       "          ...,\n",
       "          [ 2.7898e+00],\n",
       "          [ 2.7894e+00],\n",
       "          [ 2.8120e+00]]],\n",
       "\n",
       "\n",
       "        ...,\n",
       "\n",
       "\n",
       "        [[[ 8.4749e-01],\n",
       "          [ 2.1879e+00],\n",
       "          [ 2.1705e+00],\n",
       "          ...,\n",
       "          [ 1.6899e+00],\n",
       "          [ 1.6859e+00],\n",
       "          [ 2.0897e+00]],\n",
       "\n",
       "         [[ 8.4749e-01],\n",
       "          [ 2.1834e+00],\n",
       "          [ 2.1657e+00],\n",
       "          ...,\n",
       "          [ 1.6964e+00],\n",
       "          [ 1.6918e+00],\n",
       "          [ 1.6727e+00]],\n",
       "\n",
       "         [[ 8.4749e-01],\n",
       "          [ 2.1879e+00],\n",
       "          [ 2.1705e+00],\n",
       "          ...,\n",
       "          [ 1.6720e+00],\n",
       "          [ 1.6680e+00],\n",
       "          [ 2.0683e+00]],\n",
       "\n",
       "         ...,\n",
       "\n",
       "         [[ 8.4749e-01],\n",
       "          [ 2.1879e+00],\n",
       "          [ 2.1705e+00],\n",
       "          ...,\n",
       "          [ 1.6931e+00],\n",
       "          [ 1.6891e+00],\n",
       "          [ 2.0942e+00]],\n",
       "\n",
       "         [[ 8.4749e-01],\n",
       "          [ 2.1879e+00],\n",
       "          [ 2.1705e+00],\n",
       "          ...,\n",
       "          [ 1.5861e+00],\n",
       "          [ 1.5823e+00],\n",
       "          [ 2.0957e+00]],\n",
       "\n",
       "         [[ 8.4749e-01],\n",
       "          [ 2.1879e+00],\n",
       "          [ 2.1705e+00],\n",
       "          ...,\n",
       "          [ 1.5861e+00],\n",
       "          [ 1.5823e+00],\n",
       "          [ 2.0957e+00]]],\n",
       "\n",
       "\n",
       "        [[[ 3.2947e+00],\n",
       "          [ 3.8484e+00],\n",
       "          [ 3.8459e+00],\n",
       "          ...,\n",
       "          [ 3.6466e+00],\n",
       "          [ 3.6440e+00],\n",
       "          [ 3.6916e+00]],\n",
       "\n",
       "         [[ 3.2947e+00],\n",
       "          [ 2.2123e+00],\n",
       "          [ 2.2105e+00],\n",
       "          ...,\n",
       "          [ 2.7571e+00],\n",
       "          [ 2.7545e+00],\n",
       "          [ 2.7910e+00]],\n",
       "\n",
       "         [[ 3.2947e+00],\n",
       "          [ 3.8484e+00],\n",
       "          [ 3.8459e+00],\n",
       "          ...,\n",
       "          [ 3.6051e+00],\n",
       "          [ 3.6025e+00],\n",
       "          [ 3.6497e+00]],\n",
       "\n",
       "         ...,\n",
       "\n",
       "         [[ 3.2947e+00],\n",
       "          [ 3.8484e+00],\n",
       "          [ 3.8459e+00],\n",
       "          ...,\n",
       "          [ 3.6568e+00],\n",
       "          [ 3.6542e+00],\n",
       "          [ 3.7020e+00]],\n",
       "\n",
       "         [[ 3.2947e+00],\n",
       "          [ 3.8484e+00],\n",
       "          [ 3.8459e+00],\n",
       "          ...,\n",
       "          [ 3.4372e+00],\n",
       "          [ 3.4346e+00],\n",
       "          [ 3.4796e+00]],\n",
       "\n",
       "         [[ 3.2947e+00],\n",
       "          [ 3.8484e+00],\n",
       "          [ 3.8459e+00],\n",
       "          ...,\n",
       "          [ 3.4372e+00],\n",
       "          [ 3.4346e+00],\n",
       "          [ 3.4796e+00]]],\n",
       "\n",
       "\n",
       "        [[[ 6.1849e+00],\n",
       "          [-1.5466e+00],\n",
       "          [-1.5419e+00],\n",
       "          ...,\n",
       "          [-8.8747e-06],\n",
       "          [-8.8701e-06],\n",
       "          [-8.8399e-06]],\n",
       "\n",
       "         [[ 6.1849e+00],\n",
       "          [-1.5466e+00],\n",
       "          [-1.5419e+00],\n",
       "          ...,\n",
       "          [-8.8747e-06],\n",
       "          [-8.8701e-06],\n",
       "          [-8.8399e-06]],\n",
       "\n",
       "         [[ 6.1849e+00],\n",
       "          [-1.5466e+00],\n",
       "          [-1.5419e+00],\n",
       "          ...,\n",
       "          [-8.8747e-06],\n",
       "          [-8.8701e-06],\n",
       "          [-8.8399e-06]],\n",
       "\n",
       "         ...,\n",
       "\n",
       "         [[ 6.1849e+00],\n",
       "          [-1.5466e+00],\n",
       "          [-1.5419e+00],\n",
       "          ...,\n",
       "          [-8.8747e-06],\n",
       "          [-8.8701e-06],\n",
       "          [-8.8399e-06]],\n",
       "\n",
       "         [[ 6.1849e+00],\n",
       "          [-1.5466e+00],\n",
       "          [-1.5419e+00],\n",
       "          ...,\n",
       "          [-8.8747e-06],\n",
       "          [-8.8701e-06],\n",
       "          [-8.8399e-06]],\n",
       "\n",
       "         [[ 6.1849e+00],\n",
       "          [-1.5466e+00],\n",
       "          [-1.5419e+00],\n",
       "          ...,\n",
       "          [-8.8747e-06],\n",
       "          [-8.8701e-06],\n",
       "          [-8.8399e-06]]]], device='cuda:0', requires_grad=True)"
      ]
     },
     "execution_count": 39,
     "metadata": {},
     "output_type": "execute_result"
    }
   ],
   "source": [
    "outdict['mean_z']"
   ]
  },
  {
   "cell_type": "code",
   "execution_count": null,
   "id": "97e43edc",
   "metadata": {},
   "outputs": [],
   "source": []
  },
  {
   "cell_type": "code",
   "execution_count": null,
   "id": "9b0ea8a2",
   "metadata": {},
   "outputs": [],
   "source": []
  },
  {
   "cell_type": "code",
   "execution_count": 47,
   "id": "3b03eda1",
   "metadata": {},
   "outputs": [
    {
     "data": {
      "text/plain": [
       "553"
      ]
     },
     "execution_count": 47,
     "metadata": {},
     "output_type": "execute_result"
    }
   ],
   "source": [
    "# @ 20230316\n",
    "# debug graph influence\n",
    "import pickle\n",
    "corpus_path = '/mnt/qb/work/mlcolab/hzhou52/kt/junyi/single_user_multi_skill/Corpus_200.pkl'\n",
    "with open(corpus_path, 'rb') as f:\n",
    "    corpus = pickle.load(f)\n",
    "    \n",
    "adj = np.load('/mnt/qb/work/mlcolab/hzhou52/kt/junyi/adj.npy')\n",
    "adj.sum()"
   ]
  },
  {
   "cell_type": "code",
   "execution_count": 5,
   "id": "0b333f6a",
   "metadata": {},
   "outputs": [],
   "source": [
    "all_skill = np.array(corpus.user_seq_df['skill_seq'])\n",
    "all_skill = np.stack(all_skill, 0)"
   ]
  },
  {
   "cell_type": "code",
   "execution_count": 46,
   "id": "5103930b",
   "metadata": {},
   "outputs": [
    {
     "data": {
      "text/plain": [
       "372"
      ]
     },
     "execution_count": 46,
     "metadata": {},
     "output_type": "execute_result"
    }
   ],
   "source": [
    "pair = np.stack([all_skill[:, :-1], all_skill[:, 1:]], -1)\n",
    "pairs = []\n",
    "for j in range(pair.shape[0]):\n",
    "    for i in range(199):\n",
    "        pairs.append(tuple(pair[j,i]))\n",
    "\n",
    "unique_pair = set(pairs)\n",
    "adj[np.array(list(unique_pair))[:, 0], np.array(list(unique_pair))[:, 1]].sum()"
   ]
  },
  {
   "cell_type": "code",
   "execution_count": 43,
   "id": "2a6c0fa8",
   "metadata": {},
   "outputs": [],
   "source": [
    "train_pair = pair[:, :99]\n",
    "train_pairs = []\n",
    "for j in range(train_pair.shape[0]):\n",
    "    for i in range(99):\n",
    "        train_pairs.append(tuple(train_pair[j,i]))\n",
    "unique_train_pair = set(train_pairs)\n",
    "adj[np.array(list(unique_train_pair))[:, 0], np.array(list(unique_train_pair))[:, 1]].sum()"
   ]
  },
  {
   "cell_type": "code",
   "execution_count": null,
   "id": "558ae68f",
   "metadata": {},
   "outputs": [],
   "source": []
  },
  {
   "cell_type": "code",
   "execution_count": null,
   "id": "f60e6535",
   "metadata": {},
   "outputs": [],
   "source": []
  },
  {
   "cell_type": "code",
   "execution_count": null,
   "id": "ee1c72ef",
   "metadata": {},
   "outputs": [],
   "source": []
  },
  {
   "cell_type": "code",
   "execution_count": null,
   "id": "fede87b7",
   "metadata": {},
   "outputs": [],
   "source": []
  },
  {
   "cell_type": "code",
   "execution_count": null,
   "id": "934d95bd",
   "metadata": {
    "collapsed": true
   },
   "outputs": [],
   "source": []
  }
 ],
 "metadata": {
  "kernelspec": {
   "display_name": "Python 3 (ipykernel)",
   "language": "python",
   "name": "python3"
  },
  "language_info": {
   "codemirror_mode": {
    "name": "ipython",
    "version": 3
   },
   "file_extension": ".py",
   "mimetype": "text/x-python",
   "name": "python",
   "nbconvert_exporter": "python",
   "pygments_lexer": "ipython3",
   "version": "3.9.12"
  }
 },
 "nbformat": 4,
 "nbformat_minor": 5
}
