{
 "cells": [
  {
   "cell_type": "code",
   "execution_count": 3,
   "id": "b4a03362",
   "metadata": {},
   "outputs": [],
   "source": [
    "import sys\n",
    "sys.path.append('..')\n",
    "\n",
    "import math\n",
    "import random\n",
    "\n",
    "import torch\n",
    "import torch.nn as nn\n",
    "from collections import defaultdict\n",
    "\n",
    "device = torch.device('cuda' if torch.cuda.is_available() else 'cpu')\n",
    "\n",
    "import numpy as np\n",
    "# from models.parametric_models import VanillaOU"
   ]
  },
  {
   "cell_type": "code",
   "execution_count": 47,
   "id": "3b03eda1",
   "metadata": {},
   "outputs": [
    {
     "data": {
      "text/plain": [
       "553"
      ]
     },
     "execution_count": 47,
     "metadata": {},
     "output_type": "execute_result"
    }
   ],
   "source": [
    "# @ 20230316\n",
    "# debug graph influence\n",
    "import pickle\n",
    "corpus_path = '/mnt/qb/work/mlcolab/hzhou52/kt/junyi/single_user_multi_skill/Corpus_200.pkl'\n",
    "with open(corpus_path, 'rb') as f:\n",
    "    corpus = pickle.load(f)\n",
    "    \n",
    "adj = np.load('/mnt/qb/work/mlcolab/hzhou52/kt/junyi/adj.npy')\n",
    "adj.sum()"
   ]
  },
  {
   "cell_type": "code",
   "execution_count": 5,
   "id": "0b333f6a",
   "metadata": {},
   "outputs": [],
   "source": [
    "all_skill = np.array(corpus.user_seq_df['skill_seq'])\n",
    "all_skill = np.stack(all_skill, 0)"
   ]
  },
  {
   "cell_type": "code",
   "execution_count": 46,
   "id": "5103930b",
   "metadata": {},
   "outputs": [
    {
     "data": {
      "text/plain": [
       "372"
      ]
     },
     "execution_count": 46,
     "metadata": {},
     "output_type": "execute_result"
    }
   ],
   "source": [
    "pair = np.stack([all_skill[:, :-1], all_skill[:, 1:]], -1)\n",
    "pairs = []\n",
    "for j in range(pair.shape[0]):\n",
    "    for i in range(199):\n",
    "        pairs.append(tuple(pair[j,i]))\n",
    "\n",
    "unique_pair = set(pairs)\n",
    "adj[np.array(list(unique_pair))[:, 0], np.array(list(unique_pair))[:, 1]].sum()"
   ]
  },
  {
   "cell_type": "code",
   "execution_count": 43,
   "id": "2a6c0fa8",
   "metadata": {},
   "outputs": [],
   "source": [
    "train_pair = pair[:, :99]\n",
    "train_pairs = []\n",
    "for j in range(train_pair.shape[0]):\n",
    "    for i in range(99):\n",
    "        train_pairs.append(tuple(train_pair[j,i]))\n",
    "unique_train_pair = set(train_pairs)\n",
    "adj[np.array(list(unique_train_pair))[:, 0], np.array(list(unique_train_pair))[:, 1]].sum()"
   ]
  },
  {
   "cell_type": "code",
   "execution_count": null,
   "id": "558ae68f",
   "metadata": {},
   "outputs": [],
   "source": []
  },
  {
   "cell_type": "code",
   "execution_count": null,
   "id": "f60e6535",
   "metadata": {},
   "outputs": [],
   "source": []
  },
  {
   "cell_type": "code",
   "execution_count": null,
   "id": "ee1c72ef",
   "metadata": {},
   "outputs": [],
   "source": []
  },
  {
   "cell_type": "code",
   "execution_count": null,
   "id": "fede87b7",
   "metadata": {},
   "outputs": [],
   "source": []
  },
  {
   "cell_type": "code",
   "execution_count": null,
   "id": "934d95bd",
   "metadata": {
    "collapsed": true
   },
   "outputs": [],
   "source": []
  }
 ],
 "metadata": {
  "kernelspec": {
   "display_name": "Python 3 (ipykernel)",
   "language": "python",
   "name": "python3"
  },
  "language_info": {
   "codemirror_mode": {
    "name": "ipython",
    "version": 3
   },
   "file_extension": ".py",
   "mimetype": "text/x-python",
   "name": "python",
   "nbconvert_exporter": "python",
   "pygments_lexer": "ipython3",
   "version": "3.9.12"
  }
 },
 "nbformat": 4,
 "nbformat_minor": 5
}
