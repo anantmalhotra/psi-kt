{
 "cells": [
  {
   "cell_type": "code",
   "execution_count": 2,
   "id": "b4a03362",
   "metadata": {},
   "outputs": [],
   "source": [
    "import sys\n",
    "sys.path.append('..')\n",
    "\n",
    "import math\n",
    "import random\n",
    "\n",
    "import torch\n",
    "import torch.nn as nn\n",
    "from collections import defaultdict\n",
    "\n",
    "device = torch.device('cuda' if torch.cuda.is_available() else 'cpu')\n",
    "\n",
    "import numpy as np\n",
    "\n",
    "import pickle "
   ]
  },
  {
   "cell_type": "code",
   "execution_count": 85,
   "id": "9445699b",
   "metadata": {},
   "outputs": [],
   "source": [
    "path = '/mnt/qb/work/mlcolab/hzhou52/kt/logs/TestHSSM/junyi15/single_skill/2023-04-17T20:15:07.222230__overfit_512/Model/Model_3_20.pt'\n",
    "test = torch.load(path)"
   ]
  },
  {
   "cell_type": "code",
   "execution_count": 90,
   "id": "8c8168da",
   "metadata": {},
   "outputs": [
    {
     "data": {
      "text/plain": [
       "tensor([[[  0.5622,   0.7822,   0.1240],\n",
       "         [ -5.8266,   1.9653,  -2.1235],\n",
       "         [-13.7539,   3.7849,  -4.8857],\n",
       "         [-20.3129,   4.9860,  -7.6826],\n",
       "         [  0.0000,   0.0000,   0.0000]],\n",
       "\n",
       "        [[  0.5629,   0.7830,   0.1229],\n",
       "         [ -7.6237,   2.4742,  -2.8857],\n",
       "         [-13.9652,   3.9458,  -4.9330],\n",
       "         [-21.4947,   5.4564,  -7.8030],\n",
       "         [  0.0000,   0.0000,   0.0000]],\n",
       "\n",
       "        [[  0.5618,   0.7830,   0.1227],\n",
       "         [ -7.5716,   2.6992,  -3.0045],\n",
       "         [-15.0937,   4.2634,  -6.0633],\n",
       "         [-21.3472,   5.5421,  -7.2811],\n",
       "         [  0.0000,   0.0000,   0.0000]],\n",
       "\n",
       "        ...,\n",
       "\n",
       "        [[  0.5620,   0.7827,   0.1235],\n",
       "         [ -4.8321,   1.6829,  -2.1783],\n",
       "         [-12.2481,   3.3440,  -4.8025],\n",
       "         [-17.4377,   4.4895,  -6.1607],\n",
       "         [  0.0000,   0.0000,   0.0000]],\n",
       "\n",
       "        [[  0.5629,   0.7830,   0.1229],\n",
       "         [ -5.0971,   1.7135,  -1.5423],\n",
       "         [ -9.1308,   2.8460,  -3.7130],\n",
       "         [-16.7194,   4.0383,  -5.9271],\n",
       "         [  0.0000,   0.0000,   0.0000]],\n",
       "\n",
       "        [[  0.5627,   0.7822,   0.1235],\n",
       "         [ -3.1410,   1.2478,  -0.7130],\n",
       "         [ -8.0063,   2.3099,  -3.0266],\n",
       "         [-13.2400,   2.9303,  -4.7706],\n",
       "         [  0.0000,   0.0000,   0.0000]]], device='cuda:0')"
      ]
     },
     "execution_count": 90,
     "metadata": {},
     "output_type": "execute_result"
    }
   ],
   "source": [
    "test['pred_s_means'][:,0,:5]"
   ]
  },
  {
   "cell_type": "code",
   "execution_count": 76,
   "id": "613bcd0e",
   "metadata": {},
   "outputs": [],
   "source": [
    "\n",
    "statedicts2 = []\n",
    "for i in [0,10,20,30,40]:\n",
    "    model_path = path +'/Model_2_{}.pt'.format(i)\n",
    "    statedicts2.append(torch.load(model_path))\n",
    "statedicts1 = []\n",
    "for i in [0,10,20,30,40]:\n",
    "    model_path = path +'/Model_1_{}.pt'.format(i)\n",
    "    statedicts1.append(torch.load(model_path))\n",
    "statedicts0 = []\n",
    "for i in [0,10,20,30,40]:\n",
    "    model_path = path +'/Model_0_{}.pt'.format(i)\n",
    "    statedicts0.append(torch.load(model_path))"
   ]
  },
  {
   "cell_type": "code",
   "execution_count": null,
   "id": "9b0ea8a2",
   "metadata": {},
   "outputs": [],
   "source": []
  },
  {
   "cell_type": "code",
   "execution_count": 47,
   "id": "3b03eda1",
   "metadata": {},
   "outputs": [
    {
     "data": {
      "text/plain": [
       "553"
      ]
     },
     "execution_count": 47,
     "metadata": {},
     "output_type": "execute_result"
    }
   ],
   "source": [
    "# @ 20230316\n",
    "# debug graph influence\n",
    "import pickle\n",
    "corpus_path = '/mnt/qb/work/mlcolab/hzhou52/kt/junyi/single_user_multi_skill/Corpus_200.pkl'\n",
    "with open(corpus_path, 'rb') as f:\n",
    "    corpus = pickle.load(f)\n",
    "    \n",
    "adj = np.load('/mnt/qb/work/mlcolab/hzhou52/kt/junyi/adj.npy')\n",
    "adj.sum()"
   ]
  },
  {
   "cell_type": "code",
   "execution_count": 5,
   "id": "0b333f6a",
   "metadata": {},
   "outputs": [],
   "source": [
    "all_skill = np.array(corpus.user_seq_df['skill_seq'])\n",
    "all_skill = np.stack(all_skill, 0)"
   ]
  },
  {
   "cell_type": "code",
   "execution_count": 46,
   "id": "5103930b",
   "metadata": {},
   "outputs": [
    {
     "data": {
      "text/plain": [
       "372"
      ]
     },
     "execution_count": 46,
     "metadata": {},
     "output_type": "execute_result"
    }
   ],
   "source": [
    "pair = np.stack([all_skill[:, :-1], all_skill[:, 1:]], -1)\n",
    "pairs = []\n",
    "for j in range(pair.shape[0]):\n",
    "    for i in range(199):\n",
    "        pairs.append(tuple(pair[j,i]))\n",
    "\n",
    "unique_pair = set(pairs)\n",
    "adj[np.array(list(unique_pair))[:, 0], np.array(list(unique_pair))[:, 1]].sum()"
   ]
  },
  {
   "cell_type": "code",
   "execution_count": 43,
   "id": "2a6c0fa8",
   "metadata": {},
   "outputs": [],
   "source": [
    "train_pair = pair[:, :99]\n",
    "train_pairs = []\n",
    "for j in range(train_pair.shape[0]):\n",
    "    for i in range(99):\n",
    "        train_pairs.append(tuple(train_pair[j,i]))\n",
    "unique_train_pair = set(train_pairs)\n",
    "adj[np.array(list(unique_train_pair))[:, 0], np.array(list(unique_train_pair))[:, 1]].sum()"
   ]
  },
  {
   "cell_type": "code",
   "execution_count": null,
   "id": "558ae68f",
   "metadata": {},
   "outputs": [],
   "source": []
  },
  {
   "cell_type": "code",
   "execution_count": null,
   "id": "f60e6535",
   "metadata": {},
   "outputs": [],
   "source": []
  },
  {
   "cell_type": "code",
   "execution_count": null,
   "id": "ee1c72ef",
   "metadata": {},
   "outputs": [],
   "source": []
  },
  {
   "cell_type": "code",
   "execution_count": null,
   "id": "fede87b7",
   "metadata": {},
   "outputs": [],
   "source": []
  },
  {
   "cell_type": "code",
   "execution_count": null,
   "id": "934d95bd",
   "metadata": {
    "collapsed": true
   },
   "outputs": [],
   "source": []
  }
 ],
 "metadata": {
  "kernelspec": {
   "display_name": "Python 3 (ipykernel)",
   "language": "python",
   "name": "python3"
  },
  "language_info": {
   "codemirror_mode": {
    "name": "ipython",
    "version": 3
   },
   "file_extension": ".py",
   "mimetype": "text/x-python",
   "name": "python",
   "nbconvert_exporter": "python",
   "pygments_lexer": "ipython3",
   "version": "3.9.12"
  }
 },
 "nbformat": 4,
 "nbformat_minor": 5
}
