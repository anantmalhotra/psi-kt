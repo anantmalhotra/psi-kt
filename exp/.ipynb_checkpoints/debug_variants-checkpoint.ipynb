{
 "cells": [
  {
   "cell_type": "code",
   "execution_count": 1,
   "id": "b4a03362",
   "metadata": {},
   "outputs": [],
   "source": [
    "import sys\n",
    "sys.path.append('..')\n",
    "\n",
    "import math\n",
    "import random\n",
    "\n",
    "import torch\n",
    "import torch.nn as nn\n",
    "from collections import defaultdict\n",
    "\n",
    "device = torch.device('cuda' if torch.cuda.is_available() else 'cpu')\n",
    "\n",
    "import numpy as np\n",
    "\n",
    "import pickle "
   ]
  },
  {
   "cell_type": "code",
   "execution_count": 2,
   "id": "9445699b",
   "metadata": {},
   "outputs": [],
   "source": [
    "path = '/mnt/qb/work/mlcolab/hzhou52/kt/logs/TestHSSM/junyi15/multi_skill/2023-04-23T19:56:59.431502__overfit_1024/Model/Model_70_0.pt'\n",
    "test = torch.load(path)"
   ]
  },
  {
   "cell_type": "code",
   "execution_count": 3,
   "id": "8c8168da",
   "metadata": {},
   "outputs": [
    {
     "data": {
      "text/plain": [
       "odict_keys(['gen_s0_mean', 'gen_s0_log_var', 'gen_z0_mean', 'gen_z0_log_var', 'output_prior_s_mean', 'output_prior_s_empower', 'output_s_prior_distributions_mean', 'output_s_prior_distributions_var', 'output_prior_z_decay', 'output_prior_z_empower', 'output_prior_z_tmp_mean_level', 'output_z_prior_distributions_mean', 'output_z_prior_distributions_var', 'output_mean_s', 'output_var_s', 'output_mean_z', 'output_var_z', 'output_emb_input', 'output_sampled_z', 'output_sampled_y', 'output_sampled_s', 'output_items', 'output_predictions', 'output_gt', 'output_attention_weights', 'output_gt_graph_weights', 'node_dist.u', 'node_dist.transformation_layer', 'gen_network_prior_mean_var_s.FC_input.weight', 'gen_network_prior_mean_var_s.FC_input.bias', 'gen_network_prior_mean_var_s.FC_input2.weight', 'gen_network_prior_mean_var_s.FC_input2.bias', 'gen_network_prior_mean_var_s.FC_mean.weight', 'gen_network_prior_mean_var_s.FC_mean.bias', 'gen_network_prior_mean_var_s.FC_var.weight', 'gen_network_prior_mean_var_s.FC_var.bias', 'infer_network_emb.weight_ih_l0', 'infer_network_emb.weight_hh_l0', 'infer_network_emb.bias_ih_l0', 'infer_network_emb.bias_hh_l0', 'infer_network_emb.weight_ih_l0_reverse', 'infer_network_emb.weight_hh_l0_reverse', 'infer_network_emb.bias_ih_l0_reverse', 'infer_network_emb.bias_hh_l0_reverse', 'infer_network_posterior_s.weight_ih_l0', 'infer_network_posterior_s.weight_hh_l0', 'infer_network_posterior_s.bias_ih_l0', 'infer_network_posterior_s.bias_hh_l0', 'infer_network_posterior_mean_var_s.FC_input.weight', 'infer_network_posterior_mean_var_s.FC_input.bias', 'infer_network_posterior_mean_var_s.FC_input2.weight', 'infer_network_posterior_mean_var_s.FC_input2.bias', 'infer_network_posterior_mean_var_s.FC_mean.weight', 'infer_network_posterior_mean_var_s.FC_mean.bias', 'infer_network_posterior_mean_var_s.FC_var.weight', 'infer_network_posterior_mean_var_s.FC_var.bias', 'infer_network_posterior_z.weight_ih_l0', 'infer_network_posterior_z.weight_hh_l0', 'infer_network_posterior_z.bias_ih_l0', 'infer_network_posterior_z.bias_hh_l0', 'infer_network_posterior_mean_var_z.FC_input.weight', 'infer_network_posterior_mean_var_z.FC_input.bias', 'infer_network_posterior_mean_var_z.FC_input2.weight', 'infer_network_posterior_mean_var_z.FC_input2.bias', 'infer_network_posterior_mean_var_z.FC_mean.weight', 'infer_network_posterior_mean_var_z.FC_mean.bias', 'infer_network_posterior_mean_var_z.FC_var.weight', 'infer_network_posterior_mean_var_z.FC_var.bias'])"
      ]
     },
     "execution_count": 3,
     "metadata": {},
     "output_type": "execute_result"
    }
   ],
   "source": [
    "test.keys()"
   ]
  },
  {
   "cell_type": "code",
   "execution_count": 6,
   "id": "c4b68483",
   "metadata": {},
   "outputs": [
    {
     "data": {
      "text/plain": [
       "tensor([[[ 0.2275,  0.0880,  0.1923, -0.5224],\n",
       "         [ 0.2282,  0.0892,  0.1895, -0.5285],\n",
       "         [ 0.2127,  0.0908,  0.1947, -0.5230],\n",
       "         ...,\n",
       "         [ 0.2245,  0.0904,  0.1961, -0.5231],\n",
       "         [ 0.2163,  0.0902,  0.1987, -0.5238],\n",
       "         [ 0.2192,  0.0902,  0.1961, -0.5282]],\n",
       "\n",
       "        [[ 0.2236,  0.0896,  0.1968, -0.5289],\n",
       "         [ 0.2267,  0.0867,  0.1955, -0.5262],\n",
       "         [ 0.2240,  0.0888,  0.1962, -0.5242],\n",
       "         ...,\n",
       "         [ 0.2107,  0.0890,  0.1975, -0.5218],\n",
       "         [ 0.2359,  0.0816,  0.1731, -0.5104],\n",
       "         [ 0.2150,  0.0893,  0.2005, -0.5179]],\n",
       "\n",
       "        [[ 0.2088,  0.0901,  0.1954, -0.5240],\n",
       "         [ 0.2144,  0.0832,  0.1893, -0.5222],\n",
       "         [ 0.2063,  0.0880,  0.1950, -0.5210],\n",
       "         ...,\n",
       "         [ 0.2127,  0.0898,  0.1960, -0.5228],\n",
       "         [ 0.2755,  0.0075,  0.0831, -0.5667],\n",
       "         [ 0.2712,  0.0129,  0.0881, -0.5636]],\n",
       "\n",
       "        ...,\n",
       "\n",
       "        [[ 0.2179,  0.0725,  0.1760, -0.5267],\n",
       "         [ 0.2195,  0.0851,  0.1946, -0.5212],\n",
       "         [ 0.2338,  0.0530,  0.1437, -0.5353],\n",
       "         ...,\n",
       "         [ 0.2178,  0.0897,  0.1950, -0.5291],\n",
       "         [ 0.2276,  0.0884,  0.1926, -0.5304],\n",
       "         [ 0.2400,  0.0890,  0.1903, -0.5165]],\n",
       "\n",
       "        [[ 0.2289,  0.0907,  0.2020, -0.5191],\n",
       "         [ 0.2318,  0.0887,  0.1999, -0.5178],\n",
       "         [ 0.2206,  0.0913,  0.1976, -0.5286],\n",
       "         ...,\n",
       "         [ 0.2222,  0.0882,  0.1936, -0.5225],\n",
       "         [ 0.2315,  0.0897,  0.1947, -0.5255],\n",
       "         [ 0.2251,  0.0898,  0.1953, -0.5257]],\n",
       "\n",
       "        [[ 0.2467,  0.0457,  0.1275, -0.5570],\n",
       "         [ 0.2256,  0.0887,  0.1971, -0.5309],\n",
       "         [ 0.2260,  0.0899,  0.1946, -0.5297],\n",
       "         ...,\n",
       "         [ 0.2260,  0.0890,  0.1937, -0.5237],\n",
       "         [ 0.2194,  0.0901,  0.1919, -0.5264],\n",
       "         [ 0.2158,  0.0896,  0.1944, -0.5302]]], device='cuda:0')"
      ]
     },
     "execution_count": 6,
     "metadata": {},
     "output_type": "execute_result"
    }
   ],
   "source": [
    "test['output_prior_s_mean']"
   ]
  },
  {
   "cell_type": "code",
   "execution_count": 76,
   "id": "613bcd0e",
   "metadata": {},
   "outputs": [],
   "source": [
    "\n",
    "statedicts2 = []\n",
    "for i in [0,10,20,30,40]:\n",
    "    model_path = path +'/Model_2_{}.pt'.format(i)\n",
    "    statedicts2.append(torch.load(model_path))\n",
    "statedicts1 = []\n",
    "for i in [0,10,20,30,40]:\n",
    "    model_path = path +'/Model_1_{}.pt'.format(i)\n",
    "    statedicts1.append(torch.load(model_path))\n",
    "statedicts0 = []\n",
    "for i in [0,10,20,30,40]:\n",
    "    model_path = path +'/Model_0_{}.pt'.format(i)\n",
    "    statedicts0.append(torch.load(model_path))"
   ]
  },
  {
   "cell_type": "code",
   "execution_count": null,
   "id": "9b0ea8a2",
   "metadata": {},
   "outputs": [],
   "source": []
  },
  {
   "cell_type": "code",
   "execution_count": 47,
   "id": "3b03eda1",
   "metadata": {},
   "outputs": [
    {
     "data": {
      "text/plain": [
       "553"
      ]
     },
     "execution_count": 47,
     "metadata": {},
     "output_type": "execute_result"
    }
   ],
   "source": [
    "# @ 20230316\n",
    "# debug graph influence\n",
    "import pickle\n",
    "corpus_path = '/mnt/qb/work/mlcolab/hzhou52/kt/junyi/single_user_multi_skill/Corpus_200.pkl'\n",
    "with open(corpus_path, 'rb') as f:\n",
    "    corpus = pickle.load(f)\n",
    "    \n",
    "adj = np.load('/mnt/qb/work/mlcolab/hzhou52/kt/junyi/adj.npy')\n",
    "adj.sum()"
   ]
  },
  {
   "cell_type": "code",
   "execution_count": 5,
   "id": "0b333f6a",
   "metadata": {},
   "outputs": [],
   "source": [
    "all_skill = np.array(corpus.user_seq_df['skill_seq'])\n",
    "all_skill = np.stack(all_skill, 0)"
   ]
  },
  {
   "cell_type": "code",
   "execution_count": 46,
   "id": "5103930b",
   "metadata": {},
   "outputs": [
    {
     "data": {
      "text/plain": [
       "372"
      ]
     },
     "execution_count": 46,
     "metadata": {},
     "output_type": "execute_result"
    }
   ],
   "source": [
    "pair = np.stack([all_skill[:, :-1], all_skill[:, 1:]], -1)\n",
    "pairs = []\n",
    "for j in range(pair.shape[0]):\n",
    "    for i in range(199):\n",
    "        pairs.append(tuple(pair[j,i]))\n",
    "\n",
    "unique_pair = set(pairs)\n",
    "adj[np.array(list(unique_pair))[:, 0], np.array(list(unique_pair))[:, 1]].sum()"
   ]
  },
  {
   "cell_type": "code",
   "execution_count": 43,
   "id": "2a6c0fa8",
   "metadata": {},
   "outputs": [],
   "source": [
    "train_pair = pair[:, :99]\n",
    "train_pairs = []\n",
    "for j in range(train_pair.shape[0]):\n",
    "    for i in range(99):\n",
    "        train_pairs.append(tuple(train_pair[j,i]))\n",
    "unique_train_pair = set(train_pairs)\n",
    "adj[np.array(list(unique_train_pair))[:, 0], np.array(list(unique_train_pair))[:, 1]].sum()"
   ]
  },
  {
   "cell_type": "code",
   "execution_count": null,
   "id": "558ae68f",
   "metadata": {},
   "outputs": [],
   "source": []
  },
  {
   "cell_type": "code",
   "execution_count": null,
   "id": "f60e6535",
   "metadata": {},
   "outputs": [],
   "source": []
  },
  {
   "cell_type": "code",
   "execution_count": null,
   "id": "ee1c72ef",
   "metadata": {},
   "outputs": [],
   "source": []
  },
  {
   "cell_type": "code",
   "execution_count": null,
   "id": "fede87b7",
   "metadata": {},
   "outputs": [],
   "source": []
  },
  {
   "cell_type": "code",
   "execution_count": null,
   "id": "934d95bd",
   "metadata": {
    "collapsed": true
   },
   "outputs": [],
   "source": []
  }
 ],
 "metadata": {
  "kernelspec": {
   "display_name": "Python 3 (ipykernel)",
   "language": "python",
   "name": "python3"
  },
  "language_info": {
   "codemirror_mode": {
    "name": "ipython",
    "version": 3
   },
   "file_extension": ".py",
   "mimetype": "text/x-python",
   "name": "python",
   "nbconvert_exporter": "python",
   "pygments_lexer": "ipython3",
   "version": "3.9.12"
  }
 },
 "nbformat": 4,
 "nbformat_minor": 5
}
