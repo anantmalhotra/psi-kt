{
 "cells": [
  {
   "cell_type": "code",
   "execution_count": 2,
   "id": "b4a03362",
   "metadata": {},
   "outputs": [],
   "source": [
    "import sys\n",
    "sys.path.append('..')\n",
    "\n",
    "import math\n",
    "import random\n",
    "\n",
    "import torch\n",
    "import torch.nn as nn\n",
    "from collections import defaultdict\n",
    "\n",
    "device = torch.device('cuda' if torch.cuda.is_available() else 'cpu')\n",
    "\n",
    "import numpy as np\n",
    "\n",
    "import pickle "
   ]
  },
  {
   "cell_type": "code",
   "execution_count": 76,
   "id": "613bcd0e",
   "metadata": {},
   "outputs": [],
   "source": [
    "path = '/mnt/qb/work/mlcolab/hzhou52/kt/logs/TestHSSM/junyi15/single_skill/2023-04-17T12:40:02.589337__overfit_32_add_constaint_to_var_recored_more_info_but_doesnt_work/Model'\n",
    "\n",
    "statedicts2 = []\n",
    "for i in [0,10,20,30,40]:\n",
    "    model_path = path +'/Model_2_{}.pt'.format(i)\n",
    "    statedicts2.append(torch.load(model_path))\n",
    "statedicts1 = []\n",
    "for i in [0,10,20,30,40]:\n",
    "    model_path = path +'/Model_1_{}.pt'.format(i)\n",
    "    statedicts1.append(torch.load(model_path))\n",
    "statedicts0 = []\n",
    "for i in [0,10,20,30,40]:\n",
    "    model_path = path +'/Model_0_{}.pt'.format(i)\n",
    "    statedicts0.append(torch.load(model_path))"
   ]
  },
  {
   "cell_type": "code",
   "execution_count": 68,
   "id": "b3d0fd20",
   "metadata": {},
   "outputs": [
    {
     "data": {
      "text/plain": [
       "tensor([[-0.3955]], device='cuda:0')"
      ]
     },
     "execution_count": 68,
     "metadata": {},
     "output_type": "execute_result"
    }
   ],
   "source": [
    "statedicts2[0]['gen_z0_log_var']"
   ]
  },
  {
   "cell_type": "code",
   "execution_count": 74,
   "id": "4bbc4d6f",
   "metadata": {},
   "outputs": [
    {
     "data": {
      "text/plain": [
       "tensor([[6.0731e+01, 4.4918e+01, 1.6372e+01],\n",
       "        [2.5000e+00, 2.5000e+00, 2.5000e+00],\n",
       "        [5.0001e-02, 5.0001e-02, 5.0001e-02],\n",
       "        [0.0000e+00, 0.0000e+00, 0.0000e+00]], device='cuda:0')"
      ]
     },
     "execution_count": 74,
     "metadata": {},
     "output_type": "execute_result"
    }
   ],
   "source": [
    "statedicts2[0]['pred_s_vars'][0,0,:4]"
   ]
  },
  {
   "cell_type": "code",
   "execution_count": 77,
   "id": "e4411146",
   "metadata": {},
   "outputs": [],
   "source": [
    "model_path = path +'/Model_7_10.pt'\n",
    "model7 = torch.load(model_path)\n",
    "\n",
    "model7['pred_s_vars'][0,0,:7]"
   ]
  },
  {
   "cell_type": "code",
   "execution_count": 82,
   "id": "072df958",
   "metadata": {},
   "outputs": [
    {
     "data": {
      "text/plain": [
       "tensor([[3.0939e+01, 4.1638e+01, 6.3934e+00],\n",
       "        [1.3823e+03, 1.9403e+03, 2.6711e+02],\n",
       "        [6.0035e+04, 9.0147e+04, 1.2630e+04],\n",
       "        [2.4154e+06, 3.7821e+06, 5.4359e+05],\n",
       "        [1.0706e+08, 8.3105e+07, 2.7501e+07],\n",
       "        [7.5694e+08, 1.6758e+08, 4.7755e+07],\n",
       "        [4.7664e+09, 7.8538e+08, 2.2127e+08],\n",
       "        [1.1780e+09, 1.9664e+08, 5.5320e+07],\n",
       "        [0.0000e+00, 0.0000e+00, 0.0000e+00]], device='cuda:0')"
      ]
     },
     "execution_count": 82,
     "metadata": {},
     "output_type": "execute_result"
    }
   ],
   "source": [
    "print(model7['pred_s_means_update'][0,0,:9])\n",
    "print(model7['pred_s_means_update'][0,0,:9])"
   ]
  },
  {
   "cell_type": "code",
   "execution_count": 66,
   "id": "3c4e1f86",
   "metadata": {
    "collapsed": true
   },
   "outputs": [
    {
     "data": {
      "text/plain": [
       "odict_keys(['gen_s0_mean', 'gen_s0_log_var', 'gen_z0_mean', 'gen_z0_log_var', 'pred_s_means', 'pred_s_vars', 'infer_s_means', 'infer_s_vars', 'pred_z_means', 'pred_z_vars', 'infer_z_means', 'infer_z_vars', 'pred_s_means_update', 'pred_s_vars_update', 'infer_s_means_update', 'infer_s_vars_update', 'pred_z_means_update', 'pred_z_vars_update', 'infer_z_means_update', 'infer_z_vars_update', 'node_dist.u', 'node_dist.transformation_layer', 'gen_network_transition_s.0.weight', 'gen_network_transition_s.0.bias', 'gen_network_transition_s.2.weight', 'gen_network_transition_s.2.bias', 'gen_network_prior_mean_var_s.FC_input.weight', 'gen_network_prior_mean_var_s.FC_input.bias', 'gen_network_prior_mean_var_s.FC_input2.weight', 'gen_network_prior_mean_var_s.FC_input2.bias', 'gen_network_prior_mean_var_s.FC_mean.weight', 'gen_network_prior_mean_var_s.FC_mean.bias', 'gen_network_prior_mean_var_s.FC_var.weight', 'gen_network_prior_mean_var_s.FC_var.bias', 'infer_network_emb.weight_ih_l0', 'infer_network_emb.weight_hh_l0', 'infer_network_emb.bias_ih_l0', 'infer_network_emb.bias_hh_l0', 'infer_network_emb.weight_ih_l0_reverse', 'infer_network_emb.weight_hh_l0_reverse', 'infer_network_emb.bias_ih_l0_reverse', 'infer_network_emb.bias_hh_l0_reverse', 'infer_network_posterior_s.transformer_encoder.layers.0.self_attn.in_proj_weight', 'infer_network_posterior_s.transformer_encoder.layers.0.self_attn.in_proj_bias', 'infer_network_posterior_s.transformer_encoder.layers.0.self_attn.out_proj.weight', 'infer_network_posterior_s.transformer_encoder.layers.0.self_attn.out_proj.bias', 'infer_network_posterior_s.transformer_encoder.layers.0.linear1.weight', 'infer_network_posterior_s.transformer_encoder.layers.0.linear1.bias', 'infer_network_posterior_s.transformer_encoder.layers.0.linear2.weight', 'infer_network_posterior_s.transformer_encoder.layers.0.linear2.bias', 'infer_network_posterior_s.transformer_encoder.layers.0.norm1.weight', 'infer_network_posterior_s.transformer_encoder.layers.0.norm1.bias', 'infer_network_posterior_s.transformer_encoder.layers.0.norm2.weight', 'infer_network_posterior_s.transformer_encoder.layers.0.norm2.bias', 'infer_network_posterior_s.transformer_encoder.layers.1.self_attn.in_proj_weight', 'infer_network_posterior_s.transformer_encoder.layers.1.self_attn.in_proj_bias', 'infer_network_posterior_s.transformer_encoder.layers.1.self_attn.out_proj.weight', 'infer_network_posterior_s.transformer_encoder.layers.1.self_attn.out_proj.bias', 'infer_network_posterior_s.transformer_encoder.layers.1.linear1.weight', 'infer_network_posterior_s.transformer_encoder.layers.1.linear1.bias', 'infer_network_posterior_s.transformer_encoder.layers.1.linear2.weight', 'infer_network_posterior_s.transformer_encoder.layers.1.linear2.bias', 'infer_network_posterior_s.transformer_encoder.layers.1.norm1.weight', 'infer_network_posterior_s.transformer_encoder.layers.1.norm1.bias', 'infer_network_posterior_s.transformer_encoder.layers.1.norm2.weight', 'infer_network_posterior_s.transformer_encoder.layers.1.norm2.bias', 'infer_network_posterior_mean_var_s.FC_input.weight', 'infer_network_posterior_mean_var_s.FC_input.bias', 'infer_network_posterior_mean_var_s.FC_input2.weight', 'infer_network_posterior_mean_var_s.FC_input2.bias', 'infer_network_posterior_mean_var_s.FC_mean.weight', 'infer_network_posterior_mean_var_s.FC_mean.bias', 'infer_network_posterior_mean_var_s.FC_var.weight', 'infer_network_posterior_mean_var_s.FC_var.bias', 'infer_network_posterior_z.transformer_encoder.layers.0.self_attn.in_proj_weight', 'infer_network_posterior_z.transformer_encoder.layers.0.self_attn.in_proj_bias', 'infer_network_posterior_z.transformer_encoder.layers.0.self_attn.out_proj.weight', 'infer_network_posterior_z.transformer_encoder.layers.0.self_attn.out_proj.bias', 'infer_network_posterior_z.transformer_encoder.layers.0.linear1.weight', 'infer_network_posterior_z.transformer_encoder.layers.0.linear1.bias', 'infer_network_posterior_z.transformer_encoder.layers.0.linear2.weight', 'infer_network_posterior_z.transformer_encoder.layers.0.linear2.bias', 'infer_network_posterior_z.transformer_encoder.layers.0.norm1.weight', 'infer_network_posterior_z.transformer_encoder.layers.0.norm1.bias', 'infer_network_posterior_z.transformer_encoder.layers.0.norm2.weight', 'infer_network_posterior_z.transformer_encoder.layers.0.norm2.bias', 'infer_network_posterior_z.transformer_encoder.layers.1.self_attn.in_proj_weight', 'infer_network_posterior_z.transformer_encoder.layers.1.self_attn.in_proj_bias', 'infer_network_posterior_z.transformer_encoder.layers.1.self_attn.out_proj.weight', 'infer_network_posterior_z.transformer_encoder.layers.1.self_attn.out_proj.bias', 'infer_network_posterior_z.transformer_encoder.layers.1.linear1.weight', 'infer_network_posterior_z.transformer_encoder.layers.1.linear1.bias', 'infer_network_posterior_z.transformer_encoder.layers.1.linear2.weight', 'infer_network_posterior_z.transformer_encoder.layers.1.linear2.bias', 'infer_network_posterior_z.transformer_encoder.layers.1.norm1.weight', 'infer_network_posterior_z.transformer_encoder.layers.1.norm1.bias', 'infer_network_posterior_z.transformer_encoder.layers.1.norm2.weight', 'infer_network_posterior_z.transformer_encoder.layers.1.norm2.bias', 'infer_network_posterior_mean_var_z.FC_input.weight', 'infer_network_posterior_mean_var_z.FC_input.bias', 'infer_network_posterior_mean_var_z.FC_input2.weight', 'infer_network_posterior_mean_var_z.FC_input2.bias', 'infer_network_posterior_mean_var_z.FC_mean.weight', 'infer_network_posterior_mean_var_z.FC_mean.bias', 'infer_network_posterior_mean_var_z.FC_var.weight', 'infer_network_posterior_mean_var_z.FC_var.bias'])"
      ]
     },
     "execution_count": 66,
     "metadata": {},
     "output_type": "execute_result"
    }
   ],
   "source": [
    "statedicts2[0].keys()"
   ]
  },
  {
   "cell_type": "code",
   "execution_count": 41,
   "id": "8f588cb0",
   "metadata": {
    "collapsed": true
   },
   "outputs": [
    {
     "name": "stdout",
     "output_type": "stream",
     "text": [
      "tensor([[[  30.9392,   41.6384,    6.3934],\n",
      "         [1126.5596, 1589.7999,  214.4560],\n",
      "         [   0.0000,    0.0000,    0.0000]],\n",
      "\n",
      "        [[  30.7548,   41.4700,    6.3671],\n",
      "         [1130.6530, 1583.8556,  184.7682],\n",
      "         [   0.0000,    0.0000,    0.0000]],\n",
      "\n",
      "        [[  30.9392,   41.6384,    6.3934],\n",
      "         [1146.8080, 1568.7607,  250.3372],\n",
      "         [   0.0000,    0.0000,    0.0000]],\n",
      "\n",
      "        [[  30.9392,   41.6384,    6.3934],\n",
      "         [1133.4885, 1632.9618,  247.3032],\n",
      "         [   0.0000,    0.0000,    0.0000]],\n",
      "\n",
      "        [[  30.9392,   41.6384,    6.3934],\n",
      "         [1161.7515, 1639.8755,  231.9949],\n",
      "         [   0.0000,    0.0000,    0.0000]],\n",
      "\n",
      "        [[  30.9392,   41.6384,    6.3934],\n",
      "         [1128.0992, 1541.0970,  218.6068],\n",
      "         [   0.0000,    0.0000,    0.0000]],\n",
      "\n",
      "        [[  30.9392,   41.6384,    6.3934],\n",
      "         [1122.7124, 1556.7039,  222.3382],\n",
      "         [   0.0000,    0.0000,    0.0000]],\n",
      "\n",
      "        [[  30.9392,   41.6384,    6.3934],\n",
      "         [1121.7559, 1582.3633,  246.1017],\n",
      "         [   0.0000,    0.0000,    0.0000]],\n",
      "\n",
      "        [[  30.7548,   41.4700,    6.3671],\n",
      "         [1126.5026, 1629.2535,  172.2091],\n",
      "         [   0.0000,    0.0000,    0.0000]],\n",
      "\n",
      "        [[  30.7548,   41.4700,    6.3671],\n",
      "         [1122.6339, 1597.4014,  213.0764],\n",
      "         [   0.0000,    0.0000,    0.0000]]], device='cuda:0')\n",
      "tensor([[[  30.9392,   41.6384,    6.3934],\n",
      "         [1382.2839, 1940.3470,  267.1067],\n",
      "         [1339.7239, 1892.2996,  242.2287]],\n",
      "\n",
      "        [[  30.7548,   41.4700,    6.3671],\n",
      "         [1376.4246, 1950.6902,  230.4544],\n",
      "         [1345.7892, 1901.7739,  240.3332]],\n",
      "\n",
      "        [[  30.9392,   41.6384,    6.3934],\n",
      "         [1398.2004, 1919.7378,  310.9185],\n",
      "         [1336.5724, 1888.1023,  242.6914]],\n",
      "\n",
      "        [[  30.9392,   41.6384,    6.3934],\n",
      "         [1401.9860, 1990.6925,  311.4159],\n",
      "         [1340.5304, 1891.6610,  243.6799]],\n",
      "\n",
      "        [[  30.9392,   41.6384,    6.3934],\n",
      "         [1422.1503, 1996.4520,  281.2944],\n",
      "         [1334.7660, 1895.1356,  243.3343]],\n",
      "\n",
      "        [[  30.9392,   41.6384,    6.3934],\n",
      "         [1377.5486, 1893.7699,  270.1411],\n",
      "         [1336.2249, 1888.9839,  242.9724]],\n",
      "\n",
      "        [[  30.9392,   41.6384,    6.3934],\n",
      "         [1378.7477, 1916.5026,  273.2964],\n",
      "         [1337.5740, 1885.0836,  242.8622]],\n",
      "\n",
      "        [[  30.9392,   41.6384,    6.3934],\n",
      "         [1366.6160, 1940.8177,  296.3319],\n",
      "         [1338.4349, 1887.5115,  242.7490]],\n",
      "\n",
      "        [[  30.7548,   41.4700,    6.3671],\n",
      "         [1390.6785, 2002.3544,  210.6657],\n",
      "         [1342.0424, 1902.8462,  238.3658]],\n",
      "\n",
      "        [[  30.7548,   41.4700,    6.3671],\n",
      "         [1379.9807, 1951.3423,  266.4422],\n",
      "         [1341.3168, 1904.2471,  239.8817]]], device='cuda:0')\n"
     ]
    }
   ],
   "source": [
    "# how things transit from last step to next step\n",
    "print(statedicts1[-1]['pred_s_means_update'][:10, 0, :3])\n",
    "print(statedicts2[0]['pred_s_means_update'][:10, 0, :3])"
   ]
  },
  {
   "cell_type": "code",
   "execution_count": 52,
   "id": "b681d826",
   "metadata": {
    "collapsed": true
   },
   "outputs": [
    {
     "name": "stdout",
     "output_type": "stream",
     "text": [
      "tensor([[1.0000e-06],\n",
      "        [1.0000e-06],\n",
      "        [1.0000e-06],\n",
      "        [1.0000e-06],\n",
      "        [1.0000e-06],\n",
      "        [1.0000e-06],\n",
      "        [1.0000e-06],\n",
      "        [1.0000e-06],\n",
      "        [1.0000e-06],\n",
      "        [1.0000e-06]], device='cuda:0')\n",
      "tensor([[1.0000e-06],\n",
      "        [1.0000e-06],\n",
      "        [1.0000e-06],\n",
      "        [1.0000e-06],\n",
      "        [1.0000e-06],\n",
      "        [1.0000e-06],\n",
      "        [1.0000e-06],\n",
      "        [1.0000e-06],\n",
      "        [1.0000e-06],\n",
      "        [1.0000e-06]], device='cuda:0')\n",
      "tensor([[1.1000e-05],\n",
      "        [1.1000e-05],\n",
      "        [1.1000e-05],\n",
      "        [1.1000e-05],\n",
      "        [1.1000e-05],\n",
      "        [1.1000e-05],\n",
      "        [1.1000e-05],\n",
      "        [1.1000e-05],\n",
      "        [1.1000e-05],\n",
      "        [1.1000e-05]], device='cuda:0')\n",
      "tensor([[1.1000e-05],\n",
      "        [1.1000e-05],\n",
      "        [1.1000e-05],\n",
      "        [1.1000e-05],\n",
      "        [1.1000e-05],\n",
      "        [1.1000e-05],\n",
      "        [1.1000e-05],\n",
      "        [1.1000e-05],\n",
      "        [1.1000e-05],\n",
      "        [1.1000e-05]], device='cuda:0')\n"
     ]
    }
   ],
   "source": [
    "# how things be optimized in every time step\n",
    "# for i in range(2):\n",
    "#     print(statedicts2[i]['pred_z_vars'][:10, 0, 2])\n",
    "#     print(statedicts2[i]['pred_z_vars_update'][:10, 0, 2])\n",
    "    \n",
    "for i in range(4):\n",
    "    print(statedicts0[i]['pred_z_means'][:10, 0, 2])\n",
    "    print(statedicts0[i]['pred_z_means_update'][:10, 0, 2])"
   ]
  },
  {
   "cell_type": "code",
   "execution_count": 65,
   "id": "dd53c620",
   "metadata": {},
   "outputs": [
    {
     "data": {
      "text/plain": [
       "tensor([[[-4.7515e+00],\n",
       "         [ 1.9371e+03],\n",
       "         [ 7.0017e+04]],\n",
       "\n",
       "        [[ 4.6113e+00],\n",
       "         [ 1.9456e+03],\n",
       "         [ 7.1080e+04]],\n",
       "\n",
       "        [[-4.7515e+00],\n",
       "         [ 1.9372e+03],\n",
       "         [ 7.0017e+04]],\n",
       "\n",
       "        [[-4.8549e+00],\n",
       "         [ 1.9371e+03],\n",
       "         [ 7.0017e+04]],\n",
       "\n",
       "        [[-4.8549e+00],\n",
       "         [ 1.9371e+03],\n",
       "         [ 7.0017e+04]],\n",
       "\n",
       "        [[-4.7515e+00],\n",
       "         [ 1.9372e+03],\n",
       "         [ 7.0017e+04]],\n",
       "\n",
       "        [[-4.7515e+00],\n",
       "         [ 1.9372e+03],\n",
       "         [ 7.0017e+04]],\n",
       "\n",
       "        [[-4.7515e+00],\n",
       "         [ 1.9372e+03],\n",
       "         [ 7.0017e+04]],\n",
       "\n",
       "        [[ 4.6113e+00],\n",
       "         [ 1.9456e+03],\n",
       "         [ 7.1080e+04]],\n",
       "\n",
       "        [[ 4.6113e+00],\n",
       "         [ 1.9456e+03],\n",
       "         [ 7.1080e+04]]], device='cuda:0')"
      ]
     },
     "execution_count": 65,
     "metadata": {},
     "output_type": "execute_result"
    }
   ],
   "source": [
    "statedicts2[4]['infer_z_means_update'][:10, 0, :3]"
   ]
  },
  {
   "cell_type": "code",
   "execution_count": 12,
   "id": "cbcdfbc5",
   "metadata": {},
   "outputs": [
    {
     "data": {
      "text/plain": [
       "tensor([[[-4.6847]],\n",
       "\n",
       "        [[-4.5152]],\n",
       "\n",
       "        [[-4.6847]],\n",
       "\n",
       "        [[-4.6847]],\n",
       "\n",
       "        [[-4.6847]],\n",
       "\n",
       "        [[-4.6847]],\n",
       "\n",
       "        [[-4.6847]],\n",
       "\n",
       "        [[-4.6847]],\n",
       "\n",
       "        [[-4.5152]],\n",
       "\n",
       "        [[-4.5152]]], device='cuda:0')"
      ]
     },
     "execution_count": 12,
     "metadata": {},
     "output_type": "execute_result"
    }
   ],
   "source": [
    "statedict_0_10['pred_z_means_update'][:10, 0, :1]"
   ]
  },
  {
   "cell_type": "code",
   "execution_count": 13,
   "id": "c51a86f5",
   "metadata": {},
   "outputs": [
    {
     "data": {
      "text/plain": [
       "tensor([[[-4.9660]],\n",
       "\n",
       "        [[-4.6847]],\n",
       "\n",
       "        [[-4.9660]],\n",
       "\n",
       "        [[-4.9660]],\n",
       "\n",
       "        [[-4.9660]],\n",
       "\n",
       "        [[-4.9660]],\n",
       "\n",
       "        [[-4.9660]],\n",
       "\n",
       "        [[-4.9660]],\n",
       "\n",
       "        [[-4.6847]],\n",
       "\n",
       "        [[-4.6847]]], device='cuda:0')"
      ]
     },
     "execution_count": 13,
     "metadata": {},
     "output_type": "execute_result"
    }
   ],
   "source": [
    "statedict_0_10['pred_z_means'][:10, 0, :1]"
   ]
  },
  {
   "cell_type": "code",
   "execution_count": 43,
   "id": "7dcb2a18",
   "metadata": {
    "collapsed": true
   },
   "outputs": [
    {
     "data": {
      "text/plain": [
       "tensor([[[-3.9840e+00],\n",
       "         [ 1.8921e+03],\n",
       "         [ 8.7776e+04],\n",
       "         ...,\n",
       "         [ 0.0000e+00],\n",
       "         [ 0.0000e+00],\n",
       "         [ 0.0000e+00]],\n",
       "\n",
       "        [[-3.6596e+00],\n",
       "         [ 1.9230e+03],\n",
       "         [ 8.8603e+04],\n",
       "         ...,\n",
       "         [ 0.0000e+00],\n",
       "         [ 0.0000e+00],\n",
       "         [ 0.0000e+00]],\n",
       "\n",
       "        [[-3.9840e+00],\n",
       "         [ 1.9036e+03],\n",
       "         [ 8.7690e+04],\n",
       "         ...,\n",
       "         [ 0.0000e+00],\n",
       "         [ 0.0000e+00],\n",
       "         [ 0.0000e+00]],\n",
       "\n",
       "        ...,\n",
       "\n",
       "        [[-3.6596e+00],\n",
       "         [ 1.9176e+03],\n",
       "         [ 8.8146e+04],\n",
       "         ...,\n",
       "         [ 0.0000e+00],\n",
       "         [ 0.0000e+00],\n",
       "         [ 0.0000e+00]],\n",
       "\n",
       "        [[-3.6596e+00],\n",
       "         [ 1.9425e+03],\n",
       "         [ 9.1460e+04],\n",
       "         ...,\n",
       "         [ 0.0000e+00],\n",
       "         [ 0.0000e+00],\n",
       "         [ 0.0000e+00]],\n",
       "\n",
       "        [[-3.9840e+00],\n",
       "         [ 1.9581e+03],\n",
       "         [ 8.7657e+04],\n",
       "         ...,\n",
       "         [ 0.0000e+00],\n",
       "         [ 0.0000e+00],\n",
       "         [ 0.0000e+00]]], device='cuda:0')"
      ]
     },
     "execution_count": 43,
     "metadata": {},
     "output_type": "execute_result"
    }
   ],
   "source": [
    "statedict['pred_z_means'].shape\n",
    "statedict['pred_z_means'][:32,0,:50]"
   ]
  },
  {
   "cell_type": "code",
   "execution_count": 51,
   "id": "bdf2df35",
   "metadata": {},
   "outputs": [
    {
     "data": {
      "text/plain": [
       "tensor([[[3.1125e+01, 4.1837e+01, 6.4790e+00],\n",
       "         [1.3218e+03, 1.8919e+03, 2.1174e+02],\n",
       "         [6.0869e+04, 8.7776e+04, 1.2374e+04],\n",
       "         [2.1895e+06, 3.1716e+06, 4.3720e+05],\n",
       "         [0.0000e+00, 0.0000e+00, 0.0000e+00]],\n",
       "\n",
       "        [[3.0915e+01, 4.1650e+01, 6.3813e+00],\n",
       "         [1.3819e+03, 1.9232e+03, 2.8770e+02],\n",
       "         [6.1494e+04, 8.8603e+04, 1.2354e+04],\n",
       "         [2.1841e+06, 3.1684e+06, 4.3233e+05],\n",
       "         [0.0000e+00, 0.0000e+00, 0.0000e+00]],\n",
       "\n",
       "        [[3.1125e+01, 4.1837e+01, 6.4790e+00],\n",
       "         [1.3249e+03, 1.9038e+03, 1.9326e+02],\n",
       "         [6.0786e+04, 8.7691e+04, 1.2369e+04],\n",
       "         [2.1740e+06, 3.1523e+06, 4.3289e+05],\n",
       "         [0.0000e+00, 0.0000e+00, 0.0000e+00]],\n",
       "\n",
       "        [[3.1125e+01, 4.1837e+01, 6.4790e+00],\n",
       "         [1.3433e+03, 1.9446e+03, 2.1681e+02],\n",
       "         [6.1252e+04, 8.8167e+04, 1.2402e+04],\n",
       "         [2.1821e+06, 3.1620e+06, 4.3494e+05],\n",
       "         [0.0000e+00, 0.0000e+00, 0.0000e+00]],\n",
       "\n",
       "        [[3.1125e+01, 4.1837e+01, 6.4790e+00],\n",
       "         [1.3636e+03, 1.9795e+03, 2.5031e+02],\n",
       "         [6.4493e+04, 9.1348e+04, 1.2658e+04],\n",
       "         [2.1417e+06, 3.1127e+06, 4.2431e+05],\n",
       "         [0.0000e+00, 0.0000e+00, 0.0000e+00]],\n",
       "\n",
       "        [[3.1125e+01, 4.1837e+01, 6.4790e+00],\n",
       "         [1.3438e+03, 1.9178e+03, 2.1126e+02],\n",
       "         [6.1002e+04, 8.7881e+04, 1.2386e+04],\n",
       "         [2.1660e+06, 3.1421e+06, 4.3057e+05],\n",
       "         [0.0000e+00, 0.0000e+00, 0.0000e+00]],\n",
       "\n",
       "        [[3.1125e+01, 4.1837e+01, 6.4790e+00],\n",
       "         [1.3091e+03, 1.9143e+03, 2.3456e+02],\n",
       "         [6.1344e+04, 8.8227e+04, 1.2393e+04],\n",
       "         [2.1669e+06, 3.1437e+06, 4.3106e+05],\n",
       "         [0.0000e+00, 0.0000e+00, 0.0000e+00]],\n",
       "\n",
       "        [[3.1125e+01, 4.1837e+01, 6.4790e+00],\n",
       "         [1.3213e+03, 1.9137e+03, 2.5877e+02],\n",
       "         [6.0548e+04, 8.7436e+04, 1.2351e+04],\n",
       "         [2.1634e+06, 3.1391e+06, 4.2998e+05],\n",
       "         [0.0000e+00, 0.0000e+00, 0.0000e+00]],\n",
       "\n",
       "        [[3.0915e+01, 4.1650e+01, 6.3813e+00],\n",
       "         [1.3582e+03, 1.9536e+03, 2.8026e+02],\n",
       "         [6.0838e+04, 8.7905e+04, 1.2320e+04],\n",
       "         [2.1925e+06, 3.1785e+06, 4.3446e+05],\n",
       "         [0.0000e+00, 0.0000e+00, 0.0000e+00]],\n",
       "\n",
       "        [[3.0915e+01, 4.1650e+01, 6.3813e+00],\n",
       "         [1.3814e+03, 1.9108e+03, 3.0192e+02],\n",
       "         [6.1709e+04, 8.8805e+04, 1.2361e+04],\n",
       "         [2.1943e+06, 3.1812e+06, 4.3522e+05],\n",
       "         [0.0000e+00, 0.0000e+00, 0.0000e+00]],\n",
       "\n",
       "        [[3.1125e+01, 4.1837e+01, 6.4790e+00],\n",
       "         [1.3142e+03, 1.9310e+03, 2.6132e+02],\n",
       "         [6.0952e+04, 8.7822e+04, 1.2374e+04],\n",
       "         [2.1650e+06, 3.1407e+06, 4.3019e+05],\n",
       "         [0.0000e+00, 0.0000e+00, 0.0000e+00]],\n",
       "\n",
       "        [[3.0915e+01, 4.1650e+01, 6.3813e+00],\n",
       "         [1.3758e+03, 1.9303e+03, 2.6775e+02],\n",
       "         [6.4244e+04, 9.1287e+04, 1.2471e+04],\n",
       "         [2.3434e+06, 3.3664e+06, 4.7617e+05],\n",
       "         [0.0000e+00, 0.0000e+00, 0.0000e+00]],\n",
       "\n",
       "        [[3.1125e+01, 4.1837e+01, 6.4790e+00],\n",
       "         [1.4194e+03, 1.9762e+03, 2.4150e+02],\n",
       "         [6.0654e+04, 8.7580e+04, 1.2359e+04],\n",
       "         [2.2818e+06, 3.2862e+06, 4.6242e+05],\n",
       "         [0.0000e+00, 0.0000e+00, 0.0000e+00]],\n",
       "\n",
       "        [[3.0915e+01, 4.1650e+01, 6.3813e+00],\n",
       "         [1.3682e+03, 1.9395e+03, 2.8211e+02],\n",
       "         [6.1924e+04, 8.9027e+04, 1.2353e+04],\n",
       "         [2.3194e+06, 3.3361e+06, 4.6928e+05],\n",
       "         [0.0000e+00, 0.0000e+00, 0.0000e+00]],\n",
       "\n",
       "        [[3.1125e+01, 4.1837e+01, 6.4790e+00],\n",
       "         [1.3869e+03, 1.9566e+03, 2.6365e+02],\n",
       "         [6.0704e+04, 8.7614e+04, 1.2363e+04],\n",
       "         [2.3071e+06, 3.3176e+06, 4.6945e+05],\n",
       "         [0.0000e+00, 0.0000e+00, 0.0000e+00]],\n",
       "\n",
       "        [[3.1125e+01, 4.1837e+01, 6.4790e+00],\n",
       "         [1.3291e+03, 1.9056e+03, 2.0332e+02],\n",
       "         [6.0600e+04, 8.7523e+04, 1.2361e+04],\n",
       "         [2.1663e+06, 3.1416e+06, 4.3014e+05],\n",
       "         [0.0000e+00, 0.0000e+00, 0.0000e+00]]], device='cuda:0')"
      ]
     },
     "execution_count": 51,
     "metadata": {},
     "output_type": "execute_result"
    }
   ],
   "source": [
    "statedict['pred_s_means'][:16, 0, :5]"
   ]
  },
  {
   "cell_type": "code",
   "execution_count": 47,
   "id": "07a7c1c9",
   "metadata": {
    "collapsed": true
   },
   "outputs": [
    {
     "data": {
      "text/plain": [
       "tensor([[[2.9288e+01, 4.0415e+01, 5.6788e+00],\n",
       "         [1.3105e+03, 1.8465e+03, 2.5237e+02],\n",
       "         [5.8064e+04, 8.3174e+04, 1.1960e+04],\n",
       "         [1.9037e+06, 1.6096e+06, 1.1879e+06],\n",
       "         [0.0000e+00, 0.0000e+00, 0.0000e+00]],\n",
       "\n",
       "        [[3.0113e+01, 4.0747e+01, 6.7258e+00],\n",
       "         [1.3227e+03, 1.8624e+03, 2.5163e+02],\n",
       "         [5.8760e+04, 8.4151e+04, 1.2083e+04],\n",
       "         [1.9311e+06, 1.6351e+06, 1.2087e+06],\n",
       "         [0.0000e+00, 0.0000e+00, 0.0000e+00]],\n",
       "\n",
       "        [[2.9288e+01, 4.0415e+01, 5.6788e+00],\n",
       "         [1.3105e+03, 1.8465e+03, 2.5237e+02],\n",
       "         [5.8064e+04, 8.3174e+04, 1.1960e+04],\n",
       "         [1.9037e+06, 1.6096e+06, 1.1879e+06],\n",
       "         [0.0000e+00, 0.0000e+00, 0.0000e+00]],\n",
       "\n",
       "        [[2.9381e+01, 4.0459e+01, 5.6575e+00],\n",
       "         [1.3105e+03, 1.8465e+03, 2.5237e+02],\n",
       "         [5.8064e+04, 8.3174e+04, 1.1960e+04],\n",
       "         [1.9037e+06, 1.6096e+06, 1.1879e+06],\n",
       "         [0.0000e+00, 0.0000e+00, 0.0000e+00]],\n",
       "\n",
       "        [[2.9381e+01, 4.0459e+01, 5.6575e+00],\n",
       "         [1.3105e+03, 1.8465e+03, 2.5237e+02],\n",
       "         [5.8064e+04, 8.3174e+04, 1.1960e+04],\n",
       "         [1.9037e+06, 1.6096e+06, 1.1879e+06],\n",
       "         [0.0000e+00, 0.0000e+00, 0.0000e+00]],\n",
       "\n",
       "        [[2.9288e+01, 4.0415e+01, 5.6788e+00],\n",
       "         [1.3105e+03, 1.8465e+03, 2.5237e+02],\n",
       "         [5.8064e+04, 8.3174e+04, 1.1960e+04],\n",
       "         [1.9037e+06, 1.6096e+06, 1.1879e+06],\n",
       "         [0.0000e+00, 0.0000e+00, 0.0000e+00]],\n",
       "\n",
       "        [[2.9288e+01, 4.0415e+01, 5.6788e+00],\n",
       "         [1.3105e+03, 1.8465e+03, 2.5237e+02],\n",
       "         [5.8064e+04, 8.3174e+04, 1.1960e+04],\n",
       "         [1.9037e+06, 1.6096e+06, 1.1879e+06],\n",
       "         [0.0000e+00, 0.0000e+00, 0.0000e+00]],\n",
       "\n",
       "        [[2.9288e+01, 4.0415e+01, 5.6788e+00],\n",
       "         [1.3105e+03, 1.8465e+03, 2.5237e+02],\n",
       "         [5.8064e+04, 8.3174e+04, 1.1960e+04],\n",
       "         [1.9037e+06, 1.6096e+06, 1.1879e+06],\n",
       "         [0.0000e+00, 0.0000e+00, 0.0000e+00]],\n",
       "\n",
       "        [[3.0113e+01, 4.0747e+01, 6.7258e+00],\n",
       "         [1.3227e+03, 1.8624e+03, 2.5163e+02],\n",
       "         [5.8760e+04, 8.4151e+04, 1.2083e+04],\n",
       "         [1.9311e+06, 1.6351e+06, 1.2087e+06],\n",
       "         [0.0000e+00, 0.0000e+00, 0.0000e+00]],\n",
       "\n",
       "        [[3.0113e+01, 4.0747e+01, 6.7258e+00],\n",
       "         [1.3227e+03, 1.8624e+03, 2.5163e+02],\n",
       "         [5.8760e+04, 8.4151e+04, 1.2083e+04],\n",
       "         [1.9311e+06, 1.6351e+06, 1.2087e+06],\n",
       "         [0.0000e+00, 0.0000e+00, 0.0000e+00]],\n",
       "\n",
       "        [[2.9381e+01, 4.0459e+01, 5.6575e+00],\n",
       "         [1.3105e+03, 1.8465e+03, 2.5237e+02],\n",
       "         [5.8064e+04, 8.3174e+04, 1.1960e+04],\n",
       "         [1.9037e+06, 1.6096e+06, 1.1879e+06],\n",
       "         [0.0000e+00, 0.0000e+00, 0.0000e+00]],\n",
       "\n",
       "        [[3.0113e+01, 4.0747e+01, 6.7258e+00],\n",
       "         [1.3227e+03, 1.8624e+03, 2.5163e+02],\n",
       "         [5.8760e+04, 8.4151e+04, 1.2083e+04],\n",
       "         [1.9311e+06, 1.6351e+06, 1.2087e+06],\n",
       "         [0.0000e+00, 0.0000e+00, 0.0000e+00]],\n",
       "\n",
       "        [[2.9381e+01, 4.0459e+01, 5.6575e+00],\n",
       "         [1.3105e+03, 1.8465e+03, 2.5237e+02],\n",
       "         [5.8064e+04, 8.3174e+04, 1.1960e+04],\n",
       "         [1.9037e+06, 1.6096e+06, 1.1879e+06],\n",
       "         [0.0000e+00, 0.0000e+00, 0.0000e+00]],\n",
       "\n",
       "        [[3.0113e+01, 4.0747e+01, 6.7258e+00],\n",
       "         [1.3227e+03, 1.8624e+03, 2.5163e+02],\n",
       "         [5.8760e+04, 8.4151e+04, 1.2083e+04],\n",
       "         [1.9311e+06, 1.6351e+06, 1.2087e+06],\n",
       "         [0.0000e+00, 0.0000e+00, 0.0000e+00]],\n",
       "\n",
       "        [[2.9381e+01, 4.0459e+01, 5.6575e+00],\n",
       "         [1.3105e+03, 1.8466e+03, 2.5237e+02],\n",
       "         [5.8064e+04, 8.3174e+04, 1.1960e+04],\n",
       "         [1.9037e+06, 1.6096e+06, 1.1879e+06],\n",
       "         [0.0000e+00, 0.0000e+00, 0.0000e+00]],\n",
       "\n",
       "        [[2.9288e+01, 4.0415e+01, 5.6788e+00],\n",
       "         [1.3105e+03, 1.8465e+03, 2.5237e+02],\n",
       "         [5.8064e+04, 8.3174e+04, 1.1960e+04],\n",
       "         [1.9037e+06, 1.6096e+06, 1.1879e+06],\n",
       "         [0.0000e+00, 0.0000e+00, 0.0000e+00]]], device='cuda:0')"
      ]
     },
     "execution_count": 47,
     "metadata": {},
     "output_type": "execute_result"
    }
   ],
   "source": [
    "statedict['infer_s_means'][:16, 0, :5]"
   ]
  },
  {
   "cell_type": "code",
   "execution_count": 50,
   "id": "a40c23fc",
   "metadata": {},
   "outputs": [
    {
     "data": {
      "text/plain": [
       "tensor([[[6.4348e-01],\n",
       "         [5.0000e-05],\n",
       "         [5.0000e-05],\n",
       "         [4.1000e-05],\n",
       "         [0.0000e+00]],\n",
       "\n",
       "        [[1.6642e-01],\n",
       "         [5.0000e-05],\n",
       "         [5.0000e-05],\n",
       "         [4.1000e-05],\n",
       "         [0.0000e+00]],\n",
       "\n",
       "        [[6.4348e-01],\n",
       "         [5.0000e-05],\n",
       "         [5.0000e-05],\n",
       "         [4.1000e-05],\n",
       "         [0.0000e+00]],\n",
       "\n",
       "        [[6.7773e-01],\n",
       "         [5.0000e-05],\n",
       "         [5.0000e-05],\n",
       "         [4.1000e-05],\n",
       "         [0.0000e+00]],\n",
       "\n",
       "        [[6.7773e-01],\n",
       "         [5.0000e-05],\n",
       "         [5.0000e-05],\n",
       "         [4.1000e-05],\n",
       "         [0.0000e+00]],\n",
       "\n",
       "        [[6.4348e-01],\n",
       "         [5.0000e-05],\n",
       "         [5.0000e-05],\n",
       "         [4.1000e-05],\n",
       "         [0.0000e+00]],\n",
       "\n",
       "        [[6.4348e-01],\n",
       "         [5.0000e-05],\n",
       "         [5.0000e-05],\n",
       "         [4.1000e-05],\n",
       "         [0.0000e+00]],\n",
       "\n",
       "        [[6.4348e-01],\n",
       "         [5.0000e-05],\n",
       "         [5.0000e-05],\n",
       "         [4.1000e-05],\n",
       "         [0.0000e+00]],\n",
       "\n",
       "        [[1.6642e-01],\n",
       "         [5.0000e-05],\n",
       "         [5.0000e-05],\n",
       "         [4.1000e-05],\n",
       "         [0.0000e+00]],\n",
       "\n",
       "        [[1.6642e-01],\n",
       "         [5.0000e-05],\n",
       "         [5.0000e-05],\n",
       "         [4.1000e-05],\n",
       "         [0.0000e+00]],\n",
       "\n",
       "        [[6.7773e-01],\n",
       "         [5.0000e-05],\n",
       "         [5.0000e-05],\n",
       "         [4.1000e-05],\n",
       "         [0.0000e+00]],\n",
       "\n",
       "        [[1.6642e-01],\n",
       "         [5.0000e-05],\n",
       "         [5.0000e-05],\n",
       "         [4.1000e-05],\n",
       "         [0.0000e+00]],\n",
       "\n",
       "        [[6.7773e-01],\n",
       "         [5.0000e-05],\n",
       "         [5.0000e-05],\n",
       "         [4.1000e-05],\n",
       "         [0.0000e+00]],\n",
       "\n",
       "        [[1.6642e-01],\n",
       "         [5.0000e-05],\n",
       "         [5.0000e-05],\n",
       "         [4.1000e-05],\n",
       "         [0.0000e+00]],\n",
       "\n",
       "        [[6.7773e-01],\n",
       "         [5.0000e-05],\n",
       "         [5.0000e-05],\n",
       "         [4.1000e-05],\n",
       "         [0.0000e+00]],\n",
       "\n",
       "        [[6.4348e-01],\n",
       "         [5.0000e-05],\n",
       "         [5.0000e-05],\n",
       "         [4.1000e-05],\n",
       "         [0.0000e+00]]], device='cuda:0')"
      ]
     },
     "execution_count": 50,
     "metadata": {},
     "output_type": "execute_result"
    }
   ],
   "source": [
    "statedict['infer_z_vars'][:16, 0, :5]"
   ]
  },
  {
   "cell_type": "code",
   "execution_count": null,
   "id": "d1f6bb99",
   "metadata": {},
   "outputs": [],
   "source": []
  },
  {
   "cell_type": "code",
   "execution_count": 2,
   "id": "589e3fef",
   "metadata": {},
   "outputs": [],
   "source": [
    "import pickle \n",
    "vanilla_multi_output = '/mnt/qb/work/mlcolab/hzhou52/kt/logs/VanillaHSSM/junyi15/multi_skill/2023-04-03T17:43:45.130144__overfit_16/out_dict/train_out_dict_epoch_445.pkg'\n",
    "with open(vanilla_multi_output, 'rb') as f:\n",
    "    vanilla = pickle.load(f)"
   ]
  },
  {
   "cell_type": "code",
   "execution_count": 4,
   "id": "e0e50525",
   "metadata": {},
   "outputs": [
    {
     "data": {
      "text/plain": [
       "dict_keys(['label', 'prediction', 'sampled_z', 'sampled_s', 'sampled_y', 'mean_s', 'var_s', 'mean_z', 'var_z'])"
      ]
     },
     "execution_count": 4,
     "metadata": {},
     "output_type": "execute_result"
    }
   ],
   "source": [
    "vanilla.keys()"
   ]
  },
  {
   "cell_type": "code",
   "execution_count": 8,
   "id": "dc27b87c",
   "metadata": {
    "collapsed": true
   },
   "outputs": [
    {
     "data": {
      "text/plain": [
       "tensor([[[-2.9287e+00, -2.5773e+00, -9.7406e-01],\n",
       "         [ 4.0082e+00,  1.9529e+00, -9.8137e-04],\n",
       "         [-5.4854e+00, -1.4790e+00,  1.3190e-04],\n",
       "         [ 7.5072e+00,  1.1204e+00, -6.8164e-05],\n",
       "         [-1.0274e+01, -8.4855e-01, -2.9160e-04],\n",
       "         [ 1.4061e+01,  6.4283e-01, -1.2824e-04],\n",
       "         [-1.9244e+01, -4.8721e-01, -4.0923e-04],\n",
       "         [ 2.6336e+01,  3.6873e-01, -4.4330e-04],\n",
       "         [-3.6043e+01, -2.7897e-01,  3.7817e-04],\n",
       "         [ 4.9327e+01,  2.1079e-01, -3.5803e-04],\n",
       "         [-6.7507e+01, -1.5971e-01, -2.1506e-05],\n",
       "         [ 9.2388e+01,  1.2143e-01,  1.8447e-04],\n",
       "         [-1.2644e+02, -9.2149e-02, -2.2462e-04],\n",
       "         [ 1.7304e+02,  6.9292e-02, -4.0123e-04],\n",
       "         [-2.3682e+02, -5.1951e-02,  3.3024e-04],\n",
       "         [ 3.2410e+02,  3.9737e-02,  3.1334e-04],\n",
       "         [-4.4356e+02, -3.1034e-02, -7.2110e-04],\n",
       "         [ 6.0704e+02,  2.3495e-02, -3.2820e-05],\n",
       "         [-8.3077e+02, -1.8090e-02, -2.6934e-05],\n",
       "         [ 1.1370e+03,  1.3562e-02,  1.3756e-04],\n",
       "         [-1.5560e+03, -9.6267e-03,  3.9030e-04],\n",
       "         [ 2.1295e+03,  7.4524e-03,  3.3297e-04],\n",
       "         [-2.9144e+03, -5.2888e-03,  2.9730e-04],\n",
       "         [ 3.9886e+03,  3.8823e-03,  7.4736e-05],\n",
       "         [-5.4586e+03, -3.3723e-03, -1.3853e-04],\n",
       "         [ 7.4705e+03,  3.1435e-03,  2.9636e-04],\n",
       "         [-1.0224e+04, -2.8369e-03, -5.6025e-04],\n",
       "         [ 1.3992e+04,  2.1828e-03,  2.0327e-04],\n",
       "         [-1.9149e+04, -1.4873e-03,  1.8236e-04],\n",
       "         [ 2.6207e+04,  5.6051e-04, -2.8403e-04],\n",
       "         [-3.5866e+04, -1.3097e-03, -1.7540e-04],\n",
       "         [ 4.9085e+04,  1.3981e-04, -4.8570e-04],\n",
       "         [-6.7176e+04, -6.0121e-04, -2.2019e-04],\n",
       "         [ 9.1935e+04,  4.4981e-04,  3.0051e-05],\n",
       "         [-1.2582e+05, -1.8826e-04,  9.4315e-05],\n",
       "         [ 1.7219e+05, -3.1046e-04, -2.8182e-04],\n",
       "         [-2.3566e+05,  1.1520e-04,  7.4834e-06],\n",
       "         [ 3.2251e+05, -2.8437e-04, -3.5658e-05],\n",
       "         [-4.4138e+05, -5.8790e-06,  6.3106e-05],\n",
       "         [ 6.0406e+05,  2.3198e-05,  1.2173e-04]]], device='cuda:0',\n",
       "       grad_fn=<SelectBackward0>)"
      ]
     },
     "execution_count": 8,
     "metadata": {},
     "output_type": "execute_result"
    }
   ],
   "source": [
    "vanilla['sampled_s'][0,0]"
   ]
  },
  {
   "cell_type": "code",
   "execution_count": null,
   "id": "5db34ee7",
   "metadata": {},
   "outputs": [],
   "source": []
  },
  {
   "cell_type": "code",
   "execution_count": 32,
   "id": "8725ac3f",
   "metadata": {},
   "outputs": [],
   "source": [
    "single_dict_path = '/mnt/qb/work/mlcolab/hzhou52/kt/logs/logs_0329_debug_hssm/0329_q2/debug4_train_0.2_epoch_1000/out_dict/train_out_dict_epoch_855.pkg'\n",
    "with open(single_dict_path, 'rb') as f:\n",
    "    single = pickle.load(f)"
   ]
  },
  {
   "cell_type": "code",
   "execution_count": 52,
   "id": "65f9d908",
   "metadata": {},
   "outputs": [
    {
     "data": {
      "text/plain": [
       "torch.Size([50, 16, 40, 3])"
      ]
     },
     "execution_count": 52,
     "metadata": {},
     "output_type": "execute_result"
    }
   ],
   "source": [
    "single['sampled_s'].shape"
   ]
  },
  {
   "cell_type": "code",
   "execution_count": 53,
   "id": "eca0978b",
   "metadata": {
    "collapsed": true
   },
   "outputs": [
    {
     "data": {
      "text/plain": [
       "tensor([-1.7842e+00,  1.5710e-01, -1.3842e-02,  1.2189e-03, -1.0032e-04,\n",
       "         6.6902e-06, -1.6127e-06, -3.7648e-06,  1.3456e-05,  1.5951e-07,\n",
       "        -8.4946e-06,  1.6054e-05,  1.5516e-05, -7.1973e-06, -1.6511e-05,\n",
       "         1.0697e-05, -1.0905e-05,  1.2919e-05, -2.0037e-05, -7.9765e-06,\n",
       "        -7.9767e-07,  1.8461e-05, -1.3541e-05, -4.9268e-06,  8.2180e-07,\n",
       "        -6.9746e-06, -5.3884e-06,  1.9773e-05, -6.2672e-06,  4.7068e-06,\n",
       "        -5.5651e-06, -5.3231e-06,  3.4358e-06,  7.5010e-06, -5.4602e-06,\n",
       "         3.1807e-06,  1.1654e-06, -7.5865e-06, -5.0406e-06,  3.0317e-06],\n",
       "       device='cuda:0', grad_fn=<SelectBackward0>)"
      ]
     },
     "execution_count": 53,
     "metadata": {},
     "output_type": "execute_result"
    }
   ],
   "source": [
    "single['sampled_s'][0,0,:,0]"
   ]
  },
  {
   "cell_type": "code",
   "execution_count": 54,
   "id": "8c8ec051",
   "metadata": {},
   "outputs": [],
   "source": [
    "# @ \n",
    "single_model_path = '/mnt/qb/work/mlcolab/hzhou52/kt/logs/logs_0329_debug_hssm/0329_q2/debug4_train_0.2_epoch_1000/Model/Model_0.pt'\n",
    "single_model_dict = torch.load(single_model_path)"
   ]
  },
  {
   "cell_type": "code",
   "execution_count": 60,
   "id": "faa5460a",
   "metadata": {},
   "outputs": [
    {
     "data": {
      "text/plain": [
       "tensor([[-3.2562e-01, -9.5776e-01,  5.4656e-04],\n",
       "        [-1.0607e+00, -9.8498e-01, -1.1882e-04],\n",
       "        [-3.0524e-01, -8.2056e-01, -5.0997e-04],\n",
       "        ...,\n",
       "        [ 3.4182e-02,  3.5240e-02, -3.9822e-02],\n",
       "        [ 2.5166e-02, -3.8491e-02, -2.4818e-02],\n",
       "        [ 7.0661e-03, -1.8523e-02, -2.6388e-02]], device='cuda:0')"
      ]
     },
     "execution_count": 60,
     "metadata": {},
     "output_type": "execute_result"
    }
   ],
   "source": [
    "single_model_dict['s_trans_mean']"
   ]
  },
  {
   "cell_type": "code",
   "execution_count": 3,
   "id": "9140e2ad",
   "metadata": {},
   "outputs": [],
   "source": [
    "# @ check outdict\n",
    "import pickle \n",
    "outdict_path = '/mnt/qb/work/mlcolab/hzhou52/kt/logs/TestHSSM/junyi15/multi_skill/graphhssm_debug1/out_dict/train_out_dict_epoch_627.pkg'\n",
    "with open(outdict_path, 'rb') as f:\n",
    "    outdict = pickle.load(f)"
   ]
  },
  {
   "cell_type": "code",
   "execution_count": 4,
   "id": "14361ce8",
   "metadata": {},
   "outputs": [
    {
     "data": {
      "text/plain": [
       "dict_keys(['label', 'prediction', 'sampled_z', 'sampled_s', 'sampled_y', 'mean_s', 'var_s', 'mean_z', 'var_z'])"
      ]
     },
     "execution_count": 4,
     "metadata": {},
     "output_type": "execute_result"
    }
   ],
   "source": [
    "outdict.keys()"
   ]
  },
  {
   "cell_type": "code",
   "execution_count": 48,
   "id": "d2ca62d9",
   "metadata": {},
   "outputs": [
    {
     "data": {
      "text/plain": [
       "torch.Size([100, 16, 1, 40, 4])"
      ]
     },
     "execution_count": 48,
     "metadata": {},
     "output_type": "execute_result"
    }
   ],
   "source": [
    "outdict['sampled_s'].shape"
   ]
  },
  {
   "cell_type": "code",
   "execution_count": 51,
   "id": "2e5c3453",
   "metadata": {},
   "outputs": [
    {
     "data": {
      "text/plain": [
       "tensor([  -4.9614,    5.3721,   -5.8168,    6.2982,   -6.8196,    7.3841,\n",
       "          -7.9953,    8.6572,   -9.3738,   10.1497,  -10.9899,   11.8996,\n",
       "         -12.8846,   13.9511,  -15.1060,   16.3564,  -17.7103,   19.1763,\n",
       "         -20.7637,   22.4825,  -24.3435,   26.3586,  -28.5405,   30.9030,\n",
       "         -33.4610,   36.2308,  -39.2299,   42.4772,  -45.9934,   49.8006,\n",
       "         -53.9229,   58.3865,  -63.2196,   68.4527,  -74.1190,   80.2544,\n",
       "         -86.8976,   94.0907, -101.8792,  110.3125], device='cuda:0',\n",
       "       grad_fn=<SelectBackward0>)"
      ]
     },
     "execution_count": 51,
     "metadata": {},
     "output_type": "execute_result"
    }
   ],
   "source": [
    "outdict['sampled_s'][0,0,0,:,0]"
   ]
  },
  {
   "cell_type": "code",
   "execution_count": 43,
   "id": "07d82c71",
   "metadata": {},
   "outputs": [
    {
     "data": {
      "text/plain": [
       "tensor(0.7939, device='cuda:0', grad_fn=<MeanBackward0>)"
      ]
     },
     "execution_count": 43,
     "metadata": {},
     "output_type": "execute_result"
    }
   ],
   "source": [
    "outdict['prediction'].mean()"
   ]
  },
  {
   "cell_type": "code",
   "execution_count": 39,
   "id": "567a014c",
   "metadata": {
    "collapsed": true
   },
   "outputs": [
    {
     "data": {
      "text/plain": [
       "tensor([[[[ 5.0209e+00],\n",
       "          [ 2.5287e+00],\n",
       "          [ 2.5251e+00],\n",
       "          ...,\n",
       "          [ 7.8056e-08],\n",
       "          [ 7.8031e-08],\n",
       "          [-7.6688e-07]],\n",
       "\n",
       "         [[ 5.0209e+00],\n",
       "          [ 1.8179e-02],\n",
       "          [ 1.8153e-02],\n",
       "          ...,\n",
       "          [ 1.5101e-07],\n",
       "          [ 1.5072e-07],\n",
       "          [-7.9405e-07]],\n",
       "\n",
       "         [[ 5.0209e+00],\n",
       "          [ 2.5287e+00],\n",
       "          [ 2.5251e+00],\n",
       "          ...,\n",
       "          [ 5.4280e-08],\n",
       "          [ 5.4339e-08],\n",
       "          [-7.2125e-07]],\n",
       "\n",
       "         ...,\n",
       "\n",
       "         [[ 5.0209e+00],\n",
       "          [ 2.5287e+00],\n",
       "          [ 2.5251e+00],\n",
       "          ...,\n",
       "          [ 1.6376e-07],\n",
       "          [ 1.6343e-07],\n",
       "          [-7.5504e-07]],\n",
       "\n",
       "         [[ 5.0209e+00],\n",
       "          [ 2.5287e+00],\n",
       "          [ 2.5251e+00],\n",
       "          ...,\n",
       "          [ 1.4587e-07],\n",
       "          [ 1.4560e-07],\n",
       "          [-7.1869e-07]],\n",
       "\n",
       "         [[ 5.0209e+00],\n",
       "          [ 2.5287e+00],\n",
       "          [ 2.5251e+00],\n",
       "          ...,\n",
       "          [ 1.4587e-07],\n",
       "          [ 1.4560e-07],\n",
       "          [-7.1869e-07]]],\n",
       "\n",
       "\n",
       "        [[[ 2.5737e+00],\n",
       "          [ 4.4237e+00],\n",
       "          [ 4.4092e+00],\n",
       "          ...,\n",
       "          [ 1.3742e+08],\n",
       "          [ 1.3730e+08],\n",
       "          [ 3.6328e+08]],\n",
       "\n",
       "         [[ 2.5737e+00],\n",
       "          [ 3.1375e+00],\n",
       "          [ 3.1250e+00],\n",
       "          ...,\n",
       "          [ 1.2446e+08],\n",
       "          [ 1.2433e+08],\n",
       "          [ 3.2898e+08]],\n",
       "\n",
       "         [[ 2.5737e+00],\n",
       "          [ 4.4237e+00],\n",
       "          [ 4.4092e+00],\n",
       "          ...,\n",
       "          [ 1.3732e+08],\n",
       "          [ 1.3720e+08],\n",
       "          [ 3.6301e+08]],\n",
       "\n",
       "         ...,\n",
       "\n",
       "         [[ 2.5737e+00],\n",
       "          [ 4.4237e+00],\n",
       "          [ 4.4092e+00],\n",
       "          ...,\n",
       "          [ 1.3743e+08],\n",
       "          [ 1.3731e+08],\n",
       "          [ 3.6331e+08]],\n",
       "\n",
       "         [[ 2.5737e+00],\n",
       "          [ 4.4237e+00],\n",
       "          [ 4.4092e+00],\n",
       "          ...,\n",
       "          [ 1.3621e+08],\n",
       "          [ 1.3608e+08],\n",
       "          [ 3.6007e+08]],\n",
       "\n",
       "         [[ 2.5737e+00],\n",
       "          [ 4.4237e+00],\n",
       "          [ 4.4092e+00],\n",
       "          ...,\n",
       "          [ 1.3621e+08],\n",
       "          [ 1.3608e+08],\n",
       "          [ 3.6007e+08]]],\n",
       "\n",
       "\n",
       "        [[[ 3.9663e+00],\n",
       "          [ 2.9007e+00],\n",
       "          [ 2.9002e+00],\n",
       "          ...,\n",
       "          [ 2.9614e+00],\n",
       "          [ 2.9610e+00],\n",
       "          [ 2.9850e+00]],\n",
       "\n",
       "         [[ 3.9663e+00],\n",
       "          [ 1.9375e+00],\n",
       "          [ 1.9370e+00],\n",
       "          ...,\n",
       "          [ 2.2354e+00],\n",
       "          [ 2.2351e+00],\n",
       "          [ 2.2533e+00]],\n",
       "\n",
       "         [[ 3.9663e+00],\n",
       "          [ 2.9007e+00],\n",
       "          [ 2.9002e+00],\n",
       "          ...,\n",
       "          [ 2.9273e+00],\n",
       "          [ 2.9269e+00],\n",
       "          [ 2.9506e+00]],\n",
       "\n",
       "         ...,\n",
       "\n",
       "         [[ 3.9663e+00],\n",
       "          [ 2.9007e+00],\n",
       "          [ 2.9002e+00],\n",
       "          ...,\n",
       "          [ 2.9698e+00],\n",
       "          [ 2.9695e+00],\n",
       "          [ 2.9935e+00]],\n",
       "\n",
       "         [[ 3.9663e+00],\n",
       "          [ 2.9007e+00],\n",
       "          [ 2.9002e+00],\n",
       "          ...,\n",
       "          [ 2.7898e+00],\n",
       "          [ 2.7894e+00],\n",
       "          [ 2.8120e+00]],\n",
       "\n",
       "         [[ 3.9663e+00],\n",
       "          [ 2.9007e+00],\n",
       "          [ 2.9002e+00],\n",
       "          ...,\n",
       "          [ 2.7898e+00],\n",
       "          [ 2.7894e+00],\n",
       "          [ 2.8120e+00]]],\n",
       "\n",
       "\n",
       "        ...,\n",
       "\n",
       "\n",
       "        [[[ 8.4749e-01],\n",
       "          [ 2.1879e+00],\n",
       "          [ 2.1705e+00],\n",
       "          ...,\n",
       "          [ 1.6899e+00],\n",
       "          [ 1.6859e+00],\n",
       "          [ 2.0897e+00]],\n",
       "\n",
       "         [[ 8.4749e-01],\n",
       "          [ 2.1834e+00],\n",
       "          [ 2.1657e+00],\n",
       "          ...,\n",
       "          [ 1.6964e+00],\n",
       "          [ 1.6918e+00],\n",
       "          [ 1.6727e+00]],\n",
       "\n",
       "         [[ 8.4749e-01],\n",
       "          [ 2.1879e+00],\n",
       "          [ 2.1705e+00],\n",
       "          ...,\n",
       "          [ 1.6720e+00],\n",
       "          [ 1.6680e+00],\n",
       "          [ 2.0683e+00]],\n",
       "\n",
       "         ...,\n",
       "\n",
       "         [[ 8.4749e-01],\n",
       "          [ 2.1879e+00],\n",
       "          [ 2.1705e+00],\n",
       "          ...,\n",
       "          [ 1.6931e+00],\n",
       "          [ 1.6891e+00],\n",
       "          [ 2.0942e+00]],\n",
       "\n",
       "         [[ 8.4749e-01],\n",
       "          [ 2.1879e+00],\n",
       "          [ 2.1705e+00],\n",
       "          ...,\n",
       "          [ 1.5861e+00],\n",
       "          [ 1.5823e+00],\n",
       "          [ 2.0957e+00]],\n",
       "\n",
       "         [[ 8.4749e-01],\n",
       "          [ 2.1879e+00],\n",
       "          [ 2.1705e+00],\n",
       "          ...,\n",
       "          [ 1.5861e+00],\n",
       "          [ 1.5823e+00],\n",
       "          [ 2.0957e+00]]],\n",
       "\n",
       "\n",
       "        [[[ 3.2947e+00],\n",
       "          [ 3.8484e+00],\n",
       "          [ 3.8459e+00],\n",
       "          ...,\n",
       "          [ 3.6466e+00],\n",
       "          [ 3.6440e+00],\n",
       "          [ 3.6916e+00]],\n",
       "\n",
       "         [[ 3.2947e+00],\n",
       "          [ 2.2123e+00],\n",
       "          [ 2.2105e+00],\n",
       "          ...,\n",
       "          [ 2.7571e+00],\n",
       "          [ 2.7545e+00],\n",
       "          [ 2.7910e+00]],\n",
       "\n",
       "         [[ 3.2947e+00],\n",
       "          [ 3.8484e+00],\n",
       "          [ 3.8459e+00],\n",
       "          ...,\n",
       "          [ 3.6051e+00],\n",
       "          [ 3.6025e+00],\n",
       "          [ 3.6497e+00]],\n",
       "\n",
       "         ...,\n",
       "\n",
       "         [[ 3.2947e+00],\n",
       "          [ 3.8484e+00],\n",
       "          [ 3.8459e+00],\n",
       "          ...,\n",
       "          [ 3.6568e+00],\n",
       "          [ 3.6542e+00],\n",
       "          [ 3.7020e+00]],\n",
       "\n",
       "         [[ 3.2947e+00],\n",
       "          [ 3.8484e+00],\n",
       "          [ 3.8459e+00],\n",
       "          ...,\n",
       "          [ 3.4372e+00],\n",
       "          [ 3.4346e+00],\n",
       "          [ 3.4796e+00]],\n",
       "\n",
       "         [[ 3.2947e+00],\n",
       "          [ 3.8484e+00],\n",
       "          [ 3.8459e+00],\n",
       "          ...,\n",
       "          [ 3.4372e+00],\n",
       "          [ 3.4346e+00],\n",
       "          [ 3.4796e+00]]],\n",
       "\n",
       "\n",
       "        [[[ 6.1849e+00],\n",
       "          [-1.5466e+00],\n",
       "          [-1.5419e+00],\n",
       "          ...,\n",
       "          [-8.8747e-06],\n",
       "          [-8.8701e-06],\n",
       "          [-8.8399e-06]],\n",
       "\n",
       "         [[ 6.1849e+00],\n",
       "          [-1.5466e+00],\n",
       "          [-1.5419e+00],\n",
       "          ...,\n",
       "          [-8.8747e-06],\n",
       "          [-8.8701e-06],\n",
       "          [-8.8399e-06]],\n",
       "\n",
       "         [[ 6.1849e+00],\n",
       "          [-1.5466e+00],\n",
       "          [-1.5419e+00],\n",
       "          ...,\n",
       "          [-8.8747e-06],\n",
       "          [-8.8701e-06],\n",
       "          [-8.8399e-06]],\n",
       "\n",
       "         ...,\n",
       "\n",
       "         [[ 6.1849e+00],\n",
       "          [-1.5466e+00],\n",
       "          [-1.5419e+00],\n",
       "          ...,\n",
       "          [-8.8747e-06],\n",
       "          [-8.8701e-06],\n",
       "          [-8.8399e-06]],\n",
       "\n",
       "         [[ 6.1849e+00],\n",
       "          [-1.5466e+00],\n",
       "          [-1.5419e+00],\n",
       "          ...,\n",
       "          [-8.8747e-06],\n",
       "          [-8.8701e-06],\n",
       "          [-8.8399e-06]],\n",
       "\n",
       "         [[ 6.1849e+00],\n",
       "          [-1.5466e+00],\n",
       "          [-1.5419e+00],\n",
       "          ...,\n",
       "          [-8.8747e-06],\n",
       "          [-8.8701e-06],\n",
       "          [-8.8399e-06]]]], device='cuda:0', requires_grad=True)"
      ]
     },
     "execution_count": 39,
     "metadata": {},
     "output_type": "execute_result"
    }
   ],
   "source": [
    "outdict['mean_z']"
   ]
  },
  {
   "cell_type": "code",
   "execution_count": null,
   "id": "97e43edc",
   "metadata": {},
   "outputs": [],
   "source": []
  },
  {
   "cell_type": "code",
   "execution_count": null,
   "id": "9b0ea8a2",
   "metadata": {},
   "outputs": [],
   "source": []
  },
  {
   "cell_type": "code",
   "execution_count": 47,
   "id": "3b03eda1",
   "metadata": {},
   "outputs": [
    {
     "data": {
      "text/plain": [
       "553"
      ]
     },
     "execution_count": 47,
     "metadata": {},
     "output_type": "execute_result"
    }
   ],
   "source": [
    "# @ 20230316\n",
    "# debug graph influence\n",
    "import pickle\n",
    "corpus_path = '/mnt/qb/work/mlcolab/hzhou52/kt/junyi/single_user_multi_skill/Corpus_200.pkl'\n",
    "with open(corpus_path, 'rb') as f:\n",
    "    corpus = pickle.load(f)\n",
    "    \n",
    "adj = np.load('/mnt/qb/work/mlcolab/hzhou52/kt/junyi/adj.npy')\n",
    "adj.sum()"
   ]
  },
  {
   "cell_type": "code",
   "execution_count": 5,
   "id": "0b333f6a",
   "metadata": {},
   "outputs": [],
   "source": [
    "all_skill = np.array(corpus.user_seq_df['skill_seq'])\n",
    "all_skill = np.stack(all_skill, 0)"
   ]
  },
  {
   "cell_type": "code",
   "execution_count": 46,
   "id": "5103930b",
   "metadata": {},
   "outputs": [
    {
     "data": {
      "text/plain": [
       "372"
      ]
     },
     "execution_count": 46,
     "metadata": {},
     "output_type": "execute_result"
    }
   ],
   "source": [
    "pair = np.stack([all_skill[:, :-1], all_skill[:, 1:]], -1)\n",
    "pairs = []\n",
    "for j in range(pair.shape[0]):\n",
    "    for i in range(199):\n",
    "        pairs.append(tuple(pair[j,i]))\n",
    "\n",
    "unique_pair = set(pairs)\n",
    "adj[np.array(list(unique_pair))[:, 0], np.array(list(unique_pair))[:, 1]].sum()"
   ]
  },
  {
   "cell_type": "code",
   "execution_count": 43,
   "id": "2a6c0fa8",
   "metadata": {},
   "outputs": [],
   "source": [
    "train_pair = pair[:, :99]\n",
    "train_pairs = []\n",
    "for j in range(train_pair.shape[0]):\n",
    "    for i in range(99):\n",
    "        train_pairs.append(tuple(train_pair[j,i]))\n",
    "unique_train_pair = set(train_pairs)\n",
    "adj[np.array(list(unique_train_pair))[:, 0], np.array(list(unique_train_pair))[:, 1]].sum()"
   ]
  },
  {
   "cell_type": "code",
   "execution_count": null,
   "id": "558ae68f",
   "metadata": {},
   "outputs": [],
   "source": []
  },
  {
   "cell_type": "code",
   "execution_count": null,
   "id": "f60e6535",
   "metadata": {},
   "outputs": [],
   "source": []
  },
  {
   "cell_type": "code",
   "execution_count": null,
   "id": "ee1c72ef",
   "metadata": {},
   "outputs": [],
   "source": []
  },
  {
   "cell_type": "code",
   "execution_count": null,
   "id": "fede87b7",
   "metadata": {},
   "outputs": [],
   "source": []
  },
  {
   "cell_type": "code",
   "execution_count": null,
   "id": "934d95bd",
   "metadata": {
    "collapsed": true
   },
   "outputs": [],
   "source": []
  }
 ],
 "metadata": {
  "kernelspec": {
   "display_name": "Python 3 (ipykernel)",
   "language": "python",
   "name": "python3"
  },
  "language_info": {
   "codemirror_mode": {
    "name": "ipython",
    "version": 3
   },
   "file_extension": ".py",
   "mimetype": "text/x-python",
   "name": "python",
   "nbconvert_exporter": "python",
   "pygments_lexer": "ipython3",
   "version": "3.9.12"
  }
 },
 "nbformat": 4,
 "nbformat_minor": 5
}
