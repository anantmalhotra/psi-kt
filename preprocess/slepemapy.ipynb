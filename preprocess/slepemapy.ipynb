{
 "cells": [
  {
   "cell_type": "markdown",
   "metadata": {},
   "source": [
    "decription is [here](https://github.com/adaptive-learning/matmat-web/blob/master/data/data_description.md)\n",
    "\n",
    "https://www.fi.muni.cz/adaptivelearning/?a=data"
   ]
  },
  {
   "cell_type": "code",
   "execution_count": 1,
   "metadata": {},
   "outputs": [],
   "source": [
    "import os\n",
    "import sys\n",
    "import gzip\n",
    "import time\n",
    "import json\n",
    "import pandas as pd\n",
    "import numpy as np\n",
    "import matplotlib.pyplot as plt\n",
    "from datetime import datetime\n",
    "import warnings\n",
    "from utils import *\n",
    "from tqdm import tqdm"
   ]
  },
  {
   "cell_type": "code",
   "execution_count": 6,
   "metadata": {},
   "outputs": [
    {
     "data": {
      "text/html": [
       "<div>\n",
       "<style scoped>\n",
       "    .dataframe tbody tr th:only-of-type {\n",
       "        vertical-align: middle;\n",
       "    }\n",
       "\n",
       "    .dataframe tbody tr th {\n",
       "        vertical-align: top;\n",
       "    }\n",
       "\n",
       "    .dataframe thead th {\n",
       "        text-align: right;\n",
       "    }\n",
       "</style>\n",
       "<table border=\"1\" class=\"dataframe\">\n",
       "  <thead>\n",
       "    <tr style=\"text-align: right;\">\n",
       "      <th></th>\n",
       "      <th>id</th>\n",
       "      <th>user</th>\n",
       "      <th>place_asked</th>\n",
       "      <th>place_answered</th>\n",
       "      <th>type</th>\n",
       "      <th>inserted</th>\n",
       "      <th>response_time</th>\n",
       "      <th>place_map</th>\n",
       "      <th>language</th>\n",
       "      <th>options</th>\n",
       "      <th>ip_country</th>\n",
       "      <th>ip_id</th>\n",
       "    </tr>\n",
       "  </thead>\n",
       "  <tbody>\n",
       "    <tr>\n",
       "      <th>0</th>\n",
       "      <td>2407</td>\n",
       "      <td>75</td>\n",
       "      <td>131</td>\n",
       "      <td>NaN</td>\n",
       "      <td>2</td>\n",
       "      <td>2013-09-26 14:45:51</td>\n",
       "      <td>8250</td>\n",
       "      <td>NaN</td>\n",
       "      <td>0</td>\n",
       "      <td>[57, 82, 131, 77]</td>\n",
       "      <td>NaN</td>\n",
       "      <td>NaN</td>\n",
       "    </tr>\n",
       "    <tr>\n",
       "      <th>1</th>\n",
       "      <td>2408</td>\n",
       "      <td>75</td>\n",
       "      <td>130</td>\n",
       "      <td>69.0</td>\n",
       "      <td>1</td>\n",
       "      <td>2013-09-26 14:46:03</td>\n",
       "      <td>8526</td>\n",
       "      <td>NaN</td>\n",
       "      <td>0</td>\n",
       "      <td>[58, 219, 69, 130]</td>\n",
       "      <td>NaN</td>\n",
       "      <td>NaN</td>\n",
       "    </tr>\n",
       "    <tr>\n",
       "      <th>2</th>\n",
       "      <td>2409</td>\n",
       "      <td>75</td>\n",
       "      <td>136</td>\n",
       "      <td>128.0</td>\n",
       "      <td>1</td>\n",
       "      <td>2013-09-26 14:46:10</td>\n",
       "      <td>4060</td>\n",
       "      <td>NaN</td>\n",
       "      <td>0</td>\n",
       "      <td>[128, 136, 216, 54]</td>\n",
       "      <td>NaN</td>\n",
       "      <td>NaN</td>\n",
       "    </tr>\n",
       "    <tr>\n",
       "      <th>3</th>\n",
       "      <td>2410</td>\n",
       "      <td>75</td>\n",
       "      <td>126</td>\n",
       "      <td>126.0</td>\n",
       "      <td>1</td>\n",
       "      <td>2013-09-26 14:46:20</td>\n",
       "      <td>1842</td>\n",
       "      <td>NaN</td>\n",
       "      <td>0</td>\n",
       "      <td>[153, 58, 126, 214]</td>\n",
       "      <td>NaN</td>\n",
       "      <td>NaN</td>\n",
       "    </tr>\n",
       "    <tr>\n",
       "      <th>4</th>\n",
       "      <td>2411</td>\n",
       "      <td>75</td>\n",
       "      <td>101</td>\n",
       "      <td>101.0</td>\n",
       "      <td>2</td>\n",
       "      <td>2013-09-26 14:46:33</td>\n",
       "      <td>10258</td>\n",
       "      <td>NaN</td>\n",
       "      <td>0</td>\n",
       "      <td>[153, 163, 101, 195]</td>\n",
       "      <td>NaN</td>\n",
       "      <td>NaN</td>\n",
       "    </tr>\n",
       "  </tbody>\n",
       "</table>\n",
       "</div>"
      ],
      "text/plain": [
       "     id  user  place_asked  place_answered  type             inserted  \\\n",
       "0  2407    75          131             NaN     2  2013-09-26 14:45:51   \n",
       "1  2408    75          130            69.0     1  2013-09-26 14:46:03   \n",
       "2  2409    75          136           128.0     1  2013-09-26 14:46:10   \n",
       "3  2410    75          126           126.0     1  2013-09-26 14:46:20   \n",
       "4  2411    75          101           101.0     2  2013-09-26 14:46:33   \n",
       "\n",
       "   response_time  place_map  language               options ip_country  ip_id  \n",
       "0           8250        NaN         0     [57, 82, 131, 77]        NaN    NaN  \n",
       "1           8526        NaN         0    [58, 219, 69, 130]        NaN    NaN  \n",
       "2           4060        NaN         0   [128, 136, 216, 54]        NaN    NaN  \n",
       "3           1842        NaN         0   [153, 58, 126, 214]        NaN    NaN  \n",
       "4          10258        NaN         0  [153, 163, 101, 195]        NaN    NaN  "
      ]
     },
     "execution_count": 6,
     "metadata": {},
     "output_type": "execute_result"
    }
   ],
   "source": [
    "prefix = '/mnt/qb/work/mlcolab/hzhou52/kt/slepemapy'\n",
    "log = pd.read_csv(os.path.join(prefix, 'answer.csv'), sep=';')\n",
    "log.head()\n",
    "# random - 0 for adaptively selected items and 1 randomly selected items"
   ]
  },
  {
   "cell_type": "code",
   "execution_count": 7,
   "metadata": {},
   "outputs": [
    {
     "name": "stdout",
     "output_type": "stream",
     "text": [
      "The columns of log are  Index(['id', 'user', 'place_asked', 'place_answered', 'type', 'inserted',\n",
      "       'response_time', 'place_map', 'language', 'options', 'ip_country',\n",
      "       'ip_id'],\n",
      "      dtype='object')\n",
      "The length of log is 10087305\n",
      "###########################################\n",
      "Number of unique values in id: 10087305\n",
      "Number of unique values in user: 91331\n",
      "Number of unique values in place_asked: 1458\n",
      "Number of unique values in place_answered: 1454\n",
      "Number of unique values in type: 2\n",
      "Number of unique values in inserted: 7417236\n",
      "Number of unique values in response_time: 123472\n",
      "Number of unique values in place_map: 23\n",
      "Number of unique values in language: 3\n",
      "Number of unique values in options: 464053\n",
      "Number of unique values in ip_country: 106\n",
      "Number of unique values in ip_id: 45256\n",
      "None\n"
     ]
    }
   ],
   "source": [
    "print('The columns of log are ', log.columns)\n",
    "print('The length of log is {}'.format(len(log)))\n",
    "\n",
    "print('###########################################')\n",
    "\n",
    "print(count_unique(log, log.columns))"
   ]
  },
  {
   "cell_type": "code",
   "execution_count": 8,
   "metadata": {},
   "outputs": [
    {
     "name": "stdout",
     "output_type": "stream",
     "text": [
      "id 0    2407\n",
      "1    2408\n",
      "2    2409\n",
      "3    2410\n",
      "4    2411\n",
      "Name: id, dtype: int64\n",
      "user 0    75\n",
      "1    75\n",
      "2    75\n",
      "3    75\n",
      "4    75\n",
      "Name: user, dtype: int64\n",
      "place_asked 0    131\n",
      "1    130\n",
      "2    136\n",
      "3    126\n",
      "4    101\n",
      "Name: place_asked, dtype: int64\n",
      "place_answered 0      NaN\n",
      "1     69.0\n",
      "2    128.0\n",
      "3    126.0\n",
      "4    101.0\n",
      "Name: place_answered, dtype: float64\n",
      "type 0    2\n",
      "1    1\n",
      "2    1\n",
      "3    1\n",
      "4    2\n",
      "Name: type, dtype: int64\n",
      "inserted 0    2013-09-26 14:45:51\n",
      "1    2013-09-26 14:46:03\n",
      "2    2013-09-26 14:46:10\n",
      "3    2013-09-26 14:46:20\n",
      "4    2013-09-26 14:46:33\n",
      "Name: inserted, dtype: object\n",
      "response_time 0     8250\n",
      "1     8526\n",
      "2     4060\n",
      "3     1842\n",
      "4    10258\n",
      "Name: response_time, dtype: int64\n",
      "place_map 0   NaN\n",
      "1   NaN\n",
      "2   NaN\n",
      "3   NaN\n",
      "4   NaN\n",
      "Name: place_map, dtype: float64\n",
      "language 0    0\n",
      "1    0\n",
      "2    0\n",
      "3    0\n",
      "4    0\n",
      "Name: language, dtype: int64\n",
      "options 0       [57, 82, 131, 77]\n",
      "1      [58, 219, 69, 130]\n",
      "2     [128, 136, 216, 54]\n",
      "3     [153, 58, 126, 214]\n",
      "4    [153, 163, 101, 195]\n",
      "Name: options, dtype: object\n",
      "ip_country 0    NaN\n",
      "1    NaN\n",
      "2    NaN\n",
      "3    NaN\n",
      "4    NaN\n",
      "Name: ip_country, dtype: object\n",
      "ip_id 0   NaN\n",
      "1   NaN\n",
      "2   NaN\n",
      "3   NaN\n",
      "4   NaN\n",
      "Name: ip_id, dtype: float64\n"
     ]
    }
   ],
   "source": [
    "for col in log.columns:\n",
    "    print(col, log[col][0:5])"
   ]
  },
  {
   "cell_type": "code",
   "execution_count": 53,
   "metadata": {},
   "outputs": [],
   "source": [
    "answer = remove_log(answer, 'student')\n",
    "print(len(answer))\n",
    "print(count_unique(answer, ['item', 'student']))"
   ]
  },
  {
   "cell_type": "code",
   "execution_count": 9,
   "metadata": {},
   "outputs": [
    {
     "data": {
      "text/html": [
       "<div>\n",
       "<style scoped>\n",
       "    .dataframe tbody tr th:only-of-type {\n",
       "        vertical-align: middle;\n",
       "    }\n",
       "\n",
       "    .dataframe tbody tr th {\n",
       "        vertical-align: top;\n",
       "    }\n",
       "\n",
       "    .dataframe thead th {\n",
       "        text-align: right;\n",
       "    }\n",
       "</style>\n",
       "<table border=\"1\" class=\"dataframe\">\n",
       "  <thead>\n",
       "    <tr style=\"text-align: right;\">\n",
       "      <th></th>\n",
       "      <th>id</th>\n",
       "      <th>question</th>\n",
       "      <th>answer</th>\n",
       "      <th>visualization</th>\n",
       "      <th>skill</th>\n",
       "      <th>skill_lvl_1</th>\n",
       "      <th>skill_lvl_2</th>\n",
       "      <th>skill_lvl_3</th>\n",
       "      <th>data</th>\n",
       "    </tr>\n",
       "  </thead>\n",
       "  <tbody>\n",
       "    <tr>\n",
       "      <th>0</th>\n",
       "      <td>1</td>\n",
       "      <td>1</td>\n",
       "      <td>1</td>\n",
       "      <td>object_selection_answer</td>\n",
       "      <td>1873</td>\n",
       "      <td>1870</td>\n",
       "      <td>1871.0</td>\n",
       "      <td>1873.0</td>\n",
       "      <td>{'answer':1,'operands':[1]}</td>\n",
       "    </tr>\n",
       "    <tr>\n",
       "      <th>1</th>\n",
       "      <td>2</td>\n",
       "      <td>1</td>\n",
       "      <td>1</td>\n",
       "      <td>number_line_answer</td>\n",
       "      <td>1873</td>\n",
       "      <td>1870</td>\n",
       "      <td>1871.0</td>\n",
       "      <td>1873.0</td>\n",
       "      <td>{'answer':1,'operands':[1]}</td>\n",
       "    </tr>\n",
       "    <tr>\n",
       "      <th>2</th>\n",
       "      <td>3</td>\n",
       "      <td>1</td>\n",
       "      <td>1</td>\n",
       "      <td>object_counting</td>\n",
       "      <td>1873</td>\n",
       "      <td>1870</td>\n",
       "      <td>1871.0</td>\n",
       "      <td>1873.0</td>\n",
       "      <td>{'answer':1,'operands':[1]}</td>\n",
       "    </tr>\n",
       "    <tr>\n",
       "      <th>3</th>\n",
       "      <td>4</td>\n",
       "      <td>2</td>\n",
       "      <td>2</td>\n",
       "      <td>object_selection_answer</td>\n",
       "      <td>1874</td>\n",
       "      <td>1870</td>\n",
       "      <td>1871.0</td>\n",
       "      <td>1874.0</td>\n",
       "      <td>{'answer':2,'operands':[2]}</td>\n",
       "    </tr>\n",
       "    <tr>\n",
       "      <th>4</th>\n",
       "      <td>5</td>\n",
       "      <td>2</td>\n",
       "      <td>2</td>\n",
       "      <td>number_line_answer</td>\n",
       "      <td>1874</td>\n",
       "      <td>1870</td>\n",
       "      <td>1871.0</td>\n",
       "      <td>1874.0</td>\n",
       "      <td>{'answer':2,'operands':[2]}</td>\n",
       "    </tr>\n",
       "  </tbody>\n",
       "</table>\n",
       "</div>"
      ],
      "text/plain": [
       "   id question  answer            visualization  skill  skill_lvl_1  \\\n",
       "0   1        1       1  object_selection_answer   1873         1870   \n",
       "1   2        1       1       number_line_answer   1873         1870   \n",
       "2   3        1       1          object_counting   1873         1870   \n",
       "3   4        2       2  object_selection_answer   1874         1870   \n",
       "4   5        2       2       number_line_answer   1874         1870   \n",
       "\n",
       "   skill_lvl_2  skill_lvl_3                         data  \n",
       "0       1871.0       1873.0  {'answer':1,'operands':[1]}  \n",
       "1       1871.0       1873.0  {'answer':1,'operands':[1]}  \n",
       "2       1871.0       1873.0  {'answer':1,'operands':[1]}  \n",
       "3       1871.0       1874.0  {'answer':2,'operands':[2]}  \n",
       "4       1871.0       1874.0  {'answer':2,'operands':[2]}  "
      ]
     },
     "execution_count": 9,
     "metadata": {},
     "output_type": "execute_result"
    }
   ],
   "source": [
    "# Every item belongs to exactly one skill (mostly level 2 or level 3 skills). \n",
    "# Features 'skill_lvl_X' stands for ancestor skill of item on given level. \n",
    "# They can be used for comfortable item filtering.\n",
    "item = pd.read_csv(os.path.join(prefix, 'items.csv'))#, sep=';')\n",
    "item.head()"
   ]
  },
  {
   "cell_type": "code",
   "execution_count": 25,
   "metadata": {},
   "outputs": [
    {
     "name": "stdout",
     "output_type": "stream",
     "text": [
      "number of NaN in column id: 0\n",
      "number of NaN in column question: 0\n",
      "number of NaN in column answer: 0\n",
      "number of NaN in column visualization: 0\n",
      "number of NaN in column skill: 0\n",
      "number of NaN in column skill_lvl_1: 0\n",
      "number of NaN in column skill_lvl_2: 184\n",
      "number of NaN in column skill_lvl_3: 641\n",
      "number of NaN in column data: 0\n"
     ]
    }
   ],
   "source": [
    "print(check_nan(item))\n",
    "print(count_unique(item, ['skill']))"
   ]
  },
  {
   "cell_type": "code",
   "execution_count": 60,
   "metadata": {},
   "outputs": [
    {
     "data": {
      "text/html": [
       "<div>\n",
       "<style scoped>\n",
       "    .dataframe tbody tr th:only-of-type {\n",
       "        vertical-align: middle;\n",
       "    }\n",
       "\n",
       "    .dataframe tbody tr th {\n",
       "        vertical-align: top;\n",
       "    }\n",
       "\n",
       "    .dataframe thead th {\n",
       "        text-align: right;\n",
       "    }\n",
       "</style>\n",
       "<table border=\"1\" class=\"dataframe\">\n",
       "  <thead>\n",
       "    <tr style=\"text-align: right;\">\n",
       "      <th></th>\n",
       "      <th>id</th>\n",
       "      <th>identifier</th>\n",
       "      <th>name</th>\n",
       "      <th>parent</th>\n",
       "    </tr>\n",
       "  </thead>\n",
       "  <tbody>\n",
       "    <tr>\n",
       "      <th>0</th>\n",
       "      <td>1869</td>\n",
       "      <td>math</td>\n",
       "      <td>Vše</td>\n",
       "      <td>NaN</td>\n",
       "    </tr>\n",
       "    <tr>\n",
       "      <th>1</th>\n",
       "      <td>1870</td>\n",
       "      <td>numbers</td>\n",
       "      <td>Počítání</td>\n",
       "      <td>1869.0</td>\n",
       "    </tr>\n",
       "    <tr>\n",
       "      <th>2</th>\n",
       "      <td>1871</td>\n",
       "      <td>numbers_leq_10</td>\n",
       "      <td>Počítání do 10</td>\n",
       "      <td>1870.0</td>\n",
       "    </tr>\n",
       "    <tr>\n",
       "      <th>3</th>\n",
       "      <td>1872</td>\n",
       "      <td>numbers_leq_20</td>\n",
       "      <td>Počítání do 20</td>\n",
       "      <td>1870.0</td>\n",
       "    </tr>\n",
       "    <tr>\n",
       "      <th>4</th>\n",
       "      <td>1873</td>\n",
       "      <td>1</td>\n",
       "      <td>1</td>\n",
       "      <td>1871.0</td>\n",
       "    </tr>\n",
       "  </tbody>\n",
       "</table>\n",
       "</div>"
      ],
      "text/plain": [
       "     id      identifier            name  parent\n",
       "0  1869            math             Vše     NaN\n",
       "1  1870         numbers        Počítání  1869.0\n",
       "2  1871  numbers_leq_10  Počítání do 10  1870.0\n",
       "3  1872  numbers_leq_20  Počítání do 20  1870.0\n",
       "4  1873               1               1  1871.0"
      ]
     },
     "execution_count": 60,
     "metadata": {},
     "output_type": "execute_result"
    }
   ],
   "source": [
    "skill = pd.read_csv(os.path.join(prefix, 'skills.csv'))#, sep=';')\n",
    "skill.head()\n",
    "# identifier - string identifier of the skill\n",
    "# name - czech name of the skill\n",
    "# parent - parent skill id"
   ]
  },
  {
   "cell_type": "code",
   "execution_count": 61,
   "metadata": {},
   "outputs": [
    {
     "name": "stdout",
     "output_type": "stream",
     "text": [
      "number of NaN in column id: 0\n",
      "number of NaN in column identifier: 0\n",
      "number of NaN in column name: 0\n",
      "number of NaN in column parent: 1\n",
      "None\n",
      "number of unique value in id: 467\n",
      "None\n"
     ]
    }
   ],
   "source": [
    "print(check_nan(skill))\n",
    "print(count_unique(skill, ['id']))"
   ]
  },
  {
   "cell_type": "markdown",
   "metadata": {},
   "source": [
    "# pre-process"
   ]
  },
  {
   "cell_type": "code",
   "execution_count": 62,
   "metadata": {},
   "outputs": [
    {
     "data": {
      "text/html": [
       "<div>\n",
       "<style scoped>\n",
       "    .dataframe tbody tr th:only-of-type {\n",
       "        vertical-align: middle;\n",
       "    }\n",
       "\n",
       "    .dataframe tbody tr th {\n",
       "        vertical-align: top;\n",
       "    }\n",
       "\n",
       "    .dataframe thead th {\n",
       "        text-align: right;\n",
       "    }\n",
       "</style>\n",
       "<table border=\"1\" class=\"dataframe\">\n",
       "  <thead>\n",
       "    <tr style=\"text-align: right;\">\n",
       "      <th></th>\n",
       "      <th>id</th>\n",
       "      <th>identifier</th>\n",
       "      <th>name</th>\n",
       "      <th>parent</th>\n",
       "    </tr>\n",
       "  </thead>\n",
       "  <tbody>\n",
       "    <tr>\n",
       "      <th>0</th>\n",
       "      <td>0</td>\n",
       "      <td>math</td>\n",
       "      <td>Vše</td>\n",
       "      <td>NaN</td>\n",
       "    </tr>\n",
       "    <tr>\n",
       "      <th>1</th>\n",
       "      <td>1</td>\n",
       "      <td>numbers</td>\n",
       "      <td>Počítání</td>\n",
       "      <td>0.0</td>\n",
       "    </tr>\n",
       "    <tr>\n",
       "      <th>2</th>\n",
       "      <td>2</td>\n",
       "      <td>numbers_leq_10</td>\n",
       "      <td>Počítání do 10</td>\n",
       "      <td>1.0</td>\n",
       "    </tr>\n",
       "    <tr>\n",
       "      <th>3</th>\n",
       "      <td>3</td>\n",
       "      <td>numbers_leq_20</td>\n",
       "      <td>Počítání do 20</td>\n",
       "      <td>1.0</td>\n",
       "    </tr>\n",
       "    <tr>\n",
       "      <th>4</th>\n",
       "      <td>4</td>\n",
       "      <td>1</td>\n",
       "      <td>1</td>\n",
       "      <td>2.0</td>\n",
       "    </tr>\n",
       "  </tbody>\n",
       "</table>\n",
       "</div>"
      ],
      "text/plain": [
       "   id      identifier            name  parent\n",
       "0   0            math             Vše     NaN\n",
       "1   1         numbers        Počítání     0.0\n",
       "2   2  numbers_leq_10  Počítání do 10     1.0\n",
       "3   3  numbers_leq_20  Počítání do 20     1.0\n",
       "4   4               1               1     2.0"
      ]
     },
     "execution_count": 62,
     "metadata": {},
     "output_type": "execute_result"
    }
   ],
   "source": [
    "# re-index\n",
    "# - skill\n",
    "skill_id = list(skill['id'].unique())\n",
    "skill_dict = dict(zip(skill_id, range(len(skill_id))))\n",
    "skill['id'] = skill['id'].apply(lambda x: skill_dict[x])\n",
    "skill['parent'][1:] = skill['parent'][1:].apply(lambda x: skill_dict[x])\n",
    "skill.head()\n",
    "item['skill'] = item['skill'].apply(lambda x: skill_dict[x])\n",
    "item.head()\n",
    "\n",
    "# - item\n",
    "item_id = list(item['id'].unique())\n",
    "item_dict = dict(zip(item_id, range(len(item_id))))\n",
    "item['id'] = item['id'].apply(lambda x: item_dict[x])\n",
    "answer['item'] = answer['item'].apply(lambda x: item_dict[x])\n",
    "\n",
    "# - student\n",
    "stu_id = list(answer['student'].unique())\n",
    "stu_dict = dict(zip(stu_id, range(len(stu_id))))\n",
    "answer['student'] = answer['student'].apply(lambda x: stu_dict[x])"
   ]
  },
  {
   "cell_type": "code",
   "execution_count": 93,
   "metadata": {},
   "outputs": [],
   "source": [
    "# create new data\n",
    "df = pd.DataFrame(columns=['user_id', 'problem_id', 'skill_id', 'timestamp', 'dwell_time', 'correct'])\n",
    "df.user_id = answer.student\n",
    "df.problem_id = answer.item\n",
    "item_skill = dict(zip(list(item.id), list(item.skill)))\n",
    "df.skill_id = answer.item.apply(lambda x: item_skill[x])\n",
    "df.timestamp = answer.time.apply(lambda t: time.mktime(time.strptime(t, '%Y-%m-%d %H:%M:%S')))\n",
    "df.dwell_time = answer.response_time.apply(lambda t: t / 1000.0)\n",
    "df.correct = answer.correct"
   ]
  },
  {
   "cell_type": "code",
   "execution_count": 94,
   "metadata": {},
   "outputs": [
    {
     "ename": "ValueError",
     "evalue": "unconverted data remains: .035462",
     "output_type": "error",
     "traceback": [
      "\u001b[0;31m---------------------------------------------------------------------------\u001b[0m",
      "\u001b[0;31mValueError\u001b[0m                                Traceback (most recent call last)",
      "\u001b[1;32m/home/mlcolab/hzhou52/mykt/data/slepemapy.ipynb Cell 14'\u001b[0m in \u001b[0;36m<cell line: 1>\u001b[0;34m()\u001b[0m\n\u001b[0;32m----> <a href='vscode-notebook-cell://ssh-remote%2B134.2.168.52/home/mlcolab/hzhou52/mykt/data/slepemapy.ipynb#ch0000038vscode-remote?line=0'>1</a>\u001b[0m df\u001b[39m.\u001b[39mtimestamp \u001b[39m=\u001b[39m answer\u001b[39m.\u001b[39;49mtime\u001b[39m.\u001b[39;49mapply(\u001b[39mlambda\u001b[39;49;00m t: time\u001b[39m.\u001b[39;49mmktime(time\u001b[39m.\u001b[39;49mstrptime(t, \u001b[39m'\u001b[39;49m\u001b[39m%\u001b[39;49m\u001b[39mY-\u001b[39;49m\u001b[39m%\u001b[39;49m\u001b[39mm-\u001b[39;49m\u001b[39m%d\u001b[39;49;00m\u001b[39m \u001b[39;49m\u001b[39m%\u001b[39;49m\u001b[39mH:\u001b[39;49m\u001b[39m%\u001b[39;49m\u001b[39mM:\u001b[39;49m\u001b[39m%\u001b[39;49m\u001b[39mS\u001b[39;49m\u001b[39m'\u001b[39;49m)))\n",
      "File \u001b[0;32m/mnt/qb/work/mlcolab/hzhou52/anaconda3/envs/kt/lib/python3.8/site-packages/pandas/core/series.py:4433\u001b[0m, in \u001b[0;36mSeries.apply\u001b[0;34m(self, func, convert_dtype, args, **kwargs)\u001b[0m\n\u001b[1;32m   <a href='file:///mnt/qb/work/mlcolab/hzhou52/anaconda3/envs/kt/lib/python3.8/site-packages/pandas/core/series.py?line=4322'>4323</a>\u001b[0m \u001b[39mdef\u001b[39;00m \u001b[39mapply\u001b[39m(\n\u001b[1;32m   <a href='file:///mnt/qb/work/mlcolab/hzhou52/anaconda3/envs/kt/lib/python3.8/site-packages/pandas/core/series.py?line=4323'>4324</a>\u001b[0m     \u001b[39mself\u001b[39m,\n\u001b[1;32m   <a href='file:///mnt/qb/work/mlcolab/hzhou52/anaconda3/envs/kt/lib/python3.8/site-packages/pandas/core/series.py?line=4324'>4325</a>\u001b[0m     func: AggFuncType,\n\u001b[0;32m   (...)\u001b[0m\n\u001b[1;32m   <a href='file:///mnt/qb/work/mlcolab/hzhou52/anaconda3/envs/kt/lib/python3.8/site-packages/pandas/core/series.py?line=4327'>4328</a>\u001b[0m     \u001b[39m*\u001b[39m\u001b[39m*\u001b[39mkwargs,\n\u001b[1;32m   <a href='file:///mnt/qb/work/mlcolab/hzhou52/anaconda3/envs/kt/lib/python3.8/site-packages/pandas/core/series.py?line=4328'>4329</a>\u001b[0m ) \u001b[39m-\u001b[39m\u001b[39m>\u001b[39m DataFrame \u001b[39m|\u001b[39m Series:\n\u001b[1;32m   <a href='file:///mnt/qb/work/mlcolab/hzhou52/anaconda3/envs/kt/lib/python3.8/site-packages/pandas/core/series.py?line=4329'>4330</a>\u001b[0m     \u001b[39m\"\"\"\u001b[39;00m\n\u001b[1;32m   <a href='file:///mnt/qb/work/mlcolab/hzhou52/anaconda3/envs/kt/lib/python3.8/site-packages/pandas/core/series.py?line=4330'>4331</a>\u001b[0m \u001b[39m    Invoke function on values of Series.\u001b[39;00m\n\u001b[1;32m   <a href='file:///mnt/qb/work/mlcolab/hzhou52/anaconda3/envs/kt/lib/python3.8/site-packages/pandas/core/series.py?line=4331'>4332</a>\u001b[0m \n\u001b[0;32m   (...)\u001b[0m\n\u001b[1;32m   <a href='file:///mnt/qb/work/mlcolab/hzhou52/anaconda3/envs/kt/lib/python3.8/site-packages/pandas/core/series.py?line=4430'>4431</a>\u001b[0m \u001b[39m    dtype: float64\u001b[39;00m\n\u001b[1;32m   <a href='file:///mnt/qb/work/mlcolab/hzhou52/anaconda3/envs/kt/lib/python3.8/site-packages/pandas/core/series.py?line=4431'>4432</a>\u001b[0m \u001b[39m    \"\"\"\u001b[39;00m\n\u001b[0;32m-> <a href='file:///mnt/qb/work/mlcolab/hzhou52/anaconda3/envs/kt/lib/python3.8/site-packages/pandas/core/series.py?line=4432'>4433</a>\u001b[0m     \u001b[39mreturn\u001b[39;00m SeriesApply(\u001b[39mself\u001b[39;49m, func, convert_dtype, args, kwargs)\u001b[39m.\u001b[39;49mapply()\n",
      "File \u001b[0;32m/mnt/qb/work/mlcolab/hzhou52/anaconda3/envs/kt/lib/python3.8/site-packages/pandas/core/apply.py:1082\u001b[0m, in \u001b[0;36mSeriesApply.apply\u001b[0;34m(self)\u001b[0m\n\u001b[1;32m   <a href='file:///mnt/qb/work/mlcolab/hzhou52/anaconda3/envs/kt/lib/python3.8/site-packages/pandas/core/apply.py?line=1077'>1078</a>\u001b[0m \u001b[39mif\u001b[39;00m \u001b[39misinstance\u001b[39m(\u001b[39mself\u001b[39m\u001b[39m.\u001b[39mf, \u001b[39mstr\u001b[39m):\n\u001b[1;32m   <a href='file:///mnt/qb/work/mlcolab/hzhou52/anaconda3/envs/kt/lib/python3.8/site-packages/pandas/core/apply.py?line=1078'>1079</a>\u001b[0m     \u001b[39m# if we are a string, try to dispatch\u001b[39;00m\n\u001b[1;32m   <a href='file:///mnt/qb/work/mlcolab/hzhou52/anaconda3/envs/kt/lib/python3.8/site-packages/pandas/core/apply.py?line=1079'>1080</a>\u001b[0m     \u001b[39mreturn\u001b[39;00m \u001b[39mself\u001b[39m\u001b[39m.\u001b[39mapply_str()\n\u001b[0;32m-> <a href='file:///mnt/qb/work/mlcolab/hzhou52/anaconda3/envs/kt/lib/python3.8/site-packages/pandas/core/apply.py?line=1081'>1082</a>\u001b[0m \u001b[39mreturn\u001b[39;00m \u001b[39mself\u001b[39;49m\u001b[39m.\u001b[39;49mapply_standard()\n",
      "File \u001b[0;32m/mnt/qb/work/mlcolab/hzhou52/anaconda3/envs/kt/lib/python3.8/site-packages/pandas/core/apply.py:1137\u001b[0m, in \u001b[0;36mSeriesApply.apply_standard\u001b[0;34m(self)\u001b[0m\n\u001b[1;32m   <a href='file:///mnt/qb/work/mlcolab/hzhou52/anaconda3/envs/kt/lib/python3.8/site-packages/pandas/core/apply.py?line=1130'>1131</a>\u001b[0m         values \u001b[39m=\u001b[39m obj\u001b[39m.\u001b[39mastype(\u001b[39mobject\u001b[39m)\u001b[39m.\u001b[39m_values\n\u001b[1;32m   <a href='file:///mnt/qb/work/mlcolab/hzhou52/anaconda3/envs/kt/lib/python3.8/site-packages/pandas/core/apply.py?line=1131'>1132</a>\u001b[0m         \u001b[39m# error: Argument 2 to \"map_infer\" has incompatible type\u001b[39;00m\n\u001b[1;32m   <a href='file:///mnt/qb/work/mlcolab/hzhou52/anaconda3/envs/kt/lib/python3.8/site-packages/pandas/core/apply.py?line=1132'>1133</a>\u001b[0m         \u001b[39m# \"Union[Callable[..., Any], str, List[Union[Callable[..., Any], str]],\u001b[39;00m\n\u001b[1;32m   <a href='file:///mnt/qb/work/mlcolab/hzhou52/anaconda3/envs/kt/lib/python3.8/site-packages/pandas/core/apply.py?line=1133'>1134</a>\u001b[0m         \u001b[39m# Dict[Hashable, Union[Union[Callable[..., Any], str],\u001b[39;00m\n\u001b[1;32m   <a href='file:///mnt/qb/work/mlcolab/hzhou52/anaconda3/envs/kt/lib/python3.8/site-packages/pandas/core/apply.py?line=1134'>1135</a>\u001b[0m         \u001b[39m# List[Union[Callable[..., Any], str]]]]]\"; expected\u001b[39;00m\n\u001b[1;32m   <a href='file:///mnt/qb/work/mlcolab/hzhou52/anaconda3/envs/kt/lib/python3.8/site-packages/pandas/core/apply.py?line=1135'>1136</a>\u001b[0m         \u001b[39m# \"Callable[[Any], Any]\"\u001b[39;00m\n\u001b[0;32m-> <a href='file:///mnt/qb/work/mlcolab/hzhou52/anaconda3/envs/kt/lib/python3.8/site-packages/pandas/core/apply.py?line=1136'>1137</a>\u001b[0m         mapped \u001b[39m=\u001b[39m lib\u001b[39m.\u001b[39;49mmap_infer(\n\u001b[1;32m   <a href='file:///mnt/qb/work/mlcolab/hzhou52/anaconda3/envs/kt/lib/python3.8/site-packages/pandas/core/apply.py?line=1137'>1138</a>\u001b[0m             values,\n\u001b[1;32m   <a href='file:///mnt/qb/work/mlcolab/hzhou52/anaconda3/envs/kt/lib/python3.8/site-packages/pandas/core/apply.py?line=1138'>1139</a>\u001b[0m             f,  \u001b[39m# type: ignore[arg-type]\u001b[39;49;00m\n\u001b[1;32m   <a href='file:///mnt/qb/work/mlcolab/hzhou52/anaconda3/envs/kt/lib/python3.8/site-packages/pandas/core/apply.py?line=1139'>1140</a>\u001b[0m             convert\u001b[39m=\u001b[39;49m\u001b[39mself\u001b[39;49m\u001b[39m.\u001b[39;49mconvert_dtype,\n\u001b[1;32m   <a href='file:///mnt/qb/work/mlcolab/hzhou52/anaconda3/envs/kt/lib/python3.8/site-packages/pandas/core/apply.py?line=1140'>1141</a>\u001b[0m         )\n\u001b[1;32m   <a href='file:///mnt/qb/work/mlcolab/hzhou52/anaconda3/envs/kt/lib/python3.8/site-packages/pandas/core/apply.py?line=1142'>1143</a>\u001b[0m \u001b[39mif\u001b[39;00m \u001b[39mlen\u001b[39m(mapped) \u001b[39mand\u001b[39;00m \u001b[39misinstance\u001b[39m(mapped[\u001b[39m0\u001b[39m], ABCSeries):\n\u001b[1;32m   <a href='file:///mnt/qb/work/mlcolab/hzhou52/anaconda3/envs/kt/lib/python3.8/site-packages/pandas/core/apply.py?line=1143'>1144</a>\u001b[0m     \u001b[39m# GH#43986 Need to do list(mapped) in order to get treated as nested\u001b[39;00m\n\u001b[1;32m   <a href='file:///mnt/qb/work/mlcolab/hzhou52/anaconda3/envs/kt/lib/python3.8/site-packages/pandas/core/apply.py?line=1144'>1145</a>\u001b[0m     \u001b[39m#  See also GH#25959 regarding EA support\u001b[39;00m\n\u001b[1;32m   <a href='file:///mnt/qb/work/mlcolab/hzhou52/anaconda3/envs/kt/lib/python3.8/site-packages/pandas/core/apply.py?line=1145'>1146</a>\u001b[0m     \u001b[39mreturn\u001b[39;00m obj\u001b[39m.\u001b[39m_constructor_expanddim(\u001b[39mlist\u001b[39m(mapped), index\u001b[39m=\u001b[39mobj\u001b[39m.\u001b[39mindex)\n",
      "File \u001b[0;32m/mnt/qb/work/mlcolab/hzhou52/anaconda3/envs/kt/lib/python3.8/site-packages/pandas/_libs/lib.pyx:2870\u001b[0m, in \u001b[0;36mpandas._libs.lib.map_infer\u001b[0;34m()\u001b[0m\n",
      "\u001b[1;32m/home/mlcolab/hzhou52/mykt/data/slepemapy.ipynb Cell 14'\u001b[0m in \u001b[0;36m<lambda>\u001b[0;34m(t)\u001b[0m\n\u001b[0;32m----> <a href='vscode-notebook-cell://ssh-remote%2B134.2.168.52/home/mlcolab/hzhou52/mykt/data/slepemapy.ipynb#ch0000038vscode-remote?line=0'>1</a>\u001b[0m df\u001b[39m.\u001b[39mtimestamp \u001b[39m=\u001b[39m answer\u001b[39m.\u001b[39mtime\u001b[39m.\u001b[39mapply(\u001b[39mlambda\u001b[39;00m t: time\u001b[39m.\u001b[39mmktime(time\u001b[39m.\u001b[39;49mstrptime(t, \u001b[39m'\u001b[39;49m\u001b[39m%\u001b[39;49m\u001b[39mY-\u001b[39;49m\u001b[39m%\u001b[39;49m\u001b[39mm-\u001b[39;49m\u001b[39m%d\u001b[39;49;00m\u001b[39m \u001b[39;49m\u001b[39m%\u001b[39;49m\u001b[39mH:\u001b[39;49m\u001b[39m%\u001b[39;49m\u001b[39mM:\u001b[39;49m\u001b[39m%\u001b[39;49m\u001b[39mS\u001b[39;49m\u001b[39m'\u001b[39;49m)))\n",
      "File \u001b[0;32m/mnt/qb/work/mlcolab/hzhou52/anaconda3/envs/kt/lib/python3.8/_strptime.py:562\u001b[0m, in \u001b[0;36m_strptime_time\u001b[0;34m(data_string, format)\u001b[0m\n\u001b[1;32m    <a href='file:///mnt/qb/work/mlcolab/hzhou52/anaconda3/envs/kt/lib/python3.8/_strptime.py?line=558'>559</a>\u001b[0m \u001b[39mdef\u001b[39;00m \u001b[39m_strptime_time\u001b[39m(data_string, \u001b[39mformat\u001b[39m\u001b[39m=\u001b[39m\u001b[39m\"\u001b[39m\u001b[39m%a\u001b[39;00m\u001b[39m \u001b[39m\u001b[39m%\u001b[39m\u001b[39mb \u001b[39m\u001b[39m%d\u001b[39;00m\u001b[39m \u001b[39m\u001b[39m%\u001b[39m\u001b[39mH:\u001b[39m\u001b[39m%\u001b[39m\u001b[39mM:\u001b[39m\u001b[39m%\u001b[39m\u001b[39mS \u001b[39m\u001b[39m%\u001b[39m\u001b[39mY\u001b[39m\u001b[39m\"\u001b[39m):\n\u001b[1;32m    <a href='file:///mnt/qb/work/mlcolab/hzhou52/anaconda3/envs/kt/lib/python3.8/_strptime.py?line=559'>560</a>\u001b[0m     \u001b[39m\"\"\"Return a time struct based on the input string and the\u001b[39;00m\n\u001b[1;32m    <a href='file:///mnt/qb/work/mlcolab/hzhou52/anaconda3/envs/kt/lib/python3.8/_strptime.py?line=560'>561</a>\u001b[0m \u001b[39m    format string.\"\"\"\u001b[39;00m\n\u001b[0;32m--> <a href='file:///mnt/qb/work/mlcolab/hzhou52/anaconda3/envs/kt/lib/python3.8/_strptime.py?line=561'>562</a>\u001b[0m     tt \u001b[39m=\u001b[39m _strptime(data_string, \u001b[39mformat\u001b[39;49m)[\u001b[39m0\u001b[39m]\n\u001b[1;32m    <a href='file:///mnt/qb/work/mlcolab/hzhou52/anaconda3/envs/kt/lib/python3.8/_strptime.py?line=562'>563</a>\u001b[0m     \u001b[39mreturn\u001b[39;00m time\u001b[39m.\u001b[39mstruct_time(tt[:time\u001b[39m.\u001b[39m_STRUCT_TM_ITEMS])\n",
      "File \u001b[0;32m/mnt/qb/work/mlcolab/hzhou52/anaconda3/envs/kt/lib/python3.8/_strptime.py:352\u001b[0m, in \u001b[0;36m_strptime\u001b[0;34m(data_string, format)\u001b[0m\n\u001b[1;32m    <a href='file:///mnt/qb/work/mlcolab/hzhou52/anaconda3/envs/kt/lib/python3.8/_strptime.py?line=348'>349</a>\u001b[0m     \u001b[39mraise\u001b[39;00m \u001b[39mValueError\u001b[39;00m(\u001b[39m\"\u001b[39m\u001b[39mtime data \u001b[39m\u001b[39m%r\u001b[39;00m\u001b[39m does not match format \u001b[39m\u001b[39m%r\u001b[39;00m\u001b[39m\"\u001b[39m \u001b[39m%\u001b[39m\n\u001b[1;32m    <a href='file:///mnt/qb/work/mlcolab/hzhou52/anaconda3/envs/kt/lib/python3.8/_strptime.py?line=349'>350</a>\u001b[0m                      (data_string, \u001b[39mformat\u001b[39m))\n\u001b[1;32m    <a href='file:///mnt/qb/work/mlcolab/hzhou52/anaconda3/envs/kt/lib/python3.8/_strptime.py?line=350'>351</a>\u001b[0m \u001b[39mif\u001b[39;00m \u001b[39mlen\u001b[39m(data_string) \u001b[39m!=\u001b[39m found\u001b[39m.\u001b[39mend():\n\u001b[0;32m--> <a href='file:///mnt/qb/work/mlcolab/hzhou52/anaconda3/envs/kt/lib/python3.8/_strptime.py?line=351'>352</a>\u001b[0m     \u001b[39mraise\u001b[39;00m \u001b[39mValueError\u001b[39;00m(\u001b[39m\"\u001b[39m\u001b[39munconverted data remains: \u001b[39m\u001b[39m%s\u001b[39;00m\u001b[39m\"\u001b[39m \u001b[39m%\u001b[39m\n\u001b[1;32m    <a href='file:///mnt/qb/work/mlcolab/hzhou52/anaconda3/envs/kt/lib/python3.8/_strptime.py?line=352'>353</a>\u001b[0m                       data_string[found\u001b[39m.\u001b[39mend():])\n\u001b[1;32m    <a href='file:///mnt/qb/work/mlcolab/hzhou52/anaconda3/envs/kt/lib/python3.8/_strptime.py?line=354'>355</a>\u001b[0m iso_year \u001b[39m=\u001b[39m year \u001b[39m=\u001b[39m \u001b[39mNone\u001b[39;00m\n\u001b[1;32m    <a href='file:///mnt/qb/work/mlcolab/hzhou52/anaconda3/envs/kt/lib/python3.8/_strptime.py?line=355'>356</a>\u001b[0m month \u001b[39m=\u001b[39m day \u001b[39m=\u001b[39m \u001b[39m1\u001b[39m\n",
      "\u001b[0;31mValueError\u001b[0m: unconverted data remains: .035462"
     ]
    }
   ],
   "source": [
    "df.timestamp = answer.time.apply(lambda t: time.mktime(time.strptime(t, '%Y-%m-%d %H:%M:%S')))"
   ]
  },
  {
   "cell_type": "code",
   "execution_count": 95,
   "metadata": {},
   "outputs": [
    {
     "name": "stdout",
     "output_type": "stream",
     "text": [
      "--Return--\n",
      "None\n",
      "> \u001b[0;32m/tmp/ipykernel_8296/3338134284.py\u001b[0m(5)\u001b[0;36m<cell line: 1>\u001b[0;34m()\u001b[0m\n",
      "\u001b[0;32m      3 \u001b[0;31m\u001b[0;32mexcept\u001b[0m \u001b[0mValueError\u001b[0m\u001b[0;34m:\u001b[0m\u001b[0;34m\u001b[0m\u001b[0;34m\u001b[0m\u001b[0m\n",
      "\u001b[0m\u001b[0;32m      4 \u001b[0;31m    \u001b[0;32mimport\u001b[0m \u001b[0mipdb\u001b[0m\u001b[0;34m\u001b[0m\u001b[0;34m\u001b[0m\u001b[0m\n",
      "\u001b[0m\u001b[0;32m----> 5 \u001b[0;31m    \u001b[0mipdb\u001b[0m\u001b[0;34m.\u001b[0m\u001b[0mset_trace\u001b[0m\u001b[0;34m(\u001b[0m\u001b[0;34m)\u001b[0m\u001b[0;34m\u001b[0m\u001b[0;34m\u001b[0m\u001b[0m\n",
      "\u001b[0m\n",
      "'2016-04-17 14:12:09'\n",
      "--KeyboardInterrupt--\n",
      "\n",
      "KeyboardInterrupt: Interrupted by user\n"
     ]
    }
   ],
   "source": [
    "try:\n",
    "    df.timestamp = answer.time.apply(lambda t: time.mktime(time.strptime(t, '%Y-%m-%d %H:%M:%S')))\n",
    "except ValueError:\n",
    "    import ipdb\n",
    "    ipdb.set_trace()"
   ]
  },
  {
   "cell_type": "code",
   "execution_count": 83,
   "metadata": {},
   "outputs": [],
   "source": [
    "t = answer.time[0]"
   ]
  },
  {
   "cell_type": "code",
   "execution_count": 84,
   "metadata": {},
   "outputs": [
    {
     "data": {
      "text/plain": [
       "time.struct_time(tm_year=2016, tm_mon=4, tm_mday=17, tm_hour=14, tm_min=12, tm_sec=9, tm_wday=6, tm_yday=108, tm_isdst=-1)"
      ]
     },
     "execution_count": 84,
     "metadata": {},
     "output_type": "execute_result"
    }
   ],
   "source": [
    "time.strptime(t, '%Y-%m-%d %H:%M:%S')"
   ]
  },
  {
   "cell_type": "code",
   "execution_count": 86,
   "metadata": {},
   "outputs": [
    {
     "data": {
      "text/plain": [
       "1460895129.0"
      ]
     },
     "execution_count": 86,
     "metadata": {},
     "output_type": "execute_result"
    }
   ],
   "source": [
    "time.mktime(time.strptime(t, '%Y-%m-%d %H:%M:%S'))"
   ]
  },
  {
   "cell_type": "code",
   "execution_count": 88,
   "metadata": {},
   "outputs": [],
   "source": [
    "from dateutil import parser"
   ]
  },
  {
   "cell_type": "code",
   "execution_count": 91,
   "metadata": {},
   "outputs": [
    {
     "ename": "TypeError",
     "evalue": "Tuple or struct_time argument required",
     "output_type": "error",
     "traceback": [
      "\u001b[0;31m---------------------------------------------------------------------------\u001b[0m",
      "\u001b[0;31mTypeError\u001b[0m                                 Traceback (most recent call last)",
      "\u001b[1;32m/home/mlcolab/hzhou52/mykt/data/slepemapy.ipynb Cell 19'\u001b[0m in \u001b[0;36m<cell line: 1>\u001b[0;34m()\u001b[0m\n\u001b[0;32m----> <a href='vscode-notebook-cell://ssh-remote%2B134.2.168.52/home/mlcolab/hzhou52/mykt/data/slepemapy.ipynb#ch0000035vscode-remote?line=0'>1</a>\u001b[0m time\u001b[39m.\u001b[39;49mmktime(parser\u001b[39m.\u001b[39;49mparse(t))\n",
      "\u001b[0;31mTypeError\u001b[0m: Tuple or struct_time argument required"
     ]
    }
   ],
   "source": [
    "time.mktime(parser.parse(t))"
   ]
  },
  {
   "cell_type": "code",
   "execution_count": 92,
   "metadata": {},
   "outputs": [
    {
     "ename": "TypeError",
     "evalue": "'datetime.datetime' object is not subscriptable",
     "output_type": "error",
     "traceback": [
      "\u001b[0;31m---------------------------------------------------------------------------\u001b[0m",
      "\u001b[0;31mTypeError\u001b[0m                                 Traceback (most recent call last)",
      "\u001b[1;32m/home/mlcolab/hzhou52/mykt/data/slepemapy.ipynb Cell 20'\u001b[0m in \u001b[0;36m<cell line: 1>\u001b[0;34m()\u001b[0m\n\u001b[0;32m----> <a href='vscode-notebook-cell://ssh-remote%2B134.2.168.52/home/mlcolab/hzhou52/mykt/data/slepemapy.ipynb#ch0000036vscode-remote?line=0'>1</a>\u001b[0m parser\u001b[39m.\u001b[39;49mparse(t)[\u001b[39m0\u001b[39;49m]\n",
      "\u001b[0;31mTypeError\u001b[0m: 'datetime.datetime' object is not subscriptable"
     ]
    }
   ],
   "source": [
    "parser.parse(t)[0]"
   ]
  },
  {
   "cell_type": "code",
   "execution_count": null,
   "metadata": {},
   "outputs": [],
   "source": []
  }
 ],
 "metadata": {
  "interpreter": {
   "hash": "3c2509e27662ce56f108009dad52848cf38f1485dce3b4941071b3bbc5cf42be"
  },
  "kernelspec": {
   "display_name": "Python 3 (ipykernel)",
   "language": "python",
   "name": "python3"
  },
  "language_info": {
   "codemirror_mode": {
    "name": "ipython",
    "version": 3
   },
   "file_extension": ".py",
   "mimetype": "text/x-python",
   "name": "python",
   "nbconvert_exporter": "python",
   "pygments_lexer": "ipython3",
   "version": "3.9.12"
  }
 },
 "nbformat": 4,
 "nbformat_minor": 2
}
