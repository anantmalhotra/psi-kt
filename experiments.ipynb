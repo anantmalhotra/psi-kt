{
 "cells": [
  {
   "cell_type": "code",
   "execution_count": 1,
   "metadata": {},
   "outputs": [
    {
     "name": "stdout",
     "output_type": "stream",
     "text": [
      "/Users/anantmalhotra/Development/psi-kt/scripts\n"
     ]
    }
   ],
   "source": [
    "import os\n",
    "os.chdir(\"scripts\")\n",
    "! pwd"
   ]
  },
  {
   "cell_type": "code",
   "execution_count": 5,
   "metadata": {},
   "outputs": [
    {
     "name": "stdout",
     "output_type": "stream",
     "text": [
      "Prepare Batches:   0%|                                                        | 0/4 [00:00<?, ?it/s]/Users/anantmalhotra/Development/psi-kt/scripts/../knowledge_tracing/utils/utils.py:164: FutureWarning: The behavior of `series[i:j]` with an integer-dtype index is deprecated. In a future version, this will be treated as *label-based* indexing, consistent with e.g. `series[i]` lookups. To retain the old behavior, use `series.iloc[i:j]`. To get the future behavior, use `series.loc[i:j]`.\n",
      "  seq = data[value][start : start + batch_size].values\n",
      "Epoch     3:  50%|██████████████████████████                          | 2/4 [01:35<01:35, 47.79s/it]^C\n"
     ]
    }
   ],
   "source": [
    "! python predict_learner_performance_psikt.py \\\n",
    "--dataset assistment17/multi_skill \\\n",
    "--model_name AmortizedPSIKT \\\n",
    "--random_seed 2024 \\\n",
    "--num_learner 100 \\\n",
    "--data_dir ../data \\\n",
    "--distributed 0 \\\n",
    "--batch_size 32 \\\n",
    "--eval_batch_size 32 \\\n",
    "--epoch 1000 \\\n",
    "--metric \"auc,accuracy\""
   ]
  },
  {
   "cell_type": "code",
   "execution_count": null,
   "metadata": {},
   "outputs": [],
   "source": []
  }
 ],
 "metadata": {
  "kernelspec": {
   "display_name": ".venv",
   "language": "python",
   "name": "python3"
  },
  "language_info": {
   "codemirror_mode": {
    "name": "ipython",
    "version": 3
   },
   "file_extension": ".py",
   "mimetype": "text/x-python",
   "name": "python",
   "nbconvert_exporter": "python",
   "pygments_lexer": "ipython3",
   "version": "3.9.6"
  }
 },
 "nbformat": 4,
 "nbformat_minor": 2
}
