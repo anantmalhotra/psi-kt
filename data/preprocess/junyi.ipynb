{
 "cells": [
  {
   "cell_type": "code",
   "execution_count": 11,
   "metadata": {},
   "outputs": [],
   "source": [
    "import numpy as np\n",
    "import pandas as pd\n",
    "from collections import defaultdict\n",
    "import operator\n",
    "from utils import *"
   ]
  },
  {
   "cell_type": "markdown",
   "metadata": {},
   "source": [
    "modified 0207"
   ]
  },
  {
   "cell_type": "code",
   "execution_count": 12,
   "metadata": {},
   "outputs": [],
   "source": [
    "bath_path = '/mnt/qb/work/mlcolab/hzhou52/kt/junyi/'\n",
    "\n",
    "# exercise 837, topic 41, area 9\n",
    "exercise = pd.read_csv(bath_path+'junyi_Exercise_table.csv', encoding = \"utf-8\",low_memory=False) \n",
    "relation = pd.read_csv(bath_path+'relationship_annotation_training.csv', encoding = \"utf-8\",low_memory=False)\n",
    "log = pd.read_csv(bath_path+'junyi_ProblemLog_original.csv', encoding = \"utf-8\",low_memory=False)"
   ]
  },
  {
   "cell_type": "code",
   "execution_count": 13,
   "metadata": {
    "collapsed": true
   },
   "outputs": [
    {
     "data": {
      "text/html": [
       "<div>\n",
       "<style scoped>\n",
       "    .dataframe tbody tr th:only-of-type {\n",
       "        vertical-align: middle;\n",
       "    }\n",
       "\n",
       "    .dataframe tbody tr th {\n",
       "        vertical-align: top;\n",
       "    }\n",
       "\n",
       "    .dataframe thead th {\n",
       "        text-align: right;\n",
       "    }\n",
       "</style>\n",
       "<table border=\"1\" class=\"dataframe\">\n",
       "  <thead>\n",
       "    <tr style=\"text-align: right;\">\n",
       "      <th></th>\n",
       "      <th>user_id</th>\n",
       "      <th>exercise</th>\n",
       "      <th>problem_type</th>\n",
       "      <th>problem_number</th>\n",
       "      <th>topic_mode</th>\n",
       "      <th>suggested</th>\n",
       "      <th>review_mode</th>\n",
       "      <th>time_done</th>\n",
       "      <th>time_taken</th>\n",
       "      <th>time_taken_attempts</th>\n",
       "      <th>correct</th>\n",
       "      <th>count_attempts</th>\n",
       "      <th>hint_used</th>\n",
       "      <th>count_hints</th>\n",
       "      <th>hint_time_taken_list</th>\n",
       "      <th>earned_proficiency</th>\n",
       "      <th>points_earned</th>\n",
       "    </tr>\n",
       "  </thead>\n",
       "  <tbody>\n",
       "    <tr>\n",
       "      <th>0</th>\n",
       "      <td>12884</td>\n",
       "      <td>time_terminology</td>\n",
       "      <td>analog_word</td>\n",
       "      <td>1</td>\n",
       "      <td>False</td>\n",
       "      <td>False</td>\n",
       "      <td>False</td>\n",
       "      <td>1420714810324490</td>\n",
       "      <td>4</td>\n",
       "      <td>3&amp;1</td>\n",
       "      <td>False</td>\n",
       "      <td>2</td>\n",
       "      <td>False</td>\n",
       "      <td>0</td>\n",
       "      <td>NaN</td>\n",
       "      <td>False</td>\n",
       "      <td>0</td>\n",
       "    </tr>\n",
       "    <tr>\n",
       "      <th>1</th>\n",
       "      <td>239464</td>\n",
       "      <td>multiplication_1</td>\n",
       "      <td>0</td>\n",
       "      <td>6</td>\n",
       "      <td>False</td>\n",
       "      <td>False</td>\n",
       "      <td>False</td>\n",
       "      <td>1403098400836660</td>\n",
       "      <td>2</td>\n",
       "      <td>2</td>\n",
       "      <td>True</td>\n",
       "      <td>1</td>\n",
       "      <td>False</td>\n",
       "      <td>0</td>\n",
       "      <td>NaN</td>\n",
       "      <td>False</td>\n",
       "      <td>14</td>\n",
       "    </tr>\n",
       "    <tr>\n",
       "      <th>2</th>\n",
       "      <td>147359</td>\n",
       "      <td>adding_decimals_0.5</td>\n",
       "      <td>0</td>\n",
       "      <td>6</td>\n",
       "      <td>False</td>\n",
       "      <td>False</td>\n",
       "      <td>False</td>\n",
       "      <td>1418890695540340</td>\n",
       "      <td>16</td>\n",
       "      <td>16</td>\n",
       "      <td>True</td>\n",
       "      <td>1</td>\n",
       "      <td>False</td>\n",
       "      <td>0</td>\n",
       "      <td>NaN</td>\n",
       "      <td>False</td>\n",
       "      <td>75</td>\n",
       "    </tr>\n",
       "    <tr>\n",
       "      <th>3</th>\n",
       "      <td>158155</td>\n",
       "      <td>multiplication_1</td>\n",
       "      <td>0</td>\n",
       "      <td>3</td>\n",
       "      <td>False</td>\n",
       "      <td>False</td>\n",
       "      <td>False</td>\n",
       "      <td>1400469444264040</td>\n",
       "      <td>2</td>\n",
       "      <td>2</td>\n",
       "      <td>True</td>\n",
       "      <td>1</td>\n",
       "      <td>False</td>\n",
       "      <td>0</td>\n",
       "      <td>NaN</td>\n",
       "      <td>False</td>\n",
       "      <td>75</td>\n",
       "    </tr>\n",
       "    <tr>\n",
       "      <th>4</th>\n",
       "      <td>147151</td>\n",
       "      <td>subtraction_2</td>\n",
       "      <td>subtraction-2</td>\n",
       "      <td>10</td>\n",
       "      <td>True</td>\n",
       "      <td>True</td>\n",
       "      <td>False</td>\n",
       "      <td>1382650905730160</td>\n",
       "      <td>4</td>\n",
       "      <td>4</td>\n",
       "      <td>True</td>\n",
       "      <td>1</td>\n",
       "      <td>False</td>\n",
       "      <td>0</td>\n",
       "      <td>NaN</td>\n",
       "      <td>False</td>\n",
       "      <td>225</td>\n",
       "    </tr>\n",
       "  </tbody>\n",
       "</table>\n",
       "</div>"
      ],
      "text/plain": [
       "   user_id             exercise   problem_type  problem_number  topic_mode  \\\n",
       "0    12884     time_terminology    analog_word               1       False   \n",
       "1   239464     multiplication_1              0               6       False   \n",
       "2   147359  adding_decimals_0.5              0               6       False   \n",
       "3   158155     multiplication_1              0               3       False   \n",
       "4   147151        subtraction_2  subtraction-2              10        True   \n",
       "\n",
       "   suggested  review_mode         time_done  time_taken time_taken_attempts  \\\n",
       "0      False        False  1420714810324490           4                 3&1   \n",
       "1      False        False  1403098400836660           2                   2   \n",
       "2      False        False  1418890695540340          16                  16   \n",
       "3      False        False  1400469444264040           2                   2   \n",
       "4       True        False  1382650905730160           4                   4   \n",
       "\n",
       "   correct  count_attempts  hint_used  count_hints hint_time_taken_list  \\\n",
       "0    False               2      False            0                  NaN   \n",
       "1     True               1      False            0                  NaN   \n",
       "2     True               1      False            0                  NaN   \n",
       "3     True               1      False            0                  NaN   \n",
       "4     True               1      False            0                  NaN   \n",
       "\n",
       "   earned_proficiency  points_earned  \n",
       "0               False              0  \n",
       "1               False             14  \n",
       "2               False             75  \n",
       "3               False             75  \n",
       "4               False            225  "
      ]
     },
     "execution_count": 13,
     "metadata": {},
     "output_type": "execute_result"
    }
   ],
   "source": [
    "log.head()"
   ]
  },
  {
   "cell_type": "code",
   "execution_count": 14,
   "metadata": {
    "collapsed": true
   },
   "outputs": [
    {
     "data": {
      "text/html": [
       "<div>\n",
       "<style scoped>\n",
       "    .dataframe tbody tr th:only-of-type {\n",
       "        vertical-align: middle;\n",
       "    }\n",
       "\n",
       "    .dataframe tbody tr th {\n",
       "        vertical-align: top;\n",
       "    }\n",
       "\n",
       "    .dataframe thead th {\n",
       "        text-align: right;\n",
       "    }\n",
       "</style>\n",
       "<table border=\"1\" class=\"dataframe\">\n",
       "  <thead>\n",
       "    <tr style=\"text-align: right;\">\n",
       "      <th></th>\n",
       "      <th>name</th>\n",
       "      <th>live</th>\n",
       "      <th>prerequisites</th>\n",
       "      <th>h_position</th>\n",
       "      <th>v_position</th>\n",
       "      <th>creation_date</th>\n",
       "      <th>seconds_per_fast_problem</th>\n",
       "      <th>pretty_display_name</th>\n",
       "      <th>short_display_name</th>\n",
       "      <th>topic</th>\n",
       "      <th>area</th>\n",
       "    </tr>\n",
       "  </thead>\n",
       "  <tbody>\n",
       "    <tr>\n",
       "      <th>0</th>\n",
       "      <td>parabola_intuition_1</td>\n",
       "      <td>True</td>\n",
       "      <td>recognizing_conic_sections</td>\n",
       "      <td>47</td>\n",
       "      <td>2</td>\n",
       "      <td>2012-10-11 17:55:24.8056 UTC</td>\n",
       "      <td>13.0</td>\n",
       "      <td>?物線直覺 1</td>\n",
       "      <td>?物線直覺1</td>\n",
       "      <td>conic-sections</td>\n",
       "      <td>algebra</td>\n",
       "    </tr>\n",
       "    <tr>\n",
       "      <th>1</th>\n",
       "      <td>circles_and_arcs</td>\n",
       "      <td>True</td>\n",
       "      <td>NaN</td>\n",
       "      <td>40</td>\n",
       "      <td>-20</td>\n",
       "      <td>2012-10-11 17:55:33.41014 UTC</td>\n",
       "      <td>27.0</td>\n",
       "      <td>圓與弧</td>\n",
       "      <td>圓與弧</td>\n",
       "      <td>area-perimeter-and-volume</td>\n",
       "      <td>geometry</td>\n",
       "    </tr>\n",
       "    <tr>\n",
       "      <th>2</th>\n",
       "      <td>inscribed_angles_3</td>\n",
       "      <td>True</td>\n",
       "      <td>inscribed_angles_2</td>\n",
       "      <td>44</td>\n",
       "      <td>-22</td>\n",
       "      <td>2012-10-11 17:55:44.11836 UTC</td>\n",
       "      <td>5.0</td>\n",
       "      <td>圓周角與圓心角換算 3</td>\n",
       "      <td>圓周角與圓心角換算3</td>\n",
       "      <td>circle-properties</td>\n",
       "      <td>geometry</td>\n",
       "    </tr>\n",
       "    <tr>\n",
       "      <th>3</th>\n",
       "      <td>solving_quadratics_by_factoring</td>\n",
       "      <td>True</td>\n",
       "      <td>factoring_polynomials_1</td>\n",
       "      <td>50</td>\n",
       "      <td>-2</td>\n",
       "      <td>2012-10-11 17:54:59.28029 UTC</td>\n",
       "      <td>7.0</td>\n",
       "      <td>因式分解法</td>\n",
       "      <td>因式分解法</td>\n",
       "      <td>quadtratics</td>\n",
       "      <td>algebra</td>\n",
       "    </tr>\n",
       "    <tr>\n",
       "      <th>4</th>\n",
       "      <td>graphing_parabolas_1</td>\n",
       "      <td>True</td>\n",
       "      <td>graphing_parabolas_0.5</td>\n",
       "      <td>52</td>\n",
       "      <td>0</td>\n",
       "      <td>2012-10-11 17:55:00.48268 UTC</td>\n",
       "      <td>24.0</td>\n",
       "      <td>畫拋物線 1</td>\n",
       "      <td>畫拋物線1</td>\n",
       "      <td>quadtratics</td>\n",
       "      <td>algebra</td>\n",
       "    </tr>\n",
       "  </tbody>\n",
       "</table>\n",
       "</div>"
      ],
      "text/plain": [
       "                              name  live               prerequisites  \\\n",
       "0             parabola_intuition_1  True  recognizing_conic_sections   \n",
       "1                 circles_and_arcs  True                         NaN   \n",
       "2               inscribed_angles_3  True          inscribed_angles_2   \n",
       "3  solving_quadratics_by_factoring  True     factoring_polynomials_1   \n",
       "4             graphing_parabolas_1  True      graphing_parabolas_0.5   \n",
       "\n",
       "   h_position  v_position                  creation_date  \\\n",
       "0          47           2   2012-10-11 17:55:24.8056 UTC   \n",
       "1          40         -20  2012-10-11 17:55:33.41014 UTC   \n",
       "2          44         -22  2012-10-11 17:55:44.11836 UTC   \n",
       "3          50          -2  2012-10-11 17:54:59.28029 UTC   \n",
       "4          52           0  2012-10-11 17:55:00.48268 UTC   \n",
       "\n",
       "   seconds_per_fast_problem pretty_display_name short_display_name  \\\n",
       "0                      13.0             ?物線直覺 1             ?物線直覺1   \n",
       "1                      27.0                 圓與弧                圓與弧   \n",
       "2                       5.0         圓周角與圓心角換算 3         圓周角與圓心角換算3   \n",
       "3                       7.0               因式分解法              因式分解法   \n",
       "4                      24.0              畫拋物線 1              畫拋物線1   \n",
       "\n",
       "                       topic      area  \n",
       "0             conic-sections   algebra  \n",
       "1  area-perimeter-and-volume  geometry  \n",
       "2          circle-properties  geometry  \n",
       "3                quadtratics   algebra  \n",
       "4                quadtratics   algebra  "
      ]
     },
     "execution_count": 14,
     "metadata": {},
     "output_type": "execute_result"
    }
   ],
   "source": [
    "exercise.head()"
   ]
  },
  {
   "cell_type": "markdown",
   "metadata": {},
   "source": [
    "# find ground-truth knowledge graph"
   ]
  },
  {
   "cell_type": "code",
   "execution_count": 46,
   "metadata": {},
   "outputs": [],
   "source": [
    "# exercise-id re-match\n",
    "num_ex = len(exercise)\n",
    "\n",
    "ex_new_id = pd.DataFrame(columns=['exercise_name', 'exercise_id', 'prerequisite_name', 'prerequisite_id'])\n",
    "ex_new_id['exercise_name'] = exercise.name\n",
    "ex_new_id['exercise_id'] = np.arange(len(exercise))\n",
    "ex_new_id['prerequisite_name'] = exercise.prerequisites\n",
    "\n",
    "for i in range(len(ex_new_id.prerequisite_name)):\n",
    "    pre = ex_new_id['prerequisite_name'][i]\n",
    "    ind = exercise.loc[exercise.name == pre].index\n",
    "    if len(ind) == 0:\n",
    "        ex_new_id.prerequisite_id[i] = np.nan\n",
    "    else:\n",
    "        ex_new_id.prerequisite_id[i] = ind[0]"
   ]
  },
  {
   "cell_type": "code",
   "execution_count": 44,
   "metadata": {
    "collapsed": true
   },
   "outputs": [
    {
     "data": {
      "text/html": [
       "<div>\n",
       "<style scoped>\n",
       "    .dataframe tbody tr th:only-of-type {\n",
       "        vertical-align: middle;\n",
       "    }\n",
       "\n",
       "    .dataframe tbody tr th {\n",
       "        vertical-align: top;\n",
       "    }\n",
       "\n",
       "    .dataframe thead th {\n",
       "        text-align: right;\n",
       "    }\n",
       "</style>\n",
       "<table border=\"1\" class=\"dataframe\">\n",
       "  <thead>\n",
       "    <tr style=\"text-align: right;\">\n",
       "      <th></th>\n",
       "      <th>exercise_name</th>\n",
       "      <th>exercise_id</th>\n",
       "      <th>prerequisite_name</th>\n",
       "      <th>prerequisite_id</th>\n",
       "    </tr>\n",
       "  </thead>\n",
       "  <tbody>\n",
       "    <tr>\n",
       "      <th>0</th>\n",
       "      <td>parabola_intuition_1</td>\n",
       "      <td>0</td>\n",
       "      <td>recognizing_conic_sections</td>\n",
       "      <td>524</td>\n",
       "    </tr>\n",
       "    <tr>\n",
       "      <th>1</th>\n",
       "      <td>circles_and_arcs</td>\n",
       "      <td>1</td>\n",
       "      <td>NaN</td>\n",
       "      <td>NaN</td>\n",
       "    </tr>\n",
       "    <tr>\n",
       "      <th>2</th>\n",
       "      <td>inscribed_angles_3</td>\n",
       "      <td>2</td>\n",
       "      <td>inscribed_angles_2</td>\n",
       "      <td>331</td>\n",
       "    </tr>\n",
       "    <tr>\n",
       "      <th>3</th>\n",
       "      <td>solving_quadratics_by_factoring</td>\n",
       "      <td>3</td>\n",
       "      <td>factoring_polynomials_1</td>\n",
       "      <td>673</td>\n",
       "    </tr>\n",
       "    <tr>\n",
       "      <th>4</th>\n",
       "      <td>graphing_parabolas_1</td>\n",
       "      <td>4</td>\n",
       "      <td>graphing_parabolas_0.5</td>\n",
       "      <td>330</td>\n",
       "    </tr>\n",
       "  </tbody>\n",
       "</table>\n",
       "</div>"
      ],
      "text/plain": [
       "                     exercise_name  exercise_id           prerequisite_name  \\\n",
       "0             parabola_intuition_1            0  recognizing_conic_sections   \n",
       "1                 circles_and_arcs            1                         NaN   \n",
       "2               inscribed_angles_3            2          inscribed_angles_2   \n",
       "3  solving_quadratics_by_factoring            3     factoring_polynomials_1   \n",
       "4             graphing_parabolas_1            4      graphing_parabolas_0.5   \n",
       "\n",
       "  prerequisite_id  \n",
       "0             524  \n",
       "1             NaN  \n",
       "2             331  \n",
       "3             673  \n",
       "4             330  "
      ]
     },
     "execution_count": 44,
     "metadata": {},
     "output_type": "execute_result"
    }
   ],
   "source": [
    "ex_new_id.head()"
   ]
  },
  {
   "cell_type": "code",
   "execution_count": 45,
   "metadata": {
    "collapsed": true
   },
   "outputs": [
    {
     "name": "stdout",
     "output_type": "stream",
     "text": [
      "number of NaN in column exercise_name: 0\n",
      "number of NaN in column exercise_id: 0\n",
      "number of NaN in column prerequisite_name: 95\n",
      "number of NaN in column prerequisite_id: 284\n"
     ]
    }
   ],
   "source": [
    "check_nan(ex_new_id)"
   ]
  },
  {
   "cell_type": "code",
   "execution_count": 47,
   "metadata": {},
   "outputs": [],
   "source": [
    "import networkx as nx\n",
    "G = nx.DiGraph()\n",
    "\n",
    "# create nodes for the graph, with label as the nodes' name\n",
    "node_label = [(exercise_id.exercise_id[i], dict(name=exercise_id.exercise_name[i])) for i in range(len(exercise_id))]\n",
    "G.add_nodes_from(node_label)\n",
    "\n",
    "# the edge of the graph; a->b means a is a prerequiste of b\n",
    "edge = []\n",
    "for i in range(len(exercise_id)):\n",
    "    if not pd.isna(exercise_id.prerequisite_id[i]):\n",
    "        edge.append((exercise_id.prerequisite_id[i], exercise_id.exercise_id[i]))\n",
    "G.add_edges_from(edge)\n",
    "\n",
    "# add position of each node on the graph\n",
    "pos = dict()\n",
    "for i in range(num_ex):\n",
    "    pos.update({i: (exercise.h_position[i], exercise.v_position[i])})\n",
    "\n",
    "# save adjacancy matrix to numpy file\n",
    "adj = nx.adjacency_matrix(G).toarray()\n",
    "path = '/mnt/qb/work/mlcolab/hzhou52/kt/junyi/adj.npy'\n",
    "np.save(path, adj)"
   ]
  },
  {
   "cell_type": "code",
   "execution_count": 27,
   "metadata": {},
   "outputs": [],
   "source": [
    "# visualize\n",
    "nx.draw(G, with_labels=False, pos=pos, node_size=2)\n",
    "nx.draw(G, labels=ex_new_id.name)"
   ]
  },
  {
   "cell_type": "code",
   "execution_count": null,
   "metadata": {},
   "outputs": [],
   "source": [
    "# lets see if i can make it interactive"
   ]
  },
  {
   "cell_type": "code",
   "execution_count": 21,
   "metadata": {
    "collapsed": true
   },
   "outputs": [
    {
     "name": "stdout",
     "output_type": "stream",
     "text": [
      "Collecting bokeh\n",
      "  Downloading bokeh-3.0.3-py3-none-any.whl (16.5 MB)\n",
      "\u001b[2K     \u001b[38;2;114;156;31m━━━━━━━━━━━━━━━━━━━━━━━━━━━━━━━━━━━━━━━━\u001b[0m \u001b[32m16.5/16.5 MB\u001b[0m \u001b[31m21.5 MB/s\u001b[0m eta \u001b[36m0:00:00\u001b[0mm eta \u001b[36m0:00:01\u001b[0m[36m0:00:01\u001b[0m\n",
      "\u001b[?25hRequirement already satisfied: pandas>=1.2 in /mnt/qb/work/mlcolab/hzhou52/anaconda3/envs/mykt/lib/python3.9/site-packages (from bokeh) (1.4.3)\n",
      "Requirement already satisfied: pillow>=7.1.0 in /mnt/qb/work/mlcolab/hzhou52/anaconda3/envs/mykt/lib/python3.9/site-packages (from bokeh) (9.2.0)\n",
      "Collecting contourpy>=1\n",
      "  Downloading contourpy-1.0.7-cp39-cp39-manylinux_2_17_x86_64.manylinux2014_x86_64.whl (299 kB)\n",
      "\u001b[2K     \u001b[38;2;114;156;31m━━━━━━━━━━━━━━━━━━━━━━━━━━━━━━━━━━━━━━\u001b[0m \u001b[32m299.7/299.7 kB\u001b[0m \u001b[31m11.1 MB/s\u001b[0m eta \u001b[36m0:00:00\u001b[0m\n",
      "\u001b[?25hRequirement already satisfied: numpy>=1.11.3 in /mnt/qb/work/mlcolab/hzhou52/anaconda3/envs/mykt/lib/python3.9/site-packages (from bokeh) (1.22.3)\n",
      "Requirement already satisfied: packaging>=16.8 in /mnt/qb/work/mlcolab/hzhou52/anaconda3/envs/mykt/lib/python3.9/site-packages (from bokeh) (21.3)\n",
      "Requirement already satisfied: tornado>=5.1 in /mnt/qb/work/mlcolab/hzhou52/anaconda3/envs/mykt/lib/python3.9/site-packages (from bokeh) (6.2)\n",
      "Collecting xyzservices>=2021.09.1\n",
      "  Downloading xyzservices-2022.9.0-py3-none-any.whl (55 kB)\n",
      "\u001b[2K     \u001b[38;2;114;156;31m━━━━━━━━━━━━━━━━━━━━━━━━━━━━━━━━━━━━━━━━\u001b[0m \u001b[32m55.9/55.9 kB\u001b[0m \u001b[31m3.2 MB/s\u001b[0m eta \u001b[36m0:00:00\u001b[0m\n",
      "\u001b[?25hRequirement already satisfied: Jinja2>=2.9 in /mnt/qb/work/mlcolab/hzhou52/anaconda3/envs/mykt/lib/python3.9/site-packages (from bokeh) (3.1.2)\n",
      "Collecting PyYAML>=3.10\n",
      "  Using cached PyYAML-6.0-cp39-cp39-manylinux_2_5_x86_64.manylinux1_x86_64.manylinux_2_12_x86_64.manylinux2010_x86_64.whl (661 kB)\n",
      "Requirement already satisfied: MarkupSafe>=2.0 in /mnt/qb/work/mlcolab/hzhou52/anaconda3/envs/mykt/lib/python3.9/site-packages (from Jinja2>=2.9->bokeh) (2.1.1)\n",
      "Requirement already satisfied: pyparsing!=3.0.5,>=2.0.2 in /mnt/qb/work/mlcolab/hzhou52/anaconda3/envs/mykt/lib/python3.9/site-packages (from packaging>=16.8->bokeh) (3.0.4)\n",
      "Requirement already satisfied: python-dateutil>=2.8.1 in /mnt/qb/work/mlcolab/hzhou52/anaconda3/envs/mykt/lib/python3.9/site-packages (from pandas>=1.2->bokeh) (2.8.2)\n",
      "Requirement already satisfied: pytz>=2020.1 in /mnt/qb/work/mlcolab/hzhou52/anaconda3/envs/mykt/lib/python3.9/site-packages (from pandas>=1.2->bokeh) (2022.1)\n",
      "Requirement already satisfied: six>=1.5 in /mnt/qb/work/mlcolab/hzhou52/anaconda3/envs/mykt/lib/python3.9/site-packages (from python-dateutil>=2.8.1->pandas>=1.2->bokeh) (1.16.0)\n",
      "Installing collected packages: xyzservices, PyYAML, contourpy, bokeh\n",
      "Successfully installed PyYAML-6.0 bokeh-3.0.3 contourpy-1.0.7 xyzservices-2022.9.0\n"
     ]
    }
   ],
   "source": [
    "!pip install bokeh"
   ]
  },
  {
   "cell_type": "code",
   "execution_count": 22,
   "metadata": {},
   "outputs": [],
   "source": [
    "from bokeh.io import output_notebook, show, save\n",
    "output_notebook()\n",
    "from bokeh.io import output_notebook, show, save\n",
    "from bokeh.models import Range1d, Circle, ColumnDataSource, MultiLine\n",
    "from bokeh.plotting import figure\n",
    "from bokeh.plotting import from_networkx"
   ]
  },
  {
   "cell_type": "code",
   "execution_count": 26,
   "metadata": {
    "collapsed": true
   },
   "outputs": [
    {
     "data": {
      "text/html": [
       "\n",
       "  <div id=\"5d9af0ff-7c17-4812-811a-36ec2561c5ba\" data-root-id=\"p1047\" style=\"display: contents;\"></div>\n"
      ]
     },
     "metadata": {},
     "output_type": "display_data"
    },
    {
     "data": {
      "application/javascript": [
       "(function(root) {\n",
       "  function embed_document(root) {\n",
       "  const docs_json = {\"28c03faf-12c6-4682-a269-2a8f3b981a4c\":{\"version\":\"3.0.3\",\"title\":\"Bokeh Application\",\"defs\":[],\"roots\":[{\"type\":\"object\",\"name\":\"Figure\",\"id\":\"p1047\",\"attributes\":{\"x_range\":{\"type\":\"object\",\"name\":\"Range1d\",\"id\":\"p1045\",\"attributes\":{\"start\":-10.1,\"end\":10.1}},\"y_range\":{\"type\":\"object\",\"name\":\"Range1d\",\"id\":\"p1046\",\"attributes\":{\"start\":-10.1,\"end\":10.1}},\"x_scale\":{\"type\":\"object\",\"name\":\"LinearScale\",\"id\":\"p1059\"},\"y_scale\":{\"type\":\"object\",\"name\":\"LinearScale\",\"id\":\"p1061\"},\"title\":{\"type\":\"object\",\"name\":\"Title\",\"id\":\"p1050\",\"attributes\":{\"text\":\"Junyi Knowledge Graph\"}},\"renderers\":[{\"type\":\"object\",\"name\":\"GraphRenderer\",\"id\":\"p1088\",\"attributes\":{\"layout_provider\":{\"type\":\"object\",\"name\":\"StaticLayoutProvider\",\"id\":\"p1119\",\"attributes\":{\"graph_layout\":{\"type\":\"map\",\"entries\":[[0,{\"type\":\"ndarray\",\"array\":{\"type\":\"bytes\",\"data\":\"AAAAgFAFFkAAAAAAJOvxPw==\"},\"shape\":[2],\"dtype\":\"float64\",\"order\":\"little\"}],[1,{\"type\":\"ndarray\",\"array\":{\"type\":\"bytes\",\"data\":\"AAAAQN66BkAAAAAgVWzzvw==\"},\"shape\":[2],\"dtype\":\"float64\",\"order\":\"little\"}],[2,{\"type\":\"ndarray\",\"array\":{\"type\":\"bytes\",\"data\":\"AAAAoHGpGEAAAABAWdcNwA==\"},\"shape\":[2],\"dtype\":\"float64\",\"order\":\"little\"}],[3,{\"type\":\"ndarray\",\"array\":{\"type\":\"bytes\",\"data\":\"AAAAgODkGUAAAACgdM4UwA==\"},\"shape\":[2],\"dtype\":\"float64\",\"order\":\"little\"}],[4,{\"type\":\"ndarray\",\"array\":{\"type\":\"bytes\",\"data\":\"AAAAIJ/FIUAAAACASLX8Pw==\"},\"shape\":[2],\"dtype\":\"float64\",\"order\":\"little\"}],[5,{\"type\":\"ndarray\",\"array\":{\"type\":\"bytes\",\"data\":\"AAAAIOmD+T8AAADgoO0iwA==\"},\"shape\":[2],\"dtype\":\"float64\",\"order\":\"little\"}],[6,{\"type\":\"ndarray\",\"array\":{\"type\":\"bytes\",\"data\":\"AAAAwAW7IsAAAAAAlNXsPw==\"},\"shape\":[2],\"dtype\":\"float64\",\"order\":\"little\"}],[7,{\"type\":\"ndarray\",\"array\":{\"type\":\"bytes\",\"data\":\"AAAAgHYgGEAAAAAAQsUWwA==\"},\"shape\":[2],\"dtype\":\"float64\",\"order\":\"little\"}],[8,{\"type\":\"ndarray\",\"array\":{\"type\":\"bytes\",\"data\":\"AAAAwMytEUAAAACAXlkQQA==\"},\"shape\":[2],\"dtype\":\"float64\",\"order\":\"little\"}],[9,{\"type\":\"ndarray\",\"array\":{\"type\":\"bytes\",\"data\":\"AAAA4CJJ/78AAACg2Q/bPw==\"},\"shape\":[2],\"dtype\":\"float64\",\"order\":\"little\"}],[10,{\"type\":\"ndarray\",\"array\":{\"type\":\"bytes\",\"data\":\"AAAAgHwwF0AAAADA+YASwA==\"},\"shape\":[2],\"dtype\":\"float64\",\"order\":\"little\"}],[11,{\"type\":\"ndarray\",\"array\":{\"type\":\"bytes\",\"data\":\"AAAAwBPBFkAAAAAg07QbQA==\"},\"shape\":[2],\"dtype\":\"float64\",\"order\":\"little\"}],[12,{\"type\":\"ndarray\",\"array\":{\"type\":\"bytes\",\"data\":\"AAAAYIXMIsAAAADAs7wCwA==\"},\"shape\":[2],\"dtype\":\"float64\",\"order\":\"little\"}],[13,{\"type\":\"ndarray\",\"array\":{\"type\":\"bytes\",\"data\":\"AAAAoIu3IMAAAADgz+UVQA==\"},\"shape\":[2],\"dtype\":\"float64\",\"order\":\"little\"}],[14,{\"type\":\"ndarray\",\"array\":{\"type\":\"bytes\",\"data\":\"AAAA4Jh4E8AAAABA6z7TPw==\"},\"shape\":[2],\"dtype\":\"float64\",\"order\":\"little\"}],[15,{\"type\":\"ndarray\",\"array\":{\"type\":\"bytes\",\"data\":\"AAAAwF1RIsAAAADg9LsIwA==\"},\"shape\":[2],\"dtype\":\"float64\",\"order\":\"little\"}],[16,{\"type\":\"ndarray\",\"array\":{\"type\":\"bytes\",\"data\":\"AAAAoLVRCsAAAAAguOYgwA==\"},\"shape\":[2],\"dtype\":\"float64\",\"order\":\"little\"}],[17,{\"type\":\"ndarray\",\"array\":{\"type\":\"bytes\",\"data\":\"AAAA4A/NGEAAAADAXgoewA==\"},\"shape\":[2],\"dtype\":\"float64\",\"order\":\"little\"}],[18,{\"type\":\"ndarray\",\"array\":{\"type\":\"bytes\",\"data\":\"AAAAIBnnHMAAAAAAYAPyvw==\"},\"shape\":[2],\"dtype\":\"float64\",\"order\":\"little\"}],[19,{\"type\":\"ndarray\",\"array\":{\"type\":\"bytes\",\"data\":\"AAAAwLYjEEAAAADA9a0WwA==\"},\"shape\":[2],\"dtype\":\"float64\",\"order\":\"little\"}],[20,{\"type\":\"ndarray\",\"array\":{\"type\":\"bytes\",\"data\":\"AAAAgLNV0r8AAAAgklcjQA==\"},\"shape\":[2],\"dtype\":\"float64\",\"order\":\"little\"}],[21,{\"type\":\"ndarray\",\"array\":{\"type\":\"bytes\",\"data\":\"AAAA4DPpDMAAAAAA5cohwA==\"},\"shape\":[2],\"dtype\":\"float64\",\"order\":\"little\"}],[22,{\"type\":\"ndarray\",\"array\":{\"type\":\"bytes\",\"data\":\"AAAA4D40AUAAAAAgsOYfwA==\"},\"shape\":[2],\"dtype\":\"float64\",\"order\":\"little\"}],[23,{\"type\":\"ndarray\",\"array\":{\"type\":\"bytes\",\"data\":\"AAAA4FCHH8AAAADAK4ESwA==\"},\"shape\":[2],\"dtype\":\"float64\",\"order\":\"little\"}],[24,{\"type\":\"ndarray\",\"array\":{\"type\":\"bytes\",\"data\":\"AAAAIH9sIkAAAAAAdzrEPw==\"},\"shape\":[2],\"dtype\":\"float64\",\"order\":\"little\"}],[25,{\"type\":\"ndarray\",\"array\":{\"type\":\"bytes\",\"data\":\"AAAAQI6dBcAAAADAQXkiwA==\"},\"shape\":[2],\"dtype\":\"float64\",\"order\":\"little\"}],[26,{\"type\":\"ndarray\",\"array\":{\"type\":\"bytes\",\"data\":\"AAAAAMXBH8AAAADgNgwRQA==\"},\"shape\":[2],\"dtype\":\"float64\",\"order\":\"little\"}],[27,{\"type\":\"ndarray\",\"array\":{\"type\":\"bytes\",\"data\":\"AAAAIA/2HkAAAABgZ0IMwA==\"},\"shape\":[2],\"dtype\":\"float64\",\"order\":\"little\"}],[28,{\"type\":\"ndarray\",\"array\":{\"type\":\"bytes\",\"data\":\"AAAA4M8oGEAAAAAA7k4dQA==\"},\"shape\":[2],\"dtype\":\"float64\",\"order\":\"little\"}],[29,{\"type\":\"ndarray\",\"array\":{\"type\":\"bytes\",\"data\":\"AAAAAFmsDsAAAABgWVUfwA==\"},\"shape\":[2],\"dtype\":\"float64\",\"order\":\"little\"}],[30,{\"type\":\"ndarray\",\"array\":{\"type\":\"bytes\",\"data\":\"AAAAQJOkI8AAAACgMLH8Pw==\"},\"shape\":[2],\"dtype\":\"float64\",\"order\":\"little\"}],[31,{\"type\":\"ndarray\",\"array\":{\"type\":\"bytes\",\"data\":\"AAAAwM3lHEAAAADg7AQdwA==\"},\"shape\":[2],\"dtype\":\"float64\",\"order\":\"little\"}],[32,{\"type\":\"ndarray\",\"array\":{\"type\":\"bytes\",\"data\":\"AAAAAMPLI8AAAACgcIfxvw==\"},\"shape\":[2],\"dtype\":\"float64\",\"order\":\"little\"}],[33,{\"type\":\"ndarray\",\"array\":{\"type\":\"bytes\",\"data\":\"AAAAgGxbI8AAAAAgn5wCQA==\"},\"shape\":[2],\"dtype\":\"float64\",\"order\":\"little\"}],[34,{\"type\":\"ndarray\",\"array\":{\"type\":\"bytes\",\"data\":\"AAAAQC8zsT8AAAAgtCL8vw==\"},\"shape\":[2],\"dtype\":\"float64\",\"order\":\"little\"}],[35,{\"type\":\"ndarray\",\"array\":{\"type\":\"bytes\",\"data\":\"AAAAQB0lFsAAAADAHxEeQA==\"},\"shape\":[2],\"dtype\":\"float64\",\"order\":\"little\"}],[36,{\"type\":\"ndarray\",\"array\":{\"type\":\"bytes\",\"data\":\"AAAAIDXkAUAAAACgWGD6vw==\"},\"shape\":[2],\"dtype\":\"float64\",\"order\":\"little\"}],[37,{\"type\":\"ndarray\",\"array\":{\"type\":\"bytes\",\"data\":\"AAAA4KpnG8AAAABASJMQQA==\"},\"shape\":[2],\"dtype\":\"float64\",\"order\":\"little\"}],[38,{\"type\":\"ndarray\",\"array\":{\"type\":\"bytes\",\"data\":\"AAAAoEdUFsAAAAAAWvwWQA==\"},\"shape\":[2],\"dtype\":\"float64\",\"order\":\"little\"}],[39,{\"type\":\"ndarray\",\"array\":{\"type\":\"bytes\",\"data\":\"AAAAYOaxIMAAAADA4yoYwA==\"},\"shape\":[2],\"dtype\":\"float64\",\"order\":\"little\"}],[40,{\"type\":\"ndarray\",\"array\":{\"type\":\"bytes\",\"data\":\"AAAAoHdzIsAAAADgJpq1Pw==\"},\"shape\":[2],\"dtype\":\"float64\",\"order\":\"little\"}],[41,{\"type\":\"ndarray\",\"array\":{\"type\":\"bytes\",\"data\":\"AAAAoLCgIMAAAAAApWAKQA==\"},\"shape\":[2],\"dtype\":\"float64\",\"order\":\"little\"}],[42,{\"type\":\"ndarray\",\"array\":{\"type\":\"bytes\",\"data\":\"AAAAoF8uI8AAAADAfc/sPw==\"},\"shape\":[2],\"dtype\":\"float64\",\"order\":\"little\"}],[43,{\"type\":\"ndarray\",\"array\":{\"type\":\"bytes\",\"data\":\"AAAAgHSRFkAAAACgghv4vw==\"},\"shape\":[2],\"dtype\":\"float64\",\"order\":\"little\"}],[44,{\"type\":\"ndarray\",\"array\":{\"type\":\"bytes\",\"data\":\"AAAA4Ig7BkAAAADA+tESwA==\"},\"shape\":[2],\"dtype\":\"float64\",\"order\":\"little\"}],[45,{\"type\":\"ndarray\",\"array\":{\"type\":\"bytes\",\"data\":\"AAAAYHFQEsAAAAAgabgSQA==\"},\"shape\":[2],\"dtype\":\"float64\",\"order\":\"little\"}],[46,{\"type\":\"ndarray\",\"array\":{\"type\":\"bytes\",\"data\":\"AAAAYLfiFEAAAABgbcQcQA==\"},\"shape\":[2],\"dtype\":\"float64\",\"order\":\"little\"}],[47,{\"type\":\"ndarray\",\"array\":{\"type\":\"bytes\",\"data\":\"AAAAYK43IsAAAABgrIARQA==\"},\"shape\":[2],\"dtype\":\"float64\",\"order\":\"little\"}],[48,{\"type\":\"ndarray\",\"array\":{\"type\":\"bytes\",\"data\":\"AAAAYHxKFUAAAABAo4APwA==\"},\"shape\":[2],\"dtype\":\"float64\",\"order\":\"little\"}],[49,{\"type\":\"ndarray\",\"array\":{\"type\":\"bytes\",\"data\":\"AAAA4Cr5IMAAAACA8OUIwA==\"},\"shape\":[2],\"dtype\":\"float64\",\"order\":\"little\"}],[50,{\"type\":\"ndarray\",\"array\":{\"type\":\"bytes\",\"data\":\"AAAAAOiQHUAAAACgdCcYwA==\"},\"shape\":[2],\"dtype\":\"float64\",\"order\":\"little\"}],[51,{\"type\":\"ndarray\",\"array\":{\"type\":\"bytes\",\"data\":\"AAAAgMLJGEAAAACgwVwRwA==\"},\"shape\":[2],\"dtype\":\"float64\",\"order\":\"little\"}],[52,{\"type\":\"ndarray\",\"array\":{\"type\":\"bytes\",\"data\":\"AAAAAEKqB0AAAADgv2UUwA==\"},\"shape\":[2],\"dtype\":\"float64\",\"order\":\"little\"}],[53,{\"type\":\"ndarray\",\"array\":{\"type\":\"bytes\",\"data\":\"AAAAQNhP878AAACgzHPTPw==\"},\"shape\":[2],\"dtype\":\"float64\",\"order\":\"little\"}],[54,{\"type\":\"ndarray\",\"array\":{\"type\":\"bytes\",\"data\":\"AAAAgC7VGcAAAADgGgMVwA==\"},\"shape\":[2],\"dtype\":\"float64\",\"order\":\"little\"}],[55,{\"type\":\"ndarray\",\"array\":{\"type\":\"bytes\",\"data\":\"AAAAYA28+L8AAABgJ17pvw==\"},\"shape\":[2],\"dtype\":\"float64\",\"order\":\"little\"}],[56,{\"type\":\"ndarray\",\"array\":{\"type\":\"bytes\",\"data\":\"AAAAoIk8GkAAAABgWU0IwA==\"},\"shape\":[2],\"dtype\":\"float64\",\"order\":\"little\"}],[57,{\"type\":\"ndarray\",\"array\":{\"type\":\"bytes\",\"data\":\"AAAAoGC+HsAAAABgHZkKwA==\"},\"shape\":[2],\"dtype\":\"float64\",\"order\":\"little\"}],[58,{\"type\":\"ndarray\",\"array\":{\"type\":\"bytes\",\"data\":\"AAAAwL8PIUAAAAAg4h3TPw==\"},\"shape\":[2],\"dtype\":\"float64\",\"order\":\"little\"}],[59,{\"type\":\"ndarray\",\"array\":{\"type\":\"bytes\",\"data\":\"AAAAQCMTHEAAAADA3YMYQA==\"},\"shape\":[2],\"dtype\":\"float64\",\"order\":\"little\"}],[60,{\"type\":\"ndarray\",\"array\":{\"type\":\"bytes\",\"data\":\"AAAAgAzlHcAAAABgq8obwA==\"},\"shape\":[2],\"dtype\":\"float64\",\"order\":\"little\"}],[61,{\"type\":\"ndarray\",\"array\":{\"type\":\"bytes\",\"data\":\"AAAAgGvjD0AAAABAxV0gQA==\"},\"shape\":[2],\"dtype\":\"float64\",\"order\":\"little\"}],[62,{\"type\":\"ndarray\",\"array\":{\"type\":\"bytes\",\"data\":\"AAAAQBvaEMAAAABAGCzzPw==\"},\"shape\":[2],\"dtype\":\"float64\",\"order\":\"little\"}],[63,{\"type\":\"ndarray\",\"array\":{\"type\":\"bytes\",\"data\":\"AAAAAKU7GEAAAABgk8sbQA==\"},\"shape\":[2],\"dtype\":\"float64\",\"order\":\"little\"}],[64,{\"type\":\"ndarray\",\"array\":{\"type\":\"bytes\",\"data\":\"AAAAIELACsAAAACA5rX7vw==\"},\"shape\":[2],\"dtype\":\"float64\",\"order\":\"little\"}],[65,{\"type\":\"ndarray\",\"array\":{\"type\":\"bytes\",\"data\":\"AAAAgD3lAkAAAACAhJsgQA==\"},\"shape\":[2],\"dtype\":\"float64\",\"order\":\"little\"}],[66,{\"type\":\"ndarray\",\"array\":{\"type\":\"bytes\",\"data\":\"AAAAQO7gIcAAAADgCD76Pw==\"},\"shape\":[2],\"dtype\":\"float64\",\"order\":\"little\"}],[67,{\"type\":\"ndarray\",\"array\":{\"type\":\"bytes\",\"data\":\"AAAAwBrtIcAAAACgZsTsvw==\"},\"shape\":[2],\"dtype\":\"float64\",\"order\":\"little\"}],[68,{\"type\":\"ndarray\",\"array\":{\"type\":\"bytes\",\"data\":\"AAAAgCYs8r8AAAAARvwRwA==\"},\"shape\":[2],\"dtype\":\"float64\",\"order\":\"little\"}],[69,{\"type\":\"ndarray\",\"array\":{\"type\":\"bytes\",\"data\":\"AAAAAIfdBkAAAABgyj8aQA==\"},\"shape\":[2],\"dtype\":\"float64\",\"order\":\"little\"}],[70,{\"type\":\"ndarray\",\"array\":{\"type\":\"bytes\",\"data\":\"AAAAYM24EEAAAACARpshQA==\"},\"shape\":[2],\"dtype\":\"float64\",\"order\":\"little\"}],[71,{\"type\":\"ndarray\",\"array\":{\"type\":\"bytes\",\"data\":\"AAAAoGdgHkAAAACgDDoOwA==\"},\"shape\":[2],\"dtype\":\"float64\",\"order\":\"little\"}],[72,{\"type\":\"ndarray\",\"array\":{\"type\":\"bytes\",\"data\":\"AAAAYE7rFMAAAADg6xMgwA==\"},\"shape\":[2],\"dtype\":\"float64\",\"order\":\"little\"}],[73,{\"type\":\"ndarray\",\"array\":{\"type\":\"bytes\",\"data\":\"AAAAoG4ZA8AAAADg/QAiQA==\"},\"shape\":[2],\"dtype\":\"float64\",\"order\":\"little\"}],[74,{\"type\":\"ndarray\",\"array\":{\"type\":\"bytes\",\"data\":\"AAAAYN+/IMAAAABgx5UXQA==\"},\"shape\":[2],\"dtype\":\"float64\",\"order\":\"little\"}],[75,{\"type\":\"ndarray\",\"array\":{\"type\":\"bytes\",\"data\":\"AAAAoFvCIsAAAACAPrQEQA==\"},\"shape\":[2],\"dtype\":\"float64\",\"order\":\"little\"}],[76,{\"type\":\"ndarray\",\"array\":{\"type\":\"bytes\",\"data\":\"AAAA4AwgCUAAAAAg5y4RQA==\"},\"shape\":[2],\"dtype\":\"float64\",\"order\":\"little\"}],[77,{\"type\":\"ndarray\",\"array\":{\"type\":\"bytes\",\"data\":\"AAAAIC7YD0AAAACgiRIiQA==\"},\"shape\":[2],\"dtype\":\"float64\",\"order\":\"little\"}],[78,{\"type\":\"ndarray\",\"array\":{\"type\":\"bytes\",\"data\":\"AAAAAFoUIMAAAAAAU3bYPw==\"},\"shape\":[2],\"dtype\":\"float64\",\"order\":\"little\"}],[79,{\"type\":\"ndarray\",\"array\":{\"type\":\"bytes\",\"data\":\"AAAAgFHLG8AAAAAgJxsaQA==\"},\"shape\":[2],\"dtype\":\"float64\",\"order\":\"little\"}],[80,{\"type\":\"ndarray\",\"array\":{\"type\":\"bytes\",\"data\":\"AAAAIFsnIMAAAACAC3cbQA==\"},\"shape\":[2],\"dtype\":\"float64\",\"order\":\"little\"}],[81,{\"type\":\"ndarray\",\"array\":{\"type\":\"bytes\",\"data\":\"AAAAYK8azD8AAABASTUBQA==\"},\"shape\":[2],\"dtype\":\"float64\",\"order\":\"little\"}],[82,{\"type\":\"ndarray\",\"array\":{\"type\":\"bytes\",\"data\":\"AAAAwBP/GMAAAADgI84eQA==\"},\"shape\":[2],\"dtype\":\"float64\",\"order\":\"little\"}],[83,{\"type\":\"ndarray\",\"array\":{\"type\":\"bytes\",\"data\":\"AAAA4IhnBkAAAACgWmMfQA==\"},\"shape\":[2],\"dtype\":\"float64\",\"order\":\"little\"}],[84,{\"type\":\"ndarray\",\"array\":{\"type\":\"bytes\",\"data\":\"AAAA4E+JEcAAAAAAtiQhQA==\"},\"shape\":[2],\"dtype\":\"float64\",\"order\":\"little\"}],[85,{\"type\":\"ndarray\",\"array\":{\"type\":\"bytes\",\"data\":\"AAAAQPPO4L8AAACAHaocQA==\"},\"shape\":[2],\"dtype\":\"float64\",\"order\":\"little\"}],[86,{\"type\":\"ndarray\",\"array\":{\"type\":\"bytes\",\"data\":\"AAAAIE2FCcAAAABg59YRwA==\"},\"shape\":[2],\"dtype\":\"float64\",\"order\":\"little\"}],[87,{\"type\":\"ndarray\",\"array\":{\"type\":\"bytes\",\"data\":\"AAAAIK/uA0AAAADAFZAXwA==\"},\"shape\":[2],\"dtype\":\"float64\",\"order\":\"little\"}],[88,{\"type\":\"ndarray\",\"array\":{\"type\":\"bytes\",\"data\":\"AAAA4CLJ8D8AAAAAiz0hwA==\"},\"shape\":[2],\"dtype\":\"float64\",\"order\":\"little\"}],[89,{\"type\":\"ndarray\",\"array\":{\"type\":\"bytes\",\"data\":\"AAAAoEL4BMAAAABgA0MBwA==\"},\"shape\":[2],\"dtype\":\"float64\",\"order\":\"little\"}],[90,{\"type\":\"ndarray\",\"array\":{\"type\":\"bytes\",\"data\":\"AAAAgA1zG0AAAAAgMm0YwA==\"},\"shape\":[2],\"dtype\":\"float64\",\"order\":\"little\"}],[91,{\"type\":\"ndarray\",\"array\":{\"type\":\"bytes\",\"data\":\"AAAAAPYM+T8AAABg3ocDQA==\"},\"shape\":[2],\"dtype\":\"float64\",\"order\":\"little\"}],[92,{\"type\":\"ndarray\",\"array\":{\"type\":\"bytes\",\"data\":\"AAAAwB3Z/j8AAACgjIkgQA==\"},\"shape\":[2],\"dtype\":\"float64\",\"order\":\"little\"}],[93,{\"type\":\"ndarray\",\"array\":{\"type\":\"bytes\",\"data\":\"AAAAwLlMHMAAAADgeogHQA==\"},\"shape\":[2],\"dtype\":\"float64\",\"order\":\"little\"}],[94,{\"type\":\"ndarray\",\"array\":{\"type\":\"bytes\",\"data\":\"AAAAAKzIEMAAAABA4hAgwA==\"},\"shape\":[2],\"dtype\":\"float64\",\"order\":\"little\"}],[95,{\"type\":\"ndarray\",\"array\":{\"type\":\"bytes\",\"data\":\"AAAAwAGpB0AAAACAYjcgwA==\"},\"shape\":[2],\"dtype\":\"float64\",\"order\":\"little\"}],[96,{\"type\":\"ndarray\",\"array\":{\"type\":\"bytes\",\"data\":\"AAAAYEJtF0AAAACA9gAZwA==\"},\"shape\":[2],\"dtype\":\"float64\",\"order\":\"little\"}],[97,{\"type\":\"ndarray\",\"array\":{\"type\":\"bytes\",\"data\":\"AAAAoO1/8r8AAAAgiWr8vw==\"},\"shape\":[2],\"dtype\":\"float64\",\"order\":\"little\"}],[98,{\"type\":\"ndarray\",\"array\":{\"type\":\"bytes\",\"data\":\"AAAAYCedAsAAAACgyQsSwA==\"},\"shape\":[2],\"dtype\":\"float64\",\"order\":\"little\"}],[99,{\"type\":\"ndarray\",\"array\":{\"type\":\"bytes\",\"data\":\"AAAAQMu2D0AAAABg5W0gwA==\"},\"shape\":[2],\"dtype\":\"float64\",\"order\":\"little\"}],[100,{\"type\":\"ndarray\",\"array\":{\"type\":\"bytes\",\"data\":\"AAAAYGD0H8AAAABAln0LQA==\"},\"shape\":[2],\"dtype\":\"float64\",\"order\":\"little\"}],[101,{\"type\":\"ndarray\",\"array\":{\"type\":\"bytes\",\"data\":\"AAAAIHNdIEAAAADA/TXpPw==\"},\"shape\":[2],\"dtype\":\"float64\",\"order\":\"little\"}],[102,{\"type\":\"ndarray\",\"array\":{\"type\":\"bytes\",\"data\":\"AAAAYEloFkAAAADAct4dQA==\"},\"shape\":[2],\"dtype\":\"float64\",\"order\":\"little\"}],[103,{\"type\":\"ndarray\",\"array\":{\"type\":\"bytes\",\"data\":\"AAAAYA0wD0AAAABAV3AhwA==\"},\"shape\":[2],\"dtype\":\"float64\",\"order\":\"little\"}],[104,{\"type\":\"ndarray\",\"array\":{\"type\":\"bytes\",\"data\":\"AAAAgAMh9D8AAACgdNsdQA==\"},\"shape\":[2],\"dtype\":\"float64\",\"order\":\"little\"}],[105,{\"type\":\"ndarray\",\"array\":{\"type\":\"bytes\",\"data\":\"AAAAQJFWI0AAAAAgjUP2Pw==\"},\"shape\":[2],\"dtype\":\"float64\",\"order\":\"little\"}],[106,{\"type\":\"ndarray\",\"array\":{\"type\":\"bytes\",\"data\":\"AAAAICsP9z8AAABgpGEiQA==\"},\"shape\":[2],\"dtype\":\"float64\",\"order\":\"little\"}],[107,{\"type\":\"ndarray\",\"array\":{\"type\":\"bytes\",\"data\":\"AAAAYExS7L8AAAAgqWcjwA==\"},\"shape\":[2],\"dtype\":\"float64\",\"order\":\"little\"}],[108,{\"type\":\"ndarray\",\"array\":{\"type\":\"bytes\",\"data\":\"AAAAwMtiHMAAAADAr2vfvw==\"},\"shape\":[2],\"dtype\":\"float64\",\"order\":\"little\"}],[109,{\"type\":\"ndarray\",\"array\":{\"type\":\"bytes\",\"data\":\"AAAA4GgxBUAAAAAgl/ciQA==\"},\"shape\":[2],\"dtype\":\"float64\",\"order\":\"little\"}],[110,{\"type\":\"ndarray\",\"array\":{\"type\":\"bytes\",\"data\":\"AAAAIIJEAEAAAACAPyP3vw==\"},\"shape\":[2],\"dtype\":\"float64\",\"order\":\"little\"}],[111,{\"type\":\"ndarray\",\"array\":{\"type\":\"bytes\",\"data\":\"AAAAQJtM878AAAAgwyj7vw==\"},\"shape\":[2],\"dtype\":\"float64\",\"order\":\"little\"}],[112,{\"type\":\"ndarray\",\"array\":{\"type\":\"bytes\",\"data\":\"AAAAgNIX8r8AAACgTQIhwA==\"},\"shape\":[2],\"dtype\":\"float64\",\"order\":\"little\"}],[113,{\"type\":\"ndarray\",\"array\":{\"type\":\"bytes\",\"data\":\"AAAAQOi3IMAAAACAsrwTQA==\"},\"shape\":[2],\"dtype\":\"float64\",\"order\":\"little\"}],[114,{\"type\":\"ndarray\",\"array\":{\"type\":\"bytes\",\"data\":\"AAAAgDS2GcAAAAAAgb4XwA==\"},\"shape\":[2],\"dtype\":\"float64\",\"order\":\"little\"}],[115,{\"type\":\"ndarray\",\"array\":{\"type\":\"bytes\",\"data\":\"AAAAwJnnGkAAAACgoLEVQA==\"},\"shape\":[2],\"dtype\":\"float64\",\"order\":\"little\"}],[116,{\"type\":\"ndarray\",\"array\":{\"type\":\"bytes\",\"data\":\"AAAAgI52GMAAAACgxn4UwA==\"},\"shape\":[2],\"dtype\":\"float64\",\"order\":\"little\"}],[117,{\"type\":\"ndarray\",\"array\":{\"type\":\"bytes\",\"data\":\"AAAA4DpBI8AAAAAgXGgJQA==\"},\"shape\":[2],\"dtype\":\"float64\",\"order\":\"little\"}],[118,{\"type\":\"ndarray\",\"array\":{\"type\":\"bytes\",\"data\":\"AAAAwE/cyr8AAABAt5AiwA==\"},\"shape\":[2],\"dtype\":\"float64\",\"order\":\"little\"}],[119,{\"type\":\"ndarray\",\"array\":{\"type\":\"bytes\",\"data\":\"AAAAINDhHcAAAACgQxUUwA==\"},\"shape\":[2],\"dtype\":\"float64\",\"order\":\"little\"}],[120,{\"type\":\"ndarray\",\"array\":{\"type\":\"bytes\",\"data\":\"AAAAwFb2D8AAAAAAISYiQA==\"},\"shape\":[2],\"dtype\":\"float64\",\"order\":\"little\"}],[121,{\"type\":\"ndarray\",\"array\":{\"type\":\"bytes\",\"data\":\"AAAAAL3UBkAAAACA/hQcQA==\"},\"shape\":[2],\"dtype\":\"float64\",\"order\":\"little\"}],[122,{\"type\":\"ndarray\",\"array\":{\"type\":\"bytes\",\"data\":\"AAAAIPns8L8AAAAA66r6vw==\"},\"shape\":[2],\"dtype\":\"float64\",\"order\":\"little\"}],[123,{\"type\":\"ndarray\",\"array\":{\"type\":\"bytes\",\"data\":\"AAAA4As+IcAAAABgKVEUwA==\"},\"shape\":[2],\"dtype\":\"float64\",\"order\":\"little\"}],[124,{\"type\":\"ndarray\",\"array\":{\"type\":\"bytes\",\"data\":\"AAAAIM3TBMAAAABAkFoXQA==\"},\"shape\":[2],\"dtype\":\"float64\",\"order\":\"little\"}],[125,{\"type\":\"ndarray\",\"array\":{\"type\":\"bytes\",\"data\":\"AAAAQOkFIcAAAACAB30HQA==\"},\"shape\":[2],\"dtype\":\"float64\",\"order\":\"little\"}],[126,{\"type\":\"ndarray\",\"array\":{\"type\":\"bytes\",\"data\":\"AAAA4CV8F0AAAACASDQfQA==\"},\"shape\":[2],\"dtype\":\"float64\",\"order\":\"little\"}],[127,{\"type\":\"ndarray\",\"array\":{\"type\":\"bytes\",\"data\":\"AAAA4IGS/78AAAAAzOIgwA==\"},\"shape\":[2],\"dtype\":\"float64\",\"order\":\"little\"}],[128,{\"type\":\"ndarray\",\"array\":{\"type\":\"bytes\",\"data\":\"AAAAABDA8T8AAABANnIcQA==\"},\"shape\":[2],\"dtype\":\"float64\",\"order\":\"little\"}],[129,{\"type\":\"ndarray\",\"array\":{\"type\":\"bytes\",\"data\":\"AAAAQMdPG0AAAABAkZTePw==\"},\"shape\":[2],\"dtype\":\"float64\",\"order\":\"little\"}],[130,{\"type\":\"ndarray\",\"array\":{\"type\":\"bytes\",\"data\":\"AAAAYFfVIcAAAADAAnTHvw==\"},\"shape\":[2],\"dtype\":\"float64\",\"order\":\"little\"}],[131,{\"type\":\"ndarray\",\"array\":{\"type\":\"bytes\",\"data\":\"AAAAwNg0DMAAAADA7k4gwA==\"},\"shape\":[2],\"dtype\":\"float64\",\"order\":\"little\"}],[132,{\"type\":\"ndarray\",\"array\":{\"type\":\"bytes\",\"data\":\"AAAAIDMLGUAAAAAg/1ofwA==\"},\"shape\":[2],\"dtype\":\"float64\",\"order\":\"little\"}],[133,{\"type\":\"ndarray\",\"array\":{\"type\":\"bytes\",\"data\":\"AAAAwA4gD8AAAAAg0xghwA==\"},\"shape\":[2],\"dtype\":\"float64\",\"order\":\"little\"}],[134,{\"type\":\"ndarray\",\"array\":{\"type\":\"bytes\",\"data\":\"AAAA4DJ6FEAAAABg4+4TwA==\"},\"shape\":[2],\"dtype\":\"float64\",\"order\":\"little\"}],[135,{\"type\":\"ndarray\",\"array\":{\"type\":\"bytes\",\"data\":\"AAAAQDxoDUAAAACgns0TQA==\"},\"shape\":[2],\"dtype\":\"float64\",\"order\":\"little\"}],[136,{\"type\":\"ndarray\",\"array\":{\"type\":\"bytes\",\"data\":\"AAAAwKjDC8AAAADAfeYWwA==\"},\"shape\":[2],\"dtype\":\"float64\",\"order\":\"little\"}],[137,{\"type\":\"ndarray\",\"array\":{\"type\":\"bytes\",\"data\":\"AAAAwGlMDEAAAADg690cwA==\"},\"shape\":[2],\"dtype\":\"float64\",\"order\":\"little\"}],[138,{\"type\":\"ndarray\",\"array\":{\"type\":\"bytes\",\"data\":\"AAAAwESMCcAAAADA1oAgQA==\"},\"shape\":[2],\"dtype\":\"float64\",\"order\":\"little\"}],[139,{\"type\":\"ndarray\",\"array\":{\"type\":\"bytes\",\"data\":\"AAAAYB6eGEAAAAAAzqH6vw==\"},\"shape\":[2],\"dtype\":\"float64\",\"order\":\"little\"}],[140,{\"type\":\"ndarray\",\"array\":{\"type\":\"bytes\",\"data\":\"AAAA4A2nsr8AAAAgWD8hwA==\"},\"shape\":[2],\"dtype\":\"float64\",\"order\":\"little\"}],[141,{\"type\":\"ndarray\",\"array\":{\"type\":\"bytes\",\"data\":\"AAAAYKMpCUAAAACgesAhQA==\"},\"shape\":[2],\"dtype\":\"float64\",\"order\":\"little\"}],[142,{\"type\":\"ndarray\",\"array\":{\"type\":\"bytes\",\"data\":\"AAAAoGbOCMAAAAAAqZQAQA==\"},\"shape\":[2],\"dtype\":\"float64\",\"order\":\"little\"}],[143,{\"type\":\"ndarray\",\"array\":{\"type\":\"bytes\",\"data\":\"AAAAoOj8IEAAAAAAUo0JwA==\"},\"shape\":[2],\"dtype\":\"float64\",\"order\":\"little\"}],[144,{\"type\":\"ndarray\",\"array\":{\"type\":\"bytes\",\"data\":\"AAAAgGHHIUAAAABgeWoSQA==\"},\"shape\":[2],\"dtype\":\"float64\",\"order\":\"little\"}],[145,{\"type\":\"ndarray\",\"array\":{\"type\":\"bytes\",\"data\":\"AAAA4Bfb8D8AAACgvLAjQA==\"},\"shape\":[2],\"dtype\":\"float64\",\"order\":\"little\"}],[146,{\"type\":\"ndarray\",\"array\":{\"type\":\"bytes\",\"data\":\"AAAAoDRWIkAAAADgOiAAQA==\"},\"shape\":[2],\"dtype\":\"float64\",\"order\":\"little\"}],[147,{\"type\":\"ndarray\",\"array\":{\"type\":\"bytes\",\"data\":\"AAAAoEAfFsAAAABgewsVQA==\"},\"shape\":[2],\"dtype\":\"float64\",\"order\":\"little\"}],[148,{\"type\":\"ndarray\",\"array\":{\"type\":\"bytes\",\"data\":\"AAAAAAAAJMAAAABAFSbpPw==\"},\"shape\":[2],\"dtype\":\"float64\",\"order\":\"little\"}],[149,{\"type\":\"ndarray\",\"array\":{\"type\":\"bytes\",\"data\":\"AAAAwIm8CsAAAAAg+nAdwA==\"},\"shape\":[2],\"dtype\":\"float64\",\"order\":\"little\"}],[150,{\"type\":\"ndarray\",\"array\":{\"type\":\"bytes\",\"data\":\"AAAAwCXAGUAAAADgPnf0Pw==\"},\"shape\":[2],\"dtype\":\"float64\",\"order\":\"little\"}],[151,{\"type\":\"ndarray\",\"array\":{\"type\":\"bytes\",\"data\":\"AAAAoOeg5T8AAACArT8jwA==\"},\"shape\":[2],\"dtype\":\"float64\",\"order\":\"little\"}],[152,{\"type\":\"ndarray\",\"array\":{\"type\":\"bytes\",\"data\":\"AAAAAOSlIsAAAADgD08PQA==\"},\"shape\":[2],\"dtype\":\"float64\",\"order\":\"little\"}],[153,{\"type\":\"ndarray\",\"array\":{\"type\":\"bytes\",\"data\":\"AAAA4FAK5z8AAAAg/gb6Pw==\"},\"shape\":[2],\"dtype\":\"float64\",\"order\":\"little\"}],[154,{\"type\":\"ndarray\",\"array\":{\"type\":\"bytes\",\"data\":\"AAAAoKe5FkAAAAAgbxEUQA==\"},\"shape\":[2],\"dtype\":\"float64\",\"order\":\"little\"}],[155,{\"type\":\"ndarray\",\"array\":{\"type\":\"bytes\",\"data\":\"AAAAIBPyzL8AAACgxascQA==\"},\"shape\":[2],\"dtype\":\"float64\",\"order\":\"little\"}],[156,{\"type\":\"ndarray\",\"array\":{\"type\":\"bytes\",\"data\":\"AAAAQOV45z8AAADg37sQwA==\"},\"shape\":[2],\"dtype\":\"float64\",\"order\":\"little\"}],[157,{\"type\":\"ndarray\",\"array\":{\"type\":\"bytes\",\"data\":\"AAAAQJ+uA0AAAABAkr4TQA==\"},\"shape\":[2],\"dtype\":\"float64\",\"order\":\"little\"}],[158,{\"type\":\"ndarray\",\"array\":{\"type\":\"bytes\",\"data\":\"AAAAwHbzA8AAAADAW4wgwA==\"},\"shape\":[2],\"dtype\":\"float64\",\"order\":\"little\"}],[159,{\"type\":\"ndarray\",\"array\":{\"type\":\"bytes\",\"data\":\"AAAAIG+KDMAAAABA+3vzPw==\"},\"shape\":[2],\"dtype\":\"float64\",\"order\":\"little\"}],[160,{\"type\":\"ndarray\",\"array\":{\"type\":\"bytes\",\"data\":\"AAAAoOKiIsAAAABAylwCQA==\"},\"shape\":[2],\"dtype\":\"float64\",\"order\":\"little\"}],[161,{\"type\":\"ndarray\",\"array\":{\"type\":\"bytes\",\"data\":\"AAAAABy1HkAAAABgbPgVwA==\"},\"shape\":[2],\"dtype\":\"float64\",\"order\":\"little\"}],[162,{\"type\":\"ndarray\",\"array\":{\"type\":\"bytes\",\"data\":\"AAAA4Eo25r8AAADAAWjWPw==\"},\"shape\":[2],\"dtype\":\"float64\",\"order\":\"little\"}],[163,{\"type\":\"ndarray\",\"array\":{\"type\":\"bytes\",\"data\":\"AAAAAFG4FEAAAACgqUkdQA==\"},\"shape\":[2],\"dtype\":\"float64\",\"order\":\"little\"}],[164,{\"type\":\"ndarray\",\"array\":{\"type\":\"bytes\",\"data\":\"AAAAoKxwGsAAAAAA/b8dwA==\"},\"shape\":[2],\"dtype\":\"float64\",\"order\":\"little\"}],[165,{\"type\":\"ndarray\",\"array\":{\"type\":\"bytes\",\"data\":\"AAAAoGHm+z8AAAAgjWEiwA==\"},\"shape\":[2],\"dtype\":\"float64\",\"order\":\"little\"}],[166,{\"type\":\"ndarray\",\"array\":{\"type\":\"bytes\",\"data\":\"AAAAwOm2/j8AAADAVCoLwA==\"},\"shape\":[2],\"dtype\":\"float64\",\"order\":\"little\"}],[167,{\"type\":\"ndarray\",\"array\":{\"type\":\"bytes\",\"data\":\"AAAAAH669T8AAADAgdUeQA==\"},\"shape\":[2],\"dtype\":\"float64\",\"order\":\"little\"}],[168,{\"type\":\"ndarray\",\"array\":{\"type\":\"bytes\",\"data\":\"AAAA4H3nIkAAAAAgtOn/vw==\"},\"shape\":[2],\"dtype\":\"float64\",\"order\":\"little\"}],[169,{\"type\":\"ndarray\",\"array\":{\"type\":\"bytes\",\"data\":\"AAAAoD/DIsAAAADA9rf4Pw==\"},\"shape\":[2],\"dtype\":\"float64\",\"order\":\"little\"}],[170,{\"type\":\"ndarray\",\"array\":{\"type\":\"bytes\",\"data\":\"AAAAgFyr/b8AAAAAgykXQA==\"},\"shape\":[2],\"dtype\":\"float64\",\"order\":\"little\"}],[171,{\"type\":\"ndarray\",\"array\":{\"type\":\"bytes\",\"data\":\"AAAAoOE5EcAAAABAfHogwA==\"},\"shape\":[2],\"dtype\":\"float64\",\"order\":\"little\"}],[172,{\"type\":\"ndarray\",\"array\":{\"type\":\"bytes\",\"data\":\"AAAAYMO0IMAAAAAghvAWwA==\"},\"shape\":[2],\"dtype\":\"float64\",\"order\":\"little\"}],[173,{\"type\":\"ndarray\",\"array\":{\"type\":\"bytes\",\"data\":\"AAAAwBvREsAAAABA01cgQA==\"},\"shape\":[2],\"dtype\":\"float64\",\"order\":\"little\"}],[174,{\"type\":\"ndarray\",\"array\":{\"type\":\"bytes\",\"data\":\"AAAAgFsbIEAAAACAoisUQA==\"},\"shape\":[2],\"dtype\":\"float64\",\"order\":\"little\"}],[175,{\"type\":\"ndarray\",\"array\":{\"type\":\"bytes\",\"data\":\"AAAAQKck8D8AAACg4awgwA==\"},\"shape\":[2],\"dtype\":\"float64\",\"order\":\"little\"}],[176,{\"type\":\"ndarray\",\"array\":{\"type\":\"bytes\",\"data\":\"AAAAgEiA9b8AAADgrWIcwA==\"},\"shape\":[2],\"dtype\":\"float64\",\"order\":\"little\"}],[177,{\"type\":\"ndarray\",\"array\":{\"type\":\"bytes\",\"data\":\"AAAAIFd6F0AAAACA77QMQA==\"},\"shape\":[2],\"dtype\":\"float64\",\"order\":\"little\"}],[178,{\"type\":\"ndarray\",\"array\":{\"type\":\"bytes\",\"data\":\"AAAAYA0hAkAAAAAguJIiQA==\"},\"shape\":[2],\"dtype\":\"float64\",\"order\":\"little\"}],[179,{\"type\":\"ndarray\",\"array\":{\"type\":\"bytes\",\"data\":\"AAAAwBqhFUAAAAAA7IQgwA==\"},\"shape\":[2],\"dtype\":\"float64\",\"order\":\"little\"}],[180,{\"type\":\"ndarray\",\"array\":{\"type\":\"bytes\",\"data\":\"AAAAgK+2IEAAAACA+3fkPw==\"},\"shape\":[2],\"dtype\":\"float64\",\"order\":\"little\"}],[181,{\"type\":\"ndarray\",\"array\":{\"type\":\"bytes\",\"data\":\"AAAAwIgRI0AAAACAkMDlvw==\"},\"shape\":[2],\"dtype\":\"float64\",\"order\":\"little\"}],[182,{\"type\":\"ndarray\",\"array\":{\"type\":\"bytes\",\"data\":\"AAAAwMFWIsAAAABg35wFwA==\"},\"shape\":[2],\"dtype\":\"float64\",\"order\":\"little\"}],[183,{\"type\":\"ndarray\",\"array\":{\"type\":\"bytes\",\"data\":\"AAAA4IAEBcAAAABAFeAgQA==\"},\"shape\":[2],\"dtype\":\"float64\",\"order\":\"little\"}],[184,{\"type\":\"ndarray\",\"array\":{\"type\":\"bytes\",\"data\":\"AAAAIHJTGsAAAADgQtgaQA==\"},\"shape\":[2],\"dtype\":\"float64\",\"order\":\"little\"}],[185,{\"type\":\"ndarray\",\"array\":{\"type\":\"bytes\",\"data\":\"AAAAQA1Y0z8AAACg4bIiwA==\"},\"shape\":[2],\"dtype\":\"float64\",\"order\":\"little\"}],[186,{\"type\":\"ndarray\",\"array\":{\"type\":\"bytes\",\"data\":\"AAAAID1YG0AAAACg6ub3vw==\"},\"shape\":[2],\"dtype\":\"float64\",\"order\":\"little\"}],[187,{\"type\":\"ndarray\",\"array\":{\"type\":\"bytes\",\"data\":\"AAAAYN2FIMAAAACAHekRwA==\"},\"shape\":[2],\"dtype\":\"float64\",\"order\":\"little\"}],[188,{\"type\":\"ndarray\",\"array\":{\"type\":\"bytes\",\"data\":\"AAAAoKOVHsAAAACgwsccQA==\"},\"shape\":[2],\"dtype\":\"float64\",\"order\":\"little\"}],[189,{\"type\":\"ndarray\",\"array\":{\"type\":\"bytes\",\"data\":\"AAAAIC1VIkAAAADAVeoMQA==\"},\"shape\":[2],\"dtype\":\"float64\",\"order\":\"little\"}],[190,{\"type\":\"ndarray\",\"array\":{\"type\":\"bytes\",\"data\":\"AAAAwN+rBUAAAADgvRAiQA==\"},\"shape\":[2],\"dtype\":\"float64\",\"order\":\"little\"}],[191,{\"type\":\"ndarray\",\"array\":{\"type\":\"bytes\",\"data\":\"AAAAgOxOIcAAAADgfWgSQA==\"},\"shape\":[2],\"dtype\":\"float64\",\"order\":\"little\"}],[192,{\"type\":\"ndarray\",\"array\":{\"type\":\"bytes\",\"data\":\"AAAAYL6qHsAAAACAmpgawA==\"},\"shape\":[2],\"dtype\":\"float64\",\"order\":\"little\"}],[193,{\"type\":\"ndarray\",\"array\":{\"type\":\"bytes\",\"data\":\"AAAAgGjXHcAAAAAgluwZQA==\"},\"shape\":[2],\"dtype\":\"float64\",\"order\":\"little\"}],[194,{\"type\":\"ndarray\",\"array\":{\"type\":\"bytes\",\"data\":\"AAAAIEC7EcAAAAAAgiYhwA==\"},\"shape\":[2],\"dtype\":\"float64\",\"order\":\"little\"}],[195,{\"type\":\"ndarray\",\"array\":{\"type\":\"bytes\",\"data\":\"AAAAIKhwqT8AAADAPWn+vw==\"},\"shape\":[2],\"dtype\":\"float64\",\"order\":\"little\"}],[196,{\"type\":\"ndarray\",\"array\":{\"type\":\"bytes\",\"data\":\"AAAAYKG/AEAAAAAgSzchwA==\"},\"shape\":[2],\"dtype\":\"float64\",\"order\":\"little\"}],[197,{\"type\":\"ndarray\",\"array\":{\"type\":\"bytes\",\"data\":\"AAAAwDcUIsAAAAAgh135vw==\"},\"shape\":[2],\"dtype\":\"float64\",\"order\":\"little\"}],[198,{\"type\":\"ndarray\",\"array\":{\"type\":\"bytes\",\"data\":\"AAAA4DIiIcAAAACAO/kQQA==\"},\"shape\":[2],\"dtype\":\"float64\",\"order\":\"little\"}],[199,{\"type\":\"ndarray\",\"array\":{\"type\":\"bytes\",\"data\":\"AAAA4BS4EUAAAAAg5NIYwA==\"},\"shape\":[2],\"dtype\":\"float64\",\"order\":\"little\"}],[200,{\"type\":\"ndarray\",\"array\":{\"type\":\"bytes\",\"data\":\"AAAAoP64IkAAAABgIgwGQA==\"},\"shape\":[2],\"dtype\":\"float64\",\"order\":\"little\"}],[201,{\"type\":\"ndarray\",\"array\":{\"type\":\"bytes\",\"data\":\"AAAAAFb1F8AAAABAG0sNQA==\"},\"shape\":[2],\"dtype\":\"float64\",\"order\":\"little\"}],[202,{\"type\":\"ndarray\",\"array\":{\"type\":\"bytes\",\"data\":\"AAAAoFkFA8AAAADAaWgiwA==\"},\"shape\":[2],\"dtype\":\"float64\",\"order\":\"little\"}],[203,{\"type\":\"ndarray\",\"array\":{\"type\":\"bytes\",\"data\":\"AAAAwJ6AIEAAAAAgQnMXQA==\"},\"shape\":[2],\"dtype\":\"float64\",\"order\":\"little\"}],[204,{\"type\":\"ndarray\",\"array\":{\"type\":\"bytes\",\"data\":\"AAAAQO+wx78AAAAAccIiQA==\"},\"shape\":[2],\"dtype\":\"float64\",\"order\":\"little\"}],[205,{\"type\":\"ndarray\",\"array\":{\"type\":\"bytes\",\"data\":\"AAAAgOF1F0AAAAAAqLUUQA==\"},\"shape\":[2],\"dtype\":\"float64\",\"order\":\"little\"}],[206,{\"type\":\"ndarray\",\"array\":{\"type\":\"bytes\",\"data\":\"AAAAgOXn978AAAAAai8iwA==\"},\"shape\":[2],\"dtype\":\"float64\",\"order\":\"little\"}],[207,{\"type\":\"ndarray\",\"array\":{\"type\":\"bytes\",\"data\":\"AAAAQEvyFsAAAABAE2kYwA==\"},\"shape\":[2],\"dtype\":\"float64\",\"order\":\"little\"}],[208,{\"type\":\"ndarray\",\"array\":{\"type\":\"bytes\",\"data\":\"AAAA4PcaFUAAAACgl2QHQA==\"},\"shape\":[2],\"dtype\":\"float64\",\"order\":\"little\"}],[209,{\"type\":\"ndarray\",\"array\":{\"type\":\"bytes\",\"data\":\"AAAAYHklGsAAAAAgvOIIwA==\"},\"shape\":[2],\"dtype\":\"float64\",\"order\":\"little\"}],[210,{\"type\":\"ndarray\",\"array\":{\"type\":\"bytes\",\"data\":\"AAAAoIDv6T8AAAAg4NgZwA==\"},\"shape\":[2],\"dtype\":\"float64\",\"order\":\"little\"}],[211,{\"type\":\"ndarray\",\"array\":{\"type\":\"bytes\",\"data\":\"AAAAQFcrIUAAAABgFqzyPw==\"},\"shape\":[2],\"dtype\":\"float64\",\"order\":\"little\"}],[212,{\"type\":\"ndarray\",\"array\":{\"type\":\"bytes\",\"data\":\"AAAA4N9LF0AAAADgWGwewA==\"},\"shape\":[2],\"dtype\":\"float64\",\"order\":\"little\"}],[213,{\"type\":\"ndarray\",\"array\":{\"type\":\"bytes\",\"data\":\"AAAAoP7SI8AAAACA0p7aPw==\"},\"shape\":[2],\"dtype\":\"float64\",\"order\":\"little\"}],[214,{\"type\":\"ndarray\",\"array\":{\"type\":\"bytes\",\"data\":\"AAAAwIQqIkAAAADA2l7dvw==\"},\"shape\":[2],\"dtype\":\"float64\",\"order\":\"little\"}],[215,{\"type\":\"ndarray\",\"array\":{\"type\":\"bytes\",\"data\":\"AAAAQKxSHUAAAACg8NATwA==\"},\"shape\":[2],\"dtype\":\"float64\",\"order\":\"little\"}],[216,{\"type\":\"ndarray\",\"array\":{\"type\":\"bytes\",\"data\":\"AAAA4M3OIcAAAADg1DoSwA==\"},\"shape\":[2],\"dtype\":\"float64\",\"order\":\"little\"}],[217,{\"type\":\"ndarray\",\"array\":{\"type\":\"bytes\",\"data\":\"AAAAYBSi6r8AAABgYDHTvw==\"},\"shape\":[2],\"dtype\":\"float64\",\"order\":\"little\"}],[218,{\"type\":\"ndarray\",\"array\":{\"type\":\"bytes\",\"data\":\"AAAAYPBxGMAAAABgG/n7vw==\"},\"shape\":[2],\"dtype\":\"float64\",\"order\":\"little\"}],[219,{\"type\":\"ndarray\",\"array\":{\"type\":\"bytes\",\"data\":\"AAAAIGfv8r8AAACgHVgNQA==\"},\"shape\":[2],\"dtype\":\"float64\",\"order\":\"little\"}],[220,{\"type\":\"ndarray\",\"array\":{\"type\":\"bytes\",\"data\":\"AAAAIAZ05T8AAAAgVLcGwA==\"},\"shape\":[2],\"dtype\":\"float64\",\"order\":\"little\"}],[221,{\"type\":\"ndarray\",\"array\":{\"type\":\"bytes\",\"data\":\"AAAAQHtbIMAAAABgpsUAwA==\"},\"shape\":[2],\"dtype\":\"float64\",\"order\":\"little\"}],[222,{\"type\":\"ndarray\",\"array\":{\"type\":\"bytes\",\"data\":\"AAAAoGbTIkAAAABACrT5Pw==\"},\"shape\":[2],\"dtype\":\"float64\",\"order\":\"little\"}],[223,{\"type\":\"ndarray\",\"array\":{\"type\":\"bytes\",\"data\":\"AAAAwFlH8T8AAAAgWQ4AwA==\"},\"shape\":[2],\"dtype\":\"float64\",\"order\":\"little\"}],[224,{\"type\":\"ndarray\",\"array\":{\"type\":\"bytes\",\"data\":\"AAAAYBeBAsAAAAAAkiggQA==\"},\"shape\":[2],\"dtype\":\"float64\",\"order\":\"little\"}],[225,{\"type\":\"ndarray\",\"array\":{\"type\":\"bytes\",\"data\":\"AAAAIAYTFEAAAACAw8QAwA==\"},\"shape\":[2],\"dtype\":\"float64\",\"order\":\"little\"}],[226,{\"type\":\"ndarray\",\"array\":{\"type\":\"bytes\",\"data\":\"AAAAAKBcEUAAAADAfeQgwA==\"},\"shape\":[2],\"dtype\":\"float64\",\"order\":\"little\"}],[227,{\"type\":\"ndarray\",\"array\":{\"type\":\"bytes\",\"data\":\"AAAAwHRWH8AAAAAAh3cXQA==\"},\"shape\":[2],\"dtype\":\"float64\",\"order\":\"little\"}],[228,{\"type\":\"ndarray\",\"array\":{\"type\":\"bytes\",\"data\":\"AAAAQGbEHsAAAAAg+DEWwA==\"},\"shape\":[2],\"dtype\":\"float64\",\"order\":\"little\"}],[229,{\"type\":\"ndarray\",\"array\":{\"type\":\"bytes\",\"data\":\"AAAAoE1Z/b8AAAAAIq4jQA==\"},\"shape\":[2],\"dtype\":\"float64\",\"order\":\"little\"}],[230,{\"type\":\"ndarray\",\"array\":{\"type\":\"bytes\",\"data\":\"AAAAQEwYAkAAAADALd0QQA==\"},\"shape\":[2],\"dtype\":\"float64\",\"order\":\"little\"}],[231,{\"type\":\"ndarray\",\"array\":{\"type\":\"bytes\",\"data\":\"AAAAwBVk5b8AAADA3IEiQA==\"},\"shape\":[2],\"dtype\":\"float64\",\"order\":\"little\"}],[232,{\"type\":\"ndarray\",\"array\":{\"type\":\"bytes\",\"data\":\"AAAAQB4tH0AAAADgTI4SQA==\"},\"shape\":[2],\"dtype\":\"float64\",\"order\":\"little\"}],[233,{\"type\":\"ndarray\",\"array\":{\"type\":\"bytes\",\"data\":\"AAAAYLGt/z8AAAAAtGEiQA==\"},\"shape\":[2],\"dtype\":\"float64\",\"order\":\"little\"}],[234,{\"type\":\"ndarray\",\"array\":{\"type\":\"bytes\",\"data\":\"AAAAAANZE0AAAACACQMOQA==\"},\"shape\":[2],\"dtype\":\"float64\",\"order\":\"little\"}],[235,{\"type\":\"ndarray\",\"array\":{\"type\":\"bytes\",\"data\":\"AAAA4MdRF8AAAAAAy8MgwA==\"},\"shape\":[2],\"dtype\":\"float64\",\"order\":\"little\"}],[236,{\"type\":\"ndarray\",\"array\":{\"type\":\"bytes\",\"data\":\"AAAAAAu9GUAAAABggxweQA==\"},\"shape\":[2],\"dtype\":\"float64\",\"order\":\"little\"}],[237,{\"type\":\"ndarray\",\"array\":{\"type\":\"bytes\",\"data\":\"AAAA4C7WBkAAAADgmwQhQA==\"},\"shape\":[2],\"dtype\":\"float64\",\"order\":\"little\"}],[238,{\"type\":\"ndarray\",\"array\":{\"type\":\"bytes\",\"data\":\"AAAAwNgxI8AAAAAg0j8HwA==\"},\"shape\":[2],\"dtype\":\"float64\",\"order\":\"little\"}],[239,{\"type\":\"ndarray\",\"array\":{\"type\":\"bytes\",\"data\":\"AAAA4DHNGUAAAAAAzscZwA==\"},\"shape\":[2],\"dtype\":\"float64\",\"order\":\"little\"}],[240,{\"type\":\"ndarray\",\"array\":{\"type\":\"bytes\",\"data\":\"AAAAwA1fF0AAAACAQWIWQA==\"},\"shape\":[2],\"dtype\":\"float64\",\"order\":\"little\"}],[241,{\"type\":\"ndarray\",\"array\":{\"type\":\"bytes\",\"data\":\"AAAAQDE3I8AAAABAdHP9Pw==\"},\"shape\":[2],\"dtype\":\"float64\",\"order\":\"little\"}],[242,{\"type\":\"ndarray\",\"array\":{\"type\":\"bytes\",\"data\":\"AAAA4Er6FUAAAACgxnkbwA==\"},\"shape\":[2],\"dtype\":\"float64\",\"order\":\"little\"}],[243,{\"type\":\"ndarray\",\"array\":{\"type\":\"bytes\",\"data\":\"AAAAACmYGEAAAAAAypgWwA==\"},\"shape\":[2],\"dtype\":\"float64\",\"order\":\"little\"}],[244,{\"type\":\"ndarray\",\"array\":{\"type\":\"bytes\",\"data\":\"AAAAQPM8G8AAAAAAujUgQA==\"},\"shape\":[2],\"dtype\":\"float64\",\"order\":\"little\"}],[245,{\"type\":\"ndarray\",\"array\":{\"type\":\"bytes\",\"data\":\"AAAAABGsDkAAAADgi+wewA==\"},\"shape\":[2],\"dtype\":\"float64\",\"order\":\"little\"}],[246,{\"type\":\"ndarray\",\"array\":{\"type\":\"bytes\",\"data\":\"AAAAoFZGBEAAAADAe34iwA==\"},\"shape\":[2],\"dtype\":\"float64\",\"order\":\"little\"}],[247,{\"type\":\"ndarray\",\"array\":{\"type\":\"bytes\",\"data\":\"AAAAAKcgI8AAAADgabLvvw==\"},\"shape\":[2],\"dtype\":\"float64\",\"order\":\"little\"}],[248,{\"type\":\"ndarray\",\"array\":{\"type\":\"bytes\",\"data\":\"AAAAoJPEIcAAAADA+sQEQA==\"},\"shape\":[2],\"dtype\":\"float64\",\"order\":\"little\"}],[249,{\"type\":\"ndarray\",\"array\":{\"type\":\"bytes\",\"data\":\"AAAAIIJtI8AAAABgBf0DwA==\"},\"shape\":[2],\"dtype\":\"float64\",\"order\":\"little\"}],[250,{\"type\":\"ndarray\",\"array\":{\"type\":\"bytes\",\"data\":\"AAAA4B3bIMAAAACgcF4PQA==\"},\"shape\":[2],\"dtype\":\"float64\",\"order\":\"little\"}],[251,{\"type\":\"ndarray\",\"array\":{\"type\":\"bytes\",\"data\":\"AAAAwBqb9L8AAABANgIjQA==\"},\"shape\":[2],\"dtype\":\"float64\",\"order\":\"little\"}],[252,{\"type\":\"ndarray\",\"array\":{\"type\":\"bytes\",\"data\":\"AAAAQM7tAMAAAACAr2vgPw==\"},\"shape\":[2],\"dtype\":\"float64\",\"order\":\"little\"}],[253,{\"type\":\"ndarray\",\"array\":{\"type\":\"bytes\",\"data\":\"AAAAwPvt+D8AAABAdG4jQA==\"},\"shape\":[2],\"dtype\":\"float64\",\"order\":\"little\"}],[254,{\"type\":\"ndarray\",\"array\":{\"type\":\"bytes\",\"data\":\"AAAAAHo+I8AAAABAcrzTvw==\"},\"shape\":[2],\"dtype\":\"float64\",\"order\":\"little\"}],[255,{\"type\":\"ndarray\",\"array\":{\"type\":\"bytes\",\"data\":\"AAAAoBsp/b8AAACAuOzsvw==\"},\"shape\":[2],\"dtype\":\"float64\",\"order\":\"little\"}],[256,{\"type\":\"ndarray\",\"array\":{\"type\":\"bytes\",\"data\":\"AAAAYJu3E8AAAACApEIewA==\"},\"shape\":[2],\"dtype\":\"float64\",\"order\":\"little\"}],[257,{\"type\":\"ndarray\",\"array\":{\"type\":\"bytes\",\"data\":\"AAAAAMUuGsAAAACg2K/Xvw==\"},\"shape\":[2],\"dtype\":\"float64\",\"order\":\"little\"}],[258,{\"type\":\"ndarray\",\"array\":{\"type\":\"bytes\",\"data\":\"AAAAYNYHIkAAAABgh5EFwA==\"},\"shape\":[2],\"dtype\":\"float64\",\"order\":\"little\"}],[259,{\"type\":\"ndarray\",\"array\":{\"type\":\"bytes\",\"data\":\"AAAA4EAh9L8AAACA5rYOQA==\"},\"shape\":[2],\"dtype\":\"float64\",\"order\":\"little\"}],[260,{\"type\":\"ndarray\",\"array\":{\"type\":\"bytes\",\"data\":\"AAAA4O+tC0AAAADAUq4XwA==\"},\"shape\":[2],\"dtype\":\"float64\",\"order\":\"little\"}],[261,{\"type\":\"ndarray\",\"array\":{\"type\":\"bytes\",\"data\":\"AAAAILXsHcAAAADg6iQeQA==\"},\"shape\":[2],\"dtype\":\"float64\",\"order\":\"little\"}],[262,{\"type\":\"ndarray\",\"array\":{\"type\":\"bytes\",\"data\":\"AAAAAOiMDMAAAADgpMUbQA==\"},\"shape\":[2],\"dtype\":\"float64\",\"order\":\"little\"}],[263,{\"type\":\"ndarray\",\"array\":{\"type\":\"bytes\",\"data\":\"AAAAgKxZH0AAAABABr0IQA==\"},\"shape\":[2],\"dtype\":\"float64\",\"order\":\"little\"}],[264,{\"type\":\"ndarray\",\"array\":{\"type\":\"bytes\",\"data\":\"AAAAANXd978AAAAArF8hwA==\"},\"shape\":[2],\"dtype\":\"float64\",\"order\":\"little\"}],[265,{\"type\":\"ndarray\",\"array\":{\"type\":\"bytes\",\"data\":\"AAAAgOr+IEAAAADgsaMTwA==\"},\"shape\":[2],\"dtype\":\"float64\",\"order\":\"little\"}],[266,{\"type\":\"ndarray\",\"array\":{\"type\":\"bytes\",\"data\":\"AAAA4DjrF8AAAAAAc80gQA==\"},\"shape\":[2],\"dtype\":\"float64\",\"order\":\"little\"}],[267,{\"type\":\"ndarray\",\"array\":{\"type\":\"bytes\",\"data\":\"AAAAIIU1I0AAAABgNDLfPw==\"},\"shape\":[2],\"dtype\":\"float64\",\"order\":\"little\"}],[268,{\"type\":\"ndarray\",\"array\":{\"type\":\"bytes\",\"data\":\"AAAAYO7YHUAAAACg0pwUQA==\"},\"shape\":[2],\"dtype\":\"float64\",\"order\":\"little\"}],[269,{\"type\":\"ndarray\",\"array\":{\"type\":\"bytes\",\"data\":\"AAAAYD92GEAAAAAgai0bwA==\"},\"shape\":[2],\"dtype\":\"float64\",\"order\":\"little\"}],[270,{\"type\":\"ndarray\",\"array\":{\"type\":\"bytes\",\"data\":\"AAAAwB0IDcAAAADArW0iwA==\"},\"shape\":[2],\"dtype\":\"float64\",\"order\":\"little\"}],[271,{\"type\":\"ndarray\",\"array\":{\"type\":\"bytes\",\"data\":\"AAAAwF7R/j8AAADgHYcjQA==\"},\"shape\":[2],\"dtype\":\"float64\",\"order\":\"little\"}],[272,{\"type\":\"ndarray\",\"array\":{\"type\":\"bytes\",\"data\":\"AAAAQB5XIUAAAAAAtwH/vw==\"},\"shape\":[2],\"dtype\":\"float64\",\"order\":\"little\"}],[273,{\"type\":\"ndarray\",\"array\":{\"type\":\"bytes\",\"data\":\"AAAAwEO2FcAAAABA1i8gQA==\"},\"shape\":[2],\"dtype\":\"float64\",\"order\":\"little\"}],[274,{\"type\":\"ndarray\",\"array\":{\"type\":\"bytes\",\"data\":\"AAAAgLHaIUAAAACgFeYLQA==\"},\"shape\":[2],\"dtype\":\"float64\",\"order\":\"little\"}],[275,{\"type\":\"ndarray\",\"array\":{\"type\":\"bytes\",\"data\":\"AAAAIOiM+j8AAABAWtcgwA==\"},\"shape\":[2],\"dtype\":\"float64\",\"order\":\"little\"}],[276,{\"type\":\"ndarray\",\"array\":{\"type\":\"bytes\",\"data\":\"AAAAoGoGHsAAAAAgGG34Pw==\"},\"shape\":[2],\"dtype\":\"float64\",\"order\":\"little\"}],[277,{\"type\":\"ndarray\",\"array\":{\"type\":\"bytes\",\"data\":\"AAAAwF5F078AAABAhywiwA==\"},\"shape\":[2],\"dtype\":\"float64\",\"order\":\"little\"}],[278,{\"type\":\"ndarray\",\"array\":{\"type\":\"bytes\",\"data\":\"AAAAYD3yGkAAAABgmcAewA==\"},\"shape\":[2],\"dtype\":\"float64\",\"order\":\"little\"}],[279,{\"type\":\"ndarray\",\"array\":{\"type\":\"bytes\",\"data\":\"AAAAgIEIHcAAAACAVGLyPw==\"},\"shape\":[2],\"dtype\":\"float64\",\"order\":\"little\"}],[280,{\"type\":\"ndarray\",\"array\":{\"type\":\"bytes\",\"data\":\"AAAAANB+IEAAAAAgKrUXwA==\"},\"shape\":[2],\"dtype\":\"float64\",\"order\":\"little\"}],[281,{\"type\":\"ndarray\",\"array\":{\"type\":\"bytes\",\"data\":\"AAAAwJwSEMAAAACAC8QhwA==\"},\"shape\":[2],\"dtype\":\"float64\",\"order\":\"little\"}],[282,{\"type\":\"ndarray\",\"array\":{\"type\":\"bytes\",\"data\":\"AAAAICGIH8AAAADA7NoVQA==\"},\"shape\":[2],\"dtype\":\"float64\",\"order\":\"little\"}],[283,{\"type\":\"ndarray\",\"array\":{\"type\":\"bytes\",\"data\":\"AAAAABEIHMAAAABAAroeQA==\"},\"shape\":[2],\"dtype\":\"float64\",\"order\":\"little\"}],[284,{\"type\":\"ndarray\",\"array\":{\"type\":\"bytes\",\"data\":\"AAAAYKyMBMAAAADAwm4jQA==\"},\"shape\":[2],\"dtype\":\"float64\",\"order\":\"little\"}],[285,{\"type\":\"ndarray\",\"array\":{\"type\":\"bytes\",\"data\":\"AAAAgHxNIEAAAAAg7XQUwA==\"},\"shape\":[2],\"dtype\":\"float64\",\"order\":\"little\"}],[286,{\"type\":\"ndarray\",\"array\":{\"type\":\"bytes\",\"data\":\"AAAAgB4aFsAAAAAA0OkRwA==\"},\"shape\":[2],\"dtype\":\"float64\",\"order\":\"little\"}],[287,{\"type\":\"ndarray\",\"array\":{\"type\":\"bytes\",\"data\":\"AAAAgHNRGEAAAADA57UfQA==\"},\"shape\":[2],\"dtype\":\"float64\",\"order\":\"little\"}],[288,{\"type\":\"ndarray\",\"array\":{\"type\":\"bytes\",\"data\":\"AAAAAMdt8r8AAADgSMAjQA==\"},\"shape\":[2],\"dtype\":\"float64\",\"order\":\"little\"}],[289,{\"type\":\"ndarray\",\"array\":{\"type\":\"bytes\",\"data\":\"AAAAQOa/C0AAAABgxIAdQA==\"},\"shape\":[2],\"dtype\":\"float64\",\"order\":\"little\"}],[290,{\"type\":\"ndarray\",\"array\":{\"type\":\"bytes\",\"data\":\"AAAAYEWpBUAAAAAg9J4iQA==\"},\"shape\":[2],\"dtype\":\"float64\",\"order\":\"little\"}],[291,{\"type\":\"ndarray\",\"array\":{\"type\":\"bytes\",\"data\":\"AAAAwN+IFMAAAADgQMYZwA==\"},\"shape\":[2],\"dtype\":\"float64\",\"order\":\"little\"}],[292,{\"type\":\"ndarray\",\"array\":{\"type\":\"bytes\",\"data\":\"AAAA4NdEIsAAAAAgMU0PwA==\"},\"shape\":[2],\"dtype\":\"float64\",\"order\":\"little\"}],[293,{\"type\":\"ndarray\",\"array\":{\"type\":\"bytes\",\"data\":\"AAAAIFYSFMAAAADg5GEeQA==\"},\"shape\":[2],\"dtype\":\"float64\",\"order\":\"little\"}],[294,{\"type\":\"ndarray\",\"array\":{\"type\":\"bytes\",\"data\":\"AAAAQGVsIUAAAABA00P4Pw==\"},\"shape\":[2],\"dtype\":\"float64\",\"order\":\"little\"}],[295,{\"type\":\"ndarray\",\"array\":{\"type\":\"bytes\",\"data\":\"AAAAAHiHDEAAAAAAnJAgwA==\"},\"shape\":[2],\"dtype\":\"float64\",\"order\":\"little\"}],[296,{\"type\":\"ndarray\",\"array\":{\"type\":\"bytes\",\"data\":\"AAAAALT2EUAAAABgwz0hwA==\"},\"shape\":[2],\"dtype\":\"float64\",\"order\":\"little\"}],[297,{\"type\":\"ndarray\",\"array\":{\"type\":\"bytes\",\"data\":\"AAAAwHQKAcAAAACAMGYZQA==\"},\"shape\":[2],\"dtype\":\"float64\",\"order\":\"little\"}],[298,{\"type\":\"ndarray\",\"array\":{\"type\":\"bytes\",\"data\":\"AAAAYIDkIUAAAABgkAUQQA==\"},\"shape\":[2],\"dtype\":\"float64\",\"order\":\"little\"}],[299,{\"type\":\"ndarray\",\"array\":{\"type\":\"bytes\",\"data\":\"AAAAoFGzHsAAAACA9qkYwA==\"},\"shape\":[2],\"dtype\":\"float64\",\"order\":\"little\"}],[300,{\"type\":\"ndarray\",\"array\":{\"type\":\"bytes\",\"data\":\"AAAAwP/8HkAAAAAghIYTwA==\"},\"shape\":[2],\"dtype\":\"float64\",\"order\":\"little\"}],[301,{\"type\":\"ndarray\",\"array\":{\"type\":\"bytes\",\"data\":\"AAAAYNpWAEAAAADAZY4hQA==\"},\"shape\":[2],\"dtype\":\"float64\",\"order\":\"little\"}],[302,{\"type\":\"ndarray\",\"array\":{\"type\":\"bytes\",\"data\":\"AAAAoB9sIMAAAAAgjY++Pw==\"},\"shape\":[2],\"dtype\":\"float64\",\"order\":\"little\"}],[303,{\"type\":\"ndarray\",\"array\":{\"type\":\"bytes\",\"data\":\"AAAAQEMctD8AAAAA/DEewA==\"},\"shape\":[2],\"dtype\":\"float64\",\"order\":\"little\"}],[304,{\"type\":\"ndarray\",\"array\":{\"type\":\"bytes\",\"data\":\"AAAAYODoH0AAAAAAwloPwA==\"},\"shape\":[2],\"dtype\":\"float64\",\"order\":\"little\"}],[305,{\"type\":\"ndarray\",\"array\":{\"type\":\"bytes\",\"data\":\"AAAA4NeCIUAAAABgdsgBQA==\"},\"shape\":[2],\"dtype\":\"float64\",\"order\":\"little\"}],[306,{\"type\":\"ndarray\",\"array\":{\"type\":\"bytes\",\"data\":\"AAAAwD4Y+D8AAABAqYQCQA==\"},\"shape\":[2],\"dtype\":\"float64\",\"order\":\"little\"}],[307,{\"type\":\"ndarray\",\"array\":{\"type\":\"bytes\",\"data\":\"AAAA4MwDFUAAAADgJa8fwA==\"},\"shape\":[2],\"dtype\":\"float64\",\"order\":\"little\"}],[308,{\"type\":\"ndarray\",\"array\":{\"type\":\"bytes\",\"data\":\"AAAAQNVapT8AAAAA0x3WPw==\"},\"shape\":[2],\"dtype\":\"float64\",\"order\":\"little\"}],[309,{\"type\":\"ndarray\",\"array\":{\"type\":\"bytes\",\"data\":\"AAAA4LUk/D8AAAAgL5f2vw==\"},\"shape\":[2],\"dtype\":\"float64\",\"order\":\"little\"}],[310,{\"type\":\"ndarray\",\"array\":{\"type\":\"bytes\",\"data\":\"AAAAoJXS878AAACgp68ZwA==\"},\"shape\":[2],\"dtype\":\"float64\",\"order\":\"little\"}],[311,{\"type\":\"ndarray\",\"array\":{\"type\":\"bytes\",\"data\":\"AAAAgG/lGMAAAADguXEdQA==\"},\"shape\":[2],\"dtype\":\"float64\",\"order\":\"little\"}],[312,{\"type\":\"ndarray\",\"array\":{\"type\":\"bytes\",\"data\":\"AAAAYPtcIMAAAABg0xYSQA==\"},\"shape\":[2],\"dtype\":\"float64\",\"order\":\"little\"}],[313,{\"type\":\"ndarray\",\"array\":{\"type\":\"bytes\",\"data\":\"AAAAwJTOGUAAAADATiTyvw==\"},\"shape\":[2],\"dtype\":\"float64\",\"order\":\"little\"}],[314,{\"type\":\"ndarray\",\"array\":{\"type\":\"bytes\",\"data\":\"AAAAgCqpAkAAAABgRHojQA==\"},\"shape\":[2],\"dtype\":\"float64\",\"order\":\"little\"}],[315,{\"type\":\"ndarray\",\"array\":{\"type\":\"bytes\",\"data\":\"AAAAgJkmvL8AAAAgAIMBQA==\"},\"shape\":[2],\"dtype\":\"float64\",\"order\":\"little\"}],[316,{\"type\":\"ndarray\",\"array\":{\"type\":\"bytes\",\"data\":\"AAAAIOHCE0AAAABgFX0RwA==\"},\"shape\":[2],\"dtype\":\"float64\",\"order\":\"little\"}],[317,{\"type\":\"ndarray\",\"array\":{\"type\":\"bytes\",\"data\":\"AAAAAGpdCEAAAAAg4jL9vw==\"},\"shape\":[2],\"dtype\":\"float64\",\"order\":\"little\"}],[318,{\"type\":\"ndarray\",\"array\":{\"type\":\"bytes\",\"data\":\"AAAAgP6fIEAAAABA0GIQQA==\"},\"shape\":[2],\"dtype\":\"float64\",\"order\":\"little\"}],[319,{\"type\":\"ndarray\",\"array\":{\"type\":\"bytes\",\"data\":\"AAAAgEyjGUAAAADguUkYwA==\"},\"shape\":[2],\"dtype\":\"float64\",\"order\":\"little\"}],[320,{\"type\":\"ndarray\",\"array\":{\"type\":\"bytes\",\"data\":\"AAAAoDhD878AAABAbhMjwA==\"},\"shape\":[2],\"dtype\":\"float64\",\"order\":\"little\"}],[321,{\"type\":\"ndarray\",\"array\":{\"type\":\"bytes\",\"data\":\"AAAAIMF3IsAAAADASN/8Pw==\"},\"shape\":[2],\"dtype\":\"float64\",\"order\":\"little\"}],[322,{\"type\":\"ndarray\",\"array\":{\"type\":\"bytes\",\"data\":\"AAAAAPTM6r8AAABA9JsiwA==\"},\"shape\":[2],\"dtype\":\"float64\",\"order\":\"little\"}],[323,{\"type\":\"ndarray\",\"array\":{\"type\":\"bytes\",\"data\":\"AAAA4PoaDsAAAAAA5fMdQA==\"},\"shape\":[2],\"dtype\":\"float64\",\"order\":\"little\"}],[324,{\"type\":\"ndarray\",\"array\":{\"type\":\"bytes\",\"data\":\"AAAAAGoiIUAAAACgqMkOQA==\"},\"shape\":[2],\"dtype\":\"float64\",\"order\":\"little\"}],[325,{\"type\":\"ndarray\",\"array\":{\"type\":\"bytes\",\"data\":\"AAAAwDfRGkAAAACgqawbwA==\"},\"shape\":[2],\"dtype\":\"float64\",\"order\":\"little\"}],[326,{\"type\":\"ndarray\",\"array\":{\"type\":\"bytes\",\"data\":\"AAAAQMFsCUAAAACgsA0jQA==\"},\"shape\":[2],\"dtype\":\"float64\",\"order\":\"little\"}],[327,{\"type\":\"ndarray\",\"array\":{\"type\":\"bytes\",\"data\":\"AAAAgFd3FcAAAACghMIhQA==\"},\"shape\":[2],\"dtype\":\"float64\",\"order\":\"little\"}],[328,{\"type\":\"ndarray\",\"array\":{\"type\":\"bytes\",\"data\":\"AAAA4DNcFUAAAACAeV4gQA==\"},\"shape\":[2],\"dtype\":\"float64\",\"order\":\"little\"}],[329,{\"type\":\"ndarray\",\"array\":{\"type\":\"bytes\",\"data\":\"AAAAQLYM7T8AAACgvyoiwA==\"},\"shape\":[2],\"dtype\":\"float64\",\"order\":\"little\"}],[330,{\"type\":\"ndarray\",\"array\":{\"type\":\"bytes\",\"data\":\"AAAAgHDVG0AAAAAALnr2Pw==\"},\"shape\":[2],\"dtype\":\"float64\",\"order\":\"little\"}],[331,{\"type\":\"ndarray\",\"array\":{\"type\":\"bytes\",\"data\":\"AAAAwB30FUAAAACgYgwLwA==\"},\"shape\":[2],\"dtype\":\"float64\",\"order\":\"little\"}],[332,{\"type\":\"ndarray\",\"array\":{\"type\":\"bytes\",\"data\":\"AAAAQMBP8j8AAAAAvjbivw==\"},\"shape\":[2],\"dtype\":\"float64\",\"order\":\"little\"}],[333,{\"type\":\"ndarray\",\"array\":{\"type\":\"bytes\",\"data\":\"AAAA4DM2AsAAAAAAugEbwA==\"},\"shape\":[2],\"dtype\":\"float64\",\"order\":\"little\"}],[334,{\"type\":\"ndarray\",\"array\":{\"type\":\"bytes\",\"data\":\"AAAAYHkuIkAAAAAgakryPw==\"},\"shape\":[2],\"dtype\":\"float64\",\"order\":\"little\"}],[335,{\"type\":\"ndarray\",\"array\":{\"type\":\"bytes\",\"data\":\"AAAAABESyb8AAACAGGn0vw==\"},\"shape\":[2],\"dtype\":\"float64\",\"order\":\"little\"}],[336,{\"type\":\"ndarray\",\"array\":{\"type\":\"bytes\",\"data\":\"AAAAwORQHcAAAAAgj8kXQA==\"},\"shape\":[2],\"dtype\":\"float64\",\"order\":\"little\"}],[337,{\"type\":\"ndarray\",\"array\":{\"type\":\"bytes\",\"data\":\"AAAA4MXOG8AAAAAga2PyPw==\"},\"shape\":[2],\"dtype\":\"float64\",\"order\":\"little\"}],[338,{\"type\":\"ndarray\",\"array\":{\"type\":\"bytes\",\"data\":\"AAAAgMroH0AAAACAO5Ppvw==\"},\"shape\":[2],\"dtype\":\"float64\",\"order\":\"little\"}],[339,{\"type\":\"ndarray\",\"array\":{\"type\":\"bytes\",\"data\":\"AAAAQB30EcAAAABgZa8eQA==\"},\"shape\":[2],\"dtype\":\"float64\",\"order\":\"little\"}],[340,{\"type\":\"ndarray\",\"array\":{\"type\":\"bytes\",\"data\":\"AAAA4NoaDcAAAACgmGwcQA==\"},\"shape\":[2],\"dtype\":\"float64\",\"order\":\"little\"}],[341,{\"type\":\"ndarray\",\"array\":{\"type\":\"bytes\",\"data\":\"AAAAgHLFHcAAAADguGOwPw==\"},\"shape\":[2],\"dtype\":\"float64\",\"order\":\"little\"}],[342,{\"type\":\"ndarray\",\"array\":{\"type\":\"bytes\",\"data\":\"AAAAoNliIcAAAAAgrrUGwA==\"},\"shape\":[2],\"dtype\":\"float64\",\"order\":\"little\"}],[343,{\"type\":\"ndarray\",\"array\":{\"type\":\"bytes\",\"data\":\"AAAAgE6lFMAAAABgYigfQA==\"},\"shape\":[2],\"dtype\":\"float64\",\"order\":\"little\"}],[344,{\"type\":\"ndarray\",\"array\":{\"type\":\"bytes\",\"data\":\"AAAAYLiOH0AAAADg7U/Lvw==\"},\"shape\":[2],\"dtype\":\"float64\",\"order\":\"little\"}],[345,{\"type\":\"ndarray\",\"array\":{\"type\":\"bytes\",\"data\":\"AAAAwC6hDMAAAAAgnioUwA==\"},\"shape\":[2],\"dtype\":\"float64\",\"order\":\"little\"}],[346,{\"type\":\"ndarray\",\"array\":{\"type\":\"bytes\",\"data\":\"AAAA4LV1E8AAAADASZEYQA==\"},\"shape\":[2],\"dtype\":\"float64\",\"order\":\"little\"}],[347,{\"type\":\"ndarray\",\"array\":{\"type\":\"bytes\",\"data\":\"AAAAoPNZIEAAAAAgqH0WwA==\"},\"shape\":[2],\"dtype\":\"float64\",\"order\":\"little\"}],[348,{\"type\":\"ndarray\",\"array\":{\"type\":\"bytes\",\"data\":\"AAAAQABfIEAAAABgjlsAQA==\"},\"shape\":[2],\"dtype\":\"float64\",\"order\":\"little\"}],[349,{\"type\":\"ndarray\",\"array\":{\"type\":\"bytes\",\"data\":\"AAAA4Bf0/z8AAADghg4awA==\"},\"shape\":[2],\"dtype\":\"float64\",\"order\":\"little\"}],[350,{\"type\":\"ndarray\",\"array\":{\"type\":\"bytes\",\"data\":\"AAAAYMTnB8AAAADADMghQA==\"},\"shape\":[2],\"dtype\":\"float64\",\"order\":\"little\"}],[351,{\"type\":\"ndarray\",\"array\":{\"type\":\"bytes\",\"data\":\"AAAAQEjKHUAAAABAI4/6vw==\"},\"shape\":[2],\"dtype\":\"float64\",\"order\":\"little\"}],[352,{\"type\":\"ndarray\",\"array\":{\"type\":\"bytes\",\"data\":\"AAAAAAII4L8AAACARF0hwA==\"},\"shape\":[2],\"dtype\":\"float64\",\"order\":\"little\"}],[353,{\"type\":\"ndarray\",\"array\":{\"type\":\"bytes\",\"data\":\"AAAAwOEwGkAAAADAyIMcQA==\"},\"shape\":[2],\"dtype\":\"float64\",\"order\":\"little\"}],[354,{\"type\":\"ndarray\",\"array\":{\"type\":\"bytes\",\"data\":\"AAAAwBvYHsAAAAAAtS8aQA==\"},\"shape\":[2],\"dtype\":\"float64\",\"order\":\"little\"}],[355,{\"type\":\"ndarray\",\"array\":{\"type\":\"bytes\",\"data\":\"AAAAoKx2FsAAAADg8ZscwA==\"},\"shape\":[2],\"dtype\":\"float64\",\"order\":\"little\"}],[356,{\"type\":\"ndarray\",\"array\":{\"type\":\"bytes\",\"data\":\"AAAAQODhA0AAAACAnVAhwA==\"},\"shape\":[2],\"dtype\":\"float64\",\"order\":\"little\"}],[357,{\"type\":\"ndarray\",\"array\":{\"type\":\"bytes\",\"data\":\"AAAAYIsVI8AAAABAR1j4vw==\"},\"shape\":[2],\"dtype\":\"float64\",\"order\":\"little\"}],[358,{\"type\":\"ndarray\",\"array\":{\"type\":\"bytes\",\"data\":\"AAAAwBWZIUAAAADgicsIwA==\"},\"shape\":[2],\"dtype\":\"float64\",\"order\":\"little\"}],[359,{\"type\":\"ndarray\",\"array\":{\"type\":\"bytes\",\"data\":\"AAAAwJsRF0AAAACg3ykUwA==\"},\"shape\":[2],\"dtype\":\"float64\",\"order\":\"little\"}],[360,{\"type\":\"ndarray\",\"array\":{\"type\":\"bytes\",\"data\":\"AAAAIKOz+r8AAACAabrqvw==\"},\"shape\":[2],\"dtype\":\"float64\",\"order\":\"little\"}],[361,{\"type\":\"ndarray\",\"array\":{\"type\":\"bytes\",\"data\":\"AAAAgJDEE8AAAADAiE0hwA==\"},\"shape\":[2],\"dtype\":\"float64\",\"order\":\"little\"}],[362,{\"type\":\"ndarray\",\"array\":{\"type\":\"bytes\",\"data\":\"AAAAICtaHMAAAADArb4AwA==\"},\"shape\":[2],\"dtype\":\"float64\",\"order\":\"little\"}],[363,{\"type\":\"ndarray\",\"array\":{\"type\":\"bytes\",\"data\":\"AAAAIMbrIkAAAACAtOy8Pw==\"},\"shape\":[2],\"dtype\":\"float64\",\"order\":\"little\"}],[364,{\"type\":\"ndarray\",\"array\":{\"type\":\"bytes\",\"data\":\"AAAAYCsv8D8AAAAAT6EiQA==\"},\"shape\":[2],\"dtype\":\"float64\",\"order\":\"little\"}],[365,{\"type\":\"ndarray\",\"array\":{\"type\":\"bytes\",\"data\":\"AAAAQPkpH0AAAADgVqgWQA==\"},\"shape\":[2],\"dtype\":\"float64\",\"order\":\"little\"}],[366,{\"type\":\"ndarray\",\"array\":{\"type\":\"bytes\",\"data\":\"AAAAgOg+GEAAAAAAAJEZQA==\"},\"shape\":[2],\"dtype\":\"float64\",\"order\":\"little\"}],[367,{\"type\":\"ndarray\",\"array\":{\"type\":\"bytes\",\"data\":\"AAAAYMFNE0AAAAAgs/YbwA==\"},\"shape\":[2],\"dtype\":\"float64\",\"order\":\"little\"}],[368,{\"type\":\"ndarray\",\"array\":{\"type\":\"bytes\",\"data\":\"AAAAQEylIsAAAAAAw5kIQA==\"},\"shape\":[2],\"dtype\":\"float64\",\"order\":\"little\"}],[369,{\"type\":\"ndarray\",\"array\":{\"type\":\"bytes\",\"data\":\"AAAAwO0b778AAABAw+UiQA==\"},\"shape\":[2],\"dtype\":\"float64\",\"order\":\"little\"}],[370,{\"type\":\"ndarray\",\"array\":{\"type\":\"bytes\",\"data\":\"AAAAgAvRB0AAAADA770hwA==\"},\"shape\":[2],\"dtype\":\"float64\",\"order\":\"little\"}],[371,{\"type\":\"ndarray\",\"array\":{\"type\":\"bytes\",\"data\":\"AAAAIG9GB8AAAAAgvushwA==\"},\"shape\":[2],\"dtype\":\"float64\",\"order\":\"little\"}],[372,{\"type\":\"ndarray\",\"array\":{\"type\":\"bytes\",\"data\":\"AAAAIPeXIUAAAAAgbdQDwA==\"},\"shape\":[2],\"dtype\":\"float64\",\"order\":\"little\"}],[373,{\"type\":\"ndarray\",\"array\":{\"type\":\"bytes\",\"data\":\"AAAAIFfaG8AAAAAAs8kbwA==\"},\"shape\":[2],\"dtype\":\"float64\",\"order\":\"little\"}],[374,{\"type\":\"ndarray\",\"array\":{\"type\":\"bytes\",\"data\":\"AAAAAIFL8b8AAAAg9kAhwA==\"},\"shape\":[2],\"dtype\":\"float64\",\"order\":\"little\"}],[375,{\"type\":\"ndarray\",\"array\":{\"type\":\"bytes\",\"data\":\"AAAAYA2vEcAAAAAg+tIhwA==\"},\"shape\":[2],\"dtype\":\"float64\",\"order\":\"little\"}],[376,{\"type\":\"ndarray\",\"array\":{\"type\":\"bytes\",\"data\":\"AAAAYA5RIkAAAAAAqwMCwA==\"},\"shape\":[2],\"dtype\":\"float64\",\"order\":\"little\"}],[377,{\"type\":\"ndarray\",\"array\":{\"type\":\"bytes\",\"data\":\"AAAAIApIFsAAAADg64ogwA==\"},\"shape\":[2],\"dtype\":\"float64\",\"order\":\"little\"}],[378,{\"type\":\"ndarray\",\"array\":{\"type\":\"bytes\",\"data\":\"AAAA4PSMFUAAAACAxiAbQA==\"},\"shape\":[2],\"dtype\":\"float64\",\"order\":\"little\"}],[379,{\"type\":\"ndarray\",\"array\":{\"type\":\"bytes\",\"data\":\"AAAAYN4iEUAAAAAg13ogwA==\"},\"shape\":[2],\"dtype\":\"float64\",\"order\":\"little\"}],[380,{\"type\":\"ndarray\",\"array\":{\"type\":\"bytes\",\"data\":\"AAAAYMVXH8AAAAAgFeoSQA==\"},\"shape\":[2],\"dtype\":\"float64\",\"order\":\"little\"}],[381,{\"type\":\"ndarray\",\"array\":{\"type\":\"bytes\",\"data\":\"AAAAoDlWIEAAAAAgUNT5Pw==\"},\"shape\":[2],\"dtype\":\"float64\",\"order\":\"little\"}],[382,{\"type\":\"ndarray\",\"array\":{\"type\":\"bytes\",\"data\":\"AAAAQL+6wb8AAADAfjQTQA==\"},\"shape\":[2],\"dtype\":\"float64\",\"order\":\"little\"}],[383,{\"type\":\"ndarray\",\"array\":{\"type\":\"bytes\",\"data\":\"AAAAgCyz8r8AAABg58/GPw==\"},\"shape\":[2],\"dtype\":\"float64\",\"order\":\"little\"}],[384,{\"type\":\"ndarray\",\"array\":{\"type\":\"bytes\",\"data\":\"AAAA4GOeIsAAAABAUv8MwA==\"},\"shape\":[2],\"dtype\":\"float64\",\"order\":\"little\"}],[385,{\"type\":\"ndarray\",\"array\":{\"type\":\"bytes\",\"data\":\"AAAAoNSFF8AAAACAE7UdQA==\"},\"shape\":[2],\"dtype\":\"float64\",\"order\":\"little\"}],[386,{\"type\":\"ndarray\",\"array\":{\"type\":\"bytes\",\"data\":\"AAAAgGClH0AAAABA5wMRQA==\"},\"shape\":[2],\"dtype\":\"float64\",\"order\":\"little\"}],[387,{\"type\":\"ndarray\",\"array\":{\"type\":\"bytes\",\"data\":\"AAAAIK1zA0AAAACAA90WwA==\"},\"shape\":[2],\"dtype\":\"float64\",\"order\":\"little\"}],[388,{\"type\":\"ndarray\",\"array\":{\"type\":\"bytes\",\"data\":\"AAAAIKAE9r8AAAAAnAINQA==\"},\"shape\":[2],\"dtype\":\"float64\",\"order\":\"little\"}],[389,{\"type\":\"ndarray\",\"array\":{\"type\":\"bytes\",\"data\":\"AAAAwIZPFsAAAACA6GsAwA==\"},\"shape\":[2],\"dtype\":\"float64\",\"order\":\"little\"}],[390,{\"type\":\"ndarray\",\"array\":{\"type\":\"bytes\",\"data\":\"AAAAwJdxEsAAAADgz5oYQA==\"},\"shape\":[2],\"dtype\":\"float64\",\"order\":\"little\"}],[391,{\"type\":\"ndarray\",\"array\":{\"type\":\"bytes\",\"data\":\"AAAAQOMo7b8AAADAnGblvw==\"},\"shape\":[2],\"dtype\":\"float64\",\"order\":\"little\"}],[392,{\"type\":\"ndarray\",\"array\":{\"type\":\"bytes\",\"data\":\"AAAAQHV7CEAAAAAgdh8YQA==\"},\"shape\":[2],\"dtype\":\"float64\",\"order\":\"little\"}],[393,{\"type\":\"ndarray\",\"array\":{\"type\":\"bytes\",\"data\":\"AAAAIOBWGcAAAACg5rMCwA==\"},\"shape\":[2],\"dtype\":\"float64\",\"order\":\"little\"}],[394,{\"type\":\"ndarray\",\"array\":{\"type\":\"bytes\",\"data\":\"AAAAQKK04j8AAAAg5eEhQA==\"},\"shape\":[2],\"dtype\":\"float64\",\"order\":\"little\"}],[395,{\"type\":\"ndarray\",\"array\":{\"type\":\"bytes\",\"data\":\"AAAAAGFxFcAAAABAJOoWwA==\"},\"shape\":[2],\"dtype\":\"float64\",\"order\":\"little\"}],[396,{\"type\":\"ndarray\",\"array\":{\"type\":\"bytes\",\"data\":\"AAAA4NmsG0AAAADgvQgGwA==\"},\"shape\":[2],\"dtype\":\"float64\",\"order\":\"little\"}],[397,{\"type\":\"ndarray\",\"array\":{\"type\":\"bytes\",\"data\":\"AAAA4H4hBUAAAAAgZ7/gPw==\"},\"shape\":[2],\"dtype\":\"float64\",\"order\":\"little\"}],[398,{\"type\":\"ndarray\",\"array\":{\"type\":\"bytes\",\"data\":\"AAAAAEBrB0AAAADAXdEhwA==\"},\"shape\":[2],\"dtype\":\"float64\",\"order\":\"little\"}],[399,{\"type\":\"ndarray\",\"array\":{\"type\":\"bytes\",\"data\":\"AAAAIIDN3r8AAABA4HkfwA==\"},\"shape\":[2],\"dtype\":\"float64\",\"order\":\"little\"}],[400,{\"type\":\"ndarray\",\"array\":{\"type\":\"bytes\",\"data\":\"AAAAADCQIEAAAACgpYHMvw==\"},\"shape\":[2],\"dtype\":\"float64\",\"order\":\"little\"}],[401,{\"type\":\"ndarray\",\"array\":{\"type\":\"bytes\",\"data\":\"AAAAIAXSFsAAAADAls4ewA==\"},\"shape\":[2],\"dtype\":\"float64\",\"order\":\"little\"}],[402,{\"type\":\"ndarray\",\"array\":{\"type\":\"bytes\",\"data\":\"AAAA4CzoIUAAAADggDj4vw==\"},\"shape\":[2],\"dtype\":\"float64\",\"order\":\"little\"}],[403,{\"type\":\"ndarray\",\"array\":{\"type\":\"bytes\",\"data\":\"AAAA4CI43r8AAADA4YAhQA==\"},\"shape\":[2],\"dtype\":\"float64\",\"order\":\"little\"}],[404,{\"type\":\"ndarray\",\"array\":{\"type\":\"bytes\",\"data\":\"AAAAAIeIC8AAAABgM/QawA==\"},\"shape\":[2],\"dtype\":\"float64\",\"order\":\"little\"}],[405,{\"type\":\"ndarray\",\"array\":{\"type\":\"bytes\",\"data\":\"AAAAgGsyEUAAAADAaIgdwA==\"},\"shape\":[2],\"dtype\":\"float64\",\"order\":\"little\"}],[406,{\"type\":\"ndarray\",\"array\":{\"type\":\"bytes\",\"data\":\"AAAAILeg6j8AAAAA7fIHQA==\"},\"shape\":[2],\"dtype\":\"float64\",\"order\":\"little\"}],[407,{\"type\":\"ndarray\",\"array\":{\"type\":\"bytes\",\"data\":\"AAAAgMiLFsAAAACAsKgbQA==\"},\"shape\":[2],\"dtype\":\"float64\",\"order\":\"little\"}],[408,{\"type\":\"ndarray\",\"array\":{\"type\":\"bytes\",\"data\":\"AAAAQKvW8D8AAACAQpciwA==\"},\"shape\":[2],\"dtype\":\"float64\",\"order\":\"little\"}],[409,{\"type\":\"ndarray\",\"array\":{\"type\":\"bytes\",\"data\":\"AAAAAGjyGkAAAACA+fDVPw==\"},\"shape\":[2],\"dtype\":\"float64\",\"order\":\"little\"}],[410,{\"type\":\"ndarray\",\"array\":{\"type\":\"bytes\",\"data\":\"AAAAoA3mDsAAAAAg+jMawA==\"},\"shape\":[2],\"dtype\":\"float64\",\"order\":\"little\"}],[411,{\"type\":\"ndarray\",\"array\":{\"type\":\"bytes\",\"data\":\"AAAAoLKj6D8AAACA5WgjQA==\"},\"shape\":[2],\"dtype\":\"float64\",\"order\":\"little\"}],[412,{\"type\":\"ndarray\",\"array\":{\"type\":\"bytes\",\"data\":\"AAAAIK/6/78AAABgpGEjQA==\"},\"shape\":[2],\"dtype\":\"float64\",\"order\":\"little\"}],[413,{\"type\":\"ndarray\",\"array\":{\"type\":\"bytes\",\"data\":\"AAAAwI7GFMAAAAAAStEgQA==\"},\"shape\":[2],\"dtype\":\"float64\",\"order\":\"little\"}],[414,{\"type\":\"ndarray\",\"array\":{\"type\":\"bytes\",\"data\":\"AAAAoHrx9z8AAADAKkEhQA==\"},\"shape\":[2],\"dtype\":\"float64\",\"order\":\"little\"}],[415,{\"type\":\"ndarray\",\"array\":{\"type\":\"bytes\",\"data\":\"AAAAQGcnI8AAAADAFOP/vw==\"},\"shape\":[2],\"dtype\":\"float64\",\"order\":\"little\"}],[416,{\"type\":\"ndarray\",\"array\":{\"type\":\"bytes\",\"data\":\"AAAAgMafAcAAAACg6I7Wvw==\"},\"shape\":[2],\"dtype\":\"float64\",\"order\":\"little\"}],[417,{\"type\":\"ndarray\",\"array\":{\"type\":\"bytes\",\"data\":\"AAAA4EprEkAAAABgaPIYwA==\"},\"shape\":[2],\"dtype\":\"float64\",\"order\":\"little\"}],[418,{\"type\":\"ndarray\",\"array\":{\"type\":\"bytes\",\"data\":\"AAAAoLugFkAAAAAgDxMhQA==\"},\"shape\":[2],\"dtype\":\"float64\",\"order\":\"little\"}],[419,{\"type\":\"ndarray\",\"array\":{\"type\":\"bytes\",\"data\":\"AAAA4KOnA8AAAABAWEggQA==\"},\"shape\":[2],\"dtype\":\"float64\",\"order\":\"little\"}],[420,{\"type\":\"ndarray\",\"array\":{\"type\":\"bytes\",\"data\":\"AAAAQPizGEAAAABADmcNwA==\"},\"shape\":[2],\"dtype\":\"float64\",\"order\":\"little\"}],[421,{\"type\":\"ndarray\",\"array\":{\"type\":\"bytes\",\"data\":\"AAAAQA+nGMAAAADgdOQbwA==\"},\"shape\":[2],\"dtype\":\"float64\",\"order\":\"little\"}],[422,{\"type\":\"ndarray\",\"array\":{\"type\":\"bytes\",\"data\":\"AAAA4CAkEcAAAACgrYAAwA==\"},\"shape\":[2],\"dtype\":\"float64\",\"order\":\"little\"}],[423,{\"type\":\"ndarray\",\"array\":{\"type\":\"bytes\",\"data\":\"AAAA4KuaDsAAAACA0cwiQA==\"},\"shape\":[2],\"dtype\":\"float64\",\"order\":\"little\"}],[424,{\"type\":\"ndarray\",\"array\":{\"type\":\"bytes\",\"data\":\"AAAAgAVd6L8AAADA92kSwA==\"},\"shape\":[2],\"dtype\":\"float64\",\"order\":\"little\"}],[425,{\"type\":\"ndarray\",\"array\":{\"type\":\"bytes\",\"data\":\"AAAAIPFfGUAAAAAg54URwA==\"},\"shape\":[2],\"dtype\":\"float64\",\"order\":\"little\"}],[426,{\"type\":\"ndarray\",\"array\":{\"type\":\"bytes\",\"data\":\"AAAAwMEFA8AAAABANTDVvw==\"},\"shape\":[2],\"dtype\":\"float64\",\"order\":\"little\"}],[427,{\"type\":\"ndarray\",\"array\":{\"type\":\"bytes\",\"data\":\"AAAAQIGNHUAAAACgx3MdQA==\"},\"shape\":[2],\"dtype\":\"float64\",\"order\":\"little\"}],[428,{\"type\":\"ndarray\",\"array\":{\"type\":\"bytes\",\"data\":\"AAAAoKcIG8AAAABAmjz+Pw==\"},\"shape\":[2],\"dtype\":\"float64\",\"order\":\"little\"}],[429,{\"type\":\"ndarray\",\"array\":{\"type\":\"bytes\",\"data\":\"AAAAAAczIsAAAADg2wIRwA==\"},\"shape\":[2],\"dtype\":\"float64\",\"order\":\"little\"}],[430,{\"type\":\"ndarray\",\"array\":{\"type\":\"bytes\",\"data\":\"AAAAQNIX6L8AAABgus4gwA==\"},\"shape\":[2],\"dtype\":\"float64\",\"order\":\"little\"}],[431,{\"type\":\"ndarray\",\"array\":{\"type\":\"bytes\",\"data\":\"AAAA4P4DAMAAAADAWXQZQA==\"},\"shape\":[2],\"dtype\":\"float64\",\"order\":\"little\"}],[432,{\"type\":\"ndarray\",\"array\":{\"type\":\"bytes\",\"data\":\"AAAAIBHi978AAABAD8wgQA==\"},\"shape\":[2],\"dtype\":\"float64\",\"order\":\"little\"}],[433,{\"type\":\"ndarray\",\"array\":{\"type\":\"bytes\",\"data\":\"AAAAIExVGUAAAAAAzocEwA==\"},\"shape\":[2],\"dtype\":\"float64\",\"order\":\"little\"}],[434,{\"type\":\"ndarray\",\"array\":{\"type\":\"bytes\",\"data\":\"AAAAwIIXBEAAAACAdv4bQA==\"},\"shape\":[2],\"dtype\":\"float64\",\"order\":\"little\"}],[435,{\"type\":\"ndarray\",\"array\":{\"type\":\"bytes\",\"data\":\"AAAAYPDo/z8AAACgpg0jwA==\"},\"shape\":[2],\"dtype\":\"float64\",\"order\":\"little\"}],[436,{\"type\":\"ndarray\",\"array\":{\"type\":\"bytes\",\"data\":\"AAAAQMP6F8AAAABgdLYSwA==\"},\"shape\":[2],\"dtype\":\"float64\",\"order\":\"little\"}],[437,{\"type\":\"ndarray\",\"array\":{\"type\":\"bytes\",\"data\":\"AAAA4GvN+78AAADAresUQA==\"},\"shape\":[2],\"dtype\":\"float64\",\"order\":\"little\"}],[438,{\"type\":\"ndarray\",\"array\":{\"type\":\"bytes\",\"data\":\"AAAAgIqrIkAAAAAgw+r0vw==\"},\"shape\":[2],\"dtype\":\"float64\",\"order\":\"little\"}],[439,{\"type\":\"ndarray\",\"array\":{\"type\":\"bytes\",\"data\":\"AAAA4AOW+L8AAABAbh4hQA==\"},\"shape\":[2],\"dtype\":\"float64\",\"order\":\"little\"}],[440,{\"type\":\"ndarray\",\"array\":{\"type\":\"bytes\",\"data\":\"AAAA4Bx1EMAAAAAgO0UAwA==\"},\"shape\":[2],\"dtype\":\"float64\",\"order\":\"little\"}],[441,{\"type\":\"ndarray\",\"array\":{\"type\":\"bytes\",\"data\":\"AAAAgHDzHEAAAACgYrcaQA==\"},\"shape\":[2],\"dtype\":\"float64\",\"order\":\"little\"}],[442,{\"type\":\"ndarray\",\"array\":{\"type\":\"bytes\",\"data\":\"AAAA4AFTHEAAAABAN7wWwA==\"},\"shape\":[2],\"dtype\":\"float64\",\"order\":\"little\"}],[443,{\"type\":\"ndarray\",\"array\":{\"type\":\"bytes\",\"data\":\"AAAAYH/LHUAAAADgdZ8LQA==\"},\"shape\":[2],\"dtype\":\"float64\",\"order\":\"little\"}],[444,{\"type\":\"ndarray\",\"array\":{\"type\":\"bytes\",\"data\":\"AAAAQMnxCEAAAABgdbohwA==\"},\"shape\":[2],\"dtype\":\"float64\",\"order\":\"little\"}],[445,{\"type\":\"ndarray\",\"array\":{\"type\":\"bytes\",\"data\":\"AAAAAJcNHMAAAACgT2wYQA==\"},\"shape\":[2],\"dtype\":\"float64\",\"order\":\"little\"}],[446,{\"type\":\"ndarray\",\"array\":{\"type\":\"bytes\",\"data\":\"AAAAIHahIMAAAAAgzxf1vw==\"},\"shape\":[2],\"dtype\":\"float64\",\"order\":\"little\"}],[447,{\"type\":\"ndarray\",\"array\":{\"type\":\"bytes\",\"data\":\"AAAAwCpcHcAAAABAwCzdvw==\"},\"shape\":[2],\"dtype\":\"float64\",\"order\":\"little\"}],[448,{\"type\":\"ndarray\",\"array\":{\"type\":\"bytes\",\"data\":\"AAAAAG8YGkAAAACATv0LQA==\"},\"shape\":[2],\"dtype\":\"float64\",\"order\":\"little\"}],[449,{\"type\":\"ndarray\",\"array\":{\"type\":\"bytes\",\"data\":\"AAAA4CfYCUAAAACAiWwiwA==\"},\"shape\":[2],\"dtype\":\"float64\",\"order\":\"little\"}],[450,{\"type\":\"ndarray\",\"array\":{\"type\":\"bytes\",\"data\":\"AAAAwCy1IMAAAACAHcgQwA==\"},\"shape\":[2],\"dtype\":\"float64\",\"order\":\"little\"}],[451,{\"type\":\"ndarray\",\"array\":{\"type\":\"bytes\",\"data\":\"AAAAIJhXIUAAAAAAsmUGQA==\"},\"shape\":[2],\"dtype\":\"float64\",\"order\":\"little\"}],[452,{\"type\":\"ndarray\",\"array\":{\"type\":\"bytes\",\"data\":\"AAAAwEZbGEAAAACADErZPw==\"},\"shape\":[2],\"dtype\":\"float64\",\"order\":\"little\"}],[453,{\"type\":\"ndarray\",\"array\":{\"type\":\"bytes\",\"data\":\"AAAAIFAN5D8AAABgRushwA==\"},\"shape\":[2],\"dtype\":\"float64\",\"order\":\"little\"}],[454,{\"type\":\"ndarray\",\"array\":{\"type\":\"bytes\",\"data\":\"AAAAwN+WHMAAAACANvf+Pw==\"},\"shape\":[2],\"dtype\":\"float64\",\"order\":\"little\"}],[455,{\"type\":\"ndarray\",\"array\":{\"type\":\"bytes\",\"data\":\"AAAAAG7oF0AAAACAz/oWwA==\"},\"shape\":[2],\"dtype\":\"float64\",\"order\":\"little\"}],[456,{\"type\":\"ndarray\",\"array\":{\"type\":\"bytes\",\"data\":\"AAAAwA6RFEAAAADgDgEhQA==\"},\"shape\":[2],\"dtype\":\"float64\",\"order\":\"little\"}],[457,{\"type\":\"ndarray\",\"array\":{\"type\":\"bytes\",\"data\":\"AAAAwO+jF0AAAAAgY1MNwA==\"},\"shape\":[2],\"dtype\":\"float64\",\"order\":\"little\"}],[458,{\"type\":\"ndarray\",\"array\":{\"type\":\"bytes\",\"data\":\"AAAA4I3VG0AAAAAgJhseQA==\"},\"shape\":[2],\"dtype\":\"float64\",\"order\":\"little\"}],[459,{\"type\":\"ndarray\",\"array\":{\"type\":\"bytes\",\"data\":\"AAAAQMVMAsAAAAAAo5IbQA==\"},\"shape\":[2],\"dtype\":\"float64\",\"order\":\"little\"}],[460,{\"type\":\"ndarray\",\"array\":{\"type\":\"bytes\",\"data\":\"AAAA4LurIEAAAABgEWAGwA==\"},\"shape\":[2],\"dtype\":\"float64\",\"order\":\"little\"}],[461,{\"type\":\"ndarray\",\"array\":{\"type\":\"bytes\",\"data\":\"AAAAgG41H0AAAAAAlwAXwA==\"},\"shape\":[2],\"dtype\":\"float64\",\"order\":\"little\"}],[462,{\"type\":\"ndarray\",\"array\":{\"type\":\"bytes\",\"data\":\"AAAAIB7XE0AAAAAA1y8SQA==\"},\"shape\":[2],\"dtype\":\"float64\",\"order\":\"little\"}],[463,{\"type\":\"ndarray\",\"array\":{\"type\":\"bytes\",\"data\":\"AAAAYOHwIcAAAADAoIMTQA==\"},\"shape\":[2],\"dtype\":\"float64\",\"order\":\"little\"}],[464,{\"type\":\"ndarray\",\"array\":{\"type\":\"bytes\",\"data\":\"AAAA4MdUA0AAAAAgzYcgwA==\"},\"shape\":[2],\"dtype\":\"float64\",\"order\":\"little\"}],[465,{\"type\":\"ndarray\",\"array\":{\"type\":\"bytes\",\"data\":\"AAAAIAtaIUAAAABgDRwRQA==\"},\"shape\":[2],\"dtype\":\"float64\",\"order\":\"little\"}],[466,{\"type\":\"ndarray\",\"array\":{\"type\":\"bytes\",\"data\":\"AAAAQE66F0AAAABgA4AgwA==\"},\"shape\":[2],\"dtype\":\"float64\",\"order\":\"little\"}],[467,{\"type\":\"ndarray\",\"array\":{\"type\":\"bytes\",\"data\":\"AAAAAArIIEAAAABgBv4QwA==\"},\"shape\":[2],\"dtype\":\"float64\",\"order\":\"little\"}],[468,{\"type\":\"ndarray\",\"array\":{\"type\":\"bytes\",\"data\":\"AAAAQMYPE0AAAADApA8hQA==\"},\"shape\":[2],\"dtype\":\"float64\",\"order\":\"little\"}],[469,{\"type\":\"ndarray\",\"array\":{\"type\":\"bytes\",\"data\":\"AAAAQHpjIMAAAAAAo/4KQA==\"},\"shape\":[2],\"dtype\":\"float64\",\"order\":\"little\"}],[470,{\"type\":\"ndarray\",\"array\":{\"type\":\"bytes\",\"data\":\"AAAAwFEAEMAAAABgTBoXwA==\"},\"shape\":[2],\"dtype\":\"float64\",\"order\":\"little\"}],[471,{\"type\":\"ndarray\",\"array\":{\"type\":\"bytes\",\"data\":\"AAAAgJVnEUAAAABAn2cgQA==\"},\"shape\":[2],\"dtype\":\"float64\",\"order\":\"little\"}],[472,{\"type\":\"ndarray\",\"array\":{\"type\":\"bytes\",\"data\":\"AAAA4M8kIEAAAADA1eIIwA==\"},\"shape\":[2],\"dtype\":\"float64\",\"order\":\"little\"}],[473,{\"type\":\"ndarray\",\"array\":{\"type\":\"bytes\",\"data\":\"AAAAwNvtEsAAAAAg19wfwA==\"},\"shape\":[2],\"dtype\":\"float64\",\"order\":\"little\"}],[474,{\"type\":\"ndarray\",\"array\":{\"type\":\"bytes\",\"data\":\"AAAAQCAWIsAAAABAGSYOQA==\"},\"shape\":[2],\"dtype\":\"float64\",\"order\":\"little\"}],[475,{\"type\":\"ndarray\",\"array\":{\"type\":\"bytes\",\"data\":\"AAAAQBisHUAAAAAA7xcVwA==\"},\"shape\":[2],\"dtype\":\"float64\",\"order\":\"little\"}],[476,{\"type\":\"ndarray\",\"array\":{\"type\":\"bytes\",\"data\":\"AAAA4EQ37z8AAACgaPbcPw==\"},\"shape\":[2],\"dtype\":\"float64\",\"order\":\"little\"}],[477,{\"type\":\"ndarray\",\"array\":{\"type\":\"bytes\",\"data\":\"AAAAgOVt878AAABgaXAMQA==\"},\"shape\":[2],\"dtype\":\"float64\",\"order\":\"little\"}],[478,{\"type\":\"ndarray\",\"array\":{\"type\":\"bytes\",\"data\":\"AAAAwK7AHUAAAAAgui0TQA==\"},\"shape\":[2],\"dtype\":\"float64\",\"order\":\"little\"}],[479,{\"type\":\"ndarray\",\"array\":{\"type\":\"bytes\",\"data\":\"AAAAQHpcFMAAAABAwEcRQA==\"},\"shape\":[2],\"dtype\":\"float64\",\"order\":\"little\"}],[480,{\"type\":\"ndarray\",\"array\":{\"type\":\"bytes\",\"data\":\"AAAA4IkxFsAAAABAfa0XwA==\"},\"shape\":[2],\"dtype\":\"float64\",\"order\":\"little\"}],[481,{\"type\":\"ndarray\",\"array\":{\"type\":\"bytes\",\"data\":\"AAAAgEXeIcAAAAAgDDADwA==\"},\"shape\":[2],\"dtype\":\"float64\",\"order\":\"little\"}],[482,{\"type\":\"ndarray\",\"array\":{\"type\":\"bytes\",\"data\":\"AAAAQEUXIkAAAADggIn+vw==\"},\"shape\":[2],\"dtype\":\"float64\",\"order\":\"little\"}],[483,{\"type\":\"ndarray\",\"array\":{\"type\":\"bytes\",\"data\":\"AAAAoJkkGsAAAADARN0cwA==\"},\"shape\":[2],\"dtype\":\"float64\",\"order\":\"little\"}],[484,{\"type\":\"ndarray\",\"array\":{\"type\":\"bytes\",\"data\":\"AAAA4Hc9AMAAAACAuvMdQA==\"},\"shape\":[2],\"dtype\":\"float64\",\"order\":\"little\"}],[485,{\"type\":\"ndarray\",\"array\":{\"type\":\"bytes\",\"data\":\"AAAAQGk5IsAAAACgJQ7Kvw==\"},\"shape\":[2],\"dtype\":\"float64\",\"order\":\"little\"}],[486,{\"type\":\"ndarray\",\"array\":{\"type\":\"bytes\",\"data\":\"AAAAQAQLIUAAAABAYTELQA==\"},\"shape\":[2],\"dtype\":\"float64\",\"order\":\"little\"}],[487,{\"type\":\"ndarray\",\"array\":{\"type\":\"bytes\",\"data\":\"AAAAYOZ+GsAAAACgnO8cQA==\"},\"shape\":[2],\"dtype\":\"float64\",\"order\":\"little\"}],[488,{\"type\":\"ndarray\",\"array\":{\"type\":\"bytes\",\"data\":\"AAAAwH6kBMAAAAAAyZUhwA==\"},\"shape\":[2],\"dtype\":\"float64\",\"order\":\"little\"}],[489,{\"type\":\"ndarray\",\"array\":{\"type\":\"bytes\",\"data\":\"AAAAYKssIMAAAACAlRUOwA==\"},\"shape\":[2],\"dtype\":\"float64\",\"order\":\"little\"}],[490,{\"type\":\"ndarray\",\"array\":{\"type\":\"bytes\",\"data\":\"AAAAYNVvGcAAAAAAsZkgQA==\"},\"shape\":[2],\"dtype\":\"float64\",\"order\":\"little\"}],[491,{\"type\":\"ndarray\",\"array\":{\"type\":\"bytes\",\"data\":\"AAAAwE0b+r8AAADg/eUSQA==\"},\"shape\":[2],\"dtype\":\"float64\",\"order\":\"little\"}],[492,{\"type\":\"ndarray\",\"array\":{\"type\":\"bytes\",\"data\":\"AAAA4BHWHEAAAABglxMXQA==\"},\"shape\":[2],\"dtype\":\"float64\",\"order\":\"little\"}],[493,{\"type\":\"ndarray\",\"array\":{\"type\":\"bytes\",\"data\":\"AAAAQFWjGMAAAADA2Z8bQA==\"},\"shape\":[2],\"dtype\":\"float64\",\"order\":\"little\"}],[494,{\"type\":\"ndarray\",\"array\":{\"type\":\"bytes\",\"data\":\"AAAAAEfTCMAAAACA1ywZwA==\"},\"shape\":[2],\"dtype\":\"float64\",\"order\":\"little\"}],[495,{\"type\":\"ndarray\",\"array\":{\"type\":\"bytes\",\"data\":\"AAAAIL93GsAAAACgdegYQA==\"},\"shape\":[2],\"dtype\":\"float64\",\"order\":\"little\"}],[496,{\"type\":\"ndarray\",\"array\":{\"type\":\"bytes\",\"data\":\"AAAA4D3M0z8AAABA/HwSwA==\"},\"shape\":[2],\"dtype\":\"float64\",\"order\":\"little\"}],[497,{\"type\":\"ndarray\",\"array\":{\"type\":\"bytes\",\"data\":\"AAAAICv3IsAAAABAPHkKwA==\"},\"shape\":[2],\"dtype\":\"float64\",\"order\":\"little\"}],[498,{\"type\":\"ndarray\",\"array\":{\"type\":\"bytes\",\"data\":\"AAAAYFSmI8AAAADgi1byPw==\"},\"shape\":[2],\"dtype\":\"float64\",\"order\":\"little\"}],[499,{\"type\":\"ndarray\",\"array\":{\"type\":\"bytes\",\"data\":\"AAAA4GexA8AAAADg3HAOQA==\"},\"shape\":[2],\"dtype\":\"float64\",\"order\":\"little\"}],[500,{\"type\":\"ndarray\",\"array\":{\"type\":\"bytes\",\"data\":\"AAAAgGfc9r8AAABgDtkfwA==\"},\"shape\":[2],\"dtype\":\"float64\",\"order\":\"little\"}],[501,{\"type\":\"ndarray\",\"array\":{\"type\":\"bytes\",\"data\":\"AAAA4ADKBsAAAADgvnEdwA==\"},\"shape\":[2],\"dtype\":\"float64\",\"order\":\"little\"}],[502,{\"type\":\"ndarray\",\"array\":{\"type\":\"bytes\",\"data\":\"AAAAwOUYHsAAAABgOSoWQA==\"},\"shape\":[2],\"dtype\":\"float64\",\"order\":\"little\"}],[503,{\"type\":\"ndarray\",\"array\":{\"type\":\"bytes\",\"data\":\"AAAAoOUqAEAAAAAgxkEbwA==\"},\"shape\":[2],\"dtype\":\"float64\",\"order\":\"little\"}],[504,{\"type\":\"ndarray\",\"array\":{\"type\":\"bytes\",\"data\":\"AAAA4Bdf8z8AAACANALevw==\"},\"shape\":[2],\"dtype\":\"float64\",\"order\":\"little\"}],[505,{\"type\":\"ndarray\",\"array\":{\"type\":\"bytes\",\"data\":\"AAAAoKIiIEAAAACggesKQA==\"},\"shape\":[2],\"dtype\":\"float64\",\"order\":\"little\"}],[506,{\"type\":\"ndarray\",\"array\":{\"type\":\"bytes\",\"data\":\"AAAAAGtFDcAAAABgu3kTQA==\"},\"shape\":[2],\"dtype\":\"float64\",\"order\":\"little\"}],[507,{\"type\":\"ndarray\",\"array\":{\"type\":\"bytes\",\"data\":\"AAAAIFnHH8AAAABg1q0YQA==\"},\"shape\":[2],\"dtype\":\"float64\",\"order\":\"little\"}],[508,{\"type\":\"ndarray\",\"array\":{\"type\":\"bytes\",\"data\":\"AAAAIIjN/r8AAAAAM+IiwA==\"},\"shape\":[2],\"dtype\":\"float64\",\"order\":\"little\"}],[509,{\"type\":\"ndarray\",\"array\":{\"type\":\"bytes\",\"data\":\"AAAAoAIuHEAAAAAAoKoQwA==\"},\"shape\":[2],\"dtype\":\"float64\",\"order\":\"little\"}],[510,{\"type\":\"ndarray\",\"array\":{\"type\":\"bytes\",\"data\":\"AAAA4EKZ4T8AAADAoAkjQA==\"},\"shape\":[2],\"dtype\":\"float64\",\"order\":\"little\"}],[511,{\"type\":\"ndarray\",\"array\":{\"type\":\"bytes\",\"data\":\"AAAA4GZe/D8AAABAFMrmPw==\"},\"shape\":[2],\"dtype\":\"float64\",\"order\":\"little\"}],[512,{\"type\":\"ndarray\",\"array\":{\"type\":\"bytes\",\"data\":\"AAAAgG6i6b8AAADgkZwHQA==\"},\"shape\":[2],\"dtype\":\"float64\",\"order\":\"little\"}],[513,{\"type\":\"ndarray\",\"array\":{\"type\":\"bytes\",\"data\":\"AAAAIKtSIkAAAACAGHEJQA==\"},\"shape\":[2],\"dtype\":\"float64\",\"order\":\"little\"}],[514,{\"type\":\"ndarray\",\"array\":{\"type\":\"bytes\",\"data\":\"AAAAIElfE0AAAABg7IsIwA==\"},\"shape\":[2],\"dtype\":\"float64\",\"order\":\"little\"}],[515,{\"type\":\"ndarray\",\"array\":{\"type\":\"bytes\",\"data\":\"AAAAoK5gH8AAAACAYzIQwA==\"},\"shape\":[2],\"dtype\":\"float64\",\"order\":\"little\"}],[516,{\"type\":\"ndarray\",\"array\":{\"type\":\"bytes\",\"data\":\"AAAAINUFI8AAAACg3YOHvw==\"},\"shape\":[2],\"dtype\":\"float64\",\"order\":\"little\"}],[517,{\"type\":\"ndarray\",\"array\":{\"type\":\"bytes\",\"data\":\"AAAAAK+1EEAAAACg6FcWQA==\"},\"shape\":[2],\"dtype\":\"float64\",\"order\":\"little\"}],[518,{\"type\":\"ndarray\",\"array\":{\"type\":\"bytes\",\"data\":\"AAAAAE+lGUAAAACgipAYQA==\"},\"shape\":[2],\"dtype\":\"float64\",\"order\":\"little\"}],[519,{\"type\":\"ndarray\",\"array\":{\"type\":\"bytes\",\"data\":\"AAAAoHLr+r8AAADgM4oiwA==\"},\"shape\":[2],\"dtype\":\"float64\",\"order\":\"little\"}],[520,{\"type\":\"ndarray\",\"array\":{\"type\":\"bytes\",\"data\":\"AAAAYHWcCkAAAAAAv0oHQA==\"},\"shape\":[2],\"dtype\":\"float64\",\"order\":\"little\"}],[521,{\"type\":\"ndarray\",\"array\":{\"type\":\"bytes\",\"data\":\"AAAAwACYG0AAAADATKQbQA==\"},\"shape\":[2],\"dtype\":\"float64\",\"order\":\"little\"}],[522,{\"type\":\"ndarray\",\"array\":{\"type\":\"bytes\",\"data\":\"AAAAIG2hDsAAAAAgwC0hQA==\"},\"shape\":[2],\"dtype\":\"float64\",\"order\":\"little\"}],[523,{\"type\":\"ndarray\",\"array\":{\"type\":\"bytes\",\"data\":\"AAAAYC3EAEAAAAAADToRQA==\"},\"shape\":[2],\"dtype\":\"float64\",\"order\":\"little\"}],[524,{\"type\":\"ndarray\",\"array\":{\"type\":\"bytes\",\"data\":\"AAAAYO471D8AAADASBLnPw==\"},\"shape\":[2],\"dtype\":\"float64\",\"order\":\"little\"}],[525,{\"type\":\"ndarray\",\"array\":{\"type\":\"bytes\",\"data\":\"AAAAYBP9/r8AAABA1eIiQA==\"},\"shape\":[2],\"dtype\":\"float64\",\"order\":\"little\"}],[526,{\"type\":\"ndarray\",\"array\":{\"type\":\"bytes\",\"data\":\"AAAAAPwtDsAAAADg7PUhQA==\"},\"shape\":[2],\"dtype\":\"float64\",\"order\":\"little\"}],[527,{\"type\":\"ndarray\",\"array\":{\"type\":\"bytes\",\"data\":\"AAAAAGwk8r8AAACgEbAhQA==\"},\"shape\":[2],\"dtype\":\"float64\",\"order\":\"little\"}],[528,{\"type\":\"ndarray\",\"array\":{\"type\":\"bytes\",\"data\":\"AAAAoH4vC0AAAACAIfIZwA==\"},\"shape\":[2],\"dtype\":\"float64\",\"order\":\"little\"}],[529,{\"type\":\"ndarray\",\"array\":{\"type\":\"bytes\",\"data\":\"AAAAgHK/IUAAAAAA4+EQwA==\"},\"shape\":[2],\"dtype\":\"float64\",\"order\":\"little\"}],[530,{\"type\":\"ndarray\",\"array\":{\"type\":\"bytes\",\"data\":\"AAAAQPtpIEAAAACgpO8YQA==\"},\"shape\":[2],\"dtype\":\"float64\",\"order\":\"little\"}],[531,{\"type\":\"ndarray\",\"array\":{\"type\":\"bytes\",\"data\":\"AAAAAEzJAMAAAABArOkhwA==\"},\"shape\":[2],\"dtype\":\"float64\",\"order\":\"little\"}],[532,{\"type\":\"ndarray\",\"array\":{\"type\":\"bytes\",\"data\":\"AAAA4HILIkAAAAAgVAQEQA==\"},\"shape\":[2],\"dtype\":\"float64\",\"order\":\"little\"}],[533,{\"type\":\"ndarray\",\"array\":{\"type\":\"bytes\",\"data\":\"AAAA4G1KEEAAAADg7EcVQA==\"},\"shape\":[2],\"dtype\":\"float64\",\"order\":\"little\"}],[534,{\"type\":\"ndarray\",\"array\":{\"type\":\"bytes\",\"data\":\"AAAA4KhpIcAAAABgVzQQwA==\"},\"shape\":[2],\"dtype\":\"float64\",\"order\":\"little\"}],[535,{\"type\":\"ndarray\",\"array\":{\"type\":\"bytes\",\"data\":\"AAAA4PilF0AAAACgD7YJQA==\"},\"shape\":[2],\"dtype\":\"float64\",\"order\":\"little\"}],[536,{\"type\":\"ndarray\",\"array\":{\"type\":\"bytes\",\"data\":\"AAAAYFdJAUAAAACggmMdwA==\"},\"shape\":[2],\"dtype\":\"float64\",\"order\":\"little\"}],[537,{\"type\":\"ndarray\",\"array\":{\"type\":\"bytes\",\"data\":\"AAAAoIM0HUAAAABA4y8NQA==\"},\"shape\":[2],\"dtype\":\"float64\",\"order\":\"little\"}],[538,{\"type\":\"ndarray\",\"array\":{\"type\":\"bytes\",\"data\":\"AAAAQFTmIkAAAAAgzv75vw==\"},\"shape\":[2],\"dtype\":\"float64\",\"order\":\"little\"}],[539,{\"type\":\"ndarray\",\"array\":{\"type\":\"bytes\",\"data\":\"AAAAYLnsEMAAAADAJC0dwA==\"},\"shape\":[2],\"dtype\":\"float64\",\"order\":\"little\"}],[540,{\"type\":\"ndarray\",\"array\":{\"type\":\"bytes\",\"data\":\"AAAAIBz9E0AAAAAgw3G+vw==\"},\"shape\":[2],\"dtype\":\"float64\",\"order\":\"little\"}],[541,{\"type\":\"ndarray\",\"array\":{\"type\":\"bytes\",\"data\":\"AAAAgNBeH0AAAABAiMoZwA==\"},\"shape\":[2],\"dtype\":\"float64\",\"order\":\"little\"}],[542,{\"type\":\"ndarray\",\"array\":{\"type\":\"bytes\",\"data\":\"AAAAQNsoIUAAAACAM5Xrvw==\"},\"shape\":[2],\"dtype\":\"float64\",\"order\":\"little\"}],[543,{\"type\":\"ndarray\",\"array\":{\"type\":\"bytes\",\"data\":\"AAAAAFQf9D8AAAAAFgwaQA==\"},\"shape\":[2],\"dtype\":\"float64\",\"order\":\"little\"}],[544,{\"type\":\"ndarray\",\"array\":{\"type\":\"bytes\",\"data\":\"AAAAwFFcIsAAAADgyZL/vw==\"},\"shape\":[2],\"dtype\":\"float64\",\"order\":\"little\"}],[545,{\"type\":\"ndarray\",\"array\":{\"type\":\"bytes\",\"data\":\"AAAAoJX/IkAAAABgYrj/Pw==\"},\"shape\":[2],\"dtype\":\"float64\",\"order\":\"little\"}],[546,{\"type\":\"ndarray\",\"array\":{\"type\":\"bytes\",\"data\":\"AAAAAOiJEkAAAAAgAtoVQA==\"},\"shape\":[2],\"dtype\":\"float64\",\"order\":\"little\"}],[547,{\"type\":\"ndarray\",\"array\":{\"type\":\"bytes\",\"data\":\"AAAAoG/0GkAAAADgsbYfQA==\"},\"shape\":[2],\"dtype\":\"float64\",\"order\":\"little\"}],[548,{\"type\":\"ndarray\",\"array\":{\"type\":\"bytes\",\"data\":\"AAAAAA2AI8AAAAAgIk7/vw==\"},\"shape\":[2],\"dtype\":\"float64\",\"order\":\"little\"}],[549,{\"type\":\"ndarray\",\"array\":{\"type\":\"bytes\",\"data\":\"AAAAoLjVGEAAAACg7yQJQA==\"},\"shape\":[2],\"dtype\":\"float64\",\"order\":\"little\"}],[550,{\"type\":\"ndarray\",\"array\":{\"type\":\"bytes\",\"data\":\"AAAAwNhoIcAAAACgmWbzvw==\"},\"shape\":[2],\"dtype\":\"float64\",\"order\":\"little\"}],[551,{\"type\":\"ndarray\",\"array\":{\"type\":\"bytes\",\"data\":\"AAAAQFUlHMAAAADAkm4WwA==\"},\"shape\":[2],\"dtype\":\"float64\",\"order\":\"little\"}],[552,{\"type\":\"ndarray\",\"array\":{\"type\":\"bytes\",\"data\":\"AAAAwGqhGMAAAABgrecewA==\"},\"shape\":[2],\"dtype\":\"float64\",\"order\":\"little\"}],[553,{\"type\":\"ndarray\",\"array\":{\"type\":\"bytes\",\"data\":\"AAAAgNbK3D8AAABA02wVwA==\"},\"shape\":[2],\"dtype\":\"float64\",\"order\":\"little\"}],[554,{\"type\":\"ndarray\",\"array\":{\"type\":\"bytes\",\"data\":\"AAAA4D36HkAAAAAgppEbQA==\"},\"shape\":[2],\"dtype\":\"float64\",\"order\":\"little\"}],[555,{\"type\":\"ndarray\",\"array\":{\"type\":\"bytes\",\"data\":\"AAAAQLfEBcAAAAAgK2gYwA==\"},\"shape\":[2],\"dtype\":\"float64\",\"order\":\"little\"}],[556,{\"type\":\"ndarray\",\"array\":{\"type\":\"bytes\",\"data\":\"AAAA4IGqIkAAAADglyX0Pw==\"},\"shape\":[2],\"dtype\":\"float64\",\"order\":\"little\"}],[557,{\"type\":\"ndarray\",\"array\":{\"type\":\"bytes\",\"data\":\"AAAAAEvSFsAAAACgx4sgQA==\"},\"shape\":[2],\"dtype\":\"float64\",\"order\":\"little\"}],[558,{\"type\":\"ndarray\",\"array\":{\"type\":\"bytes\",\"data\":\"AAAAwFz9B8AAAACAD0gZwA==\"},\"shape\":[2],\"dtype\":\"float64\",\"order\":\"little\"}],[559,{\"type\":\"ndarray\",\"array\":{\"type\":\"bytes\",\"data\":\"AAAAwFDVEsAAAACgcbQbwA==\"},\"shape\":[2],\"dtype\":\"float64\",\"order\":\"little\"}],[560,{\"type\":\"ndarray\",\"array\":{\"type\":\"bytes\",\"data\":\"AAAAABKRIkAAAABAst7jPw==\"},\"shape\":[2],\"dtype\":\"float64\",\"order\":\"little\"}],[561,{\"type\":\"ndarray\",\"array\":{\"type\":\"bytes\",\"data\":\"AAAAoJDQH8AAAADgyaYAwA==\"},\"shape\":[2],\"dtype\":\"float64\",\"order\":\"little\"}],[562,{\"type\":\"ndarray\",\"array\":{\"type\":\"bytes\",\"data\":\"AAAAYO682T8AAAAANMIjQA==\"},\"shape\":[2],\"dtype\":\"float64\",\"order\":\"little\"}],[563,{\"type\":\"ndarray\",\"array\":{\"type\":\"bytes\",\"data\":\"AAAAoHunIsAAAAAgVnLcPw==\"},\"shape\":[2],\"dtype\":\"float64\",\"order\":\"little\"}],[564,{\"type\":\"ndarray\",\"array\":{\"type\":\"bytes\",\"data\":\"AAAAgE7i278AAADgFBAbwA==\"},\"shape\":[2],\"dtype\":\"float64\",\"order\":\"little\"}],[565,{\"type\":\"ndarray\",\"array\":{\"type\":\"bytes\",\"data\":\"AAAAoF1LIcAAAACAfqgCwA==\"},\"shape\":[2],\"dtype\":\"float64\",\"order\":\"little\"}],[566,{\"type\":\"ndarray\",\"array\":{\"type\":\"bytes\",\"data\":\"AAAAQA34FkAAAAAANt4cwA==\"},\"shape\":[2],\"dtype\":\"float64\",\"order\":\"little\"}],[567,{\"type\":\"ndarray\",\"array\":{\"type\":\"bytes\",\"data\":\"AAAAQNI5DcAAAAAggMkUwA==\"},\"shape\":[2],\"dtype\":\"float64\",\"order\":\"little\"}],[568,{\"type\":\"ndarray\",\"array\":{\"type\":\"bytes\",\"data\":\"AAAAwI2YGUAAAADArMUaQA==\"},\"shape\":[2],\"dtype\":\"float64\",\"order\":\"little\"}],[569,{\"type\":\"ndarray\",\"array\":{\"type\":\"bytes\",\"data\":\"AAAAQH14HUAAAAAg53sZwA==\"},\"shape\":[2],\"dtype\":\"float64\",\"order\":\"little\"}],[570,{\"type\":\"ndarray\",\"array\":{\"type\":\"bytes\",\"data\":\"AAAAoGSVIUAAAAAgSaUPwA==\"},\"shape\":[2],\"dtype\":\"float64\",\"order\":\"little\"}],[571,{\"type\":\"ndarray\",\"array\":{\"type\":\"bytes\",\"data\":\"AAAAYL+cAUAAAABAK+UXwA==\"},\"shape\":[2],\"dtype\":\"float64\",\"order\":\"little\"}],[572,{\"type\":\"ndarray\",\"array\":{\"type\":\"bytes\",\"data\":\"AAAAoKHC8T8AAADArYIXQA==\"},\"shape\":[2],\"dtype\":\"float64\",\"order\":\"little\"}],[573,{\"type\":\"ndarray\",\"array\":{\"type\":\"bytes\",\"data\":\"AAAAoMgk8z8AAABA1uwbQA==\"},\"shape\":[2],\"dtype\":\"float64\",\"order\":\"little\"}],[574,{\"type\":\"ndarray\",\"array\":{\"type\":\"bytes\",\"data\":\"AAAAgBf2AkAAAABglfEZwA==\"},\"shape\":[2],\"dtype\":\"float64\",\"order\":\"little\"}],[575,{\"type\":\"ndarray\",\"array\":{\"type\":\"bytes\",\"data\":\"AAAA4OekIcAAAACAYUsHQA==\"},\"shape\":[2],\"dtype\":\"float64\",\"order\":\"little\"}],[576,{\"type\":\"ndarray\",\"array\":{\"type\":\"bytes\",\"data\":\"AAAAYMoFIkAAAACAm3sHQA==\"},\"shape\":[2],\"dtype\":\"float64\",\"order\":\"little\"}],[577,{\"type\":\"ndarray\",\"array\":{\"type\":\"bytes\",\"data\":\"AAAAoKkhIsAAAADAUVsKQA==\"},\"shape\":[2],\"dtype\":\"float64\",\"order\":\"little\"}],[578,{\"type\":\"ndarray\",\"array\":{\"type\":\"bytes\",\"data\":\"AAAAAM6KDEAAAADgCfQfQA==\"},\"shape\":[2],\"dtype\":\"float64\",\"order\":\"little\"}],[579,{\"type\":\"ndarray\",\"array\":{\"type\":\"bytes\",\"data\":\"AAAAoPEjIEAAAADgOUENQA==\"},\"shape\":[2],\"dtype\":\"float64\",\"order\":\"little\"}],[580,{\"type\":\"ndarray\",\"array\":{\"type\":\"bytes\",\"data\":\"AAAAQAhfE8AAAAAAep8gQA==\"},\"shape\":[2],\"dtype\":\"float64\",\"order\":\"little\"}],[581,{\"type\":\"ndarray\",\"array\":{\"type\":\"bytes\",\"data\":\"AAAAALSh1L8AAAAAbDIPQA==\"},\"shape\":[2],\"dtype\":\"float64\",\"order\":\"little\"}],[582,{\"type\":\"ndarray\",\"array\":{\"type\":\"bytes\",\"data\":\"AAAA4OGxGsAAAAAgXkwYwA==\"},\"shape\":[2],\"dtype\":\"float64\",\"order\":\"little\"}],[583,{\"type\":\"ndarray\",\"array\":{\"type\":\"bytes\",\"data\":\"AAAAIIwbC8AAAABg8AEiQA==\"},\"shape\":[2],\"dtype\":\"float64\",\"order\":\"little\"}],[584,{\"type\":\"ndarray\",\"array\":{\"type\":\"bytes\",\"data\":\"AAAA4LvdCUAAAADA8pYNQA==\"},\"shape\":[2],\"dtype\":\"float64\",\"order\":\"little\"}],[585,{\"type\":\"ndarray\",\"array\":{\"type\":\"bytes\",\"data\":\"AAAAIIi/HMAAAABgQiAawA==\"},\"shape\":[2],\"dtype\":\"float64\",\"order\":\"little\"}],[586,{\"type\":\"ndarray\",\"array\":{\"type\":\"bytes\",\"data\":\"AAAAQHEpE8AAAACgiuTePw==\"},\"shape\":[2],\"dtype\":\"float64\",\"order\":\"little\"}],[587,{\"type\":\"ndarray\",\"array\":{\"type\":\"bytes\",\"data\":\"AAAAQFCyGEAAAABgwBgcwA==\"},\"shape\":[2],\"dtype\":\"float64\",\"order\":\"little\"}],[588,{\"type\":\"ndarray\",\"array\":{\"type\":\"bytes\",\"data\":\"AAAAIPreH8AAAACgi94ZwA==\"},\"shape\":[2],\"dtype\":\"float64\",\"order\":\"little\"}],[589,{\"type\":\"ndarray\",\"array\":{\"type\":\"bytes\",\"data\":\"AAAAgPgzIkAAAADAUSUIwA==\"},\"shape\":[2],\"dtype\":\"float64\",\"order\":\"little\"}],[590,{\"type\":\"ndarray\",\"array\":{\"type\":\"bytes\",\"data\":\"AAAAIOw3F0AAAACAL2QQwA==\"},\"shape\":[2],\"dtype\":\"float64\",\"order\":\"little\"}],[591,{\"type\":\"ndarray\",\"array\":{\"type\":\"bytes\",\"data\":\"AAAA4BHoGkAAAACgB8AZQA==\"},\"shape\":[2],\"dtype\":\"float64\",\"order\":\"little\"}],[592,{\"type\":\"ndarray\",\"array\":{\"type\":\"bytes\",\"data\":\"AAAAQCdMBUAAAABAJLsfQA==\"},\"shape\":[2],\"dtype\":\"float64\",\"order\":\"little\"}],[593,{\"type\":\"ndarray\",\"array\":{\"type\":\"bytes\",\"data\":\"AAAAwIeNHsAAAABgqe2zPw==\"},\"shape\":[2],\"dtype\":\"float64\",\"order\":\"little\"}],[594,{\"type\":\"ndarray\",\"array\":{\"type\":\"bytes\",\"data\":\"AAAA4NWTIEAAAAAgNBUNwA==\"},\"shape\":[2],\"dtype\":\"float64\",\"order\":\"little\"}],[595,{\"type\":\"ndarray\",\"array\":{\"type\":\"bytes\",\"data\":\"AAAAYB4YCsAAAABA/eshwA==\"},\"shape\":[2],\"dtype\":\"float64\",\"order\":\"little\"}],[596,{\"type\":\"ndarray\",\"array\":{\"type\":\"bytes\",\"data\":\"AAAAAKo5GEAAAABAyngTQA==\"},\"shape\":[2],\"dtype\":\"float64\",\"order\":\"little\"}],[597,{\"type\":\"ndarray\",\"array\":{\"type\":\"bytes\",\"data\":\"AAAAgJYn978AAAAAyj0bwA==\"},\"shape\":[2],\"dtype\":\"float64\",\"order\":\"little\"}],[598,{\"type\":\"ndarray\",\"array\":{\"type\":\"bytes\",\"data\":\"AAAAYP7r0T8AAACAFisOQA==\"},\"shape\":[2],\"dtype\":\"float64\",\"order\":\"little\"}],[599,{\"type\":\"ndarray\",\"array\":{\"type\":\"bytes\",\"data\":\"AAAA4LVbI8AAAADgu6vkvw==\"},\"shape\":[2],\"dtype\":\"float64\",\"order\":\"little\"}],[600,{\"type\":\"ndarray\",\"array\":{\"type\":\"bytes\",\"data\":\"AAAAwAQZH8AAAAAgUzkUQA==\"},\"shape\":[2],\"dtype\":\"float64\",\"order\":\"little\"}],[601,{\"type\":\"ndarray\",\"array\":{\"type\":\"bytes\",\"data\":\"AAAAIFdAB8AAAADgl9sgwA==\"},\"shape\":[2],\"dtype\":\"float64\",\"order\":\"little\"}],[602,{\"type\":\"ndarray\",\"array\":{\"type\":\"bytes\",\"data\":\"AAAAwMCJBUAAAACAshYOQA==\"},\"shape\":[2],\"dtype\":\"float64\",\"order\":\"little\"}],[603,{\"type\":\"ndarray\",\"array\":{\"type\":\"bytes\",\"data\":\"AAAAwL3hDUAAAAAgrQAZQA==\"},\"shape\":[2],\"dtype\":\"float64\",\"order\":\"little\"}],[604,{\"type\":\"ndarray\",\"array\":{\"type\":\"bytes\",\"data\":\"AAAAIJVCEkAAAADAo3QewA==\"},\"shape\":[2],\"dtype\":\"float64\",\"order\":\"little\"}],[605,{\"type\":\"ndarray\",\"array\":{\"type\":\"bytes\",\"data\":\"AAAA4KNgHcAAAABAYQocQA==\"},\"shape\":[2],\"dtype\":\"float64\",\"order\":\"little\"}],[606,{\"type\":\"ndarray\",\"array\":{\"type\":\"bytes\",\"data\":\"AAAAwAx3F0AAAACAmeHyPw==\"},\"shape\":[2],\"dtype\":\"float64\",\"order\":\"little\"}],[607,{\"type\":\"ndarray\",\"array\":{\"type\":\"bytes\",\"data\":\"AAAAwOJPBcAAAAAgWb4iQA==\"},\"shape\":[2],\"dtype\":\"float64\",\"order\":\"little\"}],[608,{\"type\":\"ndarray\",\"array\":{\"type\":\"bytes\",\"data\":\"AAAAgN5GIMAAAABAPVgVwA==\"},\"shape\":[2],\"dtype\":\"float64\",\"order\":\"little\"}],[609,{\"type\":\"ndarray\",\"array\":{\"type\":\"bytes\",\"data\":\"AAAAoBarFMAAAABA1qsgwA==\"},\"shape\":[2],\"dtype\":\"float64\",\"order\":\"little\"}],[610,{\"type\":\"ndarray\",\"array\":{\"type\":\"bytes\",\"data\":\"AAAAoJbWE0AAAADgGj8SQA==\"},\"shape\":[2],\"dtype\":\"float64\",\"order\":\"little\"}],[611,{\"type\":\"ndarray\",\"array\":{\"type\":\"bytes\",\"data\":\"AAAAYKAG4z8AAAAgwkMiQA==\"},\"shape\":[2],\"dtype\":\"float64\",\"order\":\"little\"}],[612,{\"type\":\"ndarray\",\"array\":{\"type\":\"bytes\",\"data\":\"AAAA4KNhHMAAAAAgkfUNQA==\"},\"shape\":[2],\"dtype\":\"float64\",\"order\":\"little\"}],[613,{\"type\":\"ndarray\",\"array\":{\"type\":\"bytes\",\"data\":\"AAAA4MzUIkAAAAAANPcDwA==\"},\"shape\":[2],\"dtype\":\"float64\",\"order\":\"little\"}],[614,{\"type\":\"ndarray\",\"array\":{\"type\":\"bytes\",\"data\":\"AAAAAPGDF0AAAACA9l4OwA==\"},\"shape\":[2],\"dtype\":\"float64\",\"order\":\"little\"}],[615,{\"type\":\"ndarray\",\"array\":{\"type\":\"bytes\",\"data\":\"AAAAABIHIkAAAADgXf7DPw==\"},\"shape\":[2],\"dtype\":\"float64\",\"order\":\"little\"}],[616,{\"type\":\"ndarray\",\"array\":{\"type\":\"bytes\",\"data\":\"AAAAQEwkF8AAAABg6fETwA==\"},\"shape\":[2],\"dtype\":\"float64\",\"order\":\"little\"}],[617,{\"type\":\"ndarray\",\"array\":{\"type\":\"bytes\",\"data\":\"AAAAQM3gG8AAAAAgBsccQA==\"},\"shape\":[2],\"dtype\":\"float64\",\"order\":\"little\"}],[618,{\"type\":\"ndarray\",\"array\":{\"type\":\"bytes\",\"data\":\"AAAAwB1DEUAAAAAA5s4eQA==\"},\"shape\":[2],\"dtype\":\"float64\",\"order\":\"little\"}],[619,{\"type\":\"ndarray\",\"array\":{\"type\":\"bytes\",\"data\":\"AAAAwLhA+z8AAABgy8giQA==\"},\"shape\":[2],\"dtype\":\"float64\",\"order\":\"little\"}],[620,{\"type\":\"ndarray\",\"array\":{\"type\":\"bytes\",\"data\":\"AAAAoJrO4z8AAABA3m0ZwA==\"},\"shape\":[2],\"dtype\":\"float64\",\"order\":\"little\"}],[621,{\"type\":\"ndarray\",\"array\":{\"type\":\"bytes\",\"data\":\"AAAAgHG67L8AAABgmAYiwA==\"},\"shape\":[2],\"dtype\":\"float64\",\"order\":\"little\"}],[622,{\"type\":\"ndarray\",\"array\":{\"type\":\"bytes\",\"data\":\"AAAAQCEgCsAAAACATDUjQA==\"},\"shape\":[2],\"dtype\":\"float64\",\"order\":\"little\"}],[623,{\"type\":\"ndarray\",\"array\":{\"type\":\"bytes\",\"data\":\"AAAAAFPN8z8AAADg5lQjwA==\"},\"shape\":[2],\"dtype\":\"float64\",\"order\":\"little\"}],[624,{\"type\":\"ndarray\",\"array\":{\"type\":\"bytes\",\"data\":\"AAAAwNnzAcAAAABgBqYiQA==\"},\"shape\":[2],\"dtype\":\"float64\",\"order\":\"little\"}],[625,{\"type\":\"ndarray\",\"array\":{\"type\":\"bytes\",\"data\":\"AAAAINZ0AEAAAABgz8IaQA==\"},\"shape\":[2],\"dtype\":\"float64\",\"order\":\"little\"}],[626,{\"type\":\"ndarray\",\"array\":{\"type\":\"bytes\",\"data\":\"AAAAYI0r7j8AAADgzjEewA==\"},\"shape\":[2],\"dtype\":\"float64\",\"order\":\"little\"}],[627,{\"type\":\"ndarray\",\"array\":{\"type\":\"bytes\",\"data\":\"AAAAgMXZE8AAAADA7t0hQA==\"},\"shape\":[2],\"dtype\":\"float64\",\"order\":\"little\"}],[628,{\"type\":\"ndarray\",\"array\":{\"type\":\"bytes\",\"data\":\"AAAAgAPt/r8AAAAgAMAawA==\"},\"shape\":[2],\"dtype\":\"float64\",\"order\":\"little\"}],[629,{\"type\":\"ndarray\",\"array\":{\"type\":\"bytes\",\"data\":\"AAAAYIGRCMAAAABArnYbwA==\"},\"shape\":[2],\"dtype\":\"float64\",\"order\":\"little\"}],[630,{\"type\":\"ndarray\",\"array\":{\"type\":\"bytes\",\"data\":\"AAAAAJAxG0AAAACAjlEUwA==\"},\"shape\":[2],\"dtype\":\"float64\",\"order\":\"little\"}],[631,{\"type\":\"ndarray\",\"array\":{\"type\":\"bytes\",\"data\":\"AAAA4BikC0AAAACAQ/wgQA==\"},\"shape\":[2],\"dtype\":\"float64\",\"order\":\"little\"}],[632,{\"type\":\"ndarray\",\"array\":{\"type\":\"bytes\",\"data\":\"AAAAgGQ1xD8AAABACMohwA==\"},\"shape\":[2],\"dtype\":\"float64\",\"order\":\"little\"}],[633,{\"type\":\"ndarray\",\"array\":{\"type\":\"bytes\",\"data\":\"AAAAoPkOI8AAAAAgK0rgPw==\"},\"shape\":[2],\"dtype\":\"float64\",\"order\":\"little\"}],[634,{\"type\":\"ndarray\",\"array\":{\"type\":\"bytes\",\"data\":\"AAAA4CTwIcAAAABgSdjqPw==\"},\"shape\":[2],\"dtype\":\"float64\",\"order\":\"little\"}],[635,{\"type\":\"ndarray\",\"array\":{\"type\":\"bytes\",\"data\":\"AAAAYFcoE0AAAAAAi5EEwA==\"},\"shape\":[2],\"dtype\":\"float64\",\"order\":\"little\"}],[636,{\"type\":\"ndarray\",\"array\":{\"type\":\"bytes\",\"data\":\"AAAAAMQECcAAAAAg6l4bwA==\"},\"shape\":[2],\"dtype\":\"float64\",\"order\":\"little\"}],[637,{\"type\":\"ndarray\",\"array\":{\"type\":\"bytes\",\"data\":\"AAAAoObEGsAAAACgT/sZwA==\"},\"shape\":[2],\"dtype\":\"float64\",\"order\":\"little\"}],[638,{\"type\":\"ndarray\",\"array\":{\"type\":\"bytes\",\"data\":\"AAAAwKNsE0AAAAAAUpUgwA==\"},\"shape\":[2],\"dtype\":\"float64\",\"order\":\"little\"}],[639,{\"type\":\"ndarray\",\"array\":{\"type\":\"bytes\",\"data\":\"AAAAoBW8E0AAAACArc0EwA==\"},\"shape\":[2],\"dtype\":\"float64\",\"order\":\"little\"}],[640,{\"type\":\"ndarray\",\"array\":{\"type\":\"bytes\",\"data\":\"AAAA4DeRIsAAAACADK70Pw==\"},\"shape\":[2],\"dtype\":\"float64\",\"order\":\"little\"}],[641,{\"type\":\"ndarray\",\"array\":{\"type\":\"bytes\",\"data\":\"AAAAoKz5uL8AAACg8QLlvw==\"},\"shape\":[2],\"dtype\":\"float64\",\"order\":\"little\"}],[642,{\"type\":\"ndarray\",\"array\":{\"type\":\"bytes\",\"data\":\"AAAAwL/AIkAAAABgeprsPw==\"},\"shape\":[2],\"dtype\":\"float64\",\"order\":\"little\"}],[643,{\"type\":\"ndarray\",\"array\":{\"type\":\"bytes\",\"data\":\"AAAAgEFE0T8AAACA4woNQA==\"},\"shape\":[2],\"dtype\":\"float64\",\"order\":\"little\"}],[644,{\"type\":\"ndarray\",\"array\":{\"type\":\"bytes\",\"data\":\"AAAAgJw18L8AAADATiQTwA==\"},\"shape\":[2],\"dtype\":\"float64\",\"order\":\"little\"}],[645,{\"type\":\"ndarray\",\"array\":{\"type\":\"bytes\",\"data\":\"AAAAIOcYCUAAAABAAMEUQA==\"},\"shape\":[2],\"dtype\":\"float64\",\"order\":\"little\"}],[646,{\"type\":\"ndarray\",\"array\":{\"type\":\"bytes\",\"data\":\"AAAA4JCkGcAAAADgeRIgwA==\"},\"shape\":[2],\"dtype\":\"float64\",\"order\":\"little\"}],[647,{\"type\":\"ndarray\",\"array\":{\"type\":\"bytes\",\"data\":\"AAAAQPPRAkAAAACgu7eKvw==\"},\"shape\":[2],\"dtype\":\"float64\",\"order\":\"little\"}],[648,{\"type\":\"ndarray\",\"array\":{\"type\":\"bytes\",\"data\":\"AAAAwDRcBEAAAAAgMTsUQA==\"},\"shape\":[2],\"dtype\":\"float64\",\"order\":\"little\"}],[649,{\"type\":\"ndarray\",\"array\":{\"type\":\"bytes\",\"data\":\"AAAAoKtAI0AAAAAAkkzxvw==\"},\"shape\":[2],\"dtype\":\"float64\",\"order\":\"little\"}],[650,{\"type\":\"ndarray\",\"array\":{\"type\":\"bytes\",\"data\":\"AAAAoD++IcAAAADgKcoLwA==\"},\"shape\":[2],\"dtype\":\"float64\",\"order\":\"little\"}],[651,{\"type\":\"ndarray\",\"array\":{\"type\":\"bytes\",\"data\":\"AAAAQMMTBMAAAACA6DMeQA==\"},\"shape\":[2],\"dtype\":\"float64\",\"order\":\"little\"}],[652,{\"type\":\"ndarray\",\"array\":{\"type\":\"bytes\",\"data\":\"AAAAwIetAUAAAAAAmqEiwA==\"},\"shape\":[2],\"dtype\":\"float64\",\"order\":\"little\"}],[653,{\"type\":\"ndarray\",\"array\":{\"type\":\"bytes\",\"data\":\"AAAA4EOyGkAAAABg59kcwA==\"},\"shape\":[2],\"dtype\":\"float64\",\"order\":\"little\"}],[654,{\"type\":\"ndarray\",\"array\":{\"type\":\"bytes\",\"data\":\"AAAAAPqzE8AAAAAgMNUQwA==\"},\"shape\":[2],\"dtype\":\"float64\",\"order\":\"little\"}],[655,{\"type\":\"ndarray\",\"array\":{\"type\":\"bytes\",\"data\":\"AAAAgAdXCsAAAAAguPggQA==\"},\"shape\":[2],\"dtype\":\"float64\",\"order\":\"little\"}],[656,{\"type\":\"ndarray\",\"array\":{\"type\":\"bytes\",\"data\":\"AAAA4NugIUAAAAAgBh4NwA==\"},\"shape\":[2],\"dtype\":\"float64\",\"order\":\"little\"}],[657,{\"type\":\"ndarray\",\"array\":{\"type\":\"bytes\",\"data\":\"AAAAQKQECMAAAACgv7IiwA==\"},\"shape\":[2],\"dtype\":\"float64\",\"order\":\"little\"}],[658,{\"type\":\"ndarray\",\"array\":{\"type\":\"bytes\",\"data\":\"AAAAIKnhIEAAAADA29sTQA==\"},\"shape\":[2],\"dtype\":\"float64\",\"order\":\"little\"}],[659,{\"type\":\"ndarray\",\"array\":{\"type\":\"bytes\",\"data\":\"AAAA4G1BDsAAAACgHWccQA==\"},\"shape\":[2],\"dtype\":\"float64\",\"order\":\"little\"}],[660,{\"type\":\"ndarray\",\"array\":{\"type\":\"bytes\",\"data\":\"AAAA4Eeh/78AAABASyX1vw==\"},\"shape\":[2],\"dtype\":\"float64\",\"order\":\"little\"}],[661,{\"type\":\"ndarray\",\"array\":{\"type\":\"bytes\",\"data\":\"AAAAALXiG8AAAABgvXQewA==\"},\"shape\":[2],\"dtype\":\"float64\",\"order\":\"little\"}],[662,{\"type\":\"ndarray\",\"array\":{\"type\":\"bytes\",\"data\":\"AAAAwJtCIMAAAAAAKr0SwA==\"},\"shape\":[2],\"dtype\":\"float64\",\"order\":\"little\"}],[663,{\"type\":\"ndarray\",\"array\":{\"type\":\"bytes\",\"data\":\"AAAAID2u8r8AAADg360WwA==\"},\"shape\":[2],\"dtype\":\"float64\",\"order\":\"little\"}],[664,{\"type\":\"ndarray\",\"array\":{\"type\":\"bytes\",\"data\":\"AAAAIEiGFcAAAAAAXFgewA==\"},\"shape\":[2],\"dtype\":\"float64\",\"order\":\"little\"}],[665,{\"type\":\"ndarray\",\"array\":{\"type\":\"bytes\",\"data\":\"AAAAIBFeFkAAAACg8jcPwA==\"},\"shape\":[2],\"dtype\":\"float64\",\"order\":\"little\"}],[666,{\"type\":\"ndarray\",\"array\":{\"type\":\"bytes\",\"data\":\"AAAAIEKEAMAAAABgsk4YQA==\"},\"shape\":[2],\"dtype\":\"float64\",\"order\":\"little\"}],[667,{\"type\":\"ndarray\",\"array\":{\"type\":\"bytes\",\"data\":\"AAAAwDeSH0AAAAAgrL39vw==\"},\"shape\":[2],\"dtype\":\"float64\",\"order\":\"little\"}],[668,{\"type\":\"ndarray\",\"array\":{\"type\":\"bytes\",\"data\":\"AAAAICe2qD8AAADA8AojwA==\"},\"shape\":[2],\"dtype\":\"float64\",\"order\":\"little\"}],[669,{\"type\":\"ndarray\",\"array\":{\"type\":\"bytes\",\"data\":\"AAAAoF2AI8AAAADg7be+Pw==\"},\"shape\":[2],\"dtype\":\"float64\",\"order\":\"little\"}],[670,{\"type\":\"ndarray\",\"array\":{\"type\":\"bytes\",\"data\":\"AAAAgFrWIMAAAACg6D8OwA==\"},\"shape\":[2],\"dtype\":\"float64\",\"order\":\"little\"}],[671,{\"type\":\"ndarray\",\"array\":{\"type\":\"bytes\",\"data\":\"AAAA4AnG8D8AAAAgoiQiwA==\"},\"shape\":[2],\"dtype\":\"float64\",\"order\":\"little\"}],[672,{\"type\":\"ndarray\",\"array\":{\"type\":\"bytes\",\"data\":\"AAAA4ABI4z8AAAAAa+kiwA==\"},\"shape\":[2],\"dtype\":\"float64\",\"order\":\"little\"}],[673,{\"type\":\"ndarray\",\"array\":{\"type\":\"bytes\",\"data\":\"AAAAIBqF9j8AAADAqj3svw==\"},\"shape\":[2],\"dtype\":\"float64\",\"order\":\"little\"}],[674,{\"type\":\"ndarray\",\"array\":{\"type\":\"bytes\",\"data\":\"AAAAAH7UIMAAAAAg3CMZQA==\"},\"shape\":[2],\"dtype\":\"float64\",\"order\":\"little\"}],[675,{\"type\":\"ndarray\",\"array\":{\"type\":\"bytes\",\"data\":\"AAAA4COgE8AAAADgEikXQA==\"},\"shape\":[2],\"dtype\":\"float64\",\"order\":\"little\"}],[676,{\"type\":\"ndarray\",\"array\":{\"type\":\"bytes\",\"data\":\"AAAAYJJSIsAAAABgES8BQA==\"},\"shape\":[2],\"dtype\":\"float64\",\"order\":\"little\"}],[677,{\"type\":\"ndarray\",\"array\":{\"type\":\"bytes\",\"data\":\"AAAAgLPxE0AAAAAgnk8UwA==\"},\"shape\":[2],\"dtype\":\"float64\",\"order\":\"little\"}],[678,{\"type\":\"ndarray\",\"array\":{\"type\":\"bytes\",\"data\":\"AAAAgH4bI8AAAABgT1AGQA==\"},\"shape\":[2],\"dtype\":\"float64\",\"order\":\"little\"}],[679,{\"type\":\"ndarray\",\"array\":{\"type\":\"bytes\",\"data\":\"AAAAALSw8b8AAADA8/wVwA==\"},\"shape\":[2],\"dtype\":\"float64\",\"order\":\"little\"}],[680,{\"type\":\"ndarray\",\"array\":{\"type\":\"bytes\",\"data\":\"AAAAgF0sCEAAAADALh/mvw==\"},\"shape\":[2],\"dtype\":\"float64\",\"order\":\"little\"}],[681,{\"type\":\"ndarray\",\"array\":{\"type\":\"bytes\",\"data\":\"AAAAQAewFkAAAABgN7cCwA==\"},\"shape\":[2],\"dtype\":\"float64\",\"order\":\"little\"}],[682,{\"type\":\"ndarray\",\"array\":{\"type\":\"bytes\",\"data\":\"AAAAgMbF+r8AAACgiL0iQA==\"},\"shape\":[2],\"dtype\":\"float64\",\"order\":\"little\"}],[683,{\"type\":\"ndarray\",\"array\":{\"type\":\"bytes\",\"data\":\"AAAAwIzmE0AAAABgAy4fQA==\"},\"shape\":[2],\"dtype\":\"float64\",\"order\":\"little\"}],[684,{\"type\":\"ndarray\",\"array\":{\"type\":\"bytes\",\"data\":\"AAAAwLjKCEAAAADAv+EMQA==\"},\"shape\":[2],\"dtype\":\"float64\",\"order\":\"little\"}],[685,{\"type\":\"ndarray\",\"array\":{\"type\":\"bytes\",\"data\":\"AAAAYG9jIEAAAAAAXDn0vw==\"},\"shape\":[2],\"dtype\":\"float64\",\"order\":\"little\"}],[686,{\"type\":\"ndarray\",\"array\":{\"type\":\"bytes\",\"data\":\"AAAAQDNGDUAAAACg4FAhwA==\"},\"shape\":[2],\"dtype\":\"float64\",\"order\":\"little\"}],[687,{\"type\":\"ndarray\",\"array\":{\"type\":\"bytes\",\"data\":\"AAAAwNL0EMAAAAAg8f0VwA==\"},\"shape\":[2],\"dtype\":\"float64\",\"order\":\"little\"}],[688,{\"type\":\"ndarray\",\"array\":{\"type\":\"bytes\",\"data\":\"AAAAQN+RB8AAAABAlx7jvw==\"},\"shape\":[2],\"dtype\":\"float64\",\"order\":\"little\"}],[689,{\"type\":\"ndarray\",\"array\":{\"type\":\"bytes\",\"data\":\"AAAAYLyaIMAAAAAg+uoSwA==\"},\"shape\":[2],\"dtype\":\"float64\",\"order\":\"little\"}],[690,{\"type\":\"ndarray\",\"array\":{\"type\":\"bytes\",\"data\":\"AAAAoB/8/j8AAADgL3sawA==\"},\"shape\":[2],\"dtype\":\"float64\",\"order\":\"little\"}],[691,{\"type\":\"ndarray\",\"array\":{\"type\":\"bytes\",\"data\":\"AAAAYBj8IEAAAACgnMICwA==\"},\"shape\":[2],\"dtype\":\"float64\",\"order\":\"little\"}],[692,{\"type\":\"ndarray\",\"array\":{\"type\":\"bytes\",\"data\":\"AAAAoKktCkAAAACA0FMgwA==\"},\"shape\":[2],\"dtype\":\"float64\",\"order\":\"little\"}],[693,{\"type\":\"ndarray\",\"array\":{\"type\":\"bytes\",\"data\":\"AAAAIJbyHkAAAADA9SkSwA==\"},\"shape\":[2],\"dtype\":\"float64\",\"order\":\"little\"}],[694,{\"type\":\"ndarray\",\"array\":{\"type\":\"bytes\",\"data\":\"AAAAQBHuH8AAAACAJgQYwA==\"},\"shape\":[2],\"dtype\":\"float64\",\"order\":\"little\"}],[695,{\"type\":\"ndarray\",\"array\":{\"type\":\"bytes\",\"data\":\"AAAAwD/ZH0AAAADAOFwGQA==\"},\"shape\":[2],\"dtype\":\"float64\",\"order\":\"little\"}],[696,{\"type\":\"ndarray\",\"array\":{\"type\":\"bytes\",\"data\":\"AAAAQH/IFUAAAABgyloewA==\"},\"shape\":[2],\"dtype\":\"float64\",\"order\":\"little\"}],[697,{\"type\":\"ndarray\",\"array\":{\"type\":\"bytes\",\"data\":\"AAAAQAfeE0AAAACAR+ggwA==\"},\"shape\":[2],\"dtype\":\"float64\",\"order\":\"little\"}],[698,{\"type\":\"ndarray\",\"array\":{\"type\":\"bytes\",\"data\":\"AAAAANS5tz8AAAAAKqUhQA==\"},\"shape\":[2],\"dtype\":\"float64\",\"order\":\"little\"}],[699,{\"type\":\"ndarray\",\"array\":{\"type\":\"bytes\",\"data\":\"AAAAoPUkEMAAAAAgjp8UwA==\"},\"shape\":[2],\"dtype\":\"float64\",\"order\":\"little\"}],[700,{\"type\":\"ndarray\",\"array\":{\"type\":\"bytes\",\"data\":\"AAAAoP62IEAAAAAgUwoSQA==\"},\"shape\":[2],\"dtype\":\"float64\",\"order\":\"little\"}],[701,{\"type\":\"ndarray\",\"array\":{\"type\":\"bytes\",\"data\":\"AAAAAMcqHEAAAACAFgPYPw==\"},\"shape\":[2],\"dtype\":\"float64\",\"order\":\"little\"}],[702,{\"type\":\"ndarray\",\"array\":{\"type\":\"bytes\",\"data\":\"AAAA4LlSHUAAAADgWdgVQA==\"},\"shape\":[2],\"dtype\":\"float64\",\"order\":\"little\"}],[703,{\"type\":\"ndarray\",\"array\":{\"type\":\"bytes\",\"data\":\"AAAAIDhW5r8AAAAgUDYjQA==\"},\"shape\":[2],\"dtype\":\"float64\",\"order\":\"little\"}],[704,{\"type\":\"ndarray\",\"array\":{\"type\":\"bytes\",\"data\":\"AAAAoJ/7EMAAAADgbcEYwA==\"},\"shape\":[2],\"dtype\":\"float64\",\"order\":\"little\"}],[705,{\"type\":\"ndarray\",\"array\":{\"type\":\"bytes\",\"data\":\"AAAAoFulIMAAAAAAgM8LQA==\"},\"shape\":[2],\"dtype\":\"float64\",\"order\":\"little\"}],[706,{\"type\":\"ndarray\",\"array\":{\"type\":\"bytes\",\"data\":\"AAAAIBAR478AAACAcmgdQA==\"},\"shape\":[2],\"dtype\":\"float64\",\"order\":\"little\"}],[707,{\"type\":\"ndarray\",\"array\":{\"type\":\"bytes\",\"data\":\"AAAA4BxqG8AAAABA/KwVQA==\"},\"shape\":[2],\"dtype\":\"float64\",\"order\":\"little\"}],[708,{\"type\":\"ndarray\",\"array\":{\"type\":\"bytes\",\"data\":\"AAAAIOPK5T8AAADAlBj4Pw==\"},\"shape\":[2],\"dtype\":\"float64\",\"order\":\"little\"}],[709,{\"type\":\"ndarray\",\"array\":{\"type\":\"bytes\",\"data\":\"AAAAgGdBHcAAAADAQ4zxPw==\"},\"shape\":[2],\"dtype\":\"float64\",\"order\":\"little\"}],[710,{\"type\":\"ndarray\",\"array\":{\"type\":\"bytes\",\"data\":\"AAAAoLvxH0AAAACAtnEVQA==\"},\"shape\":[2],\"dtype\":\"float64\",\"order\":\"little\"}],[711,{\"type\":\"ndarray\",\"array\":{\"type\":\"bytes\",\"data\":\"AAAAYG4UIEAAAABAelgDQA==\"},\"shape\":[2],\"dtype\":\"float64\",\"order\":\"little\"}],[712,{\"type\":\"ndarray\",\"array\":{\"type\":\"bytes\",\"data\":\"AAAAgLsOH0AAAABArroZQA==\"},\"shape\":[2],\"dtype\":\"float64\",\"order\":\"little\"}],[713,{\"type\":\"ndarray\",\"array\":{\"type\":\"bytes\",\"data\":\"AAAAYMmiHkAAAAAgi3EbwA==\"},\"shape\":[2],\"dtype\":\"float64\",\"order\":\"little\"}],[714,{\"type\":\"ndarray\",\"array\":{\"type\":\"bytes\",\"data\":\"AAAAAOg1BkAAAACgDOAeQA==\"},\"shape\":[2],\"dtype\":\"float64\",\"order\":\"little\"}],[715,{\"type\":\"ndarray\",\"array\":{\"type\":\"bytes\",\"data\":\"AAAAAFYaIcAAAADA1m0LwA==\"},\"shape\":[2],\"dtype\":\"float64\",\"order\":\"little\"}],[716,{\"type\":\"ndarray\",\"array\":{\"type\":\"bytes\",\"data\":\"AAAAQBv8IkAAAACgHf4CQA==\"},\"shape\":[2],\"dtype\":\"float64\",\"order\":\"little\"}],[717,{\"type\":\"ndarray\",\"array\":{\"type\":\"bytes\",\"data\":\"AAAAIB8UFEAAAABAW+shQA==\"},\"shape\":[2],\"dtype\":\"float64\",\"order\":\"little\"}],[718,{\"type\":\"ndarray\",\"array\":{\"type\":\"bytes\",\"data\":\"AAAAgG/dHMAAAACgqhAYwA==\"},\"shape\":[2],\"dtype\":\"float64\",\"order\":\"little\"}],[719,{\"type\":\"ndarray\",\"array\":{\"type\":\"bytes\",\"data\":\"AAAAwGTwHEAAAAAAsjoZQA==\"},\"shape\":[2],\"dtype\":\"float64\",\"order\":\"little\"}],[720,{\"type\":\"ndarray\",\"array\":{\"type\":\"bytes\",\"data\":\"AAAAQBIrIkAAAADAPAfyvw==\"},\"shape\":[2],\"dtype\":\"float64\",\"order\":\"little\"}],[721,{\"type\":\"ndarray\",\"array\":{\"type\":\"bytes\",\"data\":\"AAAAAA/TI8AAAAAgPdX5vw==\"},\"shape\":[2],\"dtype\":\"float64\",\"order\":\"little\"}],[722,{\"type\":\"ndarray\",\"array\":{\"type\":\"bytes\",\"data\":\"AAAAgB/IDEAAAADAHtUhQA==\"},\"shape\":[2],\"dtype\":\"float64\",\"order\":\"little\"}],[723,{\"type\":\"ndarray\",\"array\":{\"type\":\"bytes\",\"data\":\"AAAAgMtNCkAAAABAglAhwA==\"},\"shape\":[2],\"dtype\":\"float64\",\"order\":\"little\"}],[724,{\"type\":\"ndarray\",\"array\":{\"type\":\"bytes\",\"data\":\"AAAAwDboHMAAAACgswMdwA==\"},\"shape\":[2],\"dtype\":\"float64\",\"order\":\"little\"}],[725,{\"type\":\"ndarray\",\"array\":{\"type\":\"bytes\",\"data\":\"AAAA4D8UHkAAAACAdcz3Pw==\"},\"shape\":[2],\"dtype\":\"float64\",\"order\":\"little\"}],[726,{\"type\":\"ndarray\",\"array\":{\"type\":\"bytes\",\"data\":\"AAAAYKWI+D8AAACAccoYwA==\"},\"shape\":[2],\"dtype\":\"float64\",\"order\":\"little\"}],[727,{\"type\":\"ndarray\",\"array\":{\"type\":\"bytes\",\"data\":\"AAAAQBL0GcAAAADAmIcdQA==\"},\"shape\":[2],\"dtype\":\"float64\",\"order\":\"little\"}],[728,{\"type\":\"ndarray\",\"array\":{\"type\":\"bytes\",\"data\":\"AAAAgDAq9D8AAAAgSRsjQA==\"},\"shape\":[2],\"dtype\":\"float64\",\"order\":\"little\"}],[729,{\"type\":\"ndarray\",\"array\":{\"type\":\"bytes\",\"data\":\"AAAAYNU8BsAAAAAg/l8WwA==\"},\"shape\":[2],\"dtype\":\"float64\",\"order\":\"little\"}],[730,{\"type\":\"ndarray\",\"array\":{\"type\":\"bytes\",\"data\":\"AAAAgIdII8AAAACgpqf1Pw==\"},\"shape\":[2],\"dtype\":\"float64\",\"order\":\"little\"}],[731,{\"type\":\"ndarray\",\"array\":{\"type\":\"bytes\",\"data\":\"AAAAwOa7EMAAAADAypAgQA==\"},\"shape\":[2],\"dtype\":\"float64\",\"order\":\"little\"}],[732,{\"type\":\"ndarray\",\"array\":{\"type\":\"bytes\",\"data\":\"AAAAIFWXEEAAAABgCJgTQA==\"},\"shape\":[2],\"dtype\":\"float64\",\"order\":\"little\"}],[733,{\"type\":\"ndarray\",\"array\":{\"type\":\"bytes\",\"data\":\"AAAAQJCTGcAAAACAAPgRQA==\"},\"shape\":[2],\"dtype\":\"float64\",\"order\":\"little\"}],[734,{\"type\":\"ndarray\",\"array\":{\"type\":\"bytes\",\"data\":\"AAAAANc19L8AAABA670fwA==\"},\"shape\":[2],\"dtype\":\"float64\",\"order\":\"little\"}],[735,{\"type\":\"ndarray\",\"array\":{\"type\":\"bytes\",\"data\":\"AAAAQFRbg78AAABAadYjQA==\"},\"shape\":[2],\"dtype\":\"float64\",\"order\":\"little\"}],[736,{\"type\":\"ndarray\",\"array\":{\"type\":\"bytes\",\"data\":\"AAAAIKQXAkAAAADAQnMAQA==\"},\"shape\":[2],\"dtype\":\"float64\",\"order\":\"little\"}],[737,{\"type\":\"ndarray\",\"array\":{\"type\":\"bytes\",\"data\":\"AAAAwPwGIcAAAABAKjv4vw==\"},\"shape\":[2],\"dtype\":\"float64\",\"order\":\"little\"}],[738,{\"type\":\"ndarray\",\"array\":{\"type\":\"bytes\",\"data\":\"AAAAwJlEIUAAAAAgLhkUwA==\"},\"shape\":[2],\"dtype\":\"float64\",\"order\":\"little\"}],[739,{\"type\":\"ndarray\",\"array\":{\"type\":\"bytes\",\"data\":\"AAAAYJh90T8AAAAA1JwPQA==\"},\"shape\":[2],\"dtype\":\"float64\",\"order\":\"little\"}],[740,{\"type\":\"ndarray\",\"array\":{\"type\":\"bytes\",\"data\":\"AAAAwJQbHkAAAACg3dQXQA==\"},\"shape\":[2],\"dtype\":\"float64\",\"order\":\"little\"}],[741,{\"type\":\"ndarray\",\"array\":{\"type\":\"bytes\",\"data\":\"AAAAoNu+D0AAAADg9SEcQA==\"},\"shape\":[2],\"dtype\":\"float64\",\"order\":\"little\"}],[742,{\"type\":\"ndarray\",\"array\":{\"type\":\"bytes\",\"data\":\"AAAAgExsI8AAAAAA4Y3zvw==\"},\"shape\":[2],\"dtype\":\"float64\",\"order\":\"little\"}],[743,{\"type\":\"ndarray\",\"array\":{\"type\":\"bytes\",\"data\":\"AAAAgDvZEcAAAABgRKUhQA==\"},\"shape\":[2],\"dtype\":\"float64\",\"order\":\"little\"}],[744,{\"type\":\"ndarray\",\"array\":{\"type\":\"bytes\",\"data\":\"AAAA4NN5E8AAAAAg4EAUQA==\"},\"shape\":[2],\"dtype\":\"float64\",\"order\":\"little\"}],[745,{\"type\":\"ndarray\",\"array\":{\"type\":\"bytes\",\"data\":\"AAAAgMMHFUAAAABANrUdwA==\"},\"shape\":[2],\"dtype\":\"float64\",\"order\":\"little\"}],[746,{\"type\":\"ndarray\",\"array\":{\"type\":\"bytes\",\"data\":\"AAAAoGZ9F8AAAADgqX4fQA==\"},\"shape\":[2],\"dtype\":\"float64\",\"order\":\"little\"}],[747,{\"type\":\"ndarray\",\"array\":{\"type\":\"bytes\",\"data\":\"AAAA4J4AIkAAAACgnNvGvw==\"},\"shape\":[2],\"dtype\":\"float64\",\"order\":\"little\"}],[748,{\"type\":\"ndarray\",\"array\":{\"type\":\"bytes\",\"data\":\"AAAAAAorHEAAAABAjJsawA==\"},\"shape\":[2],\"dtype\":\"float64\",\"order\":\"little\"}],[749,{\"type\":\"ndarray\",\"array\":{\"type\":\"bytes\",\"data\":\"AAAAYNIuHsAAAADAY04AQA==\"},\"shape\":[2],\"dtype\":\"float64\",\"order\":\"little\"}],[750,{\"type\":\"ndarray\",\"array\":{\"type\":\"bytes\",\"data\":\"AAAAgPZs/T8AAAAgl+AdwA==\"},\"shape\":[2],\"dtype\":\"float64\",\"order\":\"little\"}],[751,{\"type\":\"ndarray\",\"array\":{\"type\":\"bytes\",\"data\":\"AAAAIE0C478AAAAggN0jQA==\"},\"shape\":[2],\"dtype\":\"float64\",\"order\":\"little\"}],[752,{\"type\":\"ndarray\",\"array\":{\"type\":\"bytes\",\"data\":\"AAAAwMe9HcAAAACAI6AVwA==\"},\"shape\":[2],\"dtype\":\"float64\",\"order\":\"little\"}],[753,{\"type\":\"ndarray\",\"array\":{\"type\":\"bytes\",\"data\":\"AAAAwP5Qxb8AAADAgy8iQA==\"},\"shape\":[2],\"dtype\":\"float64\",\"order\":\"little\"}],[754,{\"type\":\"ndarray\",\"array\":{\"type\":\"bytes\",\"data\":\"AAAAoODhA8AAAADAYjMgQA==\"},\"shape\":[2],\"dtype\":\"float64\",\"order\":\"little\"}],[755,{\"type\":\"ndarray\",\"array\":{\"type\":\"bytes\",\"data\":\"AAAAgDfNAEAAAADAoc/wvw==\"},\"shape\":[2],\"dtype\":\"float64\",\"order\":\"little\"}],[756,{\"type\":\"ndarray\",\"array\":{\"type\":\"bytes\",\"data\":\"AAAAoDCW4D8AAAAgVmIhwA==\"},\"shape\":[2],\"dtype\":\"float64\",\"order\":\"little\"}],[757,{\"type\":\"ndarray\",\"array\":{\"type\":\"bytes\",\"data\":\"AAAA4H3iFMAAAACAcJEWQA==\"},\"shape\":[2],\"dtype\":\"float64\",\"order\":\"little\"}],[758,{\"type\":\"ndarray\",\"array\":{\"type\":\"bytes\",\"data\":\"AAAAoKqsFEAAAACADx0ZwA==\"},\"shape\":[2],\"dtype\":\"float64\",\"order\":\"little\"}],[759,{\"type\":\"ndarray\",\"array\":{\"type\":\"bytes\",\"data\":\"AAAAoKYmGMAAAAAgHhbwPw==\"},\"shape\":[2],\"dtype\":\"float64\",\"order\":\"little\"}],[760,{\"type\":\"ndarray\",\"array\":{\"type\":\"bytes\",\"data\":\"AAAAIPjXH0AAAACAjyoRwA==\"},\"shape\":[2],\"dtype\":\"float64\",\"order\":\"little\"}],[761,{\"type\":\"ndarray\",\"array\":{\"type\":\"bytes\",\"data\":\"AAAAYKCdIsAAAADA7SwMQA==\"},\"shape\":[2],\"dtype\":\"float64\",\"order\":\"little\"}],[762,{\"type\":\"ndarray\",\"array\":{\"type\":\"bytes\",\"data\":\"AAAAAJ51IkAAAABAxtXnvw==\"},\"shape\":[2],\"dtype\":\"float64\",\"order\":\"little\"}],[763,{\"type\":\"ndarray\",\"array\":{\"type\":\"bytes\",\"data\":\"AAAAIKPxGUAAAAAAMJzVPw==\"},\"shape\":[2],\"dtype\":\"float64\",\"order\":\"little\"}],[764,{\"type\":\"ndarray\",\"array\":{\"type\":\"bytes\",\"data\":\"AAAAQEZhDUAAAAAgNIoiQA==\"},\"shape\":[2],\"dtype\":\"float64\",\"order\":\"little\"}],[765,{\"type\":\"ndarray\",\"array\":{\"type\":\"bytes\",\"data\":\"AAAAgNZnxr8AAAAguFsjwA==\"},\"shape\":[2],\"dtype\":\"float64\",\"order\":\"little\"}],[766,{\"type\":\"ndarray\",\"array\":{\"type\":\"bytes\",\"data\":\"AAAAYFcdIkAAAABABGALwA==\"},\"shape\":[2],\"dtype\":\"float64\",\"order\":\"little\"}],[767,{\"type\":\"ndarray\",\"array\":{\"type\":\"bytes\",\"data\":\"AAAAYJepAUAAAADgvHmpvw==\"},\"shape\":[2],\"dtype\":\"float64\",\"order\":\"little\"}],[768,{\"type\":\"ndarray\",\"array\":{\"type\":\"bytes\",\"data\":\"AAAAgJQIIUAAAADgt2H6vw==\"},\"shape\":[2],\"dtype\":\"float64\",\"order\":\"little\"}],[769,{\"type\":\"ndarray\",\"array\":{\"type\":\"bytes\",\"data\":\"AAAAYD5BFEAAAADgaucewA==\"},\"shape\":[2],\"dtype\":\"float64\",\"order\":\"little\"}],[770,{\"type\":\"ndarray\",\"array\":{\"type\":\"bytes\",\"data\":\"AAAAAIr7GEAAAACgsEz0Pw==\"},\"shape\":[2],\"dtype\":\"float64\",\"order\":\"little\"}],[771,{\"type\":\"ndarray\",\"array\":{\"type\":\"bytes\",\"data\":\"AAAAwHpzD0AAAABgMEwhQA==\"},\"shape\":[2],\"dtype\":\"float64\",\"order\":\"little\"}],[772,{\"type\":\"ndarray\",\"array\":{\"type\":\"bytes\",\"data\":\"AAAAoE2WFUAAAAAA7LAfQA==\"},\"shape\":[2],\"dtype\":\"float64\",\"order\":\"little\"}],[773,{\"type\":\"ndarray\",\"array\":{\"type\":\"bytes\",\"data\":\"AAAAABlSE0AAAAAA/T0bQA==\"},\"shape\":[2],\"dtype\":\"float64\",\"order\":\"little\"}],[774,{\"type\":\"ndarray\",\"array\":{\"type\":\"bytes\",\"data\":\"AAAAAF7EIcAAAABAlnUQQA==\"},\"shape\":[2],\"dtype\":\"float64\",\"order\":\"little\"}],[775,{\"type\":\"ndarray\",\"array\":{\"type\":\"bytes\",\"data\":\"AAAA4JnaIMAAAACA2ZUVwA==\"},\"shape\":[2],\"dtype\":\"float64\",\"order\":\"little\"}],[776,{\"type\":\"ndarray\",\"array\":{\"type\":\"bytes\",\"data\":\"AAAAAOx2+T8AAABAx98BwA==\"},\"shape\":[2],\"dtype\":\"float64\",\"order\":\"little\"}],[777,{\"type\":\"ndarray\",\"array\":{\"type\":\"bytes\",\"data\":\"AAAAgLE1HMAAAACg8WAGwA==\"},\"shape\":[2],\"dtype\":\"float64\",\"order\":\"little\"}],[778,{\"type\":\"ndarray\",\"array\":{\"type\":\"bytes\",\"data\":\"AAAAoCVGGUAAAABgVskRwA==\"},\"shape\":[2],\"dtype\":\"float64\",\"order\":\"little\"}],[779,{\"type\":\"ndarray\",\"array\":{\"type\":\"bytes\",\"data\":\"AAAAIFquE0AAAABglJAMwA==\"},\"shape\":[2],\"dtype\":\"float64\",\"order\":\"little\"}],[780,{\"type\":\"ndarray\",\"array\":{\"type\":\"bytes\",\"data\":\"AAAAoFXX4j8AAABA30QgwA==\"},\"shape\":[2],\"dtype\":\"float64\",\"order\":\"little\"}],[781,{\"type\":\"ndarray\",\"array\":{\"type\":\"bytes\",\"data\":\"AAAAIN+r9r8AAACAWmbVPw==\"},\"shape\":[2],\"dtype\":\"float64\",\"order\":\"little\"}],[782,{\"type\":\"ndarray\",\"array\":{\"type\":\"bytes\",\"data\":\"AAAAwNrRGEAAAAAANJsgQA==\"},\"shape\":[2],\"dtype\":\"float64\",\"order\":\"little\"}],[783,{\"type\":\"ndarray\",\"array\":{\"type\":\"bytes\",\"data\":\"AAAA4CAyEcAAAABg7SMHwA==\"},\"shape\":[2],\"dtype\":\"float64\",\"order\":\"little\"}],[784,{\"type\":\"ndarray\",\"array\":{\"type\":\"bytes\",\"data\":\"AAAAYMNdGUAAAADgVbsSQA==\"},\"shape\":[2],\"dtype\":\"float64\",\"order\":\"little\"}],[785,{\"type\":\"ndarray\",\"array\":{\"type\":\"bytes\",\"data\":\"AAAAYF54E0AAAADA2sYVwA==\"},\"shape\":[2],\"dtype\":\"float64\",\"order\":\"little\"}],[786,{\"type\":\"ndarray\",\"array\":{\"type\":\"bytes\",\"data\":\"AAAA4MROBcAAAACgjZ8eQA==\"},\"shape\":[2],\"dtype\":\"float64\",\"order\":\"little\"}],[787,{\"type\":\"ndarray\",\"array\":{\"type\":\"bytes\",\"data\":\"AAAAILCF+z8AAAAAU4chwA==\"},\"shape\":[2],\"dtype\":\"float64\",\"order\":\"little\"}],[788,{\"type\":\"ndarray\",\"array\":{\"type\":\"bytes\",\"data\":\"AAAAYH64IsAAAACgk9zkvw==\"},\"shape\":[2],\"dtype\":\"float64\",\"order\":\"little\"}],[789,{\"type\":\"ndarray\",\"array\":{\"type\":\"bytes\",\"data\":\"AAAAQCHOEcAAAAAgVk0iQA==\"},\"shape\":[2],\"dtype\":\"float64\",\"order\":\"little\"}],[790,{\"type\":\"ndarray\",\"array\":{\"type\":\"bytes\",\"data\":\"AAAA4GRBFkAAAABARZ8UQA==\"},\"shape\":[2],\"dtype\":\"float64\",\"order\":\"little\"}],[791,{\"type\":\"ndarray\",\"array\":{\"type\":\"bytes\",\"data\":\"AAAAQAArIUAAAAAgF38VQA==\"},\"shape\":[2],\"dtype\":\"float64\",\"order\":\"little\"}],[792,{\"type\":\"ndarray\",\"array\":{\"type\":\"bytes\",\"data\":\"AAAAgFDaIEAAAACA7sYFQA==\"},\"shape\":[2],\"dtype\":\"float64\",\"order\":\"little\"}],[793,{\"type\":\"ndarray\",\"array\":{\"type\":\"bytes\",\"data\":\"AAAA4KYY4r8AAAAAlyYjwA==\"},\"shape\":[2],\"dtype\":\"float64\",\"order\":\"little\"}],[794,{\"type\":\"ndarray\",\"array\":{\"type\":\"bytes\",\"data\":\"AAAAQJDvEUAAAACg0HchQA==\"},\"shape\":[2],\"dtype\":\"float64\",\"order\":\"little\"}],[795,{\"type\":\"ndarray\",\"array\":{\"type\":\"bytes\",\"data\":\"AAAAABbYIkAAAACgVhzTvw==\"},\"shape\":[2],\"dtype\":\"float64\",\"order\":\"little\"}],[796,{\"type\":\"ndarray\",\"array\":{\"type\":\"bytes\",\"data\":\"AAAAoKPqH0AAAAAgoe8SQA==\"},\"shape\":[2],\"dtype\":\"float64\",\"order\":\"little\"}],[797,{\"type\":\"ndarray\",\"array\":{\"type\":\"bytes\",\"data\":\"AAAAwAoHE0AAAAAgmEggQA==\"},\"shape\":[2],\"dtype\":\"float64\",\"order\":\"little\"}],[798,{\"type\":\"ndarray\",\"array\":{\"type\":\"bytes\",\"data\":\"AAAAQD8vBkAAAADgJVsdwA==\"},\"shape\":[2],\"dtype\":\"float64\",\"order\":\"little\"}],[799,{\"type\":\"ndarray\",\"array\":{\"type\":\"bytes\",\"data\":\"AAAAIBM5F8AAAACgID4VwA==\"},\"shape\":[2],\"dtype\":\"float64\",\"order\":\"little\"}],[800,{\"type\":\"ndarray\",\"array\":{\"type\":\"bytes\",\"data\":\"AAAAwBAGC0AAAABgl8MhwA==\"},\"shape\":[2],\"dtype\":\"float64\",\"order\":\"little\"}],[801,{\"type\":\"ndarray\",\"array\":{\"type\":\"bytes\",\"data\":\"AAAAwIfVD0AAAABAJMghwA==\"},\"shape\":[2],\"dtype\":\"float64\",\"order\":\"little\"}],[802,{\"type\":\"ndarray\",\"array\":{\"type\":\"bytes\",\"data\":\"AAAAoAT+I8AAAADAQRXgvw==\"},\"shape\":[2],\"dtype\":\"float64\",\"order\":\"little\"}],[803,{\"type\":\"ndarray\",\"array\":{\"type\":\"bytes\",\"data\":\"AAAAYA/fA8AAAABAmaITwA==\"},\"shape\":[2],\"dtype\":\"float64\",\"order\":\"little\"}],[804,{\"type\":\"ndarray\",\"array\":{\"type\":\"bytes\",\"data\":\"AAAAIIfdGsAAAABAfWIJwA==\"},\"shape\":[2],\"dtype\":\"float64\",\"order\":\"little\"}],[805,{\"type\":\"ndarray\",\"array\":{\"type\":\"bytes\",\"data\":\"AAAAoDVvHcAAAAAgCasUQA==\"},\"shape\":[2],\"dtype\":\"float64\",\"order\":\"little\"}],[806,{\"type\":\"ndarray\",\"array\":{\"type\":\"bytes\",\"data\":\"AAAAQNEK7j8AAACgvDAhQA==\"},\"shape\":[2],\"dtype\":\"float64\",\"order\":\"little\"}],[807,{\"type\":\"ndarray\",\"array\":{\"type\":\"bytes\",\"data\":\"AAAAYMUy9b8AAADgPuQGQA==\"},\"shape\":[2],\"dtype\":\"float64\",\"order\":\"little\"}],[808,{\"type\":\"ndarray\",\"array\":{\"type\":\"bytes\",\"data\":\"AAAAQKw6BsAAAAAAflIiQA==\"},\"shape\":[2],\"dtype\":\"float64\",\"order\":\"little\"}],[809,{\"type\":\"ndarray\",\"array\":{\"type\":\"bytes\",\"data\":\"AAAAIJ6BFsAAAACAiUIfwA==\"},\"shape\":[2],\"dtype\":\"float64\",\"order\":\"little\"}],[810,{\"type\":\"ndarray\",\"array\":{\"type\":\"bytes\",\"data\":\"AAAA4IVpIcAAAACgM7cUQA==\"},\"shape\":[2],\"dtype\":\"float64\",\"order\":\"little\"}],[811,{\"type\":\"ndarray\",\"array\":{\"type\":\"bytes\",\"data\":\"AAAAAD2tCcAAAACgmL4iQA==\"},\"shape\":[2],\"dtype\":\"float64\",\"order\":\"little\"}],[812,{\"type\":\"ndarray\",\"array\":{\"type\":\"bytes\",\"data\":\"AAAAAFIHGkAAAAAgvX0CwA==\"},\"shape\":[2],\"dtype\":\"float64\",\"order\":\"little\"}],[813,{\"type\":\"ndarray\",\"array\":{\"type\":\"bytes\",\"data\":\"AAAAoFd0IUAAAAAgrvfUPw==\"},\"shape\":[2],\"dtype\":\"float64\",\"order\":\"little\"}],[814,{\"type\":\"ndarray\",\"array\":{\"type\":\"bytes\",\"data\":\"AAAAYJq6E0AAAABAXFUawA==\"},\"shape\":[2],\"dtype\":\"float64\",\"order\":\"little\"}],[815,{\"type\":\"ndarray\",\"array\":{\"type\":\"bytes\",\"data\":\"AAAAoGtrIcAAAACAuUEWQA==\"},\"shape\":[2],\"dtype\":\"float64\",\"order\":\"little\"}],[816,{\"type\":\"ndarray\",\"array\":{\"type\":\"bytes\",\"data\":\"AAAAAEkCIsAAAAAAFwMBQA==\"},\"shape\":[2],\"dtype\":\"float64\",\"order\":\"little\"}],[817,{\"type\":\"ndarray\",\"array\":{\"type\":\"bytes\",\"data\":\"AAAAAJ9Mxz8AAABgHfwiQA==\"},\"shape\":[2],\"dtype\":\"float64\",\"order\":\"little\"}],[818,{\"type\":\"ndarray\",\"array\":{\"type\":\"bytes\",\"data\":\"AAAAgDg//j8AAAAgJmsEQA==\"},\"shape\":[2],\"dtype\":\"float64\",\"order\":\"little\"}],[819,{\"type\":\"ndarray\",\"array\":{\"type\":\"bytes\",\"data\":\"AAAAAKSr3T8AAADAYu4RwA==\"},\"shape\":[2],\"dtype\":\"float64\",\"order\":\"little\"}],[820,{\"type\":\"ndarray\",\"array\":{\"type\":\"bytes\",\"data\":\"AAAAYPIP/L8AAAAgf7/YPw==\"},\"shape\":[2],\"dtype\":\"float64\",\"order\":\"little\"}],[821,{\"type\":\"ndarray\",\"array\":{\"type\":\"bytes\",\"data\":\"AAAAQB5dEkAAAABAI8sfwA==\"},\"shape\":[2],\"dtype\":\"float64\",\"order\":\"little\"}],[822,{\"type\":\"ndarray\",\"array\":{\"type\":\"bytes\",\"data\":\"AAAA4DPoCUAAAACgYnoiQA==\"},\"shape\":[2],\"dtype\":\"float64\",\"order\":\"little\"}],[823,{\"type\":\"ndarray\",\"array\":{\"type\":\"bytes\",\"data\":\"AAAA4FxJH8AAAACgX/EAwA==\"},\"shape\":[2],\"dtype\":\"float64\",\"order\":\"little\"}],[824,{\"type\":\"ndarray\",\"array\":{\"type\":\"bytes\",\"data\":\"AAAAoJbv5D8AAAAA+XggQA==\"},\"shape\":[2],\"dtype\":\"float64\",\"order\":\"little\"}],[825,{\"type\":\"ndarray\",\"array\":{\"type\":\"bytes\",\"data\":\"AAAAwNf2AcAAAABAbOciwA==\"},\"shape\":[2],\"dtype\":\"float64\",\"order\":\"little\"}],[826,{\"type\":\"ndarray\",\"array\":{\"type\":\"bytes\",\"data\":\"AAAAwJomE8AAAADAG7kYwA==\"},\"shape\":[2],\"dtype\":\"float64\",\"order\":\"little\"}],[827,{\"type\":\"ndarray\",\"array\":{\"type\":\"bytes\",\"data\":\"AAAAoC+p678AAACg0gwhQA==\"},\"shape\":[2],\"dtype\":\"float64\",\"order\":\"little\"}],[828,{\"type\":\"ndarray\",\"array\":{\"type\":\"bytes\",\"data\":\"AAAAIIBc4T8AAADgw6IXwA==\"},\"shape\":[2],\"dtype\":\"float64\",\"order\":\"little\"}],[829,{\"type\":\"ndarray\",\"array\":{\"type\":\"bytes\",\"data\":\"AAAAgH7UIUAAAABAJnUSwA==\"},\"shape\":[2],\"dtype\":\"float64\",\"order\":\"little\"}],[830,{\"type\":\"ndarray\",\"array\":{\"type\":\"bytes\",\"data\":\"AAAAYKBPGMAAAADgrsUawA==\"},\"shape\":[2],\"dtype\":\"float64\",\"order\":\"little\"}],[831,{\"type\":\"ndarray\",\"array\":{\"type\":\"bytes\",\"data\":\"AAAA4HuY+L8AAADAlC4jwA==\"},\"shape\":[2],\"dtype\":\"float64\",\"order\":\"little\"}],[832,{\"type\":\"ndarray\",\"array\":{\"type\":\"bytes\",\"data\":\"AAAAgEP7EcAAAABA2HQdwA==\"},\"shape\":[2],\"dtype\":\"float64\",\"order\":\"little\"}],[833,{\"type\":\"ndarray\",\"array\":{\"type\":\"bytes\",\"data\":\"AAAAQFS2IUAAAADABlTsvw==\"},\"shape\":[2],\"dtype\":\"float64\",\"order\":\"little\"}],[834,{\"type\":\"ndarray\",\"array\":{\"type\":\"bytes\",\"data\":\"AAAAAAnaAcAAAACgA3ocQA==\"},\"shape\":[2],\"dtype\":\"float64\",\"order\":\"little\"}],[835,{\"type\":\"ndarray\",\"array\":{\"type\":\"bytes\",\"data\":\"AAAAwJ7RIcAAAADATZUTwA==\"},\"shape\":[2],\"dtype\":\"float64\",\"order\":\"little\"}],[836,{\"type\":\"ndarray\",\"array\":{\"type\":\"bytes\",\"data\":\"AAAAYFFd9r8AAABA/YciQA==\"},\"shape\":[2],\"dtype\":\"float64\",\"order\":\"little\"}]]}}},\"node_renderer\":{\"type\":\"object\",\"name\":\"GlyphRenderer\",\"id\":\"p1093\",\"attributes\":{\"data_source\":{\"type\":\"object\",\"name\":\"ColumnDataSource\",\"id\":\"p1090\",\"attributes\":{\"selected\":{\"type\":\"object\",\"name\":\"Selection\",\"id\":\"p1092\",\"attributes\":{\"indices\":[],\"line_indices\":[]}},\"selection_policy\":{\"type\":\"object\",\"name\":\"UnionRenderers\",\"id\":\"p1091\"},\"data\":{\"type\":\"map\",\"entries\":[[\"name\",[\"parabola_intuition_1\",\"circles_and_arcs\",\"inscribed_angles_3\",\"solving_quadratics_by_factoring\",\"graphing_parabolas_1\",\"inverses_of_functions\",\"one_step_equations\",\"one_step_inequalities\",\"number_properties_terminology_1\",\"angles_2\",\"angle_types\",\"addition_3\",\"compound_inequalities\",\"distributive_property_with_variables\",\"equation_of_a_circle_1\",\"distance_between_point_and_line\",\"midpoint_formula\",\"properties_of_numbers_2\",\"properties_of_incenters\",\"measuring_lengths_1\",\"fractional_division_life_problem\",\"volume_container_hight\",\"polynomial_concept_and_proper_noun\",\"understanding_square_rectangular\",\"baseline_compareline_application\",\"vertical_and_parallel\",\"decimal_multiplier_calculation\",\"calculations_using_similar_shapes\",\"quadratics_word_problems\",\"represent_by_symbol_dividend\",\"quadratic_polynomial_word_problem\",\"estimation_three-digit_add_sub\",\"arithmetic_means\",\"recording_life _problem_by_expressions\",\"seq_understanding_sequence_2\",\"place_value_big_number\",\"matrix_basic_product\",\"speed_applying\",\"completing_the_square_1_new\",\"basic_graph_and_composite_graph_area\",\"side_length_cube_and_relationship_with_volume_cuboid\",\"judging_axis_of_symmetry\",\"realizing_inequalities\",\"perimeter_1\",\"graphing_systems_of_equations\",\"exponents_3\",\"reading_pictographs_2\",\"lhopitals_rule\",\"multiplying_polynomials\",\"kinematic_equations\",\"creating_bar_charts_1\",\"telling_time\",\"proportions_1\",\"linear_equations_2\",\"converting_repeating_decimals_to_fractions_1\",\"exponents_2\",\"solving_similar_triangles_2\",\"creating_box_and_whisker_plots\",\"subtraction_within_20\",\"quadratic_function_word_problem\",\"parallelogram_concept_and_application\",\"radical_multiplication_and_division\",\"arithmetic_sequences_3\",\"vector_add_sub_two\",\"concepts_related_to_diamond\",\"fractions_cut_and_copy\",\"cross_multiplication_advanced\",\"radius_diameter_and_circumference_1\",\"matrix_basic_percentage\",\"time_terminology\",\"cone_surface_arc\",\"multiplication_formula_minus\",\"environment_bctest_cap\",\"areas_of_kites\",\"arithmetic_reasoning\",\"adding_and_subtracting_centimeter_and_millimeter\",\"rate_problems_0.5\",\"evaluating_expressions_2\",\"graphing_inequalities\",\"radical_equations\",\"empirical_rule\",\"multiplying_fractions_0.5\",\"exploring_angle_pairs_1\",\"adding_subtracting_mixed_numbers_0.5\",\"equation_of_an_ellipse\",\"solid_geometry\",\"z_scores_1\",\"division_1.5\",\"dividing_fractions\",\"graphing_linear_equations\",\"prime_numbers\",\"converting_decimals_to_fractions_1\",\"solving_for_the_y-intercept\",\"addition_4\",\"the_complex_plane\",\"geometry_1\",\"divisibility_0.5\",\"linear_equations_4\",\"least_common_multiple\",\"factoring_polynomials_with_two_variables\",\"absolute_value\",\"multiplying_complex_numbers\",\"area_of_triangles_1\",\"geometry_proofs_intro\",\"converse_inverse_and_contrapositive\",\"the_fundamental_theorem_of_arithmetic\",\"arithmetic_series\",\"perimeter_deduction\",\"time_units_transformation_1\",\"triangles_congruent_nature_sas\",\"metric_weight_unit_conversion\",\"integers_multiply_decimals\",\"dividing_polynomials_2\",\"interpreting_negative_numbers\",\"understand_equivalent_axiom\",\"writing_expressions_w_two_var\",\"comparing_decimals_1\",\"kg_g_time_div\",\"absolute_values_meaning\",\"altitude_and_hypotenuse\",\"basic_compared_with_the_reference_quantity\",\"areas_of_rhombi\",\"integers_multiply_decimals2\",\"metric_weight_unit_word_problem\",\"l_ml_transform\",\"age_problems\",\"rate_unit_transform\",\"application_of_linear_equations_1\",\"midpoint_coordinates\",\"number_sense_length_l2\",\"common_form_for_life\",\"understand_range_of_graphie\",\"combinations_of_polynomials\",\"ordering_improper_fractions_and_mixed_numbers\",\"factoring_polynomials_2\",\"rate_problems_1\",\"systems_of_equations_with_elimination_0.5\",\"similar_triangles_review\",\"arithmetic_word_problems_2\",\"perimeter_of_squares_and_rectangles\",\"least_common_multiple_and_greatest_common_divisor_word_problems\",\"adding_subtracting_mixed_numbers_1\",\"evaluating_expressions_1\",\"constant_function_and_a_fuction\",\"seq-arithmetic-sequences-l2\",\"multiplying_and_dividing_negative_numbers_new\",\"meaning_congruent_planar_graph\",\"hundred_million_adding_and_subtracting\",\"cube_volume_calculation\",\"area_relationship_larger_narrow_num\",\"count_number_to_20_2\",\"ecology_bctest_cap\",\"recognize_num_less_than_10000\",\"metric_area_unit_conversion\",\"quadratic_function_concept\",\"dividing_fractions_0.5\",\"equation_of_a_line\",\"factoring_difference_of_squares_2\",\"trig_identities_1\",\"greatest_common_divisor\",\"equation_of_a_circle_2\",\"angles_of_a_polygon\",\"trigonometry_2\",\"reading_pictographs_1\",\"power_rule\",\"converting_between_point_slope_and_slope_intercept\",\"linear_inequalities\",\"reading_tables_1\",\"converting_fractions_to_decimals\",\"dividing_decimals\",\"combining_like_terms_1\",\"imaginary_unit_powers\",\"congruent_angles\",\"radius_diameter_and_circumference\",\"conditional_statements_2\",\"vertical_angles_2\",\"derivatives_1\",\"ratio_word_problems\",\"matrix_mul_zero_one\",\"computing_law_with_power\",\"number_sense_length_l3\",\"volume_space\",\"ungroup_median\",\"multiple_brackets\",\"completing_the_square_2_new\",\"understand_large_numbers_and_conversion\",\"compare_shapes\",\"time_units_transformation_3\",\"application_division_large_nums\",\"addition_two_numbers\",\"absolute_value_add_sub_properties\",\"constructing_and_interpreting_absolute_value\",\"dividing_polynomials_6\",\"matrix_mul_two\",\"multiple_proportions_reasoning\",\"seq_understanding_sequence_1\",\"naming_shapes_2\",\"multiplication_association_word_problems\",\"comparison_between_numbers_within_ten\",\"measuring_lengths_2\",\"metric_weight_unit_selection\",\"speed_equal_to_distance_divide_time\",\"pythagorean_thaorem_application\",\"order_by_length\",\"gcd_of_life\",\"quadratic_function_graphing\",\"tenfold_and_hundred_fold\",\"polygon_geometry_characteristic\",\"seq_understaning_arithmetic_sequence_1\",\"time_word_problem_2\",\"sectors_as_fraction_of_circles_1\",\"solving_linear_inequalities\",\"multiplying_decimal_integer\",\"compound_numbers_world_problems\",\"place_value_concept\",\"ordering_numbers\",\"converting_between_slope_intercept_and_standard_form\",\"adding_and_subtracting_polynomials\",\"triangle_inequality_theorem\",\"counting_2\",\"multiplying_fractions\",\"subtracting_decimals\",\"alternate_interior_angles_2\",\"similar_triangles_1\",\"simplifying_expressions_with_exponents\",\"addition_1\",\"supplementary_angles\",\"division_word_problems_2\",\"division_2.9\",\"matrix_mul_two\",\"matrix_add_sub_2\",\"volume_box_cover\",\"ratio_money\",\"volume_of_rectangular_boxes_3\",\"understanding_comparing_angle\",\"seq-understaning-arithmetic-sequence\",\"application_of_scientific_notation_2\",\"simple_calculation_of_composite_volume\",\"nature_of_isosceles_triangle\",\"negative_numbers_multiply_divide\",\"matrix_add_zero_negative\",\"planar_graph_resizing\",\"division_4\",\"inequalities_on_a_number_line\",\"new_definitions_2\",\"areas_of_trapezoids_rhombi_and_kites\",\"same_side_exterior_angles_2\",\"congruency_postulates\",\"independent_probability\",\"adding_fractions\",\"absolute_value_equations\",\"range_of_a_function\",\"angles_1\",\"logical_arguments_deductive_reasoning\",\"conditional_statements_and_truth_value\",\"exponents_1\",\"absolute_value_of_complex_numbers\",\"understanding_decimals_place_value\",\"same_side_exterior_angles\",\"counting_1\",\"proportions_2\",\"alternate_exterior_angles_2\",\"adding_and_subtracting_negative_numbers\",\"subtraction_4\",\"perimeter_of_sector\",\"angle_of_osculation\",\"radius_diameter_and_circumference_314_1\",\"equivalent_fractions_conversion\",\"understand_percentage\",\"radius_and_diameter\",\"evolution_bctest_cap\",\"l_ml_arithmatic\",\"common_factor_advance\",\"multiple_unit_transate\",\"subtraction_and_addition\",\"special_right_triangles\",\"basic_concepts_of_probability_1\",\"finding_axis_of_symmetry\",\"planting_problems\",\"combining_like_terms_with_two_variables\",\"find_gcd_and_lcm\",\"graphing_scaling\",\"definition_opposite_number\",\"scale\",\"pyramidal_prism\",\"comparison_between_numbers_within_ten_0.5\",\"arithmetic_series_1\",\"kg_g_unit_transform2\",\"graphing_points_fraction_2\",\"surface_area_of_cylinders\",\"decimals_on_the_number_line_2_new\",\"seq_sequence_pattern_1\",\"percentage_concept\",\"proportional_calculation\",\"reproduction\",\"geometry_categorial_proposition\",\"arc_length_and_circular_sector_area\",\"count_numbers\",\"number_sense_weight_l3\",\"basic_concept_of_congruent_triangles\",\"number_sequence_within_ten\",\"solving_for_the_x-intercept\",\"systems_of_equations\",\"division_0.5\",\"line_relationships\",\"inverse_trig_functions\",\"converting_decimals_to_fractions_2\",\"multiplying_mixed_numbers_1\",\"recognizing_fractions_0.5\",\"triangle_angles_1\",\"derivative_intuition\",\"angle types\",\"domain_and_range_0.5\",\"similar_triangles_2\",\"product_rule\",\"place_value\",\"dividing_decimals_0.5\",\"area_of_squares_and_rectangles\",\"division_1.4\",\"inequalities_and_expressions\",\"dividing_polynomials_4\",\"basic_concepts_of_probability_2\",\"composing_shapes\",\"solving_problems_with_picture_graphs_1\",\"number_sense_weight_l2\",\"geometry_about_circle_concept\",\"addition_of_vary_denominator_fraction\",\"converting_percents_to_decimals\",\"alternate_exterior_angles\",\"fractions_cut_and_copy_2\",\"graphing_parabolas_0.5\",\"inscribed_angles_2\",\"mean_median_and_mode\",\"converting_mixed_numbers_and_improper_fractions\",\"shifting_and_reflecting_functions\",\"multiplying_and_dividing_negative_numbers\",\"fractions_on_the_number_line_1\",\"dividing_decimals_2\",\"variance\",\"reading_stem_and_leaf_plots\",\"adding_negative_numbers\",\"number_line_3\",\"converting_decimals_to_percents\",\"common_factors_of_a_polynomial_1\",\"area_of_a_circle\",\"z_scores_2\",\"expressions_with_unknown_variables\",\"telling_time_comparing\",\"sides_and_angles_of_simple_shapes\",\"writing_and_interpreting_decimals\",\"meaning_of_equal_sign\",\"common_factor\",\"adding_decimals_1\",\"proportional_or_inverse_proportional\",\"graphing_points_fraction_1\",\"proportional_life_problems\",\"systems_of_equ_substitution_2\",\"triangle_central_core_concept\",\"reading_fractions_in_chinese\",\"dividing_decimals_int_to_int_0.5\",\"applications_of_index\",\"systems_of_equations_with_elimination_2\",\"range_of_triangle_sides_2\",\"make_a_line_by_ruler_and_compasses\",\"relationships_linear_equations\",\"calculating_averages_advanced\",\"variables_word_problems_2\",\"volume_of_triangular_prisms\",\"variables_word_problems_1\",\"square_cm_square_m_unit_transform\",\"inheritance_bctest_cap\",\"integer_arithmetic\",\"inverse_proportional_calculation\",\"factor_word_problems\",\"dividing_polynomials_3\",\"volume_box\",\"finding_percentage\",\"number_line_4\",\"cuboid_volume_calculation\",\"fraction_integer\",\"volume_container\",\"count_number_to_50\",\"interpreting_linear_equations\",\"linear_equations_3\",\"factoring_difference_of_squares_4\",\"expressions_with_unknown_variables_2\",\"congruent_triangles_1\",\"division_1\",\"rounding_whole_numbers\",\"completing_the_square_2\",\"age_word_problems\",\"simplifying_fractions\",\"factoring_difference_of_squares_3\",\"quadratic_equation\",\"parallel_lines_2\",\"geometry_proofs_1\",\"subtraction_3\",\"recognizing_rays_lines_and_line_segments\",\"comparing_decimal_place_value\",\"matrix_row_operation\",\"area_of_a_circle2\",\"equal_parts_of_circles_and_rectangles\",\"volume_box_nocover\",\"statistical_table_and_chart\",\"calculation_of_proportions\",\"lines_plane_vertical_parallel\",\"fractions_word_problem\",\"adding_decimals_0.5_new\",\"seq_sequence_exam_3\",\"equivalent_fractions_2\",\"systems_of_equations_with_elimination\",\"logarithms_2\",\"multiplication_2\",\"ordering_objects\",\"complementary_and_supplementary_angles\",\"negative_number_word_problems\",\"line_graph_intuition\",\"reading_bar_charts_3\",\"same_side_interior_angles\",\"reading_tables_2\",\"divisibility_intuition\",\"cube_roots\",\"multiplication_0.5\",\"adding_decimals_0.5\",\"division_2\",\"ordering_fractions\",\"slope_of_a_line\",\"multiplying_and_dividing_scientific_notation\",\"probability_1\",\"adding_and_subtracting_decimals_word_problems\",\"decimals_on_the_number_line_2\",\"combining_like_terms_2\",\"herons_formula\",\"subtraction_2\",\"adding_and_subtracting_fractions\",\"quotient_rule\",\"number_line\",\"multiplying_radicals\",\"even_and_odd_functions\",\"shaded_areas\",\"multiplication_1\",\"matrix_gaussian_elimination\",\"geometric_construction\",\"regular_number_of_columns\",\"regrouping_decimals\",\"adding_decimals_2_new\",\"basic_concept_of_circumcenter\",\"millimeter_and_centimeter\",\"seq-arithmetic-sequences-l1\",\"multiplication_formula_sub\",\"understand_coins\",\"parts_of_circles\",\"number_sense_length_l1\",\"measuring_and_comparing_angles\",\"l_ml_word_problem\",\"marking_inequalities_range_on_a_number_line\",\"multiplying_and_dividing\",\"count_one_by_one_1\",\"square_root_calculation_3\",\"skip_counting_by_5s\",\"complex_fraction\",\"life_1\",\"notation_calculation_type\",\"cube_rectangular_and_regular_tetrahedron\",\"moving_points\",\"multiplying_fractions_by_integers\",\"draw_a_pie_chart\",\"decimals_distributive_law_of_multiplication\",\"multiplication_with_carrying\",\"symmetry_concept_and_application\",\"number_line_0.5\",\"one_step_equation_problems\",\"adding_subtracting_no_carry_3\",\"inequality_properties\",\"comparing_with_multiplication\",\"recognizing_fractions\",\"decimals_on_the_number_line_1\",\"rounding_numbers\",\"one_step_equations_0.5\",\"identifying_points_2\",\"geometry_proofs_2\",\"parabola_intuition_3\",\"attributs_of_shapes\",\"negative_nums_on_num_line_without_reference_to_zero\",\"count_number_to_100\",\"sort-groups-by-count_1\",\"fractions_and_percentage_of_exchange\",\"ratio_and_the_ratio_of\",\"matrix_mul_two_2\",\"time_word_problem_5\",\"get_gcd_and_lcm\",\"writing_expressions_3\",\"adding_and_subtracting_within_20\",\"short_divide_gcf_and_lcm\",\"represent_by_symbol_multiplier\",\"multiplication_word_problems\",\"seq-arithmetic-means-1\",\"simplifying_rational_expressions_2\",\"exponents_4\",\"simplifying_radicals\",\"percentage_word_problems_1\",\"distance_formula\",\"permutations_1\",\"systems_of_equations_with_substitution\",\"exploring_mean_and_median\",\"angle-types\",\"writing_expressions_1\",\"factoring_polynomials_3\",\"fractions_on_the_number_line_3\",\"subtracting_fractions_with_common_denominators\",\"adding_decimals_2\",\"adding_and_subtracting_radicals\",\"graphing_points\",\"corresponding_angles_2\",\"inscribed_angles_1\",\"slope_intercept_form\",\"functions_3\",\"rate_problems_2\",\"reading_line_charts_1\",\"percentage_word_problems_2\",\"segment_addition\",\"pythagorean_theorem_2\",\"arithmetic_word_problems_1\",\"factoring_difference_of_squares_1\",\"recognizing_conic_sections\",\"multiplying_2_digits_by_2_digits_with_area_models\",\"adding_subtracting_dicimals_fractions_and_percentage\",\"adding_subtracting_carry_2\",\"area_of_fans\",\"length_word_problem\",\"angle_rotation\",\"linear_equations_word_problems_2\",\"define_one_function\",\"kg_g_unit_transform\",\"recognize_graph_zoom_effect\",\"seq_understaning_arithmetic_sequence_2\",\"systems_of_equ_substitution_1\",\"add_subtract_negative_fractions\",\"systems_of_equations_with_elimination_3\",\"systems_of_equ_elimination_1\",\"large_angle_long_edge\",\"classification_bctest_cap\",\"recognize_decimal_percentile_position\",\"volume_of_rectangular_boxes_2\",\"eval_expressions_w_two_var\",\"matrix_submatrix\",\"application_of_scientific_notation\",\"re_graphics\",\"multiplying_fractions_and_whole_numbers_word_problems\",\"operations_with_negative_numbers\",\"matrix_mul_scalar\",\"sequences_word_problems\",\"seq_sequence_pattern_2\",\"seq-arithmetic-means-2\",\"word_problem_formula_translate\",\"triangles_similar_nature\",\"inequality_symbol_word_problems\",\"simplify_expressions_w_two_var_2\",\"dividing_polynomials_1\",\"number_line_0.7\",\"corresponding_angles\",\"subtracting_decimals_0.5\",\"composite_numbers\",\"graphing_inequalities_2\",\"pythagorean_theorem_1\",\"parallel_lines_1\",\"division_word_problems_1\",\"number_line_0.5_new\",\"volume_of_cylinders\",\"dividing_decimals_int_to_int_0.7\",\"polygon_similarity\",\"multiplication_formula_1\",\"volume_of_rectangular_boxes\",\"narrative_and_opposite_narrative\",\"multiplication_formula_add\",\"kg_g_arithmatic\",\"consistency_bctest_cap\",\"time_units_transformation_2\",\"multiplicative_problems\",\"number_sense_weight_l1\",\"using_fractions_to_divide_pizzas_pies_and_cakes\",\"adding_decimals\",\"multiplication_3\",\"divisibility\",\"trigonometry_1\",\"multiplication_4\",\"linear_equations_1\",\"solving_for_a_variable\",\"converting_repeating_decimals_to_fractions_2\",\"solutions_to_systems_of_equations\",\"comparing_fractions_2\",\"plotting_the_line_of_best_fit\",\"square_roots_2\",\"number_line_2\",\"factoring_polynomials_by_grouping_1\",\"significant_figures_1\",\"radians_and_degrees\",\"fractions_on_the_number_line_2\",\"angle_addition_postulate\",\"radians_to_degrees\",\"subtracting_fractions\",\"equation_of_a_hyperbola\",\"units\",\"arithmetic_word_problems\",\"factorization_quadratic_polynomial\",\"matrix_app_fruit_oil\",\"count_number_to_20\",\"the_four_arithmetic_exponentially\",\"simplify_expressions_w_two_var_3\",\"radius_angle_by_percentage\",\"matrix_transpose\",\"parallel_lines_proportion\",\"interpreting_absolute_value\",\"range_quarter_case_chart\",\"separation_and_union\",\"baseline_compareline\",\"dividing_polynomials_5\",\"age_problems_new\",\"application_of_linear_equations_2\",\"simple_hologram_concept\",\"seq_sequence_exam_2\",\"areas_of_trapezoids\",\"circumferential_angle\",\"decimal_two_steps\",\"morning_afternoon_night\",\"absolute_value_add_sub\",\"sectors_as_fraction_of_circles_2\",\"approximate_number\",\"parallel_and_perpendicular\",\"area_relationship_larger_narrow_graph\",\"km_m_unit_transform\",\"subtraction_of_vary_denominator_fraction\",\"trapezoid_concept_and_application\",\"matrix_app_fruit_oil\",\"four_operations_and_decimal_fraction\",\"understanding_moving_the_decimal\",\"comparing_improper_fractions_and_mixed_numbers\",\"simplifying_rational_expressions_1\",\"estimation_with_decimals\",\"multiplying_decimals\",\"multiplying_expressions_1\",\"functions_2\",\"dividing_complex_numbers\",\"triangle_types\",\"limits_1\",\"prime_factorization\",\"common_factors_of_a_polynomial_2\",\"scientific_notation_intuition\",\"writing_expressions_2\",\"angle_bisector_theorem\",\"scaling_vectors\",\"skip_counting_by_10s\",\"application_add_large_nums\",\"gcd_and_lcm_word_problems\",\"dividing_polynomials\",\"multiplication_and_division_word_problems\",\"understand_length_unit\",\"seq-understaning-arithmetic-sequence-1\",\"difference_between_solid_and_plane_graphics\",\"ordering_negative_numbers\",\"multiplying_expressions_0.5\",\"reading_bar_charts_2\",\"graphing_systems_of_inequalities\",\"quadrilateral_angles\",\"z_scores_3\",\"telling_time_0.5\",\"representing_numbers\",\"divisibility_tests\",\"point_slope_form\",\"systems_of_equations_word_problems\",\"chain_rule_1\",\"fractions_cut_and_copy_1\",\"graphing_parabolas_2\",\"factoring_polynomials_1\",\"graphs_of_sine_and_cosine\",\"new_definitions_1\",\"area_1\",\"solving_similar_triangles_1\",\"dependent_probability\",\"limits_2\",\"addition_2\",\"subtraction_1\",\"identifying_points_1\",\"same_side_interior_angles_2\",\"trigonometry_1.5\",\"exploring_standard_deviation_1\",\"special_derivatives\",\"writing_proportions\",\"order_of_operations\",\"graphing_systems_of_inequalities_2\",\"graphing_points_2\",\"triangles_congruent_nature_aas\",\"triangle_length_of_side\",\"solving_linear_equations\",\"visualizing_equivalent_fraction\",\"basic_concept_of_similar_shapes\",\"comparing_lengths\",\"rates_and_ratios\",\"repeated_addition\",\"halves_and_fourths\",\"volume_unit_conversion\",\"denominator_comparison\",\"seq-understaning-arithmetic-sequence-2\",\"time_word_problem_3\",\"number_line_0.7_new\",\"multiply_by_tens\",\"time_word_problem_1\",\"special_triangle_and_quadrilateral_concept\",\"metric_area_unit_comparison\",\"simplify_expressions_w_two_var_1\",\"transportation_bctest_cap\",\"perimeter_of_combined_shapes\",\"adding_subtracting_carry_3\",\"understanding_km\",\"subtract_of_positive_negative_fraction\",\"complex_number_polar_form_intuition_new\",\"triangles_congruent_nature_asa\",\"ratio\",\"comparing_decimals_2\",\"quadratic_function_maximum_and_minimum\",\"triangles_congruent_nature_sss\",\"application_of_gcd_and_lcm_1\",\"volume_and_cc\",\"comparing_size\",\"chickens_and_rabbits_questions\",\"number_within_fifty\",\"recognizing_shapes\",\"triangles_congruent_nature_rhs\",\"reproduction_bctest_cap\",\"represent_by_symbol_subtrahend\",\"recognizing_factoring\",\"solving_problems_with_line_plots_1\",\"scientific_notation_decimals\",\"fraction_word_problems_1\",\"adding_fractions_with_common_denominators\",\"domain_of_a_function\",\"functions_1\",\"distributive_property\",\"comparing_objects\",\"vertical_angles\",\"unit_circle\",\"multiplication_1.5\",\"dividing_fractions_word_problems\",\"plugging_in_values\",\"solving_quadratics_by_taking_the_square_root\",\"lcm_word_problems\",\"recording_life_problem_by_expressions\",\"writing_fractions_1\",\"fraction_and_per_swap_divide\",\"l_ml_time_div\",\"naming_shapes\",\"simple_hologram_surface_area\",\"coordination_bctest_cap\",\"date_and_weekday\",\"exponent_rules\",\"points_lines_and_planes\",\"multiplying_fractions_word_problems\",\"expressing_ratios_as_fractions\",\"properties_of_numbers_1\",\"dividing_decimals_1\",\"markup_and_commission_word_problems\",\"comparing_absolute_values\",\"standard_deviation\",\"equivalent_fractions\",\"completing_the_square_1\",\"trigonometry_0.5\",\"solving_quadratics_by_factoring_2\",\"scientific_notation\",\"complementary_angles\",\"square_roots\",\"parabola_intuition_2\",\"congruent_segments\",\"midpoint_of_a_segment\",\"areas_of_circles_and_sectors\",\"alternate_interior_angles\",\"degrees_to_radians\",\"reading_bar_charts_1\",\"adding_vectors\",\"telling_time_2\",\"comparing_fractions_1\",\"measuring_angles\",\"congruent_triangles_2\",\"measuring_segments\",\"axis_of_symmetry\",\"average_word_problems\",\"division_3\",\"radius_angle\",\"meters_and_centimeters_conversion\",\"meters_and_centimeters\",\"skip_counting_by_100s\",\"matrix_row_echelon\",\"scale_see_compare_see\",\"understand_circle\",\"matrix_triangular_and_symmetric\",\"factorization_by_add_sub_square\",\"cc_and_cubic_meter_conversion\",\"ratio_discount\",\"nutrition_bctest_cap\",\"measuring_lengths_with_different_units\",\"concepts_related_to_kite\",\"multiplication_and_division_order\",\"concepts_related_to_parallelogram\",\"one_more_one_less\",\"represent_by_symbol_addend\",\"time_word_problem_4\",\"fraction_of_one_step_to_unknow_formula\",\"graphs_of_linear_equations\",\"matrix_add_sub_3\",\"triangle_angles_sum\",\"filling_rectangles_with_same-sized_squares\",\"unit_conversion_rate\",\"cell_bctest_cap\",\"advanced_fraction\",\"addition_within_20\",\"surface_area_of_rectangular_boxes\",\"g_and_kg_word_problems\",\"area_unit_cm_square\",\"vertical_concepts\",\"direct_and_inverse_variation\",\"quadrilateral_types\",\"area_of_parallelograms\",\"discount_tax_and_tip_word_problems\",\"adding_and_subtracting_complex_numbers\",\"vertex_of_a_parabola\",\"logarithms_1\",\"division_0.9\",\"proportions_inner_outer_product\",\"area_of_triangular_shapes\",\"seq_sequence_exam_1\",\"position_relation_between_circle_point\",\"number_sense_weight_L1\",\"decomposing_fractions\",\"matrix_basic_distance\",\"ordering_decimals_new\",\"simplificate_ractional_formula\",\"geometry_identification_concept\",\"simplify_the_root_type\"]],[\"index\",[0,1,2,3,4,5,6,7,8,9,10,11,12,13,14,15,16,17,18,19,20,21,22,23,24,25,26,27,28,29,30,31,32,33,34,35,36,37,38,39,40,41,42,43,44,45,46,47,48,49,50,51,52,53,54,55,56,57,58,59,60,61,62,63,64,65,66,67,68,69,70,71,72,73,74,75,76,77,78,79,80,81,82,83,84,85,86,87,88,89,90,91,92,93,94,95,96,97,98,99,100,101,102,103,104,105,106,107,108,109,110,111,112,113,114,115,116,117,118,119,120,121,122,123,124,125,126,127,128,129,130,131,132,133,134,135,136,137,138,139,140,141,142,143,144,145,146,147,148,149,150,151,152,153,154,155,156,157,158,159,160,161,162,163,164,165,166,167,168,169,170,171,172,173,174,175,176,177,178,179,180,181,182,183,184,185,186,187,188,189,190,191,192,193,194,195,196,197,198,199,200,201,202,203,204,205,206,207,208,209,210,211,212,213,214,215,216,217,218,219,220,221,222,223,224,225,226,227,228,229,230,231,232,233,234,235,236,237,238,239,240,241,242,243,244,245,246,247,248,249,250,251,252,253,254,255,256,257,258,259,260,261,262,263,264,265,266,267,268,269,270,271,272,273,274,275,276,277,278,279,280,281,282,283,284,285,286,287,288,289,290,291,292,293,294,295,296,297,298,299,300,301,302,303,304,305,306,307,308,309,310,311,312,313,314,315,316,317,318,319,320,321,322,323,324,325,326,327,328,329,330,331,332,333,334,335,336,337,338,339,340,341,342,343,344,345,346,347,348,349,350,351,352,353,354,355,356,357,358,359,360,361,362,363,364,365,366,367,368,369,370,371,372,373,374,375,376,377,378,379,380,381,382,383,384,385,386,387,388,389,390,391,392,393,394,395,396,397,398,399,400,401,402,403,404,405,406,407,408,409,410,411,412,413,414,415,416,417,418,419,420,421,422,423,424,425,426,427,428,429,430,431,432,433,434,435,436,437,438,439,440,441,442,443,444,445,446,447,448,449,450,451,452,453,454,455,456,457,458,459,460,461,462,463,464,465,466,467,468,469,470,471,472,473,474,475,476,477,478,479,480,481,482,483,484,485,486,487,488,489,490,491,492,493,494,495,496,497,498,499,500,501,502,503,504,505,506,507,508,509,510,511,512,513,514,515,516,517,518,519,520,521,522,523,524,525,526,527,528,529,530,531,532,533,534,535,536,537,538,539,540,541,542,543,544,545,546,547,548,549,550,551,552,553,554,555,556,557,558,559,560,561,562,563,564,565,566,567,568,569,570,571,572,573,574,575,576,577,578,579,580,581,582,583,584,585,586,587,588,589,590,591,592,593,594,595,596,597,598,599,600,601,602,603,604,605,606,607,608,609,610,611,612,613,614,615,616,617,618,619,620,621,622,623,624,625,626,627,628,629,630,631,632,633,634,635,636,637,638,639,640,641,642,643,644,645,646,647,648,649,650,651,652,653,654,655,656,657,658,659,660,661,662,663,664,665,666,667,668,669,670,671,672,673,674,675,676,677,678,679,680,681,682,683,684,685,686,687,688,689,690,691,692,693,694,695,696,697,698,699,700,701,702,703,704,705,706,707,708,709,710,711,712,713,714,715,716,717,718,719,720,721,722,723,724,725,726,727,728,729,730,731,732,733,734,735,736,737,738,739,740,741,742,743,744,745,746,747,748,749,750,751,752,753,754,755,756,757,758,759,760,761,762,763,764,765,766,767,768,769,770,771,772,773,774,775,776,777,778,779,780,781,782,783,784,785,786,787,788,789,790,791,792,793,794,795,796,797,798,799,800,801,802,803,804,805,806,807,808,809,810,811,812,813,814,815,816,817,818,819,820,821,822,823,824,825,826,827,828,829,830,831,832,833,834,835,836]]]}}},\"view\":{\"type\":\"object\",\"name\":\"CDSView\",\"id\":\"p1094\",\"attributes\":{\"filter\":{\"type\":\"object\",\"name\":\"AllIndices\",\"id\":\"p1095\"}}},\"glyph\":{\"type\":\"object\",\"name\":\"Circle\",\"id\":\"p1120\",\"attributes\":{\"size\":{\"type\":\"value\",\"value\":15},\"fill_color\":{\"type\":\"value\",\"value\":\"skyblue\"}}}}},\"edge_renderer\":{\"type\":\"object\",\"name\":\"GlyphRenderer\",\"id\":\"p1102\",\"attributes\":{\"data_source\":{\"type\":\"object\",\"name\":\"ColumnDataSource\",\"id\":\"p1099\",\"attributes\":{\"selected\":{\"type\":\"object\",\"name\":\"Selection\",\"id\":\"p1101\",\"attributes\":{\"indices\":[],\"line_indices\":[]}},\"selection_policy\":{\"type\":\"object\",\"name\":\"UnionRenderers\",\"id\":\"p1100\"},\"data\":{\"type\":\"map\",\"entries\":[[\"start\",[0,1,1,1,1,2,3,3,7,8,9,9,9,9,9,9,10,10,14,14,14,18,19,27,34,34,36,36,37,38,41,43,44,44,44,45,45,48,48,48,51,52,52,53,54,55,55,55,55,56,57,62,62,62,64,64,66,68,68,69,69,69,73,76,78,81,81,83,85,86,87,87,88,89,89,91,92,93,97,97,97,98,98,100,100,101,104,108,108,110,110,110,110,111,112,116,121,122,122,124,124,127,128,129,134,134,135,136,138,139,139,142,142,142,142,147,149,150,153,154,155,156,156,156,156,157,159,159,162,162,162,163,166,166,167,167,170,171,176,176,177,186,195,199,201,205,208,209,210,211,217,217,218,219,219,219,220,220,221,221,223,223,224,225,230,230,232,234,240,240,243,248,252,255,257,259,260,262,262,262,263,276,279,286,289,291,297,300,302,303,303,306,306,308,308,309,309,310,313,313,315,315,315,315,316,317,317,317,317,323,324,330,331,332,332,332,333,333,335,335,335,335,337,338,338,340,341,341,341,344,345,346,349,351,359,360,362,374,382,382,382,383,383,383,383,383,383,383,383,387,388,389,390,391,391,391,391,392,393,394,395,396,397,397,397,397,398,399,401,404,406,406,409,410,412,416,416,417,419,419,420,420,422,424,424,425,426,428,428,431,433,434,436,436,437,439,440,440,446,447,448,451,452,452,454,455,457,459,462,470,476,476,477,477,477,479,480,484,484,485,487,491,491,494,496,499,499,499,500,501,503,504,506,506,506,511,511,512,512,512,512,514,515,517,518,520,520,520,520,520,520,523,524,524,528,533,535,536,537,539,540,540,542,543,543,546,549,553,555,558,558,559,561,564,564,567,571,572,573,574,575,579,581,581,582,584,586,586,586,586,590,592,592,593,596,597,598,602,603,606,610,612,614,615,616,620,625,626,626,628,629,635,635,636,639,640,641,641,643,643,643,644,645,645,647,648,648,651,654,659,660,660,662,663,663,663,665,666,671,673,673,673,675,676,677,677,679,680,680,680,681,684,684,687,688,688,688,688,688,688,690,699,701,704,705,706,708,708,709,709,709,714,714,719,725,726,729,732,733,734,736,736,736,736,737,739,741,744,749,750,754,755,755,755,755,757,758,759,763,767,767,767,769,770,773,773,776,776,776,777,778,779,780,781,781,781,781,781,781,781,781,781,781,783,783,784,785,785,786,790,798,799,803,804,806,807,807,812,813,818,818,819,819,819,819,820,820,823,824,826,827,828,834]],[\"end\",[770,210,325,786,829,265,604,766,455,462,73,121,247,621,819,820,226,768,84,160,601,446,199,570,208,291,399,610,810,184,469,139,136,503,589,498,824,71,351,571,778,52,260,383,588,45,421,754,769,27,292,32,128,286,632,707,30,36,832,189,624,753,284,135,563,155,220,141,751,345,424,566,671,44,78,306,301,152,54,346,587,721,745,612,761,642,253,187,577,123,200,533,713,122,374,718,722,26,212,271,454,531,106,180,99,594,517,410,655,269,451,6,77,114,506,188,281,725,708,205,20,89,171,217,304,392,204,373,158,305,674,46,211,473,163,419,431,94,164,686,232,482,34,696,37,719,535,804,626,556,524,660,362,428,443,502,406,756,429,593,313,783,607,681,240,807,796,530,178,545,7,678,9,360,447,219,697,100,145,526,274,321,709,551,70,552,459,285,669,387,825,327,467,336,475,218,649,176,677,695,35,214,257,388,359,102,181,375,814,731,298,4,2,182,613,784,597,636,8,255,737,758,169,685,762,262,113,282,483,400,664,385,398,272,569,55,238,320,92,426,806,97,127,250,390,675,693,736,818,87,477,393,746,81,333,757,779,794,49,611,480,472,234,755,771,780,444,793,809,194,580,812,701,539,525,668,743,466,339,403,96,667,440,228,420,215,416,248,276,834,396,714,450,567,170,432,303,705,357,788,144,792,129,452,749,319,614,651,554,704,290,430,110,153,627,354,207,698,789,130,283,366,368,29,553,79,437,511,519,16,536,332,125,617,648,61,564,288,479,682,690,331,216,126,591,258,328,363,418,560,774,157,0,14,296,287,448,356,465,361,547,692,833,233,619,236,537,828,629,112,654,377,221,202,275,470,574,543,104,449,117,324,111,510,585,684,42,53,512,777,425,458,836,341,740,508,643,76,456,150,790,191,300,24,192,408,190,264,528,25,149,623,700,133,635,730,438,516,252,540,808,679,105,583,767,115,491,350,616,340,48,640,689,64,799,801,51,297,329,3,134,744,244,816,56,137,310,11,31,422,433,162,521,826,74,358,504,634,676,724,464,401,267,559,474,703,273,630,544,557,608,326,631,59,381,750,494,546,805,831,143,154,312,532,197,598,468,38,75,196,224,405,442,628,817,487,17,337,409,427,595,732,179,330,289,568,50,518,661,650,347,590,453,109,241,534,599,691,716,720,727,775,835,41,277,365,242,316,622,441,723,60,729,489,364,63,550,460,58,293,372,18,161,295,663,39,773,481,411,355,369,620,183]]]}}},\"view\":{\"type\":\"object\",\"name\":\"CDSView\",\"id\":\"p1103\",\"attributes\":{\"filter\":{\"type\":\"object\",\"name\":\"AllIndices\",\"id\":\"p1104\"}}},\"glyph\":{\"type\":\"object\",\"name\":\"MultiLine\",\"id\":\"p1128\",\"attributes\":{\"line_alpha\":{\"type\":\"value\",\"value\":0.5}}}}},\"selection_policy\":{\"type\":\"object\",\"name\":\"NodesOnly\",\"id\":\"p1096\"},\"inspection_policy\":{\"type\":\"object\",\"name\":\"NodesOnly\",\"id\":\"p1097\"}}}],\"toolbar\":{\"type\":\"object\",\"name\":\"Toolbar\",\"id\":\"p1054\",\"attributes\":{\"tools\":[{\"type\":\"object\",\"name\":\"PanTool\",\"id\":\"p1077\"},{\"type\":\"object\",\"name\":\"WheelZoomTool\",\"id\":\"p1078\"},{\"type\":\"object\",\"name\":\"SaveTool\",\"id\":\"p1079\"},{\"type\":\"object\",\"name\":\"ResetTool\",\"id\":\"p1080\"},{\"type\":\"object\",\"name\":\"HoverTool\",\"id\":\"p1081\",\"attributes\":{\"renderers\":\"auto\",\"tooltips\":[[\"Name\",\"@index\"]]}}],\"active_scroll\":{\"id\":\"p1078\"}}},\"left\":[{\"type\":\"object\",\"name\":\"LinearAxis\",\"id\":\"p1070\",\"attributes\":{\"ticker\":{\"type\":\"object\",\"name\":\"BasicTicker\",\"id\":\"p1071\",\"attributes\":{\"mantissas\":[1,2,5]}},\"formatter\":{\"type\":\"object\",\"name\":\"BasicTickFormatter\",\"id\":\"p1073\"},\"major_label_policy\":{\"type\":\"object\",\"name\":\"AllLabels\",\"id\":\"p1072\"}}}],\"below\":[{\"type\":\"object\",\"name\":\"LinearAxis\",\"id\":\"p1063\",\"attributes\":{\"ticker\":{\"type\":\"object\",\"name\":\"BasicTicker\",\"id\":\"p1064\",\"attributes\":{\"mantissas\":[1,2,5]}},\"formatter\":{\"type\":\"object\",\"name\":\"BasicTickFormatter\",\"id\":\"p1066\"},\"major_label_policy\":{\"type\":\"object\",\"name\":\"AllLabels\",\"id\":\"p1065\"}}}],\"center\":[{\"type\":\"object\",\"name\":\"Grid\",\"id\":\"p1069\",\"attributes\":{\"axis\":{\"id\":\"p1063\"}}},{\"type\":\"object\",\"name\":\"Grid\",\"id\":\"p1076\",\"attributes\":{\"dimension\":1,\"axis\":{\"id\":\"p1070\"}}}]}}]}};\n",
       "  const render_items = [{\"docid\":\"28c03faf-12c6-4682-a269-2a8f3b981a4c\",\"roots\":{\"p1047\":\"5d9af0ff-7c17-4812-811a-36ec2561c5ba\"},\"root_ids\":[\"p1047\"]}];\n",
       "  root.Bokeh.embed.embed_items_notebook(docs_json, render_items);\n",
       "  }\n",
       "  if (root.Bokeh !== undefined) {\n",
       "    embed_document(root);\n",
       "  } else {\n",
       "    let attempts = 0;\n",
       "    const timer = setInterval(function(root) {\n",
       "      if (root.Bokeh !== undefined) {\n",
       "        clearInterval(timer);\n",
       "        embed_document(root);\n",
       "      } else {\n",
       "        attempts++;\n",
       "        if (attempts > 100) {\n",
       "          clearInterval(timer);\n",
       "          console.log(\"Bokeh: ERROR: Unable to run BokehJS code because BokehJS library is missing\");\n",
       "        }\n",
       "      }\n",
       "    }, 10, root)\n",
       "  }\n",
       "})(window);"
      ],
      "application/vnd.bokehjs_exec.v0+json": ""
     },
     "metadata": {
      "application/vnd.bokehjs_exec.v0+json": {
       "id": "p1047"
      }
     },
     "output_type": "display_data"
    }
   ],
   "source": [
    "#Choose a title!\n",
    "title = 'Junyi Knowledge Graph'\n",
    "\n",
    "#Establish which categories will appear when hovering over each node\n",
    "HOVER_TOOLTIPS = [(\"Name\", \"@index\")]\n",
    "\n",
    "#Create a plot — set dimensions, toolbar, and title\n",
    "plot = figure(tooltips = HOVER_TOOLTIPS,\n",
    "              tools=\"pan,wheel_zoom,save,reset\", active_scroll='wheel_zoom',\n",
    "            x_range=Range1d(-10.1, 10.1), y_range=Range1d(-10.1, 10.1), title=title)\n",
    "\n",
    "#Create a network graph object with spring layout\n",
    "# https://networkx.github.io/documentation/networkx-1.9/reference/generated/networkx.drawing.layout.spring_layout.html\n",
    "network_graph = from_networkx(G, nx.spring_layout, scale=10, center=(0, 0))\n",
    "\n",
    "#Set node size and color\n",
    "network_graph.node_renderer.glyph = Circle(size=15, fill_color='skyblue')\n",
    "\n",
    "#Set edge opacity and width\n",
    "network_graph.edge_renderer.glyph = MultiLine(line_alpha=0.5, line_width=1)\n",
    "\n",
    "#Add network graph to the plot\n",
    "plot.renderers.append(network_graph)\n",
    "\n",
    "show(plot)\n",
    "#save(plot, filename=f\"{title}.html\")"
   ]
  },
  {
   "cell_type": "markdown",
   "metadata": {},
   "source": [
    "# statistics check"
   ]
  },
  {
   "cell_type": "code",
   "execution_count": 35,
   "metadata": {
    "collapsed": true
   },
   "outputs": [
    {
     "name": "stdout",
     "output_type": "stream",
     "text": [
      "number of NaN in column user_id: 0\n",
      "number of NaN in column exercise: 0\n",
      "number of NaN in column problem_type: 0\n",
      "number of NaN in column problem_number: 0\n",
      "number of NaN in column topic_mode: 0\n",
      "number of NaN in column suggested: 0\n",
      "number of NaN in column review_mode: 0\n",
      "number of NaN in column time_done: 0\n",
      "number of NaN in column time_taken: 0\n",
      "number of NaN in column time_taken_attempts: 62365\n",
      "number of NaN in column correct: 0\n",
      "number of NaN in column count_attempts: 0\n",
      "number of NaN in column hint_used: 0\n",
      "number of NaN in column count_hints: 0\n",
      "number of NaN in column hint_time_taken_list: 24254263\n",
      "number of NaN in column earned_proficiency: 0\n",
      "number of NaN in column points_earned: 0\n",
      "number of unique value in user_id: 247606\n",
      "number of unique value in exercise: 722\n",
      "25925992\n"
     ]
    }
   ],
   "source": [
    "check_nan(log)\n",
    "count_unique(log, ['user_id', 'exercise'])\n",
    "print(len(log))"
   ]
  },
  {
   "cell_type": "code",
   "execution_count": 37,
   "metadata": {},
   "outputs": [
    {
     "name": "stdout",
     "output_type": "stream",
     "text": [
      "20314363\n"
     ]
    }
   ],
   "source": [
    "remove_thres = 200\n",
    "log = remove_log(log, 'user_id', num=remove_thres)\n",
    "print(len(log))"
   ]
  },
  {
   "cell_type": "code",
   "execution_count": null,
   "metadata": {},
   "outputs": [],
   "source": [
    "# 50: 23907121\n",
    "# 60: 23590779"
   ]
  },
  {
   "cell_type": "markdown",
   "metadata": {},
   "source": [
    "# pre-process"
   ]
  },
  {
   "cell_type": "code",
   "execution_count": 58,
   "metadata": {},
   "outputs": [],
   "source": [
    "# create new data\n",
    "df = pd.DataFrame(columns=['user_id', 'problem_id', 'skill_id', 'timestamp', 'dwell_time', 'correct'])\n",
    "df.user_id = log.user_id\n",
    "df.problem_id = log.exercise\n",
    "df.skill_id = log.exercise\n",
    "df.timestamp = log.time_done\n",
    "df.dwell_time = log.time_taken\n",
    "df.correct = log.correct * 1"
   ]
  },
  {
   "cell_type": "code",
   "execution_count": 59,
   "metadata": {},
   "outputs": [
    {
     "data": {
      "text/html": [
       "<div>\n",
       "<style scoped>\n",
       "    .dataframe tbody tr th:only-of-type {\n",
       "        vertical-align: middle;\n",
       "    }\n",
       "\n",
       "    .dataframe tbody tr th {\n",
       "        vertical-align: top;\n",
       "    }\n",
       "\n",
       "    .dataframe thead th {\n",
       "        text-align: right;\n",
       "    }\n",
       "</style>\n",
       "<table border=\"1\" class=\"dataframe\">\n",
       "  <thead>\n",
       "    <tr style=\"text-align: right;\">\n",
       "      <th></th>\n",
       "      <th>user_id</th>\n",
       "      <th>problem_id</th>\n",
       "      <th>skill_id</th>\n",
       "      <th>timestamp</th>\n",
       "      <th>dwell_time</th>\n",
       "      <th>correct</th>\n",
       "    </tr>\n",
       "  </thead>\n",
       "  <tbody>\n",
       "    <tr>\n",
       "      <th>0</th>\n",
       "      <td>12884</td>\n",
       "      <td>time_terminology</td>\n",
       "      <td>time_terminology</td>\n",
       "      <td>1420714810324490</td>\n",
       "      <td>4</td>\n",
       "      <td>0</td>\n",
       "    </tr>\n",
       "    <tr>\n",
       "      <th>4</th>\n",
       "      <td>147151</td>\n",
       "      <td>subtraction_2</td>\n",
       "      <td>subtraction_2</td>\n",
       "      <td>1382650905730160</td>\n",
       "      <td>4</td>\n",
       "      <td>1</td>\n",
       "    </tr>\n",
       "    <tr>\n",
       "      <th>6</th>\n",
       "      <td>126493</td>\n",
       "      <td>telling_time_2</td>\n",
       "      <td>telling_time_2</td>\n",
       "      <td>1395367016571340</td>\n",
       "      <td>19</td>\n",
       "      <td>0</td>\n",
       "    </tr>\n",
       "    <tr>\n",
       "      <th>8</th>\n",
       "      <td>91712</td>\n",
       "      <td>representing_numbers</td>\n",
       "      <td>representing_numbers</td>\n",
       "      <td>1395808884278610</td>\n",
       "      <td>4</td>\n",
       "      <td>1</td>\n",
       "    </tr>\n",
       "    <tr>\n",
       "      <th>9</th>\n",
       "      <td>13719</td>\n",
       "      <td>multiplication_1</td>\n",
       "      <td>multiplication_1</td>\n",
       "      <td>1394098238458960</td>\n",
       "      <td>2</td>\n",
       "      <td>1</td>\n",
       "    </tr>\n",
       "  </tbody>\n",
       "</table>\n",
       "</div>"
      ],
      "text/plain": [
       "   user_id            problem_id              skill_id         timestamp  \\\n",
       "0    12884      time_terminology      time_terminology  1420714810324490   \n",
       "4   147151         subtraction_2         subtraction_2  1382650905730160   \n",
       "6   126493        telling_time_2        telling_time_2  1395367016571340   \n",
       "8    91712  representing_numbers  representing_numbers  1395808884278610   \n",
       "9    13719      multiplication_1      multiplication_1  1394098238458960   \n",
       "\n",
       "   dwell_time  correct  \n",
       "0           4        0  \n",
       "4           4        1  \n",
       "6          19        0  \n",
       "8           4        1  \n",
       "9           2        1  "
      ]
     },
     "execution_count": 59,
     "metadata": {},
     "output_type": "execute_result"
    }
   ],
   "source": [
    "df.head()"
   ]
  },
  {
   "cell_type": "code",
   "execution_count": 60,
   "metadata": {},
   "outputs": [],
   "source": [
    "df = df.sort_values('timestamp', ascending=True)"
   ]
  },
  {
   "cell_type": "code",
   "execution_count": 61,
   "metadata": {
    "scrolled": false
   },
   "outputs": [
    {
     "data": {
      "text/html": [
       "<div>\n",
       "<style scoped>\n",
       "    .dataframe tbody tr th:only-of-type {\n",
       "        vertical-align: middle;\n",
       "    }\n",
       "\n",
       "    .dataframe tbody tr th {\n",
       "        vertical-align: top;\n",
       "    }\n",
       "\n",
       "    .dataframe thead th {\n",
       "        text-align: right;\n",
       "    }\n",
       "</style>\n",
       "<table border=\"1\" class=\"dataframe\">\n",
       "  <thead>\n",
       "    <tr style=\"text-align: right;\">\n",
       "      <th></th>\n",
       "      <th>user_id</th>\n",
       "      <th>problem_id</th>\n",
       "      <th>skill_id</th>\n",
       "      <th>timestamp</th>\n",
       "      <th>dwell_time</th>\n",
       "      <th>correct</th>\n",
       "    </tr>\n",
       "  </thead>\n",
       "  <tbody>\n",
       "    <tr>\n",
       "      <th>16566284</th>\n",
       "      <td>101006</td>\n",
       "      <td>area_of_a_circle</td>\n",
       "      <td>area_of_a_circle</td>\n",
       "      <td>1350023005827490</td>\n",
       "      <td>15</td>\n",
       "      <td>1</td>\n",
       "    </tr>\n",
       "    <tr>\n",
       "      <th>5363433</th>\n",
       "      <td>109333</td>\n",
       "      <td>solid_geometry</td>\n",
       "      <td>solid_geometry</td>\n",
       "      <td>1350037552915380</td>\n",
       "      <td>37</td>\n",
       "      <td>1</td>\n",
       "    </tr>\n",
       "    <tr>\n",
       "      <th>24911409</th>\n",
       "      <td>109333</td>\n",
       "      <td>solid_geometry</td>\n",
       "      <td>solid_geometry</td>\n",
       "      <td>1350037566856140</td>\n",
       "      <td>6</td>\n",
       "      <td>1</td>\n",
       "    </tr>\n",
       "    <tr>\n",
       "      <th>16321743</th>\n",
       "      <td>109333</td>\n",
       "      <td>solid_geometry</td>\n",
       "      <td>solid_geometry</td>\n",
       "      <td>1350037575120770</td>\n",
       "      <td>29</td>\n",
       "      <td>0</td>\n",
       "    </tr>\n",
       "    <tr>\n",
       "      <th>4570457</th>\n",
       "      <td>109333</td>\n",
       "      <td>solid_geometry</td>\n",
       "      <td>solid_geometry</td>\n",
       "      <td>1350037604733250</td>\n",
       "      <td>14</td>\n",
       "      <td>0</td>\n",
       "    </tr>\n",
       "  </tbody>\n",
       "</table>\n",
       "</div>"
      ],
      "text/plain": [
       "          user_id        problem_id          skill_id         timestamp  \\\n",
       "16566284   101006  area_of_a_circle  area_of_a_circle  1350023005827490   \n",
       "5363433    109333    solid_geometry    solid_geometry  1350037552915380   \n",
       "24911409   109333    solid_geometry    solid_geometry  1350037566856140   \n",
       "16321743   109333    solid_geometry    solid_geometry  1350037575120770   \n",
       "4570457    109333    solid_geometry    solid_geometry  1350037604733250   \n",
       "\n",
       "          dwell_time  correct  \n",
       "16566284          15        1  \n",
       "5363433           37        1  \n",
       "24911409           6        1  \n",
       "16321743          29        0  \n",
       "4570457           14        0  "
      ]
     },
     "execution_count": 61,
     "metadata": {},
     "output_type": "execute_result"
    }
   ],
   "source": [
    "df.head()"
   ]
  },
  {
   "cell_type": "code",
   "execution_count": 62,
   "metadata": {},
   "outputs": [],
   "source": [
    "# re-index\n",
    "# - skill\n",
    "df['skill_name'] = df['skill_id']\n",
    "skill_dict = dict(zip(ex_new_id.exercise_name, ex_new_id.exercise_id))\n",
    "df['skill_id'] = df['skill_id'].apply(lambda x: skill_dict[x])\n",
    "# - problem\n",
    "df['problem_id'] = df['skill_id']\n",
    "# - student\n",
    "stu_id = list(df['user_id'].unique())\n",
    "stu_dict = dict(zip(stu_id, range(len(stu_id))))\n",
    "df['user_id'] = df['user_id'].apply(lambda x: stu_dict[x])"
   ]
  },
  {
   "cell_type": "code",
   "execution_count": 64,
   "metadata": {},
   "outputs": [],
   "source": [
    "df = df.astype({\n",
    "    'timestamp': np.float64,\n",
    "    'dwell_time': np.float64,\n",
    "    'correct': np.float64,\n",
    "    'problem_id': np.int64,\n",
    "    'skill_id': np.int64\n",
    "    })"
   ]
  },
  {
   "cell_type": "code",
   "execution_count": 65,
   "metadata": {},
   "outputs": [],
   "source": [
    "# Save\n",
    "df.to_csv(bath_path+'interactions_{}.csv'.format(remove_thres), sep='\\t', index=False)"
   ]
  },
  {
   "cell_type": "code",
   "execution_count": 66,
   "metadata": {},
   "outputs": [
    {
     "name": "stdout",
     "output_type": "stream",
     "text": [
      "number of unique value in user_id: 26629\n",
      "number of unique value in problem_id: 721\n",
      "number of unique value in skill_id: 721\n",
      "number of unique value in timestamp: 20312955\n",
      "number of unique value in dwell_time: 6634\n",
      "number of unique value in correct: 2\n",
      "number of unique value in skill_name: 721\n"
     ]
    },
    {
     "data": {
      "text/plain": [
       "20314363"
      ]
     },
     "execution_count": 66,
     "metadata": {},
     "output_type": "execute_result"
    }
   ],
   "source": [
    "count_unique(df, list(df.columns))\n",
    "len(df)"
   ]
  },
  {
   "cell_type": "code",
   "execution_count": null,
   "metadata": {},
   "outputs": [],
   "source": []
  }
 ],
 "metadata": {
  "interpreter": {
   "hash": "3c2509e27662ce56f108009dad52848cf38f1485dce3b4941071b3bbc5cf42be"
  },
  "kernelspec": {
   "display_name": "Python 3 (ipykernel)",
   "language": "python",
   "name": "python3"
  },
  "language_info": {
   "codemirror_mode": {
    "name": "ipython",
    "version": 3
   },
   "file_extension": ".py",
   "mimetype": "text/x-python",
   "name": "python",
   "nbconvert_exporter": "python",
   "pygments_lexer": "ipython3",
   "version": "3.9.12"
  }
 },
 "nbformat": 4,
 "nbformat_minor": 2
}
