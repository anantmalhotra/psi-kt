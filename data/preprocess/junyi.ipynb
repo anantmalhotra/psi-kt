{
 "cells": [
  {
   "cell_type": "code",
   "execution_count": 1,
   "metadata": {},
   "outputs": [],
   "source": [
    "import numpy as np\n",
    "import pandas as pd\n",
    "from collections import defaultdict\n",
    "import operator\n",
    "from utils import *"
   ]
  },
  {
   "cell_type": "markdown",
   "metadata": {},
   "source": [
    "modified 0310"
   ]
  },
  {
   "cell_type": "markdown",
   "metadata": {},
   "source": [
    "# 1. statistics overview"
   ]
  },
  {
   "cell_type": "code",
   "execution_count": 3,
   "metadata": {},
   "outputs": [],
   "source": [
    "bath_path = '/mnt/qb/work/mlcolab/hzhou52/kt/junyi15/'\n",
    "\n",
    "# exercise 837, topic 41, area 9\n",
    "exercise = pd.read_csv(bath_path+'junyi_Exercise_table.csv', encoding = \"utf-8\",low_memory=False) \n",
    "relation = pd.read_csv(bath_path+'relationship_annotation_training.csv', encoding = \"utf-8\",low_memory=False)\n",
    "original_log = pd.read_csv(bath_path+'junyi_ProblemLog_original.csv', encoding = \"utf-8\",low_memory=False)"
   ]
  },
  {
   "cell_type": "code",
   "execution_count": 4,
   "metadata": {},
   "outputs": [
    {
     "data": {
      "text/html": [
       "<div>\n",
       "<style scoped>\n",
       "    .dataframe tbody tr th:only-of-type {\n",
       "        vertical-align: middle;\n",
       "    }\n",
       "\n",
       "    .dataframe tbody tr th {\n",
       "        vertical-align: top;\n",
       "    }\n",
       "\n",
       "    .dataframe thead th {\n",
       "        text-align: right;\n",
       "    }\n",
       "</style>\n",
       "<table border=\"1\" class=\"dataframe\">\n",
       "  <thead>\n",
       "    <tr style=\"text-align: right;\">\n",
       "      <th></th>\n",
       "      <th>user_id</th>\n",
       "      <th>exercise</th>\n",
       "      <th>problem_type</th>\n",
       "      <th>problem_number</th>\n",
       "      <th>topic_mode</th>\n",
       "      <th>suggested</th>\n",
       "      <th>review_mode</th>\n",
       "      <th>time_done</th>\n",
       "      <th>time_taken</th>\n",
       "      <th>time_taken_attempts</th>\n",
       "      <th>correct</th>\n",
       "      <th>count_attempts</th>\n",
       "      <th>hint_used</th>\n",
       "      <th>count_hints</th>\n",
       "      <th>hint_time_taken_list</th>\n",
       "      <th>earned_proficiency</th>\n",
       "      <th>points_earned</th>\n",
       "    </tr>\n",
       "  </thead>\n",
       "  <tbody>\n",
       "    <tr>\n",
       "      <th>0</th>\n",
       "      <td>12884</td>\n",
       "      <td>time_terminology</td>\n",
       "      <td>analog_word</td>\n",
       "      <td>1</td>\n",
       "      <td>False</td>\n",
       "      <td>False</td>\n",
       "      <td>False</td>\n",
       "      <td>1420714810324490</td>\n",
       "      <td>4</td>\n",
       "      <td>3&amp;1</td>\n",
       "      <td>False</td>\n",
       "      <td>2</td>\n",
       "      <td>False</td>\n",
       "      <td>0</td>\n",
       "      <td>NaN</td>\n",
       "      <td>False</td>\n",
       "      <td>0</td>\n",
       "    </tr>\n",
       "    <tr>\n",
       "      <th>1</th>\n",
       "      <td>239464</td>\n",
       "      <td>multiplication_1</td>\n",
       "      <td>0</td>\n",
       "      <td>6</td>\n",
       "      <td>False</td>\n",
       "      <td>False</td>\n",
       "      <td>False</td>\n",
       "      <td>1403098400836660</td>\n",
       "      <td>2</td>\n",
       "      <td>2</td>\n",
       "      <td>True</td>\n",
       "      <td>1</td>\n",
       "      <td>False</td>\n",
       "      <td>0</td>\n",
       "      <td>NaN</td>\n",
       "      <td>False</td>\n",
       "      <td>14</td>\n",
       "    </tr>\n",
       "    <tr>\n",
       "      <th>2</th>\n",
       "      <td>147359</td>\n",
       "      <td>adding_decimals_0.5</td>\n",
       "      <td>0</td>\n",
       "      <td>6</td>\n",
       "      <td>False</td>\n",
       "      <td>False</td>\n",
       "      <td>False</td>\n",
       "      <td>1418890695540340</td>\n",
       "      <td>16</td>\n",
       "      <td>16</td>\n",
       "      <td>True</td>\n",
       "      <td>1</td>\n",
       "      <td>False</td>\n",
       "      <td>0</td>\n",
       "      <td>NaN</td>\n",
       "      <td>False</td>\n",
       "      <td>75</td>\n",
       "    </tr>\n",
       "    <tr>\n",
       "      <th>3</th>\n",
       "      <td>158155</td>\n",
       "      <td>multiplication_1</td>\n",
       "      <td>0</td>\n",
       "      <td>3</td>\n",
       "      <td>False</td>\n",
       "      <td>False</td>\n",
       "      <td>False</td>\n",
       "      <td>1400469444264040</td>\n",
       "      <td>2</td>\n",
       "      <td>2</td>\n",
       "      <td>True</td>\n",
       "      <td>1</td>\n",
       "      <td>False</td>\n",
       "      <td>0</td>\n",
       "      <td>NaN</td>\n",
       "      <td>False</td>\n",
       "      <td>75</td>\n",
       "    </tr>\n",
       "    <tr>\n",
       "      <th>4</th>\n",
       "      <td>147151</td>\n",
       "      <td>subtraction_2</td>\n",
       "      <td>subtraction-2</td>\n",
       "      <td>10</td>\n",
       "      <td>True</td>\n",
       "      <td>True</td>\n",
       "      <td>False</td>\n",
       "      <td>1382650905730160</td>\n",
       "      <td>4</td>\n",
       "      <td>4</td>\n",
       "      <td>True</td>\n",
       "      <td>1</td>\n",
       "      <td>False</td>\n",
       "      <td>0</td>\n",
       "      <td>NaN</td>\n",
       "      <td>False</td>\n",
       "      <td>225</td>\n",
       "    </tr>\n",
       "  </tbody>\n",
       "</table>\n",
       "</div>"
      ],
      "text/plain": [
       "   user_id             exercise   problem_type  problem_number  topic_mode  \\\n",
       "0    12884     time_terminology    analog_word               1       False   \n",
       "1   239464     multiplication_1              0               6       False   \n",
       "2   147359  adding_decimals_0.5              0               6       False   \n",
       "3   158155     multiplication_1              0               3       False   \n",
       "4   147151        subtraction_2  subtraction-2              10        True   \n",
       "\n",
       "   suggested  review_mode         time_done  time_taken time_taken_attempts  \\\n",
       "0      False        False  1420714810324490           4                 3&1   \n",
       "1      False        False  1403098400836660           2                   2   \n",
       "2      False        False  1418890695540340          16                  16   \n",
       "3      False        False  1400469444264040           2                   2   \n",
       "4       True        False  1382650905730160           4                   4   \n",
       "\n",
       "   correct  count_attempts  hint_used  count_hints hint_time_taken_list  \\\n",
       "0    False               2      False            0                  NaN   \n",
       "1     True               1      False            0                  NaN   \n",
       "2     True               1      False            0                  NaN   \n",
       "3     True               1      False            0                  NaN   \n",
       "4     True               1      False            0                  NaN   \n",
       "\n",
       "   earned_proficiency  points_earned  \n",
       "0               False              0  \n",
       "1               False             14  \n",
       "2               False             75  \n",
       "3               False             75  \n",
       "4               False            225  "
      ]
     },
     "execution_count": 4,
     "metadata": {},
     "output_type": "execute_result"
    }
   ],
   "source": [
    "original_log.head()"
   ]
  },
  {
   "cell_type": "code",
   "execution_count": 6,
   "metadata": {
    "collapsed": true
   },
   "outputs": [
    {
     "name": "stdout",
     "output_type": "stream",
     "text": [
      "The columns of log are  Index(['user_id', 'exercise', 'problem_type', 'problem_number', 'topic_mode',\n",
      "       'suggested', 'review_mode', 'time_done', 'time_taken',\n",
      "       'time_taken_attempts', 'correct', 'count_attempts', 'hint_used',\n",
      "       'count_hints', 'hint_time_taken_list', 'earned_proficiency',\n",
      "       'points_earned'],\n",
      "      dtype='object')\n",
      "The length of log is 25925992\n",
      "###########################################\n",
      "Number of unique values in user_id: 247606\n",
      "Number of unique values in exercise: 722\n",
      "Number of unique values in problem_type: 1194\n",
      "Number of unique values in problem_number: 5174\n",
      "Number of unique values in topic_mode: 2\n",
      "Number of unique values in suggested: 2\n",
      "Number of unique values in review_mode: 2\n",
      "Number of unique values in time_done: 25924214\n",
      "Number of unique values in time_taken: 7903\n",
      "Number of unique values in time_taken_attempts: 821840\n",
      "Number of unique values in correct: 2\n",
      "Number of unique values in count_attempts: 386\n",
      "Number of unique values in hint_used: 2\n",
      "Number of unique values in count_hints: 21\n",
      "Number of unique values in hint_time_taken_list: 372526\n",
      "Number of unique values in earned_proficiency: 2\n",
      "Number of unique values in points_earned: 41\n",
      "None\n"
     ]
    }
   ],
   "source": [
    "log = original_log\n",
    "print('The columns of log are ', log.columns)\n",
    "print('The length of log is {}'.format(len(log)))\n",
    "\n",
    "print('###########################################')\n",
    "\n",
    "print(count_unique(log, log.columns))"
   ]
  },
  {
   "cell_type": "code",
   "execution_count": 8,
   "metadata": {
    "collapsed": true
   },
   "outputs": [
    {
     "name": "stdout",
     "output_type": "stream",
     "text": [
      "Number of NaN values in column user_id: 0\n",
      "Number of NaN values in column exercise: 0\n",
      "Number of NaN values in column problem_type: 0\n",
      "Number of NaN values in column problem_number: 0\n",
      "Number of NaN values in column topic_mode: 0\n",
      "Number of NaN values in column suggested: 0\n",
      "Number of NaN values in column review_mode: 0\n",
      "Number of NaN values in column time_done: 0\n",
      "Number of NaN values in column time_taken: 0\n",
      "Number of NaN values in column time_taken_attempts: 62365\n",
      "Number of NaN values in column correct: 0\n",
      "Number of NaN values in column count_attempts: 0\n",
      "Number of NaN values in column hint_used: 0\n",
      "Number of NaN values in column count_hints: 0\n",
      "Number of NaN values in column hint_time_taken_list: 24254263\n",
      "Number of NaN values in column earned_proficiency: 0\n",
      "Number of NaN values in column points_earned: 0\n"
     ]
    }
   ],
   "source": [
    "check_nan(log)"
   ]
  },
  {
   "cell_type": "code",
   "execution_count": 5,
   "metadata": {
    "collapsed": true
   },
   "outputs": [
    {
     "data": {
      "text/html": [
       "<div>\n",
       "<style scoped>\n",
       "    .dataframe tbody tr th:only-of-type {\n",
       "        vertical-align: middle;\n",
       "    }\n",
       "\n",
       "    .dataframe tbody tr th {\n",
       "        vertical-align: top;\n",
       "    }\n",
       "\n",
       "    .dataframe thead th {\n",
       "        text-align: right;\n",
       "    }\n",
       "</style>\n",
       "<table border=\"1\" class=\"dataframe\">\n",
       "  <thead>\n",
       "    <tr style=\"text-align: right;\">\n",
       "      <th></th>\n",
       "      <th>name</th>\n",
       "      <th>live</th>\n",
       "      <th>prerequisites</th>\n",
       "      <th>h_position</th>\n",
       "      <th>v_position</th>\n",
       "      <th>creation_date</th>\n",
       "      <th>seconds_per_fast_problem</th>\n",
       "      <th>pretty_display_name</th>\n",
       "      <th>short_display_name</th>\n",
       "      <th>topic</th>\n",
       "      <th>area</th>\n",
       "    </tr>\n",
       "  </thead>\n",
       "  <tbody>\n",
       "    <tr>\n",
       "      <th>0</th>\n",
       "      <td>parabola_intuition_1</td>\n",
       "      <td>True</td>\n",
       "      <td>recognizing_conic_sections</td>\n",
       "      <td>47</td>\n",
       "      <td>2</td>\n",
       "      <td>2012-10-11 17:55:24.8056 UTC</td>\n",
       "      <td>13.0</td>\n",
       "      <td>?物線直覺 1</td>\n",
       "      <td>?物線直覺1</td>\n",
       "      <td>conic-sections</td>\n",
       "      <td>algebra</td>\n",
       "    </tr>\n",
       "    <tr>\n",
       "      <th>1</th>\n",
       "      <td>circles_and_arcs</td>\n",
       "      <td>True</td>\n",
       "      <td>NaN</td>\n",
       "      <td>40</td>\n",
       "      <td>-20</td>\n",
       "      <td>2012-10-11 17:55:33.41014 UTC</td>\n",
       "      <td>27.0</td>\n",
       "      <td>圓與弧</td>\n",
       "      <td>圓與弧</td>\n",
       "      <td>area-perimeter-and-volume</td>\n",
       "      <td>geometry</td>\n",
       "    </tr>\n",
       "    <tr>\n",
       "      <th>2</th>\n",
       "      <td>inscribed_angles_3</td>\n",
       "      <td>True</td>\n",
       "      <td>inscribed_angles_2</td>\n",
       "      <td>44</td>\n",
       "      <td>-22</td>\n",
       "      <td>2012-10-11 17:55:44.11836 UTC</td>\n",
       "      <td>5.0</td>\n",
       "      <td>圓周角與圓心角換算 3</td>\n",
       "      <td>圓周角與圓心角換算3</td>\n",
       "      <td>circle-properties</td>\n",
       "      <td>geometry</td>\n",
       "    </tr>\n",
       "    <tr>\n",
       "      <th>3</th>\n",
       "      <td>solving_quadratics_by_factoring</td>\n",
       "      <td>True</td>\n",
       "      <td>factoring_polynomials_1</td>\n",
       "      <td>50</td>\n",
       "      <td>-2</td>\n",
       "      <td>2012-10-11 17:54:59.28029 UTC</td>\n",
       "      <td>7.0</td>\n",
       "      <td>因式分解法</td>\n",
       "      <td>因式分解法</td>\n",
       "      <td>quadtratics</td>\n",
       "      <td>algebra</td>\n",
       "    </tr>\n",
       "    <tr>\n",
       "      <th>4</th>\n",
       "      <td>graphing_parabolas_1</td>\n",
       "      <td>True</td>\n",
       "      <td>graphing_parabolas_0.5</td>\n",
       "      <td>52</td>\n",
       "      <td>0</td>\n",
       "      <td>2012-10-11 17:55:00.48268 UTC</td>\n",
       "      <td>24.0</td>\n",
       "      <td>畫拋物線 1</td>\n",
       "      <td>畫拋物線1</td>\n",
       "      <td>quadtratics</td>\n",
       "      <td>algebra</td>\n",
       "    </tr>\n",
       "  </tbody>\n",
       "</table>\n",
       "</div>"
      ],
      "text/plain": [
       "                              name  live               prerequisites  \\\n",
       "0             parabola_intuition_1  True  recognizing_conic_sections   \n",
       "1                 circles_and_arcs  True                         NaN   \n",
       "2               inscribed_angles_3  True          inscribed_angles_2   \n",
       "3  solving_quadratics_by_factoring  True     factoring_polynomials_1   \n",
       "4             graphing_parabolas_1  True      graphing_parabolas_0.5   \n",
       "\n",
       "   h_position  v_position                  creation_date  \\\n",
       "0          47           2   2012-10-11 17:55:24.8056 UTC   \n",
       "1          40         -20  2012-10-11 17:55:33.41014 UTC   \n",
       "2          44         -22  2012-10-11 17:55:44.11836 UTC   \n",
       "3          50          -2  2012-10-11 17:54:59.28029 UTC   \n",
       "4          52           0  2012-10-11 17:55:00.48268 UTC   \n",
       "\n",
       "   seconds_per_fast_problem pretty_display_name short_display_name  \\\n",
       "0                      13.0             ?物線直覺 1             ?物線直覺1   \n",
       "1                      27.0                 圓與弧                圓與弧   \n",
       "2                       5.0         圓周角與圓心角換算 3         圓周角與圓心角換算3   \n",
       "3                       7.0               因式分解法              因式分解法   \n",
       "4                      24.0              畫拋物線 1              畫拋物線1   \n",
       "\n",
       "                       topic      area  \n",
       "0             conic-sections   algebra  \n",
       "1  area-perimeter-and-volume  geometry  \n",
       "2          circle-properties  geometry  \n",
       "3                quadtratics   algebra  \n",
       "4                quadtratics   algebra  "
      ]
     },
     "execution_count": 5,
     "metadata": {},
     "output_type": "execute_result"
    }
   ],
   "source": [
    "exercise.head()"
   ]
  },
  {
   "cell_type": "code",
   "execution_count": 7,
   "metadata": {
    "collapsed": true
   },
   "outputs": [
    {
     "data": {
      "text/html": [
       "<div>\n",
       "<style scoped>\n",
       "    .dataframe tbody tr th:only-of-type {\n",
       "        vertical-align: middle;\n",
       "    }\n",
       "\n",
       "    .dataframe tbody tr th {\n",
       "        vertical-align: top;\n",
       "    }\n",
       "\n",
       "    .dataframe thead th {\n",
       "        text-align: right;\n",
       "    }\n",
       "</style>\n",
       "<table border=\"1\" class=\"dataframe\">\n",
       "  <thead>\n",
       "    <tr style=\"text-align: right;\">\n",
       "      <th></th>\n",
       "      <th>Exercise_A</th>\n",
       "      <th>Exercise_B</th>\n",
       "      <th>Similarity_avg</th>\n",
       "      <th>Similarity_raw</th>\n",
       "      <th>Difficulty_avg</th>\n",
       "      <th>Difficulty_raw</th>\n",
       "      <th>Prerequisite_avg</th>\n",
       "      <th>Prerequisite_raw</th>\n",
       "    </tr>\n",
       "  </thead>\n",
       "  <tbody>\n",
       "    <tr>\n",
       "      <th>0</th>\n",
       "      <td>radius_diameter_and_circumference</td>\n",
       "      <td>arithmetic_word_problems_1</td>\n",
       "      <td>1.857143</td>\n",
       "      <td>1_4_1_1_1_1_2_1_1_1_3_1_3_5</td>\n",
       "      <td>2.857143</td>\n",
       "      <td>4_5_1_1_1_1_7_1_1_4_2_5_2_5</td>\n",
       "      <td>3.000000</td>\n",
       "      <td>1_6_1_1_1_3_2_1_9_2_3_2_8_2</td>\n",
       "    </tr>\n",
       "    <tr>\n",
       "      <th>1</th>\n",
       "      <td>radius_diameter_and_circumference</td>\n",
       "      <td>parts_of_circles</td>\n",
       "      <td>6.785714</td>\n",
       "      <td>6_9_6_6_7_8_7_8_8_8_4_6_5_7</td>\n",
       "      <td>2.428571</td>\n",
       "      <td>3_5_1_3_2_1_5_1_1_1_1_2_5_3</td>\n",
       "      <td>7.285714</td>\n",
       "      <td>6_7_7_6_8_8_9_5_9_9_7_7_5_9</td>\n",
       "    </tr>\n",
       "    <tr>\n",
       "      <th>2</th>\n",
       "      <td>radius_diameter_and_circumference</td>\n",
       "      <td>perimeter_of_squares_and_rectangles</td>\n",
       "      <td>3.571429</td>\n",
       "      <td>2_6_4_1_1_2_4_4_7_2_3_4_4_6</td>\n",
       "      <td>2.285714</td>\n",
       "      <td>2_5_1_1_1_1_3_2_1_1_5_2_3_4</td>\n",
       "      <td>5.000000</td>\n",
       "      <td>2_6_5_4_2_8_3_5_9_5_5_3_7_6</td>\n",
       "    </tr>\n",
       "    <tr>\n",
       "      <th>3</th>\n",
       "      <td>vertex_of_a_parabola</td>\n",
       "      <td>solving_quadratics_by_taking_the_square_root</td>\n",
       "      <td>5.923077</td>\n",
       "      <td>6_7_6_7_8_4_5_4_3_6_6_8_7</td>\n",
       "      <td>3.307692</td>\n",
       "      <td>3_3_3_1_2_2_4_4_4_3_5_5_4</td>\n",
       "      <td>5.846154</td>\n",
       "      <td>5_8_7_7_6_2_6_5_6_7_3_7_7</td>\n",
       "    </tr>\n",
       "    <tr>\n",
       "      <th>4</th>\n",
       "      <td>vertex_of_a_parabola</td>\n",
       "      <td>completing_the_square_1</td>\n",
       "      <td>5.692308</td>\n",
       "      <td>7_5_7_8_3_4_5_5_3_6_7_7_7</td>\n",
       "      <td>3.307692</td>\n",
       "      <td>2_3_3_4_2_2_4_4_5_3_4_4_3</td>\n",
       "      <td>5.461538</td>\n",
       "      <td>6_4_6_8_2_2_5_6_5_6_7_7_7</td>\n",
       "    </tr>\n",
       "  </tbody>\n",
       "</table>\n",
       "</div>"
      ],
      "text/plain": [
       "                          Exercise_A  \\\n",
       "0  radius_diameter_and_circumference   \n",
       "1  radius_diameter_and_circumference   \n",
       "2  radius_diameter_and_circumference   \n",
       "3               vertex_of_a_parabola   \n",
       "4               vertex_of_a_parabola   \n",
       "\n",
       "                                     Exercise_B  Similarity_avg  \\\n",
       "0                    arithmetic_word_problems_1        1.857143   \n",
       "1                              parts_of_circles        6.785714   \n",
       "2           perimeter_of_squares_and_rectangles        3.571429   \n",
       "3  solving_quadratics_by_taking_the_square_root        5.923077   \n",
       "4                       completing_the_square_1        5.692308   \n",
       "\n",
       "                Similarity_raw  Difficulty_avg               Difficulty_raw  \\\n",
       "0  1_4_1_1_1_1_2_1_1_1_3_1_3_5        2.857143  4_5_1_1_1_1_7_1_1_4_2_5_2_5   \n",
       "1  6_9_6_6_7_8_7_8_8_8_4_6_5_7        2.428571  3_5_1_3_2_1_5_1_1_1_1_2_5_3   \n",
       "2  2_6_4_1_1_2_4_4_7_2_3_4_4_6        2.285714  2_5_1_1_1_1_3_2_1_1_5_2_3_4   \n",
       "3    6_7_6_7_8_4_5_4_3_6_6_8_7        3.307692    3_3_3_1_2_2_4_4_4_3_5_5_4   \n",
       "4    7_5_7_8_3_4_5_5_3_6_7_7_7        3.307692    2_3_3_4_2_2_4_4_5_3_4_4_3   \n",
       "\n",
       "   Prerequisite_avg             Prerequisite_raw  \n",
       "0          3.000000  1_6_1_1_1_3_2_1_9_2_3_2_8_2  \n",
       "1          7.285714  6_7_7_6_8_8_9_5_9_9_7_7_5_9  \n",
       "2          5.000000  2_6_5_4_2_8_3_5_9_5_5_3_7_6  \n",
       "3          5.846154    5_8_7_7_6_2_6_5_6_7_3_7_7  \n",
       "4          5.461538    6_4_6_8_2_2_5_6_5_6_7_7_7  "
      ]
     },
     "execution_count": 7,
     "metadata": {},
     "output_type": "execute_result"
    }
   ],
   "source": [
    "relation.head()"
   ]
  },
  {
   "cell_type": "code",
   "execution_count": 12,
   "metadata": {},
   "outputs": [],
   "source": [
    "interested_col = [\n",
    "    'user_id', 'exercise', 'problem_number', 'time_done', 'time_taken', 'correct', \n",
    "]\n",
    "invert_col = [\n",
    "    'user_id', 'skill_id', 'problem_id', 'timestamp', 'dwell_time', 'correct', \n",
    "]\n",
    "\n",
    "skill_index = 'exercise'\n",
    "user_index = 'user_id'"
   ]
  },
  {
   "cell_type": "code",
   "execution_count": 13,
   "metadata": {},
   "outputs": [
    {
     "data": {
      "text/plain": [
       "0.8278744358171521"
      ]
     },
     "execution_count": 13,
     "metadata": {},
     "output_type": "execute_result"
    }
   ],
   "source": [
    "log['correct'].mean()"
   ]
  },
  {
   "cell_type": "markdown",
   "metadata": {},
   "source": [
    "# 2. remove learner logs with threshold"
   ]
  },
  {
   "cell_type": "code",
   "execution_count": 14,
   "metadata": {},
   "outputs": [
    {
     "name": "stdout",
     "output_type": "stream",
     "text": [
      "remove threshold is 50\n",
      "Number of unique values in user_id: 62124\n",
      "Number of unique values in exercise: 721\n",
      "23907121 / 62124 / 721\n",
      "remove threshold is 100\n",
      "Number of unique values in user_id: 41933\n",
      "Number of unique values in exercise: 721\n",
      "22475124 / 41933 / 721\n",
      "remove threshold is 150\n",
      "Number of unique values in user_id: 32384\n",
      "Number of unique values in exercise: 721\n",
      "21306869 / 32384 / 721\n",
      "remove threshold is 200\n",
      "Number of unique values in user_id: 26629\n",
      "Number of unique values in exercise: 721\n",
      "20314363 / 26629 / 721\n"
     ]
    }
   ],
   "source": [
    "remove_thres = [50, 100, 150, 200]\n",
    "\n",
    "log = original_log\n",
    "for thres in remove_thres:\n",
    "    print('remove threshold is {}'.format(thres))\n",
    "    log = log[~log[skill_index].isna()]\n",
    "    log = remove_log(log, user_index, num=thres)\n",
    "    count_unique(log, [user_index, skill_index])\n",
    "    print(len(log),'/',log[user_index].nunique(),'/',log[skill_index].nunique())"
   ]
  },
  {
   "cell_type": "markdown",
   "metadata": {},
   "source": [
    "## 2.1 find exercise id in exercise table"
   ]
  },
  {
   "cell_type": "code",
   "execution_count": 15,
   "metadata": {},
   "outputs": [],
   "source": [
    "# exercise-id re-match\n",
    "num_ex = len(exercise)\n",
    "\n",
    "ex_new_id = pd.DataFrame(columns=['exercise_name', 'exercise_id', 'prerequisite_name', 'prerequisite_id'])\n",
    "ex_new_id['exercise_name'] = exercise.name\n",
    "ex_new_id['exercise_id'] = np.arange(len(exercise))\n",
    "ex_new_id['prerequisite_name'] = exercise.prerequisites\n",
    "\n",
    "for i in range(len(ex_new_id.prerequisite_name)):\n",
    "    pre = ex_new_id['prerequisite_name'][i]\n",
    "    ind = exercise.loc[exercise.name == pre].index\n",
    "    if len(ind) == 0:\n",
    "        ex_new_id.prerequisite_id[i] = np.nan\n",
    "    else:\n",
    "        ex_new_id.prerequisite_id[i] = ind[0]"
   ]
  },
  {
   "cell_type": "code",
   "execution_count": 17,
   "metadata": {},
   "outputs": [
    {
     "name": "stdout",
     "output_type": "stream",
     "text": [
      "Remove threshold is 50\n",
      "Remove threshold 50 is done!\n",
      "Number of unique values in user_id: 62124\n",
      "Number of unique values in skill_id: 721\n",
      "Number of unique values in problem_id: 5174\n",
      "Number of unique values in timestamp: 23905466\n",
      "Number of unique values in dwell_time: 7197\n",
      "Number of unique values in correct: 2\n",
      "None\n",
      "Length of DataFrame: 23907121\n",
      "Remove threshold is 100\n",
      "Remove threshold 100 is done!\n",
      "Number of unique values in user_id: 41933\n",
      "Number of unique values in skill_id: 721\n",
      "Number of unique values in problem_id: 5174\n",
      "Number of unique values in timestamp: 22473616\n",
      "Number of unique values in dwell_time: 6970\n",
      "Number of unique values in correct: 2\n",
      "None\n",
      "Length of DataFrame: 22475124\n",
      "Remove threshold is 150\n",
      "Remove threshold 150 is done!\n",
      "Number of unique values in user_id: 32384\n",
      "Number of unique values in skill_id: 721\n",
      "Number of unique values in problem_id: 5174\n",
      "Number of unique values in timestamp: 21305436\n",
      "Number of unique values in dwell_time: 6785\n",
      "Number of unique values in correct: 2\n",
      "None\n",
      "Length of DataFrame: 21306869\n",
      "Remove threshold is 200\n",
      "Remove threshold 200 is done!\n",
      "Number of unique values in user_id: 26629\n",
      "Number of unique values in skill_id: 721\n",
      "Number of unique values in problem_id: 5174\n",
      "Number of unique values in timestamp: 20312955\n",
      "Number of unique values in dwell_time: 6634\n",
      "Number of unique values in correct: 2\n",
      "None\n",
      "Length of DataFrame: 20314363\n"
     ]
    }
   ],
   "source": [
    "log = original_log\n",
    "for thres in remove_thres:\n",
    "    print(f'Remove threshold is {thres}')\n",
    "\n",
    "    # log = log[~log[skill_index.isna()]]\n",
    "    log = remove_log(log, user_index, num=thres)\n",
    "\n",
    "    # Create new DataFrame with desired columns\n",
    "    df = log[interested_col].copy()\n",
    "    df.columns = invert_col\n",
    "    \n",
    "    # Re-index columns\n",
    "    skill_dict = dict(zip(ex_new_id.exercise_name, ex_new_id.exercise_id))\n",
    "    df['skill_id'] = df['skill_id'].apply(lambda x: skill_dict[x])\n",
    "    df['problem_id'] = pd.Categorical(df['problem_id'], categories=df['problem_id'].unique()).codes\n",
    "    df['user_id'] = pd.Categorical(df['user_id'], categories=df['user_id'].unique()).codes\n",
    "    df = df.astype({'timestamp': np.float64, 'correct': np.float64})\n",
    "    df = df.astype({'user_id': np.int64, 'skill_id': np.int64})\n",
    "    \n",
    "    # Save cleaned DataFrame to a CSV file\n",
    "    df.to_csv(f'/mnt/qb/work/mlcolab/hzhou52/kt/junyi15/multi_skill/interactions_{thres}.csv', sep='\\t', index=False)\n",
    "\n",
    "    print(f'Remove threshold {thres} is done!')\n",
    "    print(count_unique(df, df.columns.tolist()))\n",
    "    print(f'Length of DataFrame: {len(df)}')"
   ]
  },
  {
   "cell_type": "code",
   "execution_count": 19,
   "metadata": {},
   "outputs": [
    {
     "data": {
      "text/html": [
       "<div>\n",
       "<style scoped>\n",
       "    .dataframe tbody tr th:only-of-type {\n",
       "        vertical-align: middle;\n",
       "    }\n",
       "\n",
       "    .dataframe tbody tr th {\n",
       "        vertical-align: top;\n",
       "    }\n",
       "\n",
       "    .dataframe thead th {\n",
       "        text-align: right;\n",
       "    }\n",
       "</style>\n",
       "<table border=\"1\" class=\"dataframe\">\n",
       "  <thead>\n",
       "    <tr style=\"text-align: right;\">\n",
       "      <th></th>\n",
       "      <th>user_id</th>\n",
       "      <th>skill_id</th>\n",
       "      <th>problem_id</th>\n",
       "      <th>timestamp</th>\n",
       "      <th>dwell_time</th>\n",
       "      <th>correct</th>\n",
       "    </tr>\n",
       "  </thead>\n",
       "  <tbody>\n",
       "    <tr>\n",
       "      <th>0</th>\n",
       "      <td>0</td>\n",
       "      <td>69</td>\n",
       "      <td>0</td>\n",
       "      <td>1.420715e+15</td>\n",
       "      <td>4</td>\n",
       "      <td>0.0</td>\n",
       "    </tr>\n",
       "    <tr>\n",
       "      <th>4</th>\n",
       "      <td>1</td>\n",
       "      <td>433</td>\n",
       "      <td>1</td>\n",
       "      <td>1.382651e+15</td>\n",
       "      <td>4</td>\n",
       "      <td>1.0</td>\n",
       "    </tr>\n",
       "    <tr>\n",
       "      <th>6</th>\n",
       "      <td>2</td>\n",
       "      <td>778</td>\n",
       "      <td>0</td>\n",
       "      <td>1.395367e+15</td>\n",
       "      <td>19</td>\n",
       "      <td>0.0</td>\n",
       "    </tr>\n",
       "    <tr>\n",
       "      <th>8</th>\n",
       "      <td>3</td>\n",
       "      <td>666</td>\n",
       "      <td>2</td>\n",
       "      <td>1.395809e+15</td>\n",
       "      <td>4</td>\n",
       "      <td>1.0</td>\n",
       "    </tr>\n",
       "    <tr>\n",
       "      <th>9</th>\n",
       "      <td>4</td>\n",
       "      <td>440</td>\n",
       "      <td>3</td>\n",
       "      <td>1.394098e+15</td>\n",
       "      <td>2</td>\n",
       "      <td>1.0</td>\n",
       "    </tr>\n",
       "    <tr>\n",
       "      <th>...</th>\n",
       "      <td>...</td>\n",
       "      <td>...</td>\n",
       "      <td>...</td>\n",
       "      <td>...</td>\n",
       "      <td>...</td>\n",
       "      <td>...</td>\n",
       "    </tr>\n",
       "    <tr>\n",
       "      <th>25925987</th>\n",
       "      <td>12565</td>\n",
       "      <td>763</td>\n",
       "      <td>4</td>\n",
       "      <td>1.377638e+15</td>\n",
       "      <td>7</td>\n",
       "      <td>1.0</td>\n",
       "    </tr>\n",
       "    <tr>\n",
       "      <th>25925988</th>\n",
       "      <td>20753</td>\n",
       "      <td>316</td>\n",
       "      <td>6</td>\n",
       "      <td>1.402971e+15</td>\n",
       "      <td>34</td>\n",
       "      <td>1.0</td>\n",
       "    </tr>\n",
       "    <tr>\n",
       "      <th>25925989</th>\n",
       "      <td>21092</td>\n",
       "      <td>51</td>\n",
       "      <td>80</td>\n",
       "      <td>1.397029e+15</td>\n",
       "      <td>18</td>\n",
       "      <td>1.0</td>\n",
       "    </tr>\n",
       "    <tr>\n",
       "      <th>25925990</th>\n",
       "      <td>11805</td>\n",
       "      <td>681</td>\n",
       "      <td>19</td>\n",
       "      <td>1.396568e+15</td>\n",
       "      <td>2</td>\n",
       "      <td>1.0</td>\n",
       "    </tr>\n",
       "    <tr>\n",
       "      <th>25925991</th>\n",
       "      <td>21332</td>\n",
       "      <td>433</td>\n",
       "      <td>6</td>\n",
       "      <td>1.396339e+15</td>\n",
       "      <td>4</td>\n",
       "      <td>1.0</td>\n",
       "    </tr>\n",
       "  </tbody>\n",
       "</table>\n",
       "<p>20314363 rows × 6 columns</p>\n",
       "</div>"
      ],
      "text/plain": [
       "          user_id  skill_id  problem_id     timestamp  dwell_time  correct\n",
       "0               0        69           0  1.420715e+15           4      0.0\n",
       "4               1       433           1  1.382651e+15           4      1.0\n",
       "6               2       778           0  1.395367e+15          19      0.0\n",
       "8               3       666           2  1.395809e+15           4      1.0\n",
       "9               4       440           3  1.394098e+15           2      1.0\n",
       "...           ...       ...         ...           ...         ...      ...\n",
       "25925987    12565       763           4  1.377638e+15           7      1.0\n",
       "25925988    20753       316           6  1.402971e+15          34      1.0\n",
       "25925989    21092        51          80  1.397029e+15          18      1.0\n",
       "25925990    11805       681          19  1.396568e+15           2      1.0\n",
       "25925991    21332       433           6  1.396339e+15           4      1.0\n",
       "\n",
       "[20314363 rows x 6 columns]"
      ]
     },
     "execution_count": 19,
     "metadata": {},
     "output_type": "execute_result"
    }
   ],
   "source": [
    "df"
   ]
  },
  {
   "cell_type": "markdown",
   "metadata": {},
   "source": [
    "# 3. extract single learner "
   ]
  },
  {
   "cell_type": "code",
   "execution_count": 20,
   "metadata": {},
   "outputs": [],
   "source": [
    "remove_thres = [50, 100, 150, 200]\n",
    "\n",
    "log = original_log\n",
    "\n",
    "users = []\n",
    "users_log = log.groupby([user_index, skill_index]).size().reset_index(name='count')\n",
    "\n",
    "for thres in remove_thres:\n",
    "    users.append(users_log[users_log['count']>thres])"
   ]
  },
  {
   "cell_type": "code",
   "execution_count": null,
   "metadata": {},
   "outputs": [],
   "source": [
    "interested_col = [\n",
    "    'user_id', 'exercise', 'problem_number', 'time_done', 'time_taken', 'correct', \n",
    "]\n",
    "invert_col = [\n",
    "    'user_id', 'skill_id', 'problem_id', 'timestamp', 'dwell_time', 'correct', \n",
    "]\n",
    "\n",
    "skill_index = 'exercise'\n",
    "user_index = 'user_id'"
   ]
  },
  {
   "cell_type": "code",
   "execution_count": null,
   "metadata": {},
   "outputs": [
    {
     "name": "stdout",
     "output_type": "stream",
     "text": [
      "With threshold 50 there are 55086 logs\n"
     ]
    },
    {
     "name": "stderr",
     "output_type": "stream",
     "text": [
      " 20%|██        | 11254/55086 [3:52:50<15:09:47,  1.25s/it]IOPub message rate exceeded.\n",
      "The notebook server will temporarily stop sending output\n",
      "to the client in order to avoid crashing it.\n",
      "To change this limit, set the config variable\n",
      "`--NotebookApp.iopub_msg_rate_limit`.\n",
      "\n",
      "Current values:\n",
      "NotebookApp.iopub_msg_rate_limit=1000.0 (msgs/sec)\n",
      "NotebookApp.rate_limit_window=3.0 (secs)\n",
      "\n",
      " 45%|████▌     | 24793/55086 [8:34:07<10:20:31,  1.23s/it]"
     ]
    }
   ],
   "source": [
    "######################################## single_user_single_exercise\n",
    "from tqdm import tqdm\n",
    "log = original_log\n",
    "useful_log = log[interested_col]\n",
    "remove_thres = [50, 100, 150, 200]\n",
    "\n",
    "users_logs_threshold = []\n",
    "for i in range(len(remove_thres)):\n",
    "    thres = remove_thres[i]\n",
    "    users_with_threshold = users[i]\n",
    "    \n",
    "    single_skill = {col: [] for col in interested_col}\n",
    "\n",
    "    sk_dfs = []\n",
    "    print('With threshold {} there are {} logs'.format(thres, len(users_with_threshold)))\n",
    "    for j in tqdm(range(len(users_with_threshold))):\n",
    "        id = users_with_threshold[user_index].iloc[j]\n",
    "        ex = users_with_threshold[skill_index].iloc[j]\n",
    "\n",
    "        single_user_exercise = useful_log.loc[(useful_log[user_index] == id) & (useful_log[skill_index] == ex)]\n",
    "        single_user_exercise = single_user_exercise.sort_values('time_done')[:thres]\n",
    "\n",
    "        sk_dfs.append(single_user_exercise)\n",
    "    users_logs_threshold.append(sk_dfs)"
   ]
  },
  {
   "cell_type": "code",
   "execution_count": null,
   "metadata": {},
   "outputs": [],
   "source": []
  },
  {
   "cell_type": "markdown",
   "metadata": {},
   "source": [
    "# find ground-truth knowledge graph"
   ]
  },
  {
   "cell_type": "code",
   "execution_count": 5,
   "metadata": {},
   "outputs": [],
   "source": [
    "# exercise-id re-match\n",
    "num_ex = len(exercise)\n",
    "\n",
    "ex_new_id = pd.DataFrame(columns=['exercise_name', 'exercise_id', 'prerequisite_name', 'prerequisite_id'])\n",
    "ex_new_id['exercise_name'] = exercise.name\n",
    "ex_new_id['exercise_id'] = np.arange(len(exercise))\n",
    "ex_new_id['prerequisite_name'] = exercise.prerequisites\n",
    "\n",
    "for i in range(len(ex_new_id.prerequisite_name)):\n",
    "    pre = ex_new_id['prerequisite_name'][i]\n",
    "    ind = exercise.loc[exercise.name == pre].index\n",
    "    if len(ind) == 0:\n",
    "        ex_new_id.prerequisite_id[i] = np.nan\n",
    "    else:\n",
    "        ex_new_id.prerequisite_id[i] = ind[0]"
   ]
  },
  {
   "cell_type": "code",
   "execution_count": 6,
   "metadata": {},
   "outputs": [
    {
     "data": {
      "text/html": [
       "<div>\n",
       "<style scoped>\n",
       "    .dataframe tbody tr th:only-of-type {\n",
       "        vertical-align: middle;\n",
       "    }\n",
       "\n",
       "    .dataframe tbody tr th {\n",
       "        vertical-align: top;\n",
       "    }\n",
       "\n",
       "    .dataframe thead th {\n",
       "        text-align: right;\n",
       "    }\n",
       "</style>\n",
       "<table border=\"1\" class=\"dataframe\">\n",
       "  <thead>\n",
       "    <tr style=\"text-align: right;\">\n",
       "      <th></th>\n",
       "      <th>exercise_name</th>\n",
       "      <th>exercise_id</th>\n",
       "      <th>prerequisite_name</th>\n",
       "      <th>prerequisite_id</th>\n",
       "    </tr>\n",
       "  </thead>\n",
       "  <tbody>\n",
       "    <tr>\n",
       "      <th>0</th>\n",
       "      <td>parabola_intuition_1</td>\n",
       "      <td>0</td>\n",
       "      <td>recognizing_conic_sections</td>\n",
       "      <td>524</td>\n",
       "    </tr>\n",
       "    <tr>\n",
       "      <th>1</th>\n",
       "      <td>circles_and_arcs</td>\n",
       "      <td>1</td>\n",
       "      <td>NaN</td>\n",
       "      <td>NaN</td>\n",
       "    </tr>\n",
       "    <tr>\n",
       "      <th>2</th>\n",
       "      <td>inscribed_angles_3</td>\n",
       "      <td>2</td>\n",
       "      <td>inscribed_angles_2</td>\n",
       "      <td>331</td>\n",
       "    </tr>\n",
       "    <tr>\n",
       "      <th>3</th>\n",
       "      <td>solving_quadratics_by_factoring</td>\n",
       "      <td>3</td>\n",
       "      <td>factoring_polynomials_1</td>\n",
       "      <td>673</td>\n",
       "    </tr>\n",
       "    <tr>\n",
       "      <th>4</th>\n",
       "      <td>graphing_parabolas_1</td>\n",
       "      <td>4</td>\n",
       "      <td>graphing_parabolas_0.5</td>\n",
       "      <td>330</td>\n",
       "    </tr>\n",
       "  </tbody>\n",
       "</table>\n",
       "</div>"
      ],
      "text/plain": [
       "                     exercise_name  exercise_id           prerequisite_name  \\\n",
       "0             parabola_intuition_1            0  recognizing_conic_sections   \n",
       "1                 circles_and_arcs            1                         NaN   \n",
       "2               inscribed_angles_3            2          inscribed_angles_2   \n",
       "3  solving_quadratics_by_factoring            3     factoring_polynomials_1   \n",
       "4             graphing_parabolas_1            4      graphing_parabolas_0.5   \n",
       "\n",
       "  prerequisite_id  \n",
       "0             524  \n",
       "1             NaN  \n",
       "2             331  \n",
       "3             673  \n",
       "4             330  "
      ]
     },
     "execution_count": 6,
     "metadata": {},
     "output_type": "execute_result"
    }
   ],
   "source": [
    "ex_new_id.head()"
   ]
  },
  {
   "cell_type": "code",
   "execution_count": 7,
   "metadata": {},
   "outputs": [
    {
     "name": "stdout",
     "output_type": "stream",
     "text": [
      "number of NaN in column exercise_name: 0\n",
      "number of NaN in column exercise_id: 0\n",
      "number of NaN in column prerequisite_name: 95\n",
      "number of NaN in column prerequisite_id: 284\n"
     ]
    }
   ],
   "source": [
    "check_nan(ex_new_id)"
   ]
  },
  {
   "cell_type": "code",
   "execution_count": 8,
   "metadata": {},
   "outputs": [],
   "source": [
    "import networkx as nx\n",
    "G = nx.DiGraph()\n",
    "\n",
    "# create nodes for the graph, with label as the nodes' name\n",
    "node_label = [(ex_new_id.exercise_id[i], dict(name=ex_new_id.exercise_name[i])) for i in range(len(ex_new_id))]\n",
    "G.add_nodes_from(node_label)\n",
    "\n",
    "# the edge of the graph; a->b means a is a prerequiste of b\n",
    "edge = []\n",
    "for i in range(len(ex_new_id)):\n",
    "    if not pd.isna(ex_new_id.prerequisite_id[i]):\n",
    "        edge.append((ex_new_id.prerequisite_id[i], ex_new_id.exercise_id[i]))\n",
    "G.add_edges_from(edge)\n",
    "\n",
    "# add position of each node on the graph\n",
    "pos = dict()\n",
    "for i in range(num_ex):\n",
    "    pos.update({i: (exercise.h_position[i], exercise.v_position[i])})\n",
    "\n",
    "# save adjacancy matrix to numpy file\n",
    "adj = nx.adjacency_matrix(G).toarray()\n",
    "path = '/mnt/qb/work/mlcolab/hzhou52/kt/junyi/adj.npy'\n",
    "np.save(path, adj)"
   ]
  },
  {
   "cell_type": "code",
   "execution_count": 9,
   "metadata": {
    "collapsed": true
   },
   "outputs": [
    {
     "ename": "AttributeError",
     "evalue": "'DataFrame' object has no attribute 'name'",
     "output_type": "error",
     "traceback": [
      "\u001b[0;31m---------------------------------------------------------------------------\u001b[0m",
      "\u001b[0;31mAttributeError\u001b[0m                            Traceback (most recent call last)",
      "Cell \u001b[0;32mIn [9], line 3\u001b[0m\n\u001b[1;32m      1\u001b[0m \u001b[38;5;66;03m# visualize\u001b[39;00m\n\u001b[1;32m      2\u001b[0m nx\u001b[38;5;241m.\u001b[39mdraw(G, with_labels\u001b[38;5;241m=\u001b[39m\u001b[38;5;28;01mFalse\u001b[39;00m, pos\u001b[38;5;241m=\u001b[39mpos, node_size\u001b[38;5;241m=\u001b[39m\u001b[38;5;241m2\u001b[39m)\n\u001b[0;32m----> 3\u001b[0m nx\u001b[38;5;241m.\u001b[39mdraw(G, labels\u001b[38;5;241m=\u001b[39mex_new_id\u001b[38;5;241m.\u001b[39mname)\n",
      "File \u001b[0;32m/mnt/qb/work/mlcolab/hzhou52/anaconda3/envs/mykt/lib/python3.9/site-packages/pandas/core/generic.py:5575\u001b[0m, in \u001b[0;36mNDFrame.__getattr__\u001b[0;34m(self, name)\u001b[0m\n\u001b[1;32m   5568\u001b[0m \u001b[38;5;28;01mif\u001b[39;00m (\n\u001b[1;32m   5569\u001b[0m     name \u001b[38;5;129;01mnot\u001b[39;00m \u001b[38;5;129;01min\u001b[39;00m \u001b[38;5;28mself\u001b[39m\u001b[38;5;241m.\u001b[39m_internal_names_set\n\u001b[1;32m   5570\u001b[0m     \u001b[38;5;129;01mand\u001b[39;00m name \u001b[38;5;129;01mnot\u001b[39;00m \u001b[38;5;129;01min\u001b[39;00m \u001b[38;5;28mself\u001b[39m\u001b[38;5;241m.\u001b[39m_metadata\n\u001b[1;32m   5571\u001b[0m     \u001b[38;5;129;01mand\u001b[39;00m name \u001b[38;5;129;01mnot\u001b[39;00m \u001b[38;5;129;01min\u001b[39;00m \u001b[38;5;28mself\u001b[39m\u001b[38;5;241m.\u001b[39m_accessors\n\u001b[1;32m   5572\u001b[0m     \u001b[38;5;129;01mand\u001b[39;00m \u001b[38;5;28mself\u001b[39m\u001b[38;5;241m.\u001b[39m_info_axis\u001b[38;5;241m.\u001b[39m_can_hold_identifiers_and_holds_name(name)\n\u001b[1;32m   5573\u001b[0m ):\n\u001b[1;32m   5574\u001b[0m     \u001b[38;5;28;01mreturn\u001b[39;00m \u001b[38;5;28mself\u001b[39m[name]\n\u001b[0;32m-> 5575\u001b[0m \u001b[38;5;28;01mreturn\u001b[39;00m \u001b[38;5;28;43mobject\u001b[39;49m\u001b[38;5;241;43m.\u001b[39;49m\u001b[38;5;21;43m__getattribute__\u001b[39;49m\u001b[43m(\u001b[49m\u001b[38;5;28;43mself\u001b[39;49m\u001b[43m,\u001b[49m\u001b[43m \u001b[49m\u001b[43mname\u001b[49m\u001b[43m)\u001b[49m\n",
      "\u001b[0;31mAttributeError\u001b[0m: 'DataFrame' object has no attribute 'name'"
     ]
    },
    {
     "data": {
      "image/png": "[encoded data removed]",
      "text/plain": [
       "<Figure size 640x480 with 1 Axes>"
      ]
     },
     "metadata": {},
     "output_type": "display_data"
    }
   ],
   "source": [
    "# visualize\n",
    "nx.draw(G, with_labels=False, pos=pos, node_size=2)\n",
    "nx.draw(G, labels=ex_new_id.name)"
   ]
  },
  {
   "cell_type": "code",
   "execution_count": null,
   "metadata": {},
   "outputs": [],
   "source": [
    "# lets see if i can make it interactive"
   ]
  },
  {
   "cell_type": "code",
   "execution_count": null,
   "metadata": {},
   "outputs": [],
   "source": [
    "# !pip install bokeh"
   ]
  },
  {
   "cell_type": "code",
   "execution_count": null,
   "metadata": {},
   "outputs": [],
   "source": [
    "# from bokeh.io import output_notebook, show, save\n",
    "# output_notebook()\n",
    "# from bokeh.io import output_notebook, show, save\n",
    "# from bokeh.models import Range1d, Circle, ColumnDataSource, MultiLine\n",
    "# from bokeh.plotting import figure\n",
    "# from bokeh.plotting import from_networkx"
   ]
  },
  {
   "cell_type": "code",
   "execution_count": null,
   "metadata": {},
   "outputs": [],
   "source": [
    "# #Choose a title!\n",
    "# title = 'Junyi Knowledge Graph'\n",
    "\n",
    "# #Establish which categories will appear when hovering over each node\n",
    "# HOVER_TOOLTIPS = [(\"Name\", \"@index\")]\n",
    "\n",
    "# #Create a plot — set dimensions, toolbar, and title\n",
    "# plot = figure(tooltips = HOVER_TOOLTIPS,\n",
    "              tools=\"pan,wheel_zoom,save,reset\", active_scroll='wheel_zoom',\n",
    "            x_range=Range1d(-10.1, 10.1), y_range=Range1d(-10.1, 10.1), title=title)\n",
    "\n",
    "# #Create a network graph object with spring layout\n",
    "# # https://networkx.github.io/documentation/networkx-1.9/reference/generated/networkx.drawing.layout.spring_layout.html\n",
    "# network_graph = from_networkx(G, nx.spring_layout, scale=10, center=(0, 0))\n",
    "\n",
    "# #Set node size and color\n",
    "# network_graph.node_renderer.glyph = Circle(size=15, fill_color='skyblue')\n",
    "\n",
    "# #Set edge opacity and width\n",
    "# network_graph.edge_renderer.glyph = MultiLine(line_alpha=0.5, line_width=1)\n",
    "\n",
    "# #Add network graph to the plot\n",
    "# plot.renderers.append(network_graph)\n",
    "\n",
    "# show(plot)\n",
    "# #save(plot, filename=f\"{title}.html\")"
   ]
  },
  {
   "cell_type": "markdown",
   "metadata": {},
   "source": [
    "# statistics check"
   ]
  },
  {
   "cell_type": "code",
   "execution_count": 82,
   "metadata": {},
   "outputs": [],
   "source": [
    "df = df.astype({\n",
    "    'timestamp': np.float64,\n",
    "    'dwell_time': np.float64,\n",
    "    'correct': np.float64,\n",
    "    'problem_id': np.int64,\n",
    "    'skill_id': np.int64\n",
    "    })"
   ]
  },
  {
   "cell_type": "code",
   "execution_count": 83,
   "metadata": {},
   "outputs": [],
   "source": [
    "# Save\n",
    "remove_thres = 800\n",
    "df.to_csv(bath_path+'interactions_{}.csv'.format(remove_thres), sep='\\t', index=False)"
   ]
  },
  {
   "cell_type": "code",
   "execution_count": 25,
   "metadata": {},
   "outputs": [
    {
     "name": "stdout",
     "output_type": "stream",
     "text": [
      "number of unique value in user_id: 26629\n",
      "number of unique value in problem_id: 721\n",
      "number of unique value in skill_id: 721\n",
      "number of unique value in timestamp: 20312955\n",
      "number of unique value in dwell_time: 6634\n",
      "number of unique value in correct: 2\n",
      "number of unique value in skill_name: 721\n"
     ]
    },
    {
     "data": {
      "text/plain": [
       "20314363"
      ]
     },
     "execution_count": 25,
     "metadata": {},
     "output_type": "execute_result"
    }
   ],
   "source": [
    "count_unique(df, list(df.columns))\n",
    "len(df)"
   ]
  },
  {
   "cell_type": "code",
   "execution_count": null,
   "metadata": {},
   "outputs": [],
   "source": []
  }
 ],
 "metadata": {
  "interpreter": {
   "hash": "3c2509e27662ce56f108009dad52848cf38f1485dce3b4941071b3bbc5cf42be"
  },
  "kernelspec": {
   "display_name": "Python 3 (ipykernel)",
   "language": "python",
   "name": "python3"
  },
  "language_info": {
   "codemirror_mode": {
    "name": "ipython",
    "version": 3
   },
   "file_extension": ".py",
   "mimetype": "text/x-python",
   "name": "python",
   "nbconvert_exporter": "python",
   "pygments_lexer": "ipython3",
   "version": "3.9.12"
  }
 },
 "nbformat": 4,
 "nbformat_minor": 2
}
