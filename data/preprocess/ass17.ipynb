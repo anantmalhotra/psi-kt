{
 "cells": [
  {
   "cell_type": "code",
   "execution_count": 1,
   "metadata": {},
   "outputs": [],
   "source": [
    "import numpy as np\n",
    "import pandas as pd\n",
    "from collections import defaultdict\n",
    "import operator, os\n",
    "import time, datetime\n",
    "from utils import *"
   ]
  },
  {
   "cell_type": "code",
   "execution_count": 2,
   "metadata": {},
   "outputs": [],
   "source": [
    "bath_path = '/mnt/qb/work/mlcolab/hzhou52/kt/assistment/17'\n",
    "file_name = 'anonymized_full_release_competition_dataset.csv'\n",
    "log = pd.read_csv(os.path.join(bath_path, file_name), encoding = \"utf-8\",low_memory=False)"
   ]
  },
  {
   "cell_type": "code",
   "execution_count": 3,
   "metadata": {},
   "outputs": [
    {
     "data": {
      "text/plain": [
       "Index(['studentId', 'MiddleSchoolId', 'InferredGender', 'SY ASSISTments Usage',\n",
       "       'AveKnow', 'AveCarelessness', 'AveCorrect', 'NumActions', 'AveResBored',\n",
       "       'AveResEngcon', 'AveResConf', 'AveResFrust', 'AveResOfftask',\n",
       "       'AveResGaming', 'action_num', 'skill', 'problemId', 'problemType',\n",
       "       'assignmentId', 'assistmentId', 'startTime', 'endTime', 'timeTaken',\n",
       "       'correct', 'original', 'hint', 'hintCount', 'hintTotal', 'scaffold',\n",
       "       'bottomHint', 'attemptCount', 'frIsHelpRequest', 'frPast5HelpRequest',\n",
       "       'frPast8HelpRequest', 'stlHintUsed', 'past8BottomOut',\n",
       "       'totalFrPercentPastWrong', 'totalFrPastWrongCount', 'frPast5WrongCount',\n",
       "       'frPast8WrongCount', 'totalFrTimeOnSkill', 'timeSinceSkill',\n",
       "       'frWorkingInSchool', 'totalFrAttempted', 'totalFrSkillOpportunities',\n",
       "       'responseIsFillIn', 'responseIsChosen', 'endsWithScaffolding',\n",
       "       'endsWithAutoScaffolding', 'frTimeTakenOnScaffolding',\n",
       "       'frTotalSkillOpportunitiesScaffolding',\n",
       "       'totalFrSkillOpportunitiesByScaffolding', 'frIsHelpRequestScaffolding',\n",
       "       'timeGreater5Secprev2wrong', 'sumRight', 'helpAccessUnder2Sec',\n",
       "       'timeGreater10SecAndNextActionRight', 'consecutiveErrorsInRow',\n",
       "       'sumTime3SDWhen3RowRight', 'sumTimePerSkill',\n",
       "       'totalTimeByPercentCorrectForskill', 'Prev5count', 'timeOver80',\n",
       "       'manywrong', 'confidence(BORED)', 'confidence(CONCENTRATING)',\n",
       "       'confidence(CONFUSED)', 'confidence(FRUSTRATED)',\n",
       "       'confidence(OFF TASK)', 'confidence(GAMING)', 'RES_BORED',\n",
       "       'RES_CONCENTRATING', 'RES_CONFUSED', 'RES_FRUSTRATED', 'RES_OFFTASK',\n",
       "       'RES_GAMING', 'Ln-1', 'Ln', 'MCAS', 'Enrolled', 'Selective', 'isSTEM'],\n",
       "      dtype='object')"
      ]
     },
     "execution_count": 3,
     "metadata": {},
     "output_type": "execute_result"
    }
   ],
   "source": [
    "log.columns"
   ]
  },
  {
   "cell_type": "code",
   "execution_count": 4,
   "metadata": {},
   "outputs": [
    {
     "data": {
      "text/plain": [
       "0                  properties-of-geometric-figures\n",
       "1                  properties-of-geometric-figures\n",
       "2         sum-of-interior-angles-more-than-3-sides\n",
       "3         sum-of-interior-angles-more-than-3-sides\n",
       "4         sum-of-interior-angles-more-than-3-sides\n",
       "                            ...                   \n",
       "942811                                        mean\n",
       "942812                                        mean\n",
       "942813                                        mean\n",
       "942814                                        mean\n",
       "942815                        multiplying-decimals\n",
       "Name: skill, Length: 942816, dtype: object"
      ]
     },
     "execution_count": 4,
     "metadata": {},
     "output_type": "execute_result"
    }
   ],
   "source": [
    "log['skill']"
   ]
  },
  {
   "cell_type": "code",
   "execution_count": 6,
   "metadata": {},
   "outputs": [
    {
     "name": "stdout",
     "output_type": "stream",
     "text": [
      "number of NaN in column studentId: 0\n",
      "number of NaN in column MiddleSchoolId: 0\n",
      "number of NaN in column InferredGender: 173656\n",
      "number of NaN in column SY ASSISTments Usage: 0\n",
      "number of NaN in column AveKnow: 0\n",
      "number of NaN in column AveCarelessness: 0\n",
      "number of NaN in column AveCorrect: 0\n",
      "number of NaN in column NumActions: 0\n",
      "number of NaN in column AveResBored: 0\n",
      "number of NaN in column AveResEngcon: 0\n",
      "number of NaN in column AveResConf: 0\n",
      "number of NaN in column AveResFrust: 0\n",
      "number of NaN in column AveResOfftask: 0\n",
      "number of NaN in column AveResGaming: 0\n",
      "number of NaN in column action_num: 0\n",
      "number of NaN in column skill: 0\n",
      "number of NaN in column problemId: 0\n",
      "number of NaN in column problemType: 0\n",
      "number of NaN in column assignmentId: 0\n",
      "number of NaN in column assistmentId: 0\n",
      "number of NaN in column startTime: 0\n",
      "number of NaN in column endTime: 0\n",
      "number of NaN in column timeTaken: 0\n",
      "number of NaN in column correct: 0\n",
      "number of NaN in column original: 0\n",
      "number of NaN in column hint: 0\n",
      "number of NaN in column hintCount: 0\n",
      "number of NaN in column hintTotal: 0\n",
      "number of NaN in column scaffold: 0\n",
      "number of NaN in column bottomHint: 0\n",
      "number of NaN in column attemptCount: 0\n",
      "number of NaN in column frIsHelpRequest: 0\n",
      "number of NaN in column frPast5HelpRequest: 0\n",
      "number of NaN in column frPast8HelpRequest: 0\n",
      "number of NaN in column stlHintUsed: 0\n",
      "number of NaN in column past8BottomOut: 0\n",
      "number of NaN in column totalFrPercentPastWrong: 0\n",
      "number of NaN in column totalFrPastWrongCount: 0\n",
      "number of NaN in column frPast5WrongCount: 0\n",
      "number of NaN in column frPast8WrongCount: 0\n",
      "number of NaN in column totalFrTimeOnSkill: 0\n",
      "number of NaN in column timeSinceSkill: 0\n",
      "number of NaN in column frWorkingInSchool: 0\n",
      "number of NaN in column totalFrAttempted: 0\n",
      "number of NaN in column totalFrSkillOpportunities: 0\n",
      "number of NaN in column responseIsFillIn: 0\n",
      "number of NaN in column responseIsChosen: 0\n",
      "number of NaN in column endsWithScaffolding: 0\n",
      "number of NaN in column endsWithAutoScaffolding: 0\n",
      "number of NaN in column frTimeTakenOnScaffolding: 0\n",
      "number of NaN in column frTotalSkillOpportunitiesScaffolding: 0\n",
      "number of NaN in column totalFrSkillOpportunitiesByScaffolding: 0\n",
      "number of NaN in column frIsHelpRequestScaffolding: 0\n",
      "number of NaN in column timeGreater5Secprev2wrong: 0\n",
      "number of NaN in column sumRight: 0\n",
      "number of NaN in column helpAccessUnder2Sec: 0\n",
      "number of NaN in column timeGreater10SecAndNextActionRight: 0\n",
      "number of NaN in column consecutiveErrorsInRow: 0\n",
      "number of NaN in column sumTime3SDWhen3RowRight: 85\n",
      "number of NaN in column sumTimePerSkill: 0\n",
      "number of NaN in column totalTimeByPercentCorrectForskill: 0\n",
      "number of NaN in column Prev5count: 0\n",
      "number of NaN in column timeOver80: 0\n",
      "number of NaN in column manywrong: 0\n",
      "number of NaN in column confidence(BORED): 0\n",
      "number of NaN in column confidence(CONCENTRATING): 0\n",
      "number of NaN in column confidence(CONFUSED): 0\n",
      "number of NaN in column confidence(FRUSTRATED): 0\n",
      "number of NaN in column confidence(OFF TASK): 0\n",
      "number of NaN in column confidence(GAMING): 0\n",
      "number of NaN in column RES_BORED: 0\n",
      "number of NaN in column RES_CONCENTRATING: 0\n",
      "number of NaN in column RES_CONFUSED: 0\n",
      "number of NaN in column RES_FRUSTRATED: 0\n",
      "number of NaN in column RES_OFFTASK: 0\n",
      "number of NaN in column RES_GAMING: 0\n",
      "number of NaN in column Ln-1: 0\n",
      "number of NaN in column Ln: 0\n",
      "number of NaN in column MCAS: 0\n",
      "number of NaN in column Enrolled: 0\n",
      "number of NaN in column Selective: 0\n",
      "number of NaN in column isSTEM: 625842\n",
      "number of unique value in studentId: 1709\n",
      "number of unique value in skill: 102\n",
      "number of unique value in problemId: 3162\n",
      "942816\n"
     ]
    }
   ],
   "source": [
    "check_nan(log)\n",
    "count_unique(log, ['studentId', 'skill', 'problemId'])\n",
    "print(len(log))"
   ]
  },
  {
   "cell_type": "code",
   "execution_count": 8,
   "metadata": {},
   "outputs": [
    {
     "name": "stdout",
     "output_type": "stream",
     "text": [
      "942816\n"
     ]
    }
   ],
   "source": [
    "# log = log[~log.skill_id.isna()]\n",
    "log = remove_log(log, 'studentId')\n",
    "print(len(log))"
   ]
  },
  {
   "cell_type": "code",
   "execution_count": 10,
   "metadata": {},
   "outputs": [
    {
     "data": {
      "text/plain": [
       "0         0\n",
       "1         1\n",
       "2         0\n",
       "3         0\n",
       "4         1\n",
       "         ..\n",
       "942811    1\n",
       "942812    0\n",
       "942813    0\n",
       "942814    1\n",
       "942815    1\n",
       "Name: correct, Length: 942816, dtype: int64"
      ]
     },
     "execution_count": 10,
     "metadata": {},
     "output_type": "execute_result"
    }
   ],
   "source": [
    "log['startTime']\n",
    "log['correct']"
   ]
  },
  {
   "cell_type": "markdown",
   "metadata": {},
   "source": [
    "# pre-process"
   ]
  },
  {
   "cell_type": "code",
   "execution_count": 11,
   "metadata": {},
   "outputs": [],
   "source": [
    "# create new data\n",
    "df = pd.DataFrame(columns=['user_id', 'problem_id', 'skill_id', 'timestamp', 'dwell_time', 'correct'])\n",
    "df.user_id = log.studentId\n",
    "df.problem_id = log.problemId\n",
    "df.skill_id = log.skill\n",
    "df.timestamp = (log.startTime + log.endTime)/2\n",
    "df.dwell_time = log.timeTaken\n",
    "df.correct = log.correct * 1"
   ]
  },
  {
   "cell_type": "code",
   "execution_count": 12,
   "metadata": {},
   "outputs": [],
   "source": [
    "# re-index\n",
    "# - skill\n",
    "skill_id = list(df['skill_id'].unique())\n",
    "skill_dict = dict(zip(skill_id, range(len(skill_id))))\n",
    "df['skill_id'] = df['skill_id'].apply(lambda x: skill_dict[x])\n",
    "\n",
    "# - problem\n",
    "pro_id = list(df['problem_id'].unique())\n",
    "pro_dict = dict(zip(pro_id, range(len(pro_id))))\n",
    "df['problem_id'] = df['problem_id'].apply(lambda x: pro_dict[x])\n",
    "\n",
    "# - student\n",
    "stu_id = list(df['user_id'].unique())\n",
    "stu_dict = dict(zip(stu_id, range(len(stu_id))))\n",
    "df['user_id'] = df['user_id'].apply(lambda x: stu_dict[x])"
   ]
  },
  {
   "cell_type": "code",
   "execution_count": 13,
   "metadata": {},
   "outputs": [
    {
     "data": {
      "text/html": [
       "<div>\n",
       "<style scoped>\n",
       "    .dataframe tbody tr th:only-of-type {\n",
       "        vertical-align: middle;\n",
       "    }\n",
       "\n",
       "    .dataframe tbody tr th {\n",
       "        vertical-align: top;\n",
       "    }\n",
       "\n",
       "    .dataframe thead th {\n",
       "        text-align: right;\n",
       "    }\n",
       "</style>\n",
       "<table border=\"1\" class=\"dataframe\">\n",
       "  <thead>\n",
       "    <tr style=\"text-align: right;\">\n",
       "      <th></th>\n",
       "      <th>user_id</th>\n",
       "      <th>problem_id</th>\n",
       "      <th>skill_id</th>\n",
       "      <th>timestamp</th>\n",
       "      <th>dwell_time</th>\n",
       "      <th>correct</th>\n",
       "    </tr>\n",
       "  </thead>\n",
       "  <tbody>\n",
       "    <tr>\n",
       "      <th>0</th>\n",
       "      <td>0</td>\n",
       "      <td>0</td>\n",
       "      <td>0</td>\n",
       "      <td>1.096470e+09</td>\n",
       "      <td>49.0</td>\n",
       "      <td>0</td>\n",
       "    </tr>\n",
       "    <tr>\n",
       "      <th>1</th>\n",
       "      <td>0</td>\n",
       "      <td>1</td>\n",
       "      <td>0</td>\n",
       "      <td>1.096470e+09</td>\n",
       "      <td>4.0</td>\n",
       "      <td>1</td>\n",
       "    </tr>\n",
       "    <tr>\n",
       "      <th>2</th>\n",
       "      <td>0</td>\n",
       "      <td>2</td>\n",
       "      <td>1</td>\n",
       "      <td>1.096470e+09</td>\n",
       "      <td>6.0</td>\n",
       "      <td>0</td>\n",
       "    </tr>\n",
       "    <tr>\n",
       "      <th>3</th>\n",
       "      <td>0</td>\n",
       "      <td>2</td>\n",
       "      <td>1</td>\n",
       "      <td>1.096470e+09</td>\n",
       "      <td>18.0</td>\n",
       "      <td>0</td>\n",
       "    </tr>\n",
       "    <tr>\n",
       "      <th>4</th>\n",
       "      <td>0</td>\n",
       "      <td>3</td>\n",
       "      <td>1</td>\n",
       "      <td>1.096470e+09</td>\n",
       "      <td>2.0</td>\n",
       "      <td>1</td>\n",
       "    </tr>\n",
       "    <tr>\n",
       "      <th>...</th>\n",
       "      <td>...</td>\n",
       "      <td>...</td>\n",
       "      <td>...</td>\n",
       "      <td>...</td>\n",
       "      <td>...</td>\n",
       "      <td>...</td>\n",
       "    </tr>\n",
       "    <tr>\n",
       "      <th>942811</th>\n",
       "      <td>1708</td>\n",
       "      <td>1777</td>\n",
       "      <td>61</td>\n",
       "      <td>1.147447e+09</td>\n",
       "      <td>4.0</td>\n",
       "      <td>1</td>\n",
       "    </tr>\n",
       "    <tr>\n",
       "      <th>942812</th>\n",
       "      <td>1708</td>\n",
       "      <td>1778</td>\n",
       "      <td>61</td>\n",
       "      <td>1.147448e+09</td>\n",
       "      <td>71.0</td>\n",
       "      <td>0</td>\n",
       "    </tr>\n",
       "    <tr>\n",
       "      <th>942813</th>\n",
       "      <td>1708</td>\n",
       "      <td>1778</td>\n",
       "      <td>61</td>\n",
       "      <td>1.147448e+09</td>\n",
       "      <td>4.0</td>\n",
       "      <td>0</td>\n",
       "    </tr>\n",
       "    <tr>\n",
       "      <th>942814</th>\n",
       "      <td>1708</td>\n",
       "      <td>1778</td>\n",
       "      <td>61</td>\n",
       "      <td>1.147448e+09</td>\n",
       "      <td>3.0</td>\n",
       "      <td>1</td>\n",
       "    </tr>\n",
       "    <tr>\n",
       "      <th>942815</th>\n",
       "      <td>1708</td>\n",
       "      <td>600</td>\n",
       "      <td>10</td>\n",
       "      <td>1.147448e+09</td>\n",
       "      <td>37.0</td>\n",
       "      <td>1</td>\n",
       "    </tr>\n",
       "  </tbody>\n",
       "</table>\n",
       "<p>942816 rows × 6 columns</p>\n",
       "</div>"
      ],
      "text/plain": [
       "        user_id  problem_id  skill_id     timestamp  dwell_time  correct\n",
       "0             0           0         0  1.096470e+09        49.0        0\n",
       "1             0           1         0  1.096470e+09         4.0        1\n",
       "2             0           2         1  1.096470e+09         6.0        0\n",
       "3             0           2         1  1.096470e+09        18.0        0\n",
       "4             0           3         1  1.096470e+09         2.0        1\n",
       "...         ...         ...       ...           ...         ...      ...\n",
       "942811     1708        1777        61  1.147447e+09         4.0        1\n",
       "942812     1708        1778        61  1.147448e+09        71.0        0\n",
       "942813     1708        1778        61  1.147448e+09         4.0        0\n",
       "942814     1708        1778        61  1.147448e+09         3.0        1\n",
       "942815     1708         600        10  1.147448e+09        37.0        1\n",
       "\n",
       "[942816 rows x 6 columns]"
      ]
     },
     "execution_count": 13,
     "metadata": {},
     "output_type": "execute_result"
    }
   ],
   "source": [
    "df"
   ]
  },
  {
   "cell_type": "code",
   "execution_count": 14,
   "metadata": {},
   "outputs": [],
   "source": [
    "df = df.astype({\n",
    "    'timestamp': np.float64,\n",
    "    'dwell_time': np.float64,\n",
    "    'correct': np.float64,\n",
    "    'problem_id': np.int64,\n",
    "    'skill_id': np.int64,\n",
    "    'user_id': np.int64\n",
    "    })"
   ]
  },
  {
   "cell_type": "code",
   "execution_count": 15,
   "metadata": {},
   "outputs": [],
   "source": [
    "# Save\n",
    "df.to_csv(os.path.join(bath_path, 'interactions.csv'), sep='\\t', index=False)"
   ]
  },
  {
   "cell_type": "code",
   "execution_count": 16,
   "metadata": {},
   "outputs": [
    {
     "name": "stdout",
     "output_type": "stream",
     "text": [
      "number of unique value in user_id: 1709\n",
      "number of unique value in problem_id: 3162\n",
      "number of unique value in skill_id: 102\n",
      "number of unique value in timestamp: 807531\n",
      "number of unique value in dwell_time: 9632\n",
      "number of unique value in correct: 2\n"
     ]
    },
    {
     "data": {
      "text/plain": [
       "942816"
      ]
     },
     "execution_count": 16,
     "metadata": {},
     "output_type": "execute_result"
    }
   ],
   "source": [
    "count_unique(df, list(df.columns))\n",
    "len(df)"
   ]
  },
  {
   "cell_type": "code",
   "execution_count": null,
   "metadata": {},
   "outputs": [],
   "source": []
  }
 ],
 "metadata": {
  "interpreter": {
   "hash": "3c2509e27662ce56f108009dad52848cf38f1485dce3b4941071b3bbc5cf42be"
  },
  "kernelspec": {
   "display_name": "Python 3.8.13 ('kt')",
   "language": "python",
   "name": "python3"
  },
  "language_info": {
   "codemirror_mode": {
    "name": "ipython",
    "version": 3
   },
   "file_extension": ".py",
   "mimetype": "text/x-python",
   "name": "python",
   "nbconvert_exporter": "python",
   "pygments_lexer": "ipython3",
   "version": "3.8.13"
  },
  "orig_nbformat": 4
 },
 "nbformat": 4,
 "nbformat_minor": 2
}
