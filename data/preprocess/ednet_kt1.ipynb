{
 "cells": [
  {
   "cell_type": "code",
   "execution_count": null,
   "id": "4980d110",
   "metadata": {},
   "outputs": [],
   "source": [
    "import numpy as np\n",
    "import pandas as pd\n",
    "from collections import defaultdict\n",
    "import operator\n",
    "import time, datetime\n",
    "from utils import *\n",
    "\n",
    "from IPython.display import display, HTML\n",
    "# display(HTML(\"<style>.container { width:100% !important; }</style>\"))\n",
    "\n",
    "# import plotly.express as px\n",
    "# from plotly.subplots import make_subplots\n",
    "# import plotly.graph_objs as go \n",
    "\n",
    "from tqdm import tqdm"
   ]
  },
  {
   "cell_type": "markdown",
   "id": "352865b4",
   "metadata": {},
   "source": [
    "# 1. statistics overview"
   ]
  },
  {
   "cell_type": "code",
   "execution_count": 3,
   "id": "909c3fed",
   "metadata": {},
   "outputs": [],
   "source": [
    "# # There are 784309 tables in our data set. \n",
    "# Each table describes a student’s question-solving log. \n",
    "# There is no difference in the information dimension between the tables.\n",
    "# Each table contains the timestamp,solving_id,question_id,user_answer and elapsed_time \n",
    "# as described in the above Columns Description section."
   ]
  },
  {
   "cell_type": "code",
   "execution_count": 4,
   "id": "3f2dff71",
   "metadata": {},
   "outputs": [],
   "source": [
    "# A major property of EdNet is that the questions come in bundles. \n",
    "# That is, a collection of questions sharing a common passage, \n",
    "# picture or listening material. \n",
    "# For example, questions of ID q2319, q2320 and q2321 may share the same reading passage. \n",
    "# In this case, the questions are said to form a bundle and will be given to the student \n",
    "# with corresponding shared material. \n",
    "# When a bundle is given, a student have access to all the problems and has to respond \n",
    "# all of them in order to complete the bundle."
   ]
  },
  {
   "cell_type": "code",
   "execution_count": 5,
   "id": "1314de4b",
   "metadata": {},
   "outputs": [
    {
     "data": {
      "text/plain": [
       "784309"
      ]
     },
     "execution_count": 5,
     "metadata": {},
     "output_type": "execute_result"
    }
   ],
   "source": [
    "len(s)"
   ]
  },
  {
   "cell_type": "code",
   "execution_count": null,
   "id": "20014d19",
   "metadata": {},
   "outputs": [],
   "source": [
    "import os\n",
    "path='/mnt/qb/work/mlcolab/hzhou52/kt/EdNet/KT1'\n",
    "d=[]\n",
    "table_list=[]\n",
    "s=pd.Series(os.listdir(path))\n",
    "file_selected=s#s.sample(5000).to_numpy()\n",
    "for file_name in file_selected:\n",
    "    data_raw=pd.read_csv(os.path.join(path,file_name),encoding = \"ISO-8859-15\")\n",
    "    data_raw['user_id']=pd.Series([file_name[:-4]]*len(data_raw))\n",
    "    d.append([file_name[:-4],len(data_raw)])\n",
    "    data=pd.DataFrame(data_raw,columns=['user_id']+data_raw.columns.to_list()[:-1])\n",
    "    table_list.append(data)\n",
    "df=pd.concat(table_list)\n",
    "pd.set_option('display.max_rows',10)\n",
    "df=df.reset_index(drop=True)\n",
    "df"
   ]
  },
  {
   "cell_type": "code",
   "execution_count": null,
   "id": "87888e0b",
   "metadata": {},
   "outputs": [],
   "source": [
    "log = df\n",
    "print('The columns of log are ', log.columns)\n",
    "print('The length of log is {}'.format(len(log)))\n",
    "\n",
    "print('###########################################')\n",
    "\n",
    "print(count_unique(log, log.columns))"
   ]
  }
 ],
 "metadata": {
  "kernelspec": {
   "display_name": "Python 3 (ipykernel)",
   "language": "python",
   "name": "python3"
  },
  "language_info": {
   "codemirror_mode": {
    "name": "ipython",
    "version": 3
   },
   "file_extension": ".py",
   "mimetype": "text/x-python",
   "name": "python",
   "nbconvert_exporter": "python",
   "pygments_lexer": "ipython3",
   "version": "3.9.12"
  }
 },
 "nbformat": 4,
 "nbformat_minor": 5
}
