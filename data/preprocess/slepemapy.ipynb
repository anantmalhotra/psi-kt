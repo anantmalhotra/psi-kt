{
 "cells": [
  {
   "cell_type": "markdown",
   "metadata": {},
   "source": [
    "decription is [here](https://www.fi.muni.cz/~xpelanek/publications/jla-dataset.pdf)\n",
    "\n",
    "https://www.fi.muni.cz/adaptivelearning/data/slepemapy/"
   ]
  },
  {
   "cell_type": "code",
   "execution_count": 1,
   "metadata": {},
   "outputs": [],
   "source": [
    "import os\n",
    "import sys\n",
    "import gzip\n",
    "import time\n",
    "import json\n",
    "import pandas as pd\n",
    "import numpy as np\n",
    "import matplotlib.pyplot as plt\n",
    "from datetime import datetime\n",
    "import warnings\n",
    "warnings.filterwarnings('ignore')"
   ]
  },
  {
   "cell_type": "code",
   "execution_count": 2,
   "metadata": {},
   "outputs": [],
   "source": [
    "from utils import *"
   ]
  },
  {
   "cell_type": "code",
   "execution_count": 5,
   "metadata": {},
   "outputs": [
    {
     "data": {
      "text/html": [
       "<div>\n",
       "<style scoped>\n",
       "    .dataframe tbody tr th:only-of-type {\n",
       "        vertical-align: middle;\n",
       "    }\n",
       "\n",
       "    .dataframe tbody tr th {\n",
       "        vertical-align: top;\n",
       "    }\n",
       "\n",
       "    .dataframe thead th {\n",
       "        text-align: right;\n",
       "    }\n",
       "</style>\n",
       "<table border=\"1\" class=\"dataframe\">\n",
       "  <thead>\n",
       "    <tr style=\"text-align: right;\">\n",
       "      <th></th>\n",
       "      <th>id</th>\n",
       "      <th>user</th>\n",
       "      <th>place_asked</th>\n",
       "      <th>place_answered</th>\n",
       "      <th>type</th>\n",
       "      <th>inserted</th>\n",
       "      <th>response_time</th>\n",
       "      <th>place_map</th>\n",
       "      <th>language</th>\n",
       "      <th>options</th>\n",
       "      <th>ip_country</th>\n",
       "      <th>ip_id</th>\n",
       "    </tr>\n",
       "  </thead>\n",
       "  <tbody>\n",
       "    <tr>\n",
       "      <th>0</th>\n",
       "      <td>2407</td>\n",
       "      <td>75</td>\n",
       "      <td>131</td>\n",
       "      <td>NaN</td>\n",
       "      <td>2</td>\n",
       "      <td>2013-09-26 14:45:51</td>\n",
       "      <td>8250</td>\n",
       "      <td>NaN</td>\n",
       "      <td>0</td>\n",
       "      <td>[57, 82, 131, 77]</td>\n",
       "      <td>NaN</td>\n",
       "      <td>NaN</td>\n",
       "    </tr>\n",
       "    <tr>\n",
       "      <th>1</th>\n",
       "      <td>2408</td>\n",
       "      <td>75</td>\n",
       "      <td>130</td>\n",
       "      <td>69.0</td>\n",
       "      <td>1</td>\n",
       "      <td>2013-09-26 14:46:03</td>\n",
       "      <td>8526</td>\n",
       "      <td>NaN</td>\n",
       "      <td>0</td>\n",
       "      <td>[58, 219, 69, 130]</td>\n",
       "      <td>NaN</td>\n",
       "      <td>NaN</td>\n",
       "    </tr>\n",
       "    <tr>\n",
       "      <th>2</th>\n",
       "      <td>2409</td>\n",
       "      <td>75</td>\n",
       "      <td>136</td>\n",
       "      <td>128.0</td>\n",
       "      <td>1</td>\n",
       "      <td>2013-09-26 14:46:10</td>\n",
       "      <td>4060</td>\n",
       "      <td>NaN</td>\n",
       "      <td>0</td>\n",
       "      <td>[128, 136, 216, 54]</td>\n",
       "      <td>NaN</td>\n",
       "      <td>NaN</td>\n",
       "    </tr>\n",
       "    <tr>\n",
       "      <th>3</th>\n",
       "      <td>2410</td>\n",
       "      <td>75</td>\n",
       "      <td>126</td>\n",
       "      <td>126.0</td>\n",
       "      <td>1</td>\n",
       "      <td>2013-09-26 14:46:20</td>\n",
       "      <td>1842</td>\n",
       "      <td>NaN</td>\n",
       "      <td>0</td>\n",
       "      <td>[153, 58, 126, 214]</td>\n",
       "      <td>NaN</td>\n",
       "      <td>NaN</td>\n",
       "    </tr>\n",
       "    <tr>\n",
       "      <th>4</th>\n",
       "      <td>2411</td>\n",
       "      <td>75</td>\n",
       "      <td>101</td>\n",
       "      <td>101.0</td>\n",
       "      <td>2</td>\n",
       "      <td>2013-09-26 14:46:33</td>\n",
       "      <td>10258</td>\n",
       "      <td>NaN</td>\n",
       "      <td>0</td>\n",
       "      <td>[153, 163, 101, 195]</td>\n",
       "      <td>NaN</td>\n",
       "      <td>NaN</td>\n",
       "    </tr>\n",
       "  </tbody>\n",
       "</table>\n",
       "</div>"
      ],
      "text/plain": [
       "     id  user  place_asked  place_answered  type             inserted  \\\n",
       "0  2407    75          131             NaN     2  2013-09-26 14:45:51   \n",
       "1  2408    75          130            69.0     1  2013-09-26 14:46:03   \n",
       "2  2409    75          136           128.0     1  2013-09-26 14:46:10   \n",
       "3  2410    75          126           126.0     1  2013-09-26 14:46:20   \n",
       "4  2411    75          101           101.0     2  2013-09-26 14:46:33   \n",
       "\n",
       "   response_time  place_map  language               options ip_country  ip_id  \n",
       "0           8250        NaN         0     [57, 82, 131, 77]        NaN    NaN  \n",
       "1           8526        NaN         0    [58, 219, 69, 130]        NaN    NaN  \n",
       "2           4060        NaN         0   [128, 136, 216, 54]        NaN    NaN  \n",
       "3           1842        NaN         0   [153, 58, 126, 214]        NaN    NaN  \n",
       "4          10258        NaN         0  [153, 163, 101, 195]        NaN    NaN  "
      ]
     },
     "execution_count": 5,
     "metadata": {},
     "output_type": "execute_result"
    }
   ],
   "source": [
    "prefix = '/mnt/qb/work/mlcolab/hzhou52/kt/slepemapy'\n",
    "answer = pd.read_csv(os.path.join(prefix, 'answer.csv'), sep=';')\n",
    "answer.head()\n",
    "# type: Type of\tquestion: 1)find the given place on\tthe\tmap;\t\n",
    "# 2) pick the name for the highlighted place"
   ]
  },
  {
   "cell_type": "code",
   "execution_count": 8,
   "metadata": {},
   "outputs": [
    {
     "name": "stdout",
     "output_type": "stream",
     "text": [
      "number of NaN in column id: 0\n",
      "number of NaN in column user: 0\n",
      "number of NaN in column place_asked: 0\n",
      "number of NaN in column place_answered: 281706\n",
      "number of NaN in column type: 0\n",
      "number of NaN in column inserted: 0\n",
      "number of NaN in column response_time: 0\n",
      "number of NaN in column place_map: 496987\n",
      "number of NaN in column language: 0\n",
      "number of NaN in column options: 0\n",
      "number of NaN in column ip_country: 781171\n",
      "number of NaN in column ip_id: 773545\n",
      "number of unique value in place_asked: 1458\n",
      "number of unique value in user: 91331\n",
      "10087305\n"
     ]
    }
   ],
   "source": [
    "check_nan(answer)\n",
    "count_unique(answer, ['place_asked', 'user'])\n",
    "print(len(answer))"
   ]
  },
  {
   "cell_type": "code",
   "execution_count": 10,
   "metadata": {},
   "outputs": [
    {
     "name": "stdout",
     "output_type": "stream",
     "text": [
      "10083975\n",
      "number of unique value in place_asked: 1458\n",
      "number of unique value in user: 88001\n"
     ]
    }
   ],
   "source": [
    "answer = remove_log(answer, 'user')\n",
    "print(len(answer))\n",
    "count_unique(answer, ['place_asked', 'user'])"
   ]
  },
  {
   "cell_type": "markdown",
   "metadata": {},
   "source": [
    "# pre-process"
   ]
  },
  {
   "cell_type": "code",
   "execution_count": 12,
   "metadata": {},
   "outputs": [],
   "source": [
    "# create new data\n",
    "df = pd.DataFrame(columns=['user_id', 'problem_id', 'skill_id', 'timestamp', 'dwell_time', 'correct'])\n",
    "df.user_id = answer.user\n",
    "df.problem_id = answer.place_asked\n",
    "df.skill_id = answer.place_asked\n",
    "df.timestamp = answer.inserted.apply(lambda t: time.mktime(time.strptime(t, '%Y-%m-%d %H:%M:%S')))\n",
    "df.dwell_time = answer.response_time.apply(lambda t: t / 1000.0)\n",
    "df.correct = (answer['place_asked'].astype(float) == answer['place_answered'].astype(float))*1"
   ]
  },
  {
   "cell_type": "code",
   "execution_count": 15,
   "metadata": {},
   "outputs": [],
   "source": [
    "# re-index\n",
    "# - skill\n",
    "skill_id = list(df['skill_id'].unique())\n",
    "skill_dict = dict(zip(skill_id, range(len(skill_id))))\n",
    "df['skill_id'] = df['skill_id'].apply(lambda x: skill_dict[x])\n",
    "\n",
    "# - problem\n",
    "pro_id = list(df['problem_id'].unique())\n",
    "pro_dict = dict(zip(pro_id, range(len(pro_id))))\n",
    "df['problem_id'] = df['problem_id'].apply(lambda x: pro_dict[x])\n",
    "\n",
    "# - student\n",
    "stu_id = list(df['user_id'].unique())\n",
    "stu_dict = dict(zip(stu_id, range(len(stu_id))))\n",
    "df['user_id'] = df['user_id'].apply(lambda x: stu_dict[x])"
   ]
  },
  {
   "cell_type": "code",
   "execution_count": 19,
   "metadata": {},
   "outputs": [
    {
     "data": {
      "text/plain": [
       "user_id         int64\n",
       "problem_id      int64\n",
       "skill_id        int64\n",
       "timestamp     float64\n",
       "dwell_time    float64\n",
       "correct         int64\n",
       "dtype: object"
      ]
     },
     "execution_count": 19,
     "metadata": {},
     "output_type": "execute_result"
    }
   ],
   "source": [
    "# Adujust dtypes\n",
    "df = df.astype({'correct': np.float64, 'dwell_time': np.float64, 'timestamp': np.float64})\n",
    "df.dtypes"
   ]
  },
  {
   "cell_type": "code",
   "execution_count": 21,
   "metadata": {},
   "outputs": [],
   "source": [
    "# Save\n",
    "df.to_csv(os.path.join(prefix, 'interactions.csv'), sep='\\t', index=False)"
   ]
  },
  {
   "cell_type": "code",
   "execution_count": 23,
   "metadata": {},
   "outputs": [
    {
     "name": "stdout",
     "output_type": "stream",
     "text": [
      "number of unique value in user_id: 88001\n",
      "number of unique value in problem_id: 1458\n",
      "number of unique value in skill_id: 1458\n",
      "number of unique value in timestamp: 7415199\n",
      "number of unique value in dwell_time: 123341\n",
      "number of unique value in correct: 2\n"
     ]
    },
    {
     "data": {
      "text/plain": [
       "10083975"
      ]
     },
     "execution_count": 23,
     "metadata": {},
     "output_type": "execute_result"
    }
   ],
   "source": [
    "count_unique(df, list(df.columns))\n",
    "len(df)"
   ]
  },
  {
   "cell_type": "code",
   "execution_count": null,
   "metadata": {},
   "outputs": [],
   "source": []
  }
 ],
 "metadata": {
  "interpreter": {
   "hash": "3c2509e27662ce56f108009dad52848cf38f1485dce3b4941071b3bbc5cf42be"
  },
  "kernelspec": {
   "display_name": "Python 3.8.13 ('kt')",
   "language": "python",
   "name": "python3"
  },
  "language_info": {
   "codemirror_mode": {
    "name": "ipython",
    "version": 3
   },
   "file_extension": ".py",
   "mimetype": "text/x-python",
   "name": "python",
   "nbconvert_exporter": "python",
   "pygments_lexer": "ipython3",
   "version": "3.8.13"
  },
  "orig_nbformat": 4
 },
 "nbformat": 4,
 "nbformat_minor": 2
}
