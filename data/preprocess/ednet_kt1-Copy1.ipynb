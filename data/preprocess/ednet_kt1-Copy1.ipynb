{
 "cells": [
  {
   "cell_type": "code",
   "execution_count": 1,
   "id": "4980d110",
   "metadata": {},
   "outputs": [],
   "source": [
    "import numpy as np\n",
    "import pandas as pd\n",
    "from collections import defaultdict\n",
    "import operator\n",
    "import time, datetime\n",
    "from utils import *\n",
    "\n",
    "from IPython.display import display, HTML\n",
    "# display(HTML(\"<style>.container { width:100% !important; }</style>\"))\n",
    "\n",
    "# import plotly.express as px\n",
    "# from plotly.subplots import make_subplots\n",
    "# import plotly.graph_objs as go \n",
    "\n",
    "from tqdm import tqdm"
   ]
  },
  {
   "cell_type": "markdown",
   "id": "352865b4",
   "metadata": {},
   "source": [
    "# 1. statistics overview"
   ]
  },
  {
   "cell_type": "code",
   "execution_count": 2,
   "id": "909c3fed",
   "metadata": {},
   "outputs": [],
   "source": [
    "# # There are 784309 tables in our data set. \n",
    "# Each table describes a student’s question-solving log. \n",
    "# There is no difference in the information dimension between the tables.\n",
    "# Each table contains the timestamp,solving_id,question_id,user_answer and elapsed_time \n",
    "# as described in the above Columns Description section."
   ]
  },
  {
   "cell_type": "code",
   "execution_count": 3,
   "id": "3f2dff71",
   "metadata": {},
   "outputs": [],
   "source": [
    "# A major property of EdNet is that the questions come in bundles. \n",
    "# That is, a collection of questions sharing a common passage, \n",
    "# picture or listening material. \n",
    "# For example, questions of ID q2319, q2320 and q2321 may share the same reading passage. \n",
    "# In this case, the questions are said to form a bundle and will be given to the student \n",
    "# with corresponding shared material. \n",
    "# When a bundle is given, a student have access to all the problems and has to respond \n",
    "# all of them in order to complete the bundle."
   ]
  },
  {
   "cell_type": "code",
   "execution_count": 4,
   "id": "d96e9657",
   "metadata": {},
   "outputs": [],
   "source": [
    "import os\n",
    "path='/mnt/qb/work/mlcolab/hzhou52/kt/EdNet/KT3'\n",
    "d=[]\n",
    "table_list=[]\n",
    "s=pd.Series(os.listdir(path))"
   ]
  },
  {
   "cell_type": "code",
   "execution_count": 5,
   "id": "38ef0b2c",
   "metadata": {},
   "outputs": [
    {
     "data": {
      "text/plain": [
       "297915"
      ]
     },
     "execution_count": 5,
     "metadata": {},
     "output_type": "execute_result"
    }
   ],
   "source": [
    "len(s)"
   ]
  },
  {
   "cell_type": "code",
   "execution_count": 7,
   "id": "20014d19",
   "metadata": {},
   "outputs": [
    {
     "data": {
      "text/html": [
       "<div>\n",
       "<style scoped>\n",
       "    .dataframe tbody tr th:only-of-type {\n",
       "        vertical-align: middle;\n",
       "    }\n",
       "\n",
       "    .dataframe tbody tr th {\n",
       "        vertical-align: top;\n",
       "    }\n",
       "\n",
       "    .dataframe thead th {\n",
       "        text-align: right;\n",
       "    }\n",
       "</style>\n",
       "<table border=\"1\" class=\"dataframe\">\n",
       "  <thead>\n",
       "    <tr style=\"text-align: right;\">\n",
       "      <th></th>\n",
       "      <th>user_id</th>\n",
       "      <th>timestamp</th>\n",
       "      <th>action_type</th>\n",
       "      <th>item_id</th>\n",
       "      <th>source</th>\n",
       "      <th>user_answer</th>\n",
       "      <th>platform</th>\n",
       "    </tr>\n",
       "  </thead>\n",
       "  <tbody>\n",
       "    <tr>\n",
       "      <th>0</th>\n",
       "      <td>u1</td>\n",
       "      <td>1565096151269</td>\n",
       "      <td>enter</td>\n",
       "      <td>b3544</td>\n",
       "      <td>diagnosis</td>\n",
       "      <td>NaN</td>\n",
       "      <td>mobile</td>\n",
       "    </tr>\n",
       "    <tr>\n",
       "      <th>1</th>\n",
       "      <td>u1</td>\n",
       "      <td>1565096187972</td>\n",
       "      <td>respond</td>\n",
       "      <td>q5012</td>\n",
       "      <td>diagnosis</td>\n",
       "      <td>b</td>\n",
       "      <td>mobile</td>\n",
       "    </tr>\n",
       "    <tr>\n",
       "      <th>2</th>\n",
       "      <td>u1</td>\n",
       "      <td>1565096194904</td>\n",
       "      <td>submit</td>\n",
       "      <td>b3544</td>\n",
       "      <td>diagnosis</td>\n",
       "      <td>NaN</td>\n",
       "      <td>mobile</td>\n",
       "    </tr>\n",
       "    <tr>\n",
       "      <th>3</th>\n",
       "      <td>u1</td>\n",
       "      <td>1565096195001</td>\n",
       "      <td>enter</td>\n",
       "      <td>b3238</td>\n",
       "      <td>diagnosis</td>\n",
       "      <td>NaN</td>\n",
       "      <td>mobile</td>\n",
       "    </tr>\n",
       "    <tr>\n",
       "      <th>4</th>\n",
       "      <td>u1</td>\n",
       "      <td>1565096218682</td>\n",
       "      <td>respond</td>\n",
       "      <td>q4706</td>\n",
       "      <td>diagnosis</td>\n",
       "      <td>c</td>\n",
       "      <td>mobile</td>\n",
       "    </tr>\n",
       "    <tr>\n",
       "      <th>...</th>\n",
       "      <td>...</td>\n",
       "      <td>...</td>\n",
       "      <td>...</td>\n",
       "      <td>...</td>\n",
       "      <td>...</td>\n",
       "      <td>...</td>\n",
       "      <td>...</td>\n",
       "    </tr>\n",
       "    <tr>\n",
       "      <th>92094811</th>\n",
       "      <td>u9998</td>\n",
       "      <td>1568964975390</td>\n",
       "      <td>enter</td>\n",
       "      <td>b3819</td>\n",
       "      <td>sprint</td>\n",
       "      <td>NaN</td>\n",
       "      <td>mobile</td>\n",
       "    </tr>\n",
       "    <tr>\n",
       "      <th>92094812</th>\n",
       "      <td>u9998</td>\n",
       "      <td>1568964992921</td>\n",
       "      <td>respond</td>\n",
       "      <td>q5287</td>\n",
       "      <td>sprint</td>\n",
       "      <td>c</td>\n",
       "      <td>mobile</td>\n",
       "    </tr>\n",
       "    <tr>\n",
       "      <th>92094813</th>\n",
       "      <td>u9998</td>\n",
       "      <td>1568964996503</td>\n",
       "      <td>submit</td>\n",
       "      <td>b3819</td>\n",
       "      <td>sprint</td>\n",
       "      <td>NaN</td>\n",
       "      <td>mobile</td>\n",
       "    </tr>\n",
       "    <tr>\n",
       "      <th>92094814</th>\n",
       "      <td>u9998</td>\n",
       "      <td>1568964996572</td>\n",
       "      <td>enter</td>\n",
       "      <td>e3819</td>\n",
       "      <td>sprint</td>\n",
       "      <td>NaN</td>\n",
       "      <td>mobile</td>\n",
       "    </tr>\n",
       "    <tr>\n",
       "      <th>92094815</th>\n",
       "      <td>u9998</td>\n",
       "      <td>1568965006334</td>\n",
       "      <td>quit</td>\n",
       "      <td>e3819</td>\n",
       "      <td>sprint</td>\n",
       "      <td>NaN</td>\n",
       "      <td>mobile</td>\n",
       "    </tr>\n",
       "  </tbody>\n",
       "</table>\n",
       "<p>92094816 rows × 7 columns</p>\n",
       "</div>"
      ],
      "text/plain": [
       "         user_id      timestamp action_type item_id     source user_answer  \\\n",
       "0             u1  1565096151269       enter   b3544  diagnosis         NaN   \n",
       "1             u1  1565096187972     respond   q5012  diagnosis           b   \n",
       "2             u1  1565096194904      submit   b3544  diagnosis         NaN   \n",
       "3             u1  1565096195001       enter   b3238  diagnosis         NaN   \n",
       "4             u1  1565096218682     respond   q4706  diagnosis           c   \n",
       "...          ...            ...         ...     ...        ...         ...   \n",
       "92094811   u9998  1568964975390       enter   b3819     sprint         NaN   \n",
       "92094812   u9998  1568964992921     respond   q5287     sprint           c   \n",
       "92094813   u9998  1568964996503      submit   b3819     sprint         NaN   \n",
       "92094814   u9998  1568964996572       enter   e3819     sprint         NaN   \n",
       "92094815   u9998  1568965006334        quit   e3819     sprint         NaN   \n",
       "\n",
       "         platform  \n",
       "0          mobile  \n",
       "1          mobile  \n",
       "2          mobile  \n",
       "3          mobile  \n",
       "4          mobile  \n",
       "...           ...  \n",
       "92094811   mobile  \n",
       "92094812   mobile  \n",
       "92094813   mobile  \n",
       "92094814   mobile  \n",
       "92094815   mobile  \n",
       "\n",
       "[92094816 rows x 7 columns]"
      ]
     },
     "execution_count": 7,
     "metadata": {},
     "output_type": "execute_result"
    }
   ],
   "source": [
    "file_selected=s#s.sample(5000).to_numpy()\n",
    "for file_name in file_selected:\n",
    "    data_raw=pd.read_csv(os.path.join(path,file_name),encoding = \"ISO-8859-15\")\n",
    "    data_raw['user_id']=pd.Series([file_name[:-4]]*len(data_raw))\n",
    "    d.append([file_name[:-4],len(data_raw)])\n",
    "    data=pd.DataFrame(data_raw,columns=['user_id']+data_raw.columns.to_list()[:-1])\n",
    "    table_list.append(data)\n",
    "df=pd.concat(table_list)\n",
    "pd.set_option('display.max_rows',10)\n",
    "df=df.reset_index(drop=True)\n",
    "df"
   ]
  },
  {
   "cell_type": "code",
   "execution_count": 18,
   "id": "b66bdc45",
   "metadata": {},
   "outputs": [],
   "source": [
    "import pickle\n",
    "\n",
    "filehandler = open(\"/mnt/qb/work/mlcolab/hzhou52/kt/EdNet/kt3.obj\",\"wb\")\n",
    "pickle.dump(df, filehandler)\n",
    "filehandler.close()\n",
    "\n",
    "# file = open(\"Fruits.obj\",'rb')\n",
    "# object_file = pickle.load(file)\n",
    "# file.close()"
   ]
  },
  {
   "cell_type": "code",
   "execution_count": 8,
   "id": "a12f6a9e",
   "metadata": {},
   "outputs": [
    {
     "name": "stdout",
     "output_type": "stream",
     "text": [
      "The columns of log are  Index(['user_id', 'timestamp', 'action_type', 'item_id', 'source',\n",
      "       'user_answer', 'platform'],\n",
      "      dtype='object')\n",
      "The length of log is 92094816\n",
      "###########################################\n",
      "Number of unique values in user_id: 297915\n",
      "Number of unique values in timestamp: 89044977\n",
      "Number of unique values in action_type: 4\n",
      "Number of unique values in item_id: 29498\n",
      "Number of unique values in source: 8\n",
      "Number of unique values in user_answer: 4\n",
      "Number of unique values in platform: 2\n",
      "None\n"
     ]
    }
   ],
   "source": [
    "log = df\n",
    "print('The columns of log are ', log.columns)\n",
    "print('The length of log is {}'.format(len(log)))\n",
    "\n",
    "print('###########################################')\n",
    "\n",
    "print(count_unique(log, log.columns))"
   ]
  },
  {
   "cell_type": "code",
   "execution_count": 10,
   "id": "07c3f0b2",
   "metadata": {},
   "outputs": [
    {
     "name": "stdout",
     "output_type": "stream",
     "text": [
      "Number of NaN values in column user_id: 0\n",
      "Number of NaN values in column timestamp: 0\n",
      "Number of NaN values in column action_type: 0\n",
      "Number of NaN values in column item_id: 0\n",
      "Number of NaN values in column source: 0\n",
      "Number of NaN values in column user_answer: 67976728\n",
      "Number of NaN values in column platform: 0\n"
     ]
    }
   ],
   "source": [
    "check_nan(log)"
   ]
  },
  {
   "cell_type": "code",
   "execution_count": 13,
   "id": "c638c30e",
   "metadata": {},
   "outputs": [
    {
     "name": "stdout",
     "output_type": "stream",
     "text": [
      "['enter' 'respond' 'submit' 'quit']\n"
     ]
    }
   ],
   "source": [
    "print(log['action_type'].unique())\n",
    "# need to filter the respond type\n",
    "log = log[log['action_type'] == 'respond']"
   ]
  },
  {
   "cell_type": "code",
   "execution_count": 15,
   "id": "be50a269",
   "metadata": {},
   "outputs": [
    {
     "name": "stdout",
     "output_type": "stream",
     "text": [
      "Number of unique values in user_id: 296701\n",
      "Number of unique values in timestamp: 23298298\n",
      "Number of unique values in action_type: 1\n",
      "Number of unique values in item_id: 11555\n",
      "Number of unique values in source: 7\n",
      "Number of unique values in user_answer: 4\n",
      "Number of unique values in platform: 2\n",
      "None\n"
     ]
    },
    {
     "data": {
      "text/plain": [
       "24118088"
      ]
     },
     "execution_count": 15,
     "metadata": {},
     "output_type": "execute_result"
    }
   ],
   "source": [
    "print(count_unique(log, log.columns))\n",
    "len(log)"
   ]
  },
  {
   "cell_type": "code",
   "execution_count": 16,
   "id": "22291e67",
   "metadata": {},
   "outputs": [
    {
     "data": {
      "text/plain": [
       "24118088"
      ]
     },
     "execution_count": 16,
     "metadata": {},
     "output_type": "execute_result"
    }
   ],
   "source": [
    "92094816-67976728"
   ]
  },
  {
   "cell_type": "code",
   "execution_count": null,
   "id": "22a6cdbf",
   "metadata": {},
   "outputs": [],
   "source": []
  }
 ],
 "metadata": {
  "kernelspec": {
   "display_name": "Python 3 (ipykernel)",
   "language": "python",
   "name": "python3"
  },
  "language_info": {
   "codemirror_mode": {
    "name": "ipython",
    "version": 3
   },
   "file_extension": ".py",
   "mimetype": "text/x-python",
   "name": "python",
   "nbconvert_exporter": "python",
   "pygments_lexer": "ipython3",
   "version": "3.9.12"
  }
 },
 "nbformat": 4,
 "nbformat_minor": 5
}
