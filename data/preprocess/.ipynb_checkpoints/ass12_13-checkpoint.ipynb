{
 "cells": [
  {
   "cell_type": "code",
   "execution_count": 26,
   "metadata": {},
   "outputs": [],
   "source": [
    "import numpy as np\n",
    "import pandas as pd\n",
    "from collections import defaultdict\n",
    "import operator\n",
    "import time, datetime\n",
    "from utils import *"
   ]
  },
  {
   "cell_type": "markdown",
   "metadata": {},
   "source": [
    "modified 0330"
   ]
  },
  {
   "cell_type": "markdown",
   "metadata": {},
   "source": [
    "# 1. statistics overview"
   ]
  },
  {
   "cell_type": "code",
   "execution_count": 11,
   "metadata": {
    "collapsed": true
   },
   "outputs": [
    {
     "name": "stdout",
     "output_type": "stream",
     "text": [
      "The columns of log are  Index(['problem_log_id', 'skill', 'problem_id', 'user_id', 'assignment_id',\n",
      "       'assistment_id', 'start_time', 'end_time', 'problem_type', 'original',\n",
      "       'correct', 'bottom_hint', 'hint_count', 'actions', 'attempt_count',\n",
      "       'ms_first_response', 'tutor_mode', 'sequence_id', 'student_class_id',\n",
      "       'position', 'type', 'base_sequence_id', 'skill_id', 'teacher_id',\n",
      "       'school_id', 'overlap_time', 'template_id', 'answer_id', 'answer_text',\n",
      "       'first_action', 'problemlogid', 'Average_confidence(FRUSTRATED)',\n",
      "       'Average_confidence(CONFUSED)', 'Average_confidence(CONCENTRATING)',\n",
      "       'Average_confidence(BORED)'],\n",
      "      dtype='object')\n",
      "The length of log is 6123270\n",
      "###########################################\n",
      "number of unique value in problem_log_id: 6123270\n",
      "number of unique value in skill: 199\n",
      "number of unique value in problem_id: 179999\n",
      "number of unique value in user_id: 46674\n",
      "number of unique value in assignment_id: 189760\n",
      "number of unique value in assistment_id: 138555\n",
      "number of unique value in start_time: 4672374\n",
      "number of unique value in end_time: 6121336\n",
      "number of unique value in problem_type: 6\n",
      "number of unique value in original: 2\n",
      "number of unique value in correct: 13\n",
      "number of unique value in bottom_hint: 3\n",
      "number of unique value in hint_count: 15\n",
      "number of unique value in actions: 6123270\n",
      "number of unique value in attempt_count: 30\n",
      "number of unique value in ms_first_response: 362600\n",
      "number of unique value in tutor_mode: 2\n",
      "number of unique value in sequence_id: 112403\n",
      "number of unique value in student_class_id: 2661\n",
      "number of unique value in position: 6747\n",
      "number of unique value in type: 7\n",
      "number of unique value in base_sequence_id: 110648\n",
      "number of unique value in skill_id: 266\n",
      "number of unique value in teacher_id: 1331\n",
      "number of unique value in school_id: 662\n",
      "number of unique value in overlap_time: 363516\n",
      "number of unique value in template_id: 96403\n",
      "number of unique value in answer_id: 3817\n",
      "number of unique value in answer_text: 224740\n",
      "number of unique value in first_action: 3\n",
      "number of unique value in problemlogid: 6123270\n",
      "number of unique value in Average_confidence(FRUSTRATED): 831\n",
      "number of unique value in Average_confidence(CONFUSED): 2476\n",
      "number of unique value in Average_confidence(CONCENTRATING): 842\n",
      "number of unique value in Average_confidence(BORED): 11213\n",
      "None\n"
     ]
    }
   ],
   "source": [
    "bath_path = '/mnt/qb/work/mlcolab/hzhou52/kt/assistment12/2012-2013-data-with-predictions-4-final.csv'\n",
    "log = pd.read_csv(bath_path, encoding = \"utf-8\",low_memory=False)\n",
    "\n",
    "print('The columns of log are ', log.columns)\n",
    "print('The length of log is {}'.format(len(log)))\n",
    "\n",
    "print('###########################################')\n",
    "\n",
    "print(count_unique(log, log.columns))"
   ]
  },
  {
   "cell_type": "code",
   "execution_count": 13,
   "metadata": {
    "collapsed": true
   },
   "outputs": [
    {
     "name": "stdout",
     "output_type": "stream",
     "text": [
      "problem_log_id 0    137792159\n",
      "1    138083797\n",
      "2    142332619\n",
      "3    145939397\n",
      "4    137111284\n",
      "Name: problem_log_id, dtype: int64\n",
      "skill 0                                     NaN\n",
      "1                                Rounding\n",
      "2    Multiplication and Division Integers\n",
      "3                              Proportion\n",
      "4                                     NaN\n",
      "Name: skill, dtype: object\n",
      "problem_id 0    557460\n",
      "1    365981\n",
      "2    426415\n",
      "3     86686\n",
      "4    399669\n",
      "Name: problem_id, dtype: int64\n",
      "user_id 0    61394\n",
      "1    61394\n",
      "2    61394\n",
      "3    61394\n",
      "4    76592\n",
      "Name: user_id, dtype: int64\n",
      "assignment_id 0    565736\n",
      "1    573819\n",
      "2    734130\n",
      "3    821352\n",
      "4    557216\n",
      "Name: assignment_id, dtype: int64\n",
      "assistment_id 0    341511\n",
      "1    204043\n",
      "2    247525\n",
      "3     48081\n",
      "4    227869\n",
      "Name: assistment_id, dtype: int64\n",
      "start_time 0    2012-09-28 15:11:27\n",
      "1    2012-10-09 11:01:52\n",
      "2    2013-03-07 10:53:20\n",
      "3    2013-08-20 19:54:56\n",
      "4    2012-09-10 17:20:10\n",
      "Name: start_time, dtype: object\n",
      "end_time 0    2012-09-28 15:11:36.856\n",
      "1    2012-10-09 11:02:13.182\n",
      "2    2013-03-07 10:53:28.661\n",
      "3    2013-08-20 19:55:21.753\n",
      "4    2012-09-10 17:24:56.579\n",
      "Name: end_time, dtype: object\n",
      "problem_type 0    choose_1\n",
      "1     algebra\n",
      "2     algebra\n",
      "3     algebra\n",
      "4    choose_1\n",
      "Name: problem_type, dtype: object\n",
      "original 0    1\n",
      "1    1\n",
      "2    1\n",
      "3    1\n",
      "4    1\n",
      "Name: original, dtype: int64\n",
      "correct 0    1.0\n",
      "1    1.0\n",
      "2    0.0\n",
      "3    1.0\n",
      "4    1.0\n",
      "Name: correct, dtype: float64\n",
      "bottom_hint 0    0.0\n",
      "1    0.0\n",
      "2    0.0\n",
      "3    0.0\n",
      "4    0.0\n",
      "Name: bottom_hint, dtype: float64\n",
      "hint_count 0    0\n",
      "1    0\n",
      "2    0\n",
      "3    0\n",
      "4    0\n",
      "Name: hint_count, dtype: int64\n",
      "actions 0    --- \\n- - start\\n  - 1348859487561\\n  - \"95952...\n",
      "1    --- \\n- - start\\n  - 1349794912269\\n  - \"62459...\n",
      "2    --- \\n- - start\\n  - 1362671600405\\n  - \"74107...\n",
      "3    --- \\n- - start\\n  - 1377042896503\\n  - \"73630...\n",
      "4    --- \\n- - start\\n  - 1347312010563\\n  - \"69479...\n",
      "Name: actions, dtype: object\n",
      "attempt_count 0    1\n",
      "1    1\n",
      "2    1\n",
      "3    1\n",
      "4    1\n",
      "Name: attempt_count, dtype: int64\n",
      "ms_first_response 0      9852\n",
      "1     21175\n",
      "2      8645\n",
      "3     25728\n",
      "4    286578\n",
      "Name: ms_first_response, dtype: int64\n",
      "tutor_mode 0    tutor\n",
      "1    tutor\n",
      "2    tutor\n",
      "3    tutor\n",
      "4    tutor\n",
      "Name: tutor_mode, dtype: object\n",
      "sequence_id 0    55482\n",
      "1    34221\n",
      "2    39601\n",
      "3     6912\n",
      "4    37143\n",
      "Name: sequence_id, dtype: int64\n",
      "student_class_id 0    23643\n",
      "1    22967\n",
      "2    22967\n",
      "3    26303\n",
      "4    21696\n",
      "Name: student_class_id, dtype: int64\n",
      "position 0     4\n",
      "1     5\n",
      "2    58\n",
      "3    21\n",
      "4     3\n",
      "Name: position, dtype: int64\n",
      "type 0     LinearSection\n",
      "1     LinearSection\n",
      "2     LinearSection\n",
      "3    MasterySection\n",
      "4     LinearSection\n",
      "Name: type, dtype: object\n",
      "base_sequence_id 0    55482\n",
      "1    34221\n",
      "2    39601\n",
      "3     6912\n",
      "4    37143\n",
      "Name: base_sequence_id, dtype: int64\n",
      "skill_id 0      NaN\n",
      "1     54.0\n",
      "2    279.0\n",
      "3     79.0\n",
      "4      NaN\n",
      "Name: skill_id, dtype: float64\n",
      "teacher_id 0     53472\n",
      "1     47424\n",
      "2     47424\n",
      "3     47424\n",
      "4    152676\n",
      "Name: teacher_id, dtype: int64\n",
      "school_id 0    5048.0\n",
      "1    5048.0\n",
      "2    5048.0\n",
      "3    5048.0\n",
      "4    7561.0\n",
      "Name: school_id, dtype: float64\n",
      "overlap_time 0      9852\n",
      "1     21175\n",
      "2      8645\n",
      "3     25728\n",
      "4    286578\n",
      "Name: overlap_time, dtype: int64\n",
      "template_id 0    341511\n",
      "1    204043\n",
      "2    247525\n",
      "3     46362\n",
      "4    227869\n",
      "Name: template_id, dtype: int64\n",
      "answer_id 0   NaN\n",
      "1   NaN\n",
      "2   NaN\n",
      "3   NaN\n",
      "4   NaN\n",
      "Name: answer_id, dtype: float64\n",
      "answer_text 0                   she\n",
      "1                 74.29\n",
      "2                    00\n",
      "3                   3.8\n",
      "4    C (wr - 1)(wr + 1)\n",
      "Name: answer_text, dtype: object\n",
      "first_action 0    0\n",
      "1    0\n",
      "2    0\n",
      "3    0\n",
      "4    0\n",
      "Name: first_action, dtype: int64\n",
      "problemlogid 0    137792159\n",
      "1    138083797\n",
      "2    142332619\n",
      "3    145939397\n",
      "4    137111284\n",
      "Name: problemlogid, dtype: int64\n",
      "Average_confidence(FRUSTRATED) 0    0.361323\n",
      "1    0.361323\n",
      "2    0.361323\n",
      "3    0.775000\n",
      "4    0.361323\n",
      "Name: Average_confidence(FRUSTRATED), dtype: float64\n",
      "Average_confidence(CONFUSED) 0    0.0\n",
      "1    0.0\n",
      "2    0.0\n",
      "3    0.0\n",
      "4    0.0\n",
      "Name: Average_confidence(CONFUSED), dtype: float64\n",
      "Average_confidence(CONCENTRATING) 0    0.336529\n",
      "1    0.766925\n",
      "2    0.766925\n",
      "3    0.766925\n",
      "4    0.766925\n",
      "Name: Average_confidence(CONCENTRATING), dtype: float64\n",
      "Average_confidence(BORED) 0    0.000000\n",
      "1    0.000000\n",
      "2    0.442968\n",
      "3    0.912281\n",
      "4    0.000000\n",
      "Name: Average_confidence(BORED), dtype: float64\n"
     ]
    }
   ],
   "source": [
    "for col in log.columns:\n",
    "    print(col, log[col][0:5])"
   ]
  },
  {
   "cell_type": "code",
   "execution_count": 14,
   "metadata": {},
   "outputs": [],
   "source": [
    "interested_col = [\n",
    "    'user_id', 'problem_id', 'skill_id', 'start_time', 'end_time', 'correct', \n",
    "    'skill', 'problem_type', 'answer_text', \n",
    "]"
   ]
  },
  {
   "cell_type": "code",
   "execution_count": 15,
   "metadata": {
    "collapsed": true
   },
   "outputs": [
    {
     "data": {
      "text/html": [
       "<div>\n",
       "<style scoped>\n",
       "    .dataframe tbody tr th:only-of-type {\n",
       "        vertical-align: middle;\n",
       "    }\n",
       "\n",
       "    .dataframe tbody tr th {\n",
       "        vertical-align: top;\n",
       "    }\n",
       "\n",
       "    .dataframe thead th {\n",
       "        text-align: right;\n",
       "    }\n",
       "</style>\n",
       "<table border=\"1\" class=\"dataframe\">\n",
       "  <thead>\n",
       "    <tr style=\"text-align: right;\">\n",
       "      <th></th>\n",
       "      <th>problem_log_id</th>\n",
       "      <th>skill</th>\n",
       "      <th>problem_id</th>\n",
       "      <th>user_id</th>\n",
       "      <th>assignment_id</th>\n",
       "      <th>assistment_id</th>\n",
       "      <th>start_time</th>\n",
       "      <th>end_time</th>\n",
       "      <th>problem_type</th>\n",
       "      <th>original</th>\n",
       "      <th>...</th>\n",
       "      <th>overlap_time</th>\n",
       "      <th>template_id</th>\n",
       "      <th>answer_id</th>\n",
       "      <th>answer_text</th>\n",
       "      <th>first_action</th>\n",
       "      <th>problemlogid</th>\n",
       "      <th>Average_confidence(FRUSTRATED)</th>\n",
       "      <th>Average_confidence(CONFUSED)</th>\n",
       "      <th>Average_confidence(CONCENTRATING)</th>\n",
       "      <th>Average_confidence(BORED)</th>\n",
       "    </tr>\n",
       "  </thead>\n",
       "  <tbody>\n",
       "    <tr>\n",
       "      <th>0</th>\n",
       "      <td>137792159</td>\n",
       "      <td>NaN</td>\n",
       "      <td>557460</td>\n",
       "      <td>61394</td>\n",
       "      <td>565736</td>\n",
       "      <td>341511</td>\n",
       "      <td>2012-09-28 15:11:27</td>\n",
       "      <td>2012-09-28 15:11:36.856</td>\n",
       "      <td>choose_1</td>\n",
       "      <td>1</td>\n",
       "      <td>...</td>\n",
       "      <td>9852</td>\n",
       "      <td>341511</td>\n",
       "      <td>NaN</td>\n",
       "      <td>she</td>\n",
       "      <td>0</td>\n",
       "      <td>137792159</td>\n",
       "      <td>0.361323</td>\n",
       "      <td>0.0</td>\n",
       "      <td>0.336529</td>\n",
       "      <td>0.000000</td>\n",
       "    </tr>\n",
       "    <tr>\n",
       "      <th>1</th>\n",
       "      <td>138083797</td>\n",
       "      <td>Rounding</td>\n",
       "      <td>365981</td>\n",
       "      <td>61394</td>\n",
       "      <td>573819</td>\n",
       "      <td>204043</td>\n",
       "      <td>2012-10-09 11:01:52</td>\n",
       "      <td>2012-10-09 11:02:13.182</td>\n",
       "      <td>algebra</td>\n",
       "      <td>1</td>\n",
       "      <td>...</td>\n",
       "      <td>21175</td>\n",
       "      <td>204043</td>\n",
       "      <td>NaN</td>\n",
       "      <td>74.29</td>\n",
       "      <td>0</td>\n",
       "      <td>138083797</td>\n",
       "      <td>0.361323</td>\n",
       "      <td>0.0</td>\n",
       "      <td>0.766925</td>\n",
       "      <td>0.000000</td>\n",
       "    </tr>\n",
       "    <tr>\n",
       "      <th>2</th>\n",
       "      <td>142332619</td>\n",
       "      <td>Multiplication and Division Integers</td>\n",
       "      <td>426415</td>\n",
       "      <td>61394</td>\n",
       "      <td>734130</td>\n",
       "      <td>247525</td>\n",
       "      <td>2013-03-07 10:53:20</td>\n",
       "      <td>2013-03-07 10:53:28.661</td>\n",
       "      <td>algebra</td>\n",
       "      <td>1</td>\n",
       "      <td>...</td>\n",
       "      <td>8645</td>\n",
       "      <td>247525</td>\n",
       "      <td>NaN</td>\n",
       "      <td>00</td>\n",
       "      <td>0</td>\n",
       "      <td>142332619</td>\n",
       "      <td>0.361323</td>\n",
       "      <td>0.0</td>\n",
       "      <td>0.766925</td>\n",
       "      <td>0.442968</td>\n",
       "    </tr>\n",
       "    <tr>\n",
       "      <th>3</th>\n",
       "      <td>145939397</td>\n",
       "      <td>Proportion</td>\n",
       "      <td>86686</td>\n",
       "      <td>61394</td>\n",
       "      <td>821352</td>\n",
       "      <td>48081</td>\n",
       "      <td>2013-08-20 19:54:56</td>\n",
       "      <td>2013-08-20 19:55:21.753</td>\n",
       "      <td>algebra</td>\n",
       "      <td>1</td>\n",
       "      <td>...</td>\n",
       "      <td>25728</td>\n",
       "      <td>46362</td>\n",
       "      <td>NaN</td>\n",
       "      <td>3.8</td>\n",
       "      <td>0</td>\n",
       "      <td>145939397</td>\n",
       "      <td>0.775000</td>\n",
       "      <td>0.0</td>\n",
       "      <td>0.766925</td>\n",
       "      <td>0.912281</td>\n",
       "    </tr>\n",
       "    <tr>\n",
       "      <th>4</th>\n",
       "      <td>137111284</td>\n",
       "      <td>NaN</td>\n",
       "      <td>399669</td>\n",
       "      <td>76592</td>\n",
       "      <td>557216</td>\n",
       "      <td>227869</td>\n",
       "      <td>2012-09-10 17:20:10</td>\n",
       "      <td>2012-09-10 17:24:56.579</td>\n",
       "      <td>choose_1</td>\n",
       "      <td>1</td>\n",
       "      <td>...</td>\n",
       "      <td>286578</td>\n",
       "      <td>227869</td>\n",
       "      <td>NaN</td>\n",
       "      <td>C (wr - 1)(wr + 1)</td>\n",
       "      <td>0</td>\n",
       "      <td>137111284</td>\n",
       "      <td>0.361323</td>\n",
       "      <td>0.0</td>\n",
       "      <td>0.766925</td>\n",
       "      <td>0.000000</td>\n",
       "    </tr>\n",
       "  </tbody>\n",
       "</table>\n",
       "<p>5 rows × 35 columns</p>\n",
       "</div>"
      ],
      "text/plain": [
       "   problem_log_id                                 skill  problem_id  user_id  \\\n",
       "0       137792159                                   NaN      557460    61394   \n",
       "1       138083797                              Rounding      365981    61394   \n",
       "2       142332619  Multiplication and Division Integers      426415    61394   \n",
       "3       145939397                            Proportion       86686    61394   \n",
       "4       137111284                                   NaN      399669    76592   \n",
       "\n",
       "   assignment_id  assistment_id           start_time                 end_time  \\\n",
       "0         565736         341511  2012-09-28 15:11:27  2012-09-28 15:11:36.856   \n",
       "1         573819         204043  2012-10-09 11:01:52  2012-10-09 11:02:13.182   \n",
       "2         734130         247525  2013-03-07 10:53:20  2013-03-07 10:53:28.661   \n",
       "3         821352          48081  2013-08-20 19:54:56  2013-08-20 19:55:21.753   \n",
       "4         557216         227869  2012-09-10 17:20:10  2012-09-10 17:24:56.579   \n",
       "\n",
       "  problem_type  original  ...  overlap_time  template_id  answer_id  \\\n",
       "0     choose_1         1  ...          9852       341511        NaN   \n",
       "1      algebra         1  ...         21175       204043        NaN   \n",
       "2      algebra         1  ...          8645       247525        NaN   \n",
       "3      algebra         1  ...         25728        46362        NaN   \n",
       "4     choose_1         1  ...        286578       227869        NaN   \n",
       "\n",
       "          answer_text  first_action  problemlogid  \\\n",
       "0                 she             0     137792159   \n",
       "1               74.29             0     138083797   \n",
       "2                  00             0     142332619   \n",
       "3                 3.8             0     145939397   \n",
       "4  C (wr - 1)(wr + 1)             0     137111284   \n",
       "\n",
       "  Average_confidence(FRUSTRATED)  Average_confidence(CONFUSED)  \\\n",
       "0                       0.361323                           0.0   \n",
       "1                       0.361323                           0.0   \n",
       "2                       0.361323                           0.0   \n",
       "3                       0.775000                           0.0   \n",
       "4                       0.361323                           0.0   \n",
       "\n",
       "   Average_confidence(CONCENTRATING)  Average_confidence(BORED)  \n",
       "0                           0.336529                   0.000000  \n",
       "1                           0.766925                   0.000000  \n",
       "2                           0.766925                   0.442968  \n",
       "3                           0.766925                   0.912281  \n",
       "4                           0.766925                   0.000000  \n",
       "\n",
       "[5 rows x 35 columns]"
      ]
     },
     "execution_count": 15,
     "metadata": {},
     "output_type": "execute_result"
    }
   ],
   "source": [
    "log.head()"
   ]
  },
  {
   "cell_type": "code",
   "execution_count": 16,
   "metadata": {
    "collapsed": true
   },
   "outputs": [
    {
     "name": "stdout",
     "output_type": "stream",
     "text": [
      "number of NaN in column problem_log_id: 0\n",
      "number of NaN in column skill: 3493190\n",
      "number of NaN in column problem_id: 0\n",
      "number of NaN in column user_id: 0\n",
      "number of NaN in column assignment_id: 0\n",
      "number of NaN in column assistment_id: 0\n",
      "number of NaN in column start_time: 0\n",
      "number of NaN in column end_time: 0\n",
      "number of NaN in column problem_type: 0\n",
      "number of NaN in column original: 0\n",
      "number of NaN in column correct: 0\n",
      "number of NaN in column bottom_hint: 60348\n",
      "number of NaN in column hint_count: 0\n",
      "number of NaN in column actions: 0\n",
      "number of NaN in column attempt_count: 0\n",
      "number of NaN in column ms_first_response: 0\n",
      "number of NaN in column tutor_mode: 0\n",
      "number of NaN in column sequence_id: 0\n",
      "number of NaN in column student_class_id: 0\n",
      "number of NaN in column position: 0\n",
      "number of NaN in column type: 0\n",
      "number of NaN in column base_sequence_id: 0\n",
      "number of NaN in column skill_id: 3411457\n",
      "number of NaN in column teacher_id: 0\n",
      "number of NaN in column school_id: 157\n",
      "number of NaN in column overlap_time: 0\n",
      "number of NaN in column template_id: 0\n",
      "number of NaN in column answer_id: 6114995\n",
      "number of NaN in column answer_text: 346338\n",
      "number of NaN in column first_action: 0\n",
      "number of NaN in column problemlogid: 0\n",
      "number of NaN in column Average_confidence(FRUSTRATED): 0\n",
      "number of NaN in column Average_confidence(CONFUSED): 0\n",
      "number of NaN in column Average_confidence(CONCENTRATING): 0\n",
      "number of NaN in column Average_confidence(BORED): 0\n"
     ]
    }
   ],
   "source": [
    "check_nan(log)"
   ]
  },
  {
   "cell_type": "code",
   "execution_count": 5,
   "metadata": {
    "collapsed": true
   },
   "outputs": [
    {
     "name": "stdout",
     "output_type": "stream",
     "text": [
      "number of NaN in column problem_log_id: 0\n",
      "number of NaN in column skill: 3493190\n",
      "number of NaN in column problem_id: 0\n",
      "number of NaN in column user_id: 0\n",
      "number of NaN in column assignment_id: 0\n",
      "number of NaN in column assistment_id: 0\n",
      "number of NaN in column start_time: 0\n",
      "number of NaN in column end_time: 0\n",
      "number of NaN in column problem_type: 0\n",
      "number of NaN in column original: 0\n",
      "number of NaN in column correct: 0\n",
      "number of NaN in column bottom_hint: 60348\n",
      "number of NaN in column hint_count: 0\n",
      "number of NaN in column actions: 0\n",
      "number of NaN in column attempt_count: 0\n",
      "number of NaN in column ms_first_response: 0\n",
      "number of NaN in column tutor_mode: 0\n",
      "number of NaN in column sequence_id: 0\n",
      "number of NaN in column student_class_id: 0\n",
      "number of NaN in column position: 0\n",
      "number of NaN in column type: 0\n",
      "number of NaN in column base_sequence_id: 0\n",
      "number of NaN in column skill_id: 3411457\n",
      "number of NaN in column teacher_id: 0\n",
      "number of NaN in column school_id: 157\n",
      "number of NaN in column overlap_time: 0\n",
      "number of NaN in column template_id: 0\n",
      "number of NaN in column answer_id: 6114995\n",
      "number of NaN in column answer_text: 346338\n",
      "number of NaN in column first_action: 0\n",
      "number of NaN in column problemlogid: 0\n",
      "number of NaN in column Average_confidence(FRUSTRATED): 0\n",
      "number of NaN in column Average_confidence(CONFUSED): 0\n",
      "number of NaN in column Average_confidence(CONCENTRATING): 0\n",
      "number of NaN in column Average_confidence(BORED): 0\n",
      "number of unique value in user_id: 46674\n",
      "number of unique value in skill_id: 266\n",
      "number of unique value in problem_id: 179999\n",
      "6123270\n"
     ]
    }
   ],
   "source": [
    "count_unique(log, ['user_id', 'skill_id', 'problem_id'])\n",
    "print(len(log))"
   ]
  },
  {
   "cell_type": "code",
   "execution_count": 26,
   "metadata": {},
   "outputs": [
    {
     "data": {
      "text/plain": [
       "0.6768206326031685"
      ]
     },
     "execution_count": 26,
     "metadata": {},
     "output_type": "execute_result"
    }
   ],
   "source": [
    "log['correct'].mean()"
   ]
  },
  {
   "cell_type": "markdown",
   "metadata": {},
   "source": [
    "# 2. remove learner logs with threshold"
   ]
  },
  {
   "cell_type": "code",
   "execution_count": 6,
   "metadata": {
    "collapsed": true
   },
   "outputs": [
    {
     "name": "stdout",
     "output_type": "stream",
     "text": [
      "remove threshold is 50\n",
      "number of unique value in user_id: 12443\n",
      "number of unique value in skill_id: 263\n",
      "number of unique value in problem_id: 51866\n",
      "2431788\n",
      "remove threshold is 100\n",
      "number of unique value in user_id: 7543\n",
      "number of unique value in skill_id: 260\n",
      "number of unique value in problem_id: 50791\n",
      "2081199\n",
      "remove threshold is 150\n",
      "number of unique value in user_id: 5076\n",
      "number of unique value in skill_id: 255\n",
      "number of unique value in problem_id: 49209\n",
      "1779709\n",
      "remove threshold is 200\n",
      "number of unique value in user_id: 3696\n",
      "number of unique value in skill_id: 251\n",
      "number of unique value in problem_id: 47426\n",
      "1542919\n"
     ]
    }
   ],
   "source": [
    "remove_thres = [50, 100, 150, 200]\n",
    "\n",
    "for thres in remove_thres:\n",
    "    print('remove threshold is {}'.format(thres))\n",
    "    log = log[~log.skill_id.isna()]\n",
    "    log = remove_log(log, 'user_id', num=thres)\n",
    "    count_unique(log, ['user_id', 'skill_id', 'problem_id'])\n",
    "    print(len(log))"
   ]
  },
  {
   "cell_type": "code",
   "execution_count": 21,
   "metadata": {
    "collapsed": true
   },
   "outputs": [
    {
     "name": "stdout",
     "output_type": "stream",
     "text": [
      "Remove threshold is 50\n",
      "Remove threshold 50 is done!\n",
      "number of unique value in user_id: 12443\n",
      "number of unique value in problem_id: 51866\n",
      "number of unique value in skill_id: 263\n",
      "number of unique value in correct: 8\n",
      "number of unique value in skill_text: 198\n",
      "number of unique value in problem_text: 6\n",
      "number of unique value in answer_text: 104219\n",
      "number of unique value in timestamp: 2431626\n",
      "number of unique value in dwell_time: 376678\n",
      "None\n",
      "Length of DataFrame: 2431788\n",
      "Remove threshold is 100\n",
      "Remove threshold 100 is done!\n",
      "number of unique value in user_id: 7543\n",
      "number of unique value in problem_id: 50791\n",
      "number of unique value in skill_id: 260\n",
      "number of unique value in correct: 6\n",
      "number of unique value in skill_text: 198\n",
      "number of unique value in problem_text: 6\n",
      "number of unique value in answer_text: 94560\n",
      "number of unique value in timestamp: 2081079\n",
      "number of unique value in dwell_time: 342949\n",
      "None\n",
      "Length of DataFrame: 2081199\n",
      "Remove threshold is 150\n",
      "Remove threshold 150 is done!\n",
      "number of unique value in user_id: 5076\n",
      "number of unique value in problem_id: 49209\n",
      "number of unique value in skill_id: 255\n",
      "number of unique value in correct: 6\n",
      "number of unique value in skill_text: 195\n",
      "number of unique value in problem_text: 6\n",
      "number of unique value in answer_text: 85236\n",
      "number of unique value in timestamp: 1779618\n",
      "number of unique value in dwell_time: 315060\n",
      "None\n",
      "Length of DataFrame: 1779709\n",
      "Remove threshold is 200\n",
      "Remove threshold 200 is done!\n",
      "number of unique value in user_id: 3696\n",
      "number of unique value in problem_id: 47426\n",
      "number of unique value in skill_id: 251\n",
      "number of unique value in correct: 6\n",
      "number of unique value in skill_text: 192\n",
      "number of unique value in problem_text: 6\n",
      "number of unique value in answer_text: 76954\n",
      "number of unique value in timestamp: 1542848\n",
      "number of unique value in dwell_time: 291472\n",
      "None\n",
      "Length of DataFrame: 1542919\n"
     ]
    }
   ],
   "source": [
    "remove_thres = [50, 100, 150, 200]\n",
    "for thres in remove_thres:\n",
    "    print(f'Remove threshold is {thres}')\n",
    "\n",
    "    # Remove rows with NaN skill_id and users who appear less than thres times\n",
    "    log = log[~log.skill_id.isna()]\n",
    "    log = remove_log(log, 'user_id', num=thres)\n",
    "\n",
    "    # Create new DataFrame with desired columns\n",
    "    df = log[['user_id', 'problem_id', 'skill_id', 'correct', 'skill', 'problem_type', 'answer_text']].copy()\n",
    "    df.columns = ['user_id', 'problem_id', 'skill_id', 'correct', 'skill_text', 'problem_text', 'answer_text']\n",
    "\n",
    "    # Convert timestamp columns to a single timestamp value\n",
    "    time_format = \"%Y-%m-%d %H:%M:%S\"\n",
    "    start_times = pd.to_datetime(log.start_time, format=time_format).apply(lambda x: x.timestamp())\n",
    "    end_times = pd.to_datetime(log.end_time, format=time_format).apply(lambda x: x.timestamp())\n",
    "    df['timestamp'] = (start_times + end_times) / 2\n",
    "    df['dwell_time'] = end_times - start_times\n",
    "\n",
    "    # Re-index columns\n",
    "    df = df.astype({'timestamp': np.float64, 'dwell_time': np.float64, 'correct': np.float64})\n",
    "    df = df.astype({'problem_id': np.int64, 'user_id': np.int64, 'skill_id': np.int64})\n",
    "    df['skill_id'] = pd.Categorical(df['skill_id'], categories=df['skill_id'].unique()).codes\n",
    "    df['problem_id'] = pd.Categorical(df['problem_id'], categories=df['problem_id'].unique()).codes\n",
    "    df['user_id'] = pd.Categorical(df['user_id'], categories=df['user_id'].unique()).codes\n",
    "\n",
    "    # Save cleaned DataFrame to a CSV file\n",
    "    df.to_csv(f'/mnt/qb/work/mlcolab/hzhou52/kt/assistment12/interactions_{thres}.csv', sep='\\t', index=False)\n",
    "\n",
    "    print(f'Remove threshold {thres} is done!')\n",
    "    print(count_unique(df, df.columns.tolist()))\n",
    "    print(f'Length of DataFrame: {len(df)}')"
   ]
  },
  {
   "cell_type": "markdown",
   "metadata": {},
   "source": [
    "# 3. extract single learner "
   ]
  },
  {
   "cell_type": "code",
   "execution_count": 29,
   "metadata": {},
   "outputs": [],
   "source": [
    "# bath_path = '/mnt/qb/work/mlcolab/hzhou52/kt/assistment12/2012-2013-data-with-predictions-4-final.csv'\n",
    "# log = pd.read_csv(bath_path, encoding = \"utf-8\",low_memory=False)\n",
    "\n",
    "remove_thres = [50, 100, 150, 200]\n",
    "users = []\n",
    "users_log = log.groupby(['user_id', 'skill_id']).size().reset_index(name='count')\n",
    "\n",
    "for thres in remove_thres:\n",
    "    users.append(users_log[users_log['count']>thres])"
   ]
  },
  {
   "cell_type": "code",
   "execution_count": 31,
   "metadata": {
    "collapsed": true
   },
   "outputs": [
    {
     "data": {
      "text/html": [
       "<div>\n",
       "<style scoped>\n",
       "    .dataframe tbody tr th:only-of-type {\n",
       "        vertical-align: middle;\n",
       "    }\n",
       "\n",
       "    .dataframe tbody tr th {\n",
       "        vertical-align: top;\n",
       "    }\n",
       "\n",
       "    .dataframe thead th {\n",
       "        text-align: right;\n",
       "    }\n",
       "</style>\n",
       "<table border=\"1\" class=\"dataframe\">\n",
       "  <thead>\n",
       "    <tr style=\"text-align: right;\">\n",
       "      <th></th>\n",
       "      <th>user_id</th>\n",
       "      <th>skill_id</th>\n",
       "      <th>count</th>\n",
       "    </tr>\n",
       "  </thead>\n",
       "  <tbody>\n",
       "    <tr>\n",
       "      <th>237</th>\n",
       "      <td>78401</td>\n",
       "      <td>27.0</td>\n",
       "      <td>53</td>\n",
       "    </tr>\n",
       "    <tr>\n",
       "      <th>269</th>\n",
       "      <td>78401</td>\n",
       "      <td>310.0</td>\n",
       "      <td>68</td>\n",
       "    </tr>\n",
       "    <tr>\n",
       "      <th>270</th>\n",
       "      <td>78401</td>\n",
       "      <td>311.0</td>\n",
       "      <td>88</td>\n",
       "    </tr>\n",
       "    <tr>\n",
       "      <th>277</th>\n",
       "      <td>78401</td>\n",
       "      <td>338.0</td>\n",
       "      <td>73</td>\n",
       "    </tr>\n",
       "    <tr>\n",
       "      <th>346</th>\n",
       "      <td>78409</td>\n",
       "      <td>338.0</td>\n",
       "      <td>51</td>\n",
       "    </tr>\n",
       "    <tr>\n",
       "      <th>...</th>\n",
       "      <td>...</td>\n",
       "      <td>...</td>\n",
       "      <td>...</td>\n",
       "    </tr>\n",
       "    <tr>\n",
       "      <th>371026</th>\n",
       "      <td>224210</td>\n",
       "      <td>311.0</td>\n",
       "      <td>67</td>\n",
       "    </tr>\n",
       "    <tr>\n",
       "      <th>372377</th>\n",
       "      <td>224558</td>\n",
       "      <td>34.0</td>\n",
       "      <td>53</td>\n",
       "    </tr>\n",
       "    <tr>\n",
       "      <th>372602</th>\n",
       "      <td>224622</td>\n",
       "      <td>34.0</td>\n",
       "      <td>97</td>\n",
       "    </tr>\n",
       "    <tr>\n",
       "      <th>373789</th>\n",
       "      <td>225212</td>\n",
       "      <td>34.0</td>\n",
       "      <td>59</td>\n",
       "    </tr>\n",
       "    <tr>\n",
       "      <th>375742</th>\n",
       "      <td>226757</td>\n",
       "      <td>34.0</td>\n",
       "      <td>65</td>\n",
       "    </tr>\n",
       "  </tbody>\n",
       "</table>\n",
       "<p>4178 rows × 3 columns</p>\n",
       "</div>"
      ],
      "text/plain": [
       "        user_id  skill_id  count\n",
       "237       78401      27.0     53\n",
       "269       78401     310.0     68\n",
       "270       78401     311.0     88\n",
       "277       78401     338.0     73\n",
       "346       78409     338.0     51\n",
       "...         ...       ...    ...\n",
       "371026   224210     311.0     67\n",
       "372377   224558      34.0     53\n",
       "372602   224622      34.0     97\n",
       "373789   225212      34.0     59\n",
       "375742   226757      34.0     65\n",
       "\n",
       "[4178 rows x 3 columns]"
      ]
     },
     "execution_count": 31,
     "metadata": {},
     "output_type": "execute_result"
    }
   ],
   "source": [
    "users[0]"
   ]
  },
  {
   "cell_type": "code",
   "execution_count": 51,
   "metadata": {},
   "outputs": [],
   "source": [
    "from tqdm import tqdm"
   ]
  },
  {
   "cell_type": "code",
   "execution_count": 53,
   "metadata": {},
   "outputs": [
    {
     "name": "stdout",
     "output_type": "stream",
     "text": [
      "With threshold 50 there are 4178 logs\n"
     ]
    },
    {
     "name": "stderr",
     "output_type": "stream",
     "text": [
      "100%|██████████| 4178/4178 [00:39<00:00, 106.04it/s]\n"
     ]
    },
    {
     "name": "stdout",
     "output_type": "stream",
     "text": [
      "With threshold 100 there are 664 logs\n"
     ]
    },
    {
     "name": "stderr",
     "output_type": "stream",
     "text": [
      "100%|██████████| 664/664 [00:06<00:00, 108.07it/s]\n"
     ]
    },
    {
     "name": "stdout",
     "output_type": "stream",
     "text": [
      "With threshold 150 there are 162 logs\n"
     ]
    },
    {
     "name": "stderr",
     "output_type": "stream",
     "text": [
      "100%|██████████| 162/162 [00:01<00:00, 108.12it/s]\n"
     ]
    },
    {
     "name": "stdout",
     "output_type": "stream",
     "text": [
      "With threshold 200 there are 60 logs\n"
     ]
    },
    {
     "name": "stderr",
     "output_type": "stream",
     "text": [
      "100%|██████████| 60/60 [00:00<00:00, 108.11it/s]\n"
     ]
    }
   ],
   "source": [
    "######################################## single_user_single_exercise\n",
    "interested_col = [\n",
    "    'user_id', 'problem_id', 'skill_id', 'start_time', 'end_time', 'correct', \n",
    "    'skill', 'problem_type', 'answer_text', \n",
    "]\n",
    "useful_log = log[interested_col]\n",
    "remove_thres = [50, 100, 150, 200]\n",
    "\n",
    "users_logs_threshold = []\n",
    "for i in range(len(remove_thres)):\n",
    "    thres = remove_thres[i]\n",
    "    users_with_threshold = users[i]\n",
    "    \n",
    "    single_skill = {col: [] for col in interested_col}\n",
    "\n",
    "    sk_dfs = []\n",
    "    print('With threshold {} there are {} logs'.format(thres, len(users_with_threshold)))\n",
    "    for j in tqdm(range(len(users_with_threshold))):\n",
    "        id = users_with_threshold.user_id.iloc[j]\n",
    "        ex = users_with_threshold.skill_id.iloc[j]\n",
    "\n",
    "        single_user_exercise = useful_log.loc[(useful_log.user_id == id) & (useful_log.skill_id == ex)]\n",
    "        single_user_exercise = single_user_exercise.sort_values('start_time')[:thres]\n",
    "\n",
    "        sk_dfs.append(single_user_exercise)\n",
    "    users_logs_threshold.append(sk_dfs)\n",
    "    \n",
    "# single_user_single_exercise = pd.DataFrame.from_dict(single_user_single_exercise)\n",
    "# single_user_single_exercise.to_csv('single_user_single_exercise_junyi_200.csv')"
   ]
  },
  {
   "cell_type": "code",
   "execution_count": 87,
   "metadata": {},
   "outputs": [],
   "source": [
    "for i in range(len(users_logs_threshold)):\n",
    "    test = users_logs_threshold[i]\n",
    "    test = pd.concat(test, axis=0)\n",
    "    thres = remove_thres[i]\n",
    "\n",
    "    test.columns = ['user_id', 'problem_id', 'skill_id', 'timestamp', 'dwell_time',\n",
    "           'correct', 'skill_text', 'problem_text', 'answer_text']\n",
    "    new_id = [[i] * thres for i in range(len(users_logs_threshold[i]))]\n",
    "    new_user_id = [item for sublist in new_id for item in sublist]\n",
    "    test['user_id'] = new_user_id\n",
    "\n",
    "    test['skill_id'] = pd.Categorical(test['skill_id'], categories=test['skill_id'].unique()).codes\n",
    "    test['problem_id'] = pd.Categorical(test['problem_id'], categories=test['problem_id'].unique()).codes\n",
    "\n",
    "    # Convert timestamp columns to a single timestamp value\n",
    "    time_format = \"%Y-%m-%d %H:%M:%S\"\n",
    "    start_times = pd.to_datetime(test.timestamp, format=time_format).apply(lambda x: x.timestamp())\n",
    "    end_times = pd.to_datetime(test.dwell_time, format=time_format).apply(lambda x: x.timestamp())\n",
    "    test['timestamp'] = (start_times + end_times) / 2\n",
    "    test['dwell_time'] = end_times - start_times\n",
    "\n",
    "    # Re-index columns\n",
    "    test = test.astype({'timestamp': np.float64, 'dwell_time': np.float64, 'correct': np.float64})\n",
    "    test = test.astype({'problem_id': np.int64, 'user_id': np.int64, 'skill_id': np.int64})\n",
    "\n",
    "    # Save\n",
    "    bath_path = '/mnt/qb/work/mlcolab/hzhou52/kt/assistment12/single_skill/'\n",
    "    test.to_csv(bath_path+'interactions_{}.csv'.format(thres), sep='\\t', index=False)"
   ]
  },
  {
   "cell_type": "code",
   "execution_count": 86,
   "metadata": {},
   "outputs": [],
   "source": []
  },
  {
   "cell_type": "code",
   "execution_count": 82,
   "metadata": {},
   "outputs": [],
   "source": []
  },
  {
   "cell_type": "code",
   "execution_count": 61,
   "metadata": {},
   "outputs": [],
   "source": [
    "\n",
    "\n"
   ]
  },
  {
   "cell_type": "code",
   "execution_count": null,
   "metadata": {},
   "outputs": [],
   "source": []
  },
  {
   "cell_type": "code",
   "execution_count": null,
   "metadata": {},
   "outputs": [],
   "source": []
  },
  {
   "cell_type": "code",
   "execution_count": null,
   "metadata": {},
   "outputs": [],
   "source": [
    "####################################"
   ]
  },
  {
   "cell_type": "code",
   "execution_count": 5,
   "metadata": {},
   "outputs": [],
   "source": [
    "inter = pd.read_csv('/mnt/qb/work/mlcolab/hzhou52/kt/assistment12/interactions_50.csv',sep='\\t')"
   ]
  },
  {
   "cell_type": "code",
   "execution_count": 6,
   "metadata": {},
   "outputs": [
    {
     "data": {
      "text/html": [
       "<div>\n",
       "<style scoped>\n",
       "    .dataframe tbody tr th:only-of-type {\n",
       "        vertical-align: middle;\n",
       "    }\n",
       "\n",
       "    .dataframe tbody tr th {\n",
       "        vertical-align: top;\n",
       "    }\n",
       "\n",
       "    .dataframe thead th {\n",
       "        text-align: right;\n",
       "    }\n",
       "</style>\n",
       "<table border=\"1\" class=\"dataframe\">\n",
       "  <thead>\n",
       "    <tr style=\"text-align: right;\">\n",
       "      <th></th>\n",
       "      <th>user_id</th>\n",
       "      <th>problem_id</th>\n",
       "      <th>skill_id</th>\n",
       "      <th>timestamp</th>\n",
       "      <th>dwell_time</th>\n",
       "      <th>correct</th>\n",
       "    </tr>\n",
       "  </thead>\n",
       "  <tbody>\n",
       "    <tr>\n",
       "      <th>0</th>\n",
       "      <td>0</td>\n",
       "      <td>0</td>\n",
       "      <td>0</td>\n",
       "      <td>1.346450e+09</td>\n",
       "      <td>120.0</td>\n",
       "      <td>0.0</td>\n",
       "    </tr>\n",
       "    <tr>\n",
       "      <th>1</th>\n",
       "      <td>1</td>\n",
       "      <td>1</td>\n",
       "      <td>1</td>\n",
       "      <td>1.346450e+09</td>\n",
       "      <td>17.0</td>\n",
       "      <td>1.0</td>\n",
       "    </tr>\n",
       "    <tr>\n",
       "      <th>2</th>\n",
       "      <td>1</td>\n",
       "      <td>2</td>\n",
       "      <td>1</td>\n",
       "      <td>1.346451e+09</td>\n",
       "      <td>73.0</td>\n",
       "      <td>0.0</td>\n",
       "    </tr>\n",
       "    <tr>\n",
       "      <th>3</th>\n",
       "      <td>0</td>\n",
       "      <td>3</td>\n",
       "      <td>0</td>\n",
       "      <td>1.346451e+09</td>\n",
       "      <td>105.0</td>\n",
       "      <td>1.0</td>\n",
       "    </tr>\n",
       "    <tr>\n",
       "      <th>4</th>\n",
       "      <td>1</td>\n",
       "      <td>4</td>\n",
       "      <td>1</td>\n",
       "      <td>1.346451e+09</td>\n",
       "      <td>67.0</td>\n",
       "      <td>0.0</td>\n",
       "    </tr>\n",
       "    <tr>\n",
       "      <th>...</th>\n",
       "      <td>...</td>\n",
       "      <td>...</td>\n",
       "      <td>...</td>\n",
       "      <td>...</td>\n",
       "      <td>...</td>\n",
       "      <td>...</td>\n",
       "    </tr>\n",
       "    <tr>\n",
       "      <th>2431783</th>\n",
       "      <td>10715</td>\n",
       "      <td>7435</td>\n",
       "      <td>69</td>\n",
       "      <td>1.379175e+09</td>\n",
       "      <td>3297933.0</td>\n",
       "      <td>0.0</td>\n",
       "    </tr>\n",
       "    <tr>\n",
       "      <th>2431784</th>\n",
       "      <td>12328</td>\n",
       "      <td>3023</td>\n",
       "      <td>45</td>\n",
       "      <td>1.379249e+09</td>\n",
       "      <td>3672604.0</td>\n",
       "      <td>0.0</td>\n",
       "    </tr>\n",
       "    <tr>\n",
       "      <th>2431785</th>\n",
       "      <td>11370</td>\n",
       "      <td>17009</td>\n",
       "      <td>45</td>\n",
       "      <td>1.379265e+09</td>\n",
       "      <td>4152537.0</td>\n",
       "      <td>0.0</td>\n",
       "    </tr>\n",
       "    <tr>\n",
       "      <th>2431786</th>\n",
       "      <td>10742</td>\n",
       "      <td>8867</td>\n",
       "      <td>81</td>\n",
       "      <td>1.379521e+09</td>\n",
       "      <td>3450799.0</td>\n",
       "      <td>0.0</td>\n",
       "    </tr>\n",
       "    <tr>\n",
       "      <th>2431787</th>\n",
       "      <td>10742</td>\n",
       "      <td>2383</td>\n",
       "      <td>69</td>\n",
       "      <td>1.379521e+09</td>\n",
       "      <td>3450761.0</td>\n",
       "      <td>0.0</td>\n",
       "    </tr>\n",
       "  </tbody>\n",
       "</table>\n",
       "<p>2431788 rows × 6 columns</p>\n",
       "</div>"
      ],
      "text/plain": [
       "         user_id  problem_id  skill_id     timestamp  dwell_time  correct\n",
       "0              0           0         0  1.346450e+09       120.0      0.0\n",
       "1              1           1         1  1.346450e+09        17.0      1.0\n",
       "2              1           2         1  1.346451e+09        73.0      0.0\n",
       "3              0           3         0  1.346451e+09       105.0      1.0\n",
       "4              1           4         1  1.346451e+09        67.0      0.0\n",
       "...          ...         ...       ...           ...         ...      ...\n",
       "2431783    10715        7435        69  1.379175e+09   3297933.0      0.0\n",
       "2431784    12328        3023        45  1.379249e+09   3672604.0      0.0\n",
       "2431785    11370       17009        45  1.379265e+09   4152537.0      0.0\n",
       "2431786    10742        8867        81  1.379521e+09   3450799.0      0.0\n",
       "2431787    10742        2383        69  1.379521e+09   3450761.0      0.0\n",
       "\n",
       "[2431788 rows x 6 columns]"
      ]
     },
     "execution_count": 6,
     "metadata": {},
     "output_type": "execute_result"
    }
   ],
   "source": [
    "inter"
   ]
  },
  {
   "cell_type": "code",
   "execution_count": 9,
   "metadata": {},
   "outputs": [],
   "source": [
    "user_wise_dict = dict()\n",
    "cnt, n_inters = 0, 0\n",
    "for user, user_df in inter.groupby('user_id'):\n",
    "    df = user_df[:50]  # consider the first 50 interactions\n",
    "    user_wise_dict[cnt] = {\n",
    "        'user_id': user,\n",
    "        'skill_seq': df['skill_id'].values.tolist(), \n",
    "        'correct_seq': [round(x) for x in df['correct']],\n",
    "        'time_seq': df['timestamp'].values.tolist(),\n",
    "        'problem_seq': df['problem_id'].values.tolist()\n",
    "    }\n",
    "    cnt += 1\n",
    "    n_inters += len(df)"
   ]
  },
  {
   "cell_type": "code",
   "execution_count": 11,
   "metadata": {},
   "outputs": [],
   "source": [
    "user_seq_df = pd.DataFrame.from_dict(user_wise_dict, orient='index')"
   ]
  },
  {
   "cell_type": "code",
   "execution_count": 17,
   "metadata": {},
   "outputs": [],
   "source": [
    "skill_seq = np.stack(list(user_seq_df['skill_seq']))[:9000]"
   ]
  },
  {
   "cell_type": "code",
   "execution_count": 18,
   "metadata": {},
   "outputs": [
    {
     "data": {
      "text/plain": [
       "array([[ 0,  0,  0, ..., 25, 37, 30],\n",
       "       [ 1,  1,  1, ...,  7,  0,  0],\n",
       "       [ 2,  2,  2, ...,  9,  9,  9],\n",
       "       ...,\n",
       "       [68, 68, 68, ..., 22, 22, 15],\n",
       "       [68, 68, 68, ..., 22, 22, 22],\n",
       "       [39, 39, 39, ..., 42, 42, 42]])"
      ]
     },
     "execution_count": 18,
     "metadata": {},
     "output_type": "execute_result"
    }
   ],
   "source": [
    "skill_seq"
   ]
  },
  {
   "cell_type": "code",
   "execution_count": 52,
   "metadata": {},
   "outputs": [],
   "source": [
    "cross = []\n",
    "for i in range(30):\n",
    "    for j in range(20):\n",
    "        test = np.concatenate([skill_seq[:, i:i+1], skill_seq[:, 30+j:31+j]], axis=-1)\n",
    "        cross.append(test)"
   ]
  },
  {
   "cell_type": "code",
   "execution_count": 53,
   "metadata": {},
   "outputs": [
    {
     "data": {
      "text/plain": [
       "600"
      ]
     },
     "execution_count": 53,
     "metadata": {},
     "output_type": "execute_result"
    }
   ],
   "source": [
    "len(cross)"
   ]
  },
  {
   "cell_type": "code",
   "execution_count": 57,
   "metadata": {},
   "outputs": [],
   "source": [
    "cross = np.stack(cross, 0).reshape(-1, 2)"
   ]
  },
  {
   "cell_type": "code",
   "execution_count": 59,
   "metadata": {},
   "outputs": [],
   "source": [
    "unique_cross = np.unique(cross, axis=0)"
   ]
  },
  {
   "cell_type": "code",
   "execution_count": 60,
   "metadata": {},
   "outputs": [
    {
     "data": {
      "text/plain": [
       "(15389, 2)"
      ]
     },
     "execution_count": 60,
     "metadata": {},
     "output_type": "execute_result"
    }
   ],
   "source": [
    "unique_cross.shape"
   ]
  },
  {
   "cell_type": "code",
   "execution_count": 61,
   "metadata": {},
   "outputs": [
    {
     "data": {
      "text/plain": [
       "69169"
      ]
     },
     "execution_count": 61,
     "metadata": {},
     "output_type": "execute_result"
    }
   ],
   "source": [
    "263*263"
   ]
  },
  {
   "cell_type": "code",
   "execution_count": 64,
   "metadata": {},
   "outputs": [],
   "source": [
    "cross = []\n",
    "for i in range(49):\n",
    "    for j in range(i+1, 50):\n",
    "        test = np.concatenate([skill_seq[:, i:i+1], skill_seq[:, j:j+1]], axis=-1)\n",
    "        cross.append(test)"
   ]
  },
  {
   "cell_type": "code",
   "execution_count": 65,
   "metadata": {},
   "outputs": [
    {
     "data": {
      "text/plain": [
       "1225"
      ]
     },
     "execution_count": 65,
     "metadata": {},
     "output_type": "execute_result"
    }
   ],
   "source": [
    "len(cross)"
   ]
  },
  {
   "cell_type": "code",
   "execution_count": 66,
   "metadata": {},
   "outputs": [],
   "source": [
    "cross = np.stack(cross, 0).reshape(-1, 2)"
   ]
  },
  {
   "cell_type": "code",
   "execution_count": 67,
   "metadata": {},
   "outputs": [],
   "source": [
    "unique_cross = np.unique(cross, axis=0)"
   ]
  },
  {
   "cell_type": "code",
   "execution_count": 68,
   "metadata": {},
   "outputs": [
    {
     "data": {
      "text/plain": [
       "(18108, 2)"
      ]
     },
     "execution_count": 68,
     "metadata": {},
     "output_type": "execute_result"
    }
   ],
   "source": [
    "unique_cross.shape"
   ]
  },
  {
   "cell_type": "code",
   "execution_count": null,
   "metadata": {},
   "outputs": [],
   "source": []
  }
 ],
 "metadata": {
  "interpreter": {
   "hash": "3c2509e27662ce56f108009dad52848cf38f1485dce3b4941071b3bbc5cf42be"
  },
  "kernelspec": {
   "display_name": "Python 3 (ipykernel)",
   "language": "python",
   "name": "python3"
  },
  "language_info": {
   "codemirror_mode": {
    "name": "ipython",
    "version": 3
   },
   "file_extension": ".py",
   "mimetype": "text/x-python",
   "name": "python",
   "nbconvert_exporter": "python",
   "pygments_lexer": "ipython3",
   "version": "3.9.12"
  }
 },
 "nbformat": 4,
 "nbformat_minor": 2
}
