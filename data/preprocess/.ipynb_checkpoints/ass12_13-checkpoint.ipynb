{
 "cells": [
  {
   "cell_type": "code",
   "execution_count": 1,
   "metadata": {},
   "outputs": [],
   "source": [
    "import numpy as np\n",
    "import pandas as pd\n",
    "from collections import defaultdict\n",
    "import operator\n",
    "import time, datetime\n",
    "from utils import *"
   ]
  },
  {
   "cell_type": "markdown",
   "metadata": {},
   "source": [
    "modified 0330"
   ]
  },
  {
   "cell_type": "code",
   "execution_count": 2,
   "metadata": {},
   "outputs": [],
   "source": [
    "bath_path = '/mnt/qb/work/mlcolab/hzhou52/kt/assistment12/2012-2013-data-with-predictions-4-final.csv'\n",
    "log = pd.read_csv(bath_path, encoding = \"utf-8\",low_memory=False)"
   ]
  },
  {
   "cell_type": "code",
   "execution_count": 3,
   "metadata": {},
   "outputs": [
    {
     "data": {
      "text/plain": [
       "Index(['problem_log_id', 'skill', 'problem_id', 'user_id', 'assignment_id',\n",
       "       'assistment_id', 'start_time', 'end_time', 'problem_type', 'original',\n",
       "       'correct', 'bottom_hint', 'hint_count', 'actions', 'attempt_count',\n",
       "       'ms_first_response', 'tutor_mode', 'sequence_id', 'student_class_id',\n",
       "       'position', 'type', 'base_sequence_id', 'skill_id', 'teacher_id',\n",
       "       'school_id', 'overlap_time', 'template_id', 'answer_id', 'answer_text',\n",
       "       'first_action', 'problemlogid', 'Average_confidence(FRUSTRATED)',\n",
       "       'Average_confidence(CONFUSED)', 'Average_confidence(CONCENTRATING)',\n",
       "       'Average_confidence(BORED)'],\n",
       "      dtype='object')"
      ]
     },
     "execution_count": 3,
     "metadata": {},
     "output_type": "execute_result"
    }
   ],
   "source": [
    "log.columns"
   ]
  },
  {
   "cell_type": "code",
   "execution_count": 13,
   "metadata": {},
   "outputs": [
    {
     "data": {
      "text/html": [
       "<div>\n",
       "<style scoped>\n",
       "    .dataframe tbody tr th:only-of-type {\n",
       "        vertical-align: middle;\n",
       "    }\n",
       "\n",
       "    .dataframe tbody tr th {\n",
       "        vertical-align: top;\n",
       "    }\n",
       "\n",
       "    .dataframe thead th {\n",
       "        text-align: right;\n",
       "    }\n",
       "</style>\n",
       "<table border=\"1\" class=\"dataframe\">\n",
       "  <thead>\n",
       "    <tr style=\"text-align: right;\">\n",
       "      <th></th>\n",
       "      <th>problem_log_id</th>\n",
       "      <th>skill</th>\n",
       "      <th>problem_id</th>\n",
       "      <th>user_id</th>\n",
       "      <th>assignment_id</th>\n",
       "      <th>assistment_id</th>\n",
       "      <th>start_time</th>\n",
       "      <th>end_time</th>\n",
       "      <th>problem_type</th>\n",
       "      <th>original</th>\n",
       "      <th>...</th>\n",
       "      <th>overlap_time</th>\n",
       "      <th>template_id</th>\n",
       "      <th>answer_id</th>\n",
       "      <th>answer_text</th>\n",
       "      <th>first_action</th>\n",
       "      <th>problemlogid</th>\n",
       "      <th>Average_confidence(FRUSTRATED)</th>\n",
       "      <th>Average_confidence(CONFUSED)</th>\n",
       "      <th>Average_confidence(CONCENTRATING)</th>\n",
       "      <th>Average_confidence(BORED)</th>\n",
       "    </tr>\n",
       "  </thead>\n",
       "  <tbody>\n",
       "    <tr>\n",
       "      <th>0</th>\n",
       "      <td>137792159</td>\n",
       "      <td>NaN</td>\n",
       "      <td>557460</td>\n",
       "      <td>61394</td>\n",
       "      <td>565736</td>\n",
       "      <td>341511</td>\n",
       "      <td>2012-09-28 15:11:27</td>\n",
       "      <td>2012-09-28 15:11:36.856</td>\n",
       "      <td>choose_1</td>\n",
       "      <td>1</td>\n",
       "      <td>...</td>\n",
       "      <td>9852</td>\n",
       "      <td>341511</td>\n",
       "      <td>NaN</td>\n",
       "      <td>she</td>\n",
       "      <td>0</td>\n",
       "      <td>137792159</td>\n",
       "      <td>0.361323</td>\n",
       "      <td>0.0</td>\n",
       "      <td>0.336529</td>\n",
       "      <td>0.000000</td>\n",
       "    </tr>\n",
       "    <tr>\n",
       "      <th>1</th>\n",
       "      <td>138083797</td>\n",
       "      <td>Rounding</td>\n",
       "      <td>365981</td>\n",
       "      <td>61394</td>\n",
       "      <td>573819</td>\n",
       "      <td>204043</td>\n",
       "      <td>2012-10-09 11:01:52</td>\n",
       "      <td>2012-10-09 11:02:13.182</td>\n",
       "      <td>algebra</td>\n",
       "      <td>1</td>\n",
       "      <td>...</td>\n",
       "      <td>21175</td>\n",
       "      <td>204043</td>\n",
       "      <td>NaN</td>\n",
       "      <td>74.29</td>\n",
       "      <td>0</td>\n",
       "      <td>138083797</td>\n",
       "      <td>0.361323</td>\n",
       "      <td>0.0</td>\n",
       "      <td>0.766925</td>\n",
       "      <td>0.000000</td>\n",
       "    </tr>\n",
       "    <tr>\n",
       "      <th>2</th>\n",
       "      <td>142332619</td>\n",
       "      <td>Multiplication and Division Integers</td>\n",
       "      <td>426415</td>\n",
       "      <td>61394</td>\n",
       "      <td>734130</td>\n",
       "      <td>247525</td>\n",
       "      <td>2013-03-07 10:53:20</td>\n",
       "      <td>2013-03-07 10:53:28.661</td>\n",
       "      <td>algebra</td>\n",
       "      <td>1</td>\n",
       "      <td>...</td>\n",
       "      <td>8645</td>\n",
       "      <td>247525</td>\n",
       "      <td>NaN</td>\n",
       "      <td>00</td>\n",
       "      <td>0</td>\n",
       "      <td>142332619</td>\n",
       "      <td>0.361323</td>\n",
       "      <td>0.0</td>\n",
       "      <td>0.766925</td>\n",
       "      <td>0.442968</td>\n",
       "    </tr>\n",
       "    <tr>\n",
       "      <th>3</th>\n",
       "      <td>145939397</td>\n",
       "      <td>Proportion</td>\n",
       "      <td>86686</td>\n",
       "      <td>61394</td>\n",
       "      <td>821352</td>\n",
       "      <td>48081</td>\n",
       "      <td>2013-08-20 19:54:56</td>\n",
       "      <td>2013-08-20 19:55:21.753</td>\n",
       "      <td>algebra</td>\n",
       "      <td>1</td>\n",
       "      <td>...</td>\n",
       "      <td>25728</td>\n",
       "      <td>46362</td>\n",
       "      <td>NaN</td>\n",
       "      <td>3.8</td>\n",
       "      <td>0</td>\n",
       "      <td>145939397</td>\n",
       "      <td>0.775000</td>\n",
       "      <td>0.0</td>\n",
       "      <td>0.766925</td>\n",
       "      <td>0.912281</td>\n",
       "    </tr>\n",
       "    <tr>\n",
       "      <th>4</th>\n",
       "      <td>137111284</td>\n",
       "      <td>NaN</td>\n",
       "      <td>399669</td>\n",
       "      <td>76592</td>\n",
       "      <td>557216</td>\n",
       "      <td>227869</td>\n",
       "      <td>2012-09-10 17:20:10</td>\n",
       "      <td>2012-09-10 17:24:56.579</td>\n",
       "      <td>choose_1</td>\n",
       "      <td>1</td>\n",
       "      <td>...</td>\n",
       "      <td>286578</td>\n",
       "      <td>227869</td>\n",
       "      <td>NaN</td>\n",
       "      <td>C (wr - 1)(wr + 1)</td>\n",
       "      <td>0</td>\n",
       "      <td>137111284</td>\n",
       "      <td>0.361323</td>\n",
       "      <td>0.0</td>\n",
       "      <td>0.766925</td>\n",
       "      <td>0.000000</td>\n",
       "    </tr>\n",
       "  </tbody>\n",
       "</table>\n",
       "<p>5 rows × 35 columns</p>\n",
       "</div>"
      ],
      "text/plain": [
       "   problem_log_id                                 skill  problem_id  user_id  \\\n",
       "0       137792159                                   NaN      557460    61394   \n",
       "1       138083797                              Rounding      365981    61394   \n",
       "2       142332619  Multiplication and Division Integers      426415    61394   \n",
       "3       145939397                            Proportion       86686    61394   \n",
       "4       137111284                                   NaN      399669    76592   \n",
       "\n",
       "   assignment_id  assistment_id           start_time                 end_time  \\\n",
       "0         565736         341511  2012-09-28 15:11:27  2012-09-28 15:11:36.856   \n",
       "1         573819         204043  2012-10-09 11:01:52  2012-10-09 11:02:13.182   \n",
       "2         734130         247525  2013-03-07 10:53:20  2013-03-07 10:53:28.661   \n",
       "3         821352          48081  2013-08-20 19:54:56  2013-08-20 19:55:21.753   \n",
       "4         557216         227869  2012-09-10 17:20:10  2012-09-10 17:24:56.579   \n",
       "\n",
       "  problem_type  original  ...  overlap_time  template_id  answer_id  \\\n",
       "0     choose_1         1  ...          9852       341511        NaN   \n",
       "1      algebra         1  ...         21175       204043        NaN   \n",
       "2      algebra         1  ...          8645       247525        NaN   \n",
       "3      algebra         1  ...         25728        46362        NaN   \n",
       "4     choose_1         1  ...        286578       227869        NaN   \n",
       "\n",
       "          answer_text  first_action  problemlogid  \\\n",
       "0                 she             0     137792159   \n",
       "1               74.29             0     138083797   \n",
       "2                  00             0     142332619   \n",
       "3                 3.8             0     145939397   \n",
       "4  C (wr - 1)(wr + 1)             0     137111284   \n",
       "\n",
       "  Average_confidence(FRUSTRATED)  Average_confidence(CONFUSED)  \\\n",
       "0                       0.361323                           0.0   \n",
       "1                       0.361323                           0.0   \n",
       "2                       0.361323                           0.0   \n",
       "3                       0.775000                           0.0   \n",
       "4                       0.361323                           0.0   \n",
       "\n",
       "   Average_confidence(CONCENTRATING)  Average_confidence(BORED)  \n",
       "0                           0.336529                   0.000000  \n",
       "1                           0.766925                   0.000000  \n",
       "2                           0.766925                   0.442968  \n",
       "3                           0.766925                   0.912281  \n",
       "4                           0.766925                   0.000000  \n",
       "\n",
       "[5 rows x 35 columns]"
      ]
     },
     "execution_count": 13,
     "metadata": {},
     "output_type": "execute_result"
    }
   ],
   "source": [
    "log.head()"
   ]
  },
  {
   "cell_type": "code",
   "execution_count": 14,
   "metadata": {},
   "outputs": [
    {
     "data": {
      "text/plain": [
       "6123270"
      ]
     },
     "execution_count": 14,
     "metadata": {},
     "output_type": "execute_result"
    }
   ],
   "source": [
    "len(log)"
   ]
  },
  {
   "cell_type": "code",
   "execution_count": 12,
   "metadata": {
    "collapsed": true
   },
   "outputs": [
    {
     "name": "stdout",
     "output_type": "stream",
     "text": [
      "number of unique value in problem_log_id: 6123270\n",
      "number of unique value in skill: 199\n",
      "number of unique value in problem_id: 179999\n",
      "number of unique value in user_id: 46674\n",
      "number of unique value in assignment_id: 189760\n",
      "number of unique value in assistment_id: 138555\n",
      "number of unique value in start_time: 4672374\n",
      "number of unique value in end_time: 6121336\n",
      "number of unique value in problem_type: 6\n",
      "number of unique value in original: 2\n",
      "number of unique value in correct: 13\n",
      "number of unique value in bottom_hint: 3\n",
      "number of unique value in hint_count: 15\n",
      "number of unique value in actions: 6123270\n",
      "number of unique value in attempt_count: 30\n",
      "number of unique value in ms_first_response: 362600\n",
      "number of unique value in tutor_mode: 2\n",
      "number of unique value in sequence_id: 112403\n",
      "number of unique value in student_class_id: 2661\n",
      "number of unique value in position: 6747\n",
      "number of unique value in type: 7\n",
      "number of unique value in base_sequence_id: 110648\n",
      "number of unique value in skill_id: 266\n",
      "number of unique value in teacher_id: 1331\n",
      "number of unique value in school_id: 662\n",
      "number of unique value in overlap_time: 363516\n",
      "number of unique value in template_id: 96403\n",
      "number of unique value in answer_id: 3817\n",
      "number of unique value in answer_text: 224740\n",
      "number of unique value in first_action: 3\n",
      "number of unique value in problemlogid: 6123270\n",
      "number of unique value in Average_confidence(FRUSTRATED): 831\n",
      "number of unique value in Average_confidence(CONFUSED): 2476\n",
      "number of unique value in Average_confidence(CONCENTRATING): 842\n",
      "number of unique value in Average_confidence(BORED): 11213\n"
     ]
    }
   ],
   "source": [
    "count_unique(log, log.columns)"
   ]
  },
  {
   "cell_type": "code",
   "execution_count": 15,
   "metadata": {
    "collapsed": true
   },
   "outputs": [
    {
     "name": "stdout",
     "output_type": "stream",
     "text": [
      "number of NaN in column problem_log_id: 0\n",
      "number of NaN in column skill: 3493190\n",
      "number of NaN in column problem_id: 0\n",
      "number of NaN in column user_id: 0\n",
      "number of NaN in column assignment_id: 0\n",
      "number of NaN in column assistment_id: 0\n",
      "number of NaN in column start_time: 0\n",
      "number of NaN in column end_time: 0\n",
      "number of NaN in column problem_type: 0\n",
      "number of NaN in column original: 0\n",
      "number of NaN in column correct: 0\n",
      "number of NaN in column bottom_hint: 60348\n",
      "number of NaN in column hint_count: 0\n",
      "number of NaN in column actions: 0\n",
      "number of NaN in column attempt_count: 0\n",
      "number of NaN in column ms_first_response: 0\n",
      "number of NaN in column tutor_mode: 0\n",
      "number of NaN in column sequence_id: 0\n",
      "number of NaN in column student_class_id: 0\n",
      "number of NaN in column position: 0\n",
      "number of NaN in column type: 0\n",
      "number of NaN in column base_sequence_id: 0\n",
      "number of NaN in column skill_id: 3411457\n",
      "number of NaN in column teacher_id: 0\n",
      "number of NaN in column school_id: 157\n",
      "number of NaN in column overlap_time: 0\n",
      "number of NaN in column template_id: 0\n",
      "number of NaN in column answer_id: 6114995\n",
      "number of NaN in column answer_text: 346338\n",
      "number of NaN in column first_action: 0\n",
      "number of NaN in column problemlogid: 0\n",
      "number of NaN in column Average_confidence(FRUSTRATED): 0\n",
      "number of NaN in column Average_confidence(CONFUSED): 0\n",
      "number of NaN in column Average_confidence(CONCENTRATING): 0\n",
      "number of NaN in column Average_confidence(BORED): 0\n"
     ]
    }
   ],
   "source": [
    "check_nan(log)"
   ]
  },
  {
   "cell_type": "code",
   "execution_count": 5,
   "metadata": {
    "collapsed": true
   },
   "outputs": [
    {
     "name": "stdout",
     "output_type": "stream",
     "text": [
      "number of NaN in column problem_log_id: 0\n",
      "number of NaN in column skill: 3493190\n",
      "number of NaN in column problem_id: 0\n",
      "number of NaN in column user_id: 0\n",
      "number of NaN in column assignment_id: 0\n",
      "number of NaN in column assistment_id: 0\n",
      "number of NaN in column start_time: 0\n",
      "number of NaN in column end_time: 0\n",
      "number of NaN in column problem_type: 0\n",
      "number of NaN in column original: 0\n",
      "number of NaN in column correct: 0\n",
      "number of NaN in column bottom_hint: 60348\n",
      "number of NaN in column hint_count: 0\n",
      "number of NaN in column actions: 0\n",
      "number of NaN in column attempt_count: 0\n",
      "number of NaN in column ms_first_response: 0\n",
      "number of NaN in column tutor_mode: 0\n",
      "number of NaN in column sequence_id: 0\n",
      "number of NaN in column student_class_id: 0\n",
      "number of NaN in column position: 0\n",
      "number of NaN in column type: 0\n",
      "number of NaN in column base_sequence_id: 0\n",
      "number of NaN in column skill_id: 3411457\n",
      "number of NaN in column teacher_id: 0\n",
      "number of NaN in column school_id: 157\n",
      "number of NaN in column overlap_time: 0\n",
      "number of NaN in column template_id: 0\n",
      "number of NaN in column answer_id: 6114995\n",
      "number of NaN in column answer_text: 346338\n",
      "number of NaN in column first_action: 0\n",
      "number of NaN in column problemlogid: 0\n",
      "number of NaN in column Average_confidence(FRUSTRATED): 0\n",
      "number of NaN in column Average_confidence(CONFUSED): 0\n",
      "number of NaN in column Average_confidence(CONCENTRATING): 0\n",
      "number of NaN in column Average_confidence(BORED): 0\n",
      "number of unique value in user_id: 46674\n",
      "number of unique value in skill_id: 266\n",
      "number of unique value in problem_id: 179999\n",
      "6123270\n"
     ]
    }
   ],
   "source": [
    "count_unique(log, ['user_id', 'skill_id', 'problem_id'])\n",
    "print(len(log))"
   ]
  },
  {
   "cell_type": "code",
   "execution_count": 26,
   "metadata": {},
   "outputs": [
    {
     "data": {
      "text/plain": [
       "0.6768206326031685"
      ]
     },
     "execution_count": 26,
     "metadata": {},
     "output_type": "execute_result"
    }
   ],
   "source": [
    "log['correct'].mean()"
   ]
  },
  {
   "cell_type": "code",
   "execution_count": null,
   "metadata": {},
   "outputs": [],
   "source": []
  },
  {
   "cell_type": "code",
   "execution_count": null,
   "metadata": {},
   "outputs": [],
   "source": []
  },
  {
   "cell_type": "code",
   "execution_count": null,
   "metadata": {},
   "outputs": [],
   "source": []
  },
  {
   "cell_type": "code",
   "execution_count": 6,
   "metadata": {},
   "outputs": [
    {
     "name": "stdout",
     "output_type": "stream",
     "text": [
      "2431788\n"
     ]
    }
   ],
   "source": [
    "remove_thres = 50\n",
    "\n",
    "log = log[~log.skill_id.isna()]\n",
    "log = remove_log(log, 'user_id', num=remove_thres)\n",
    "print(len(log))"
   ]
  },
  {
   "cell_type": "code",
   "execution_count": 7,
   "metadata": {},
   "outputs": [],
   "source": [
    "# 2: 2710913\n",
    "# 50: 2431788"
   ]
  },
  {
   "cell_type": "markdown",
   "metadata": {},
   "source": [
    "# pre-process"
   ]
  },
  {
   "cell_type": "code",
   "execution_count": 8,
   "metadata": {},
   "outputs": [],
   "source": [
    "# create new data\n",
    "df = pd.DataFrame(columns=['user_id', 'problem_id', 'skill_id', 'timestamp', 'dwell_time', 'correct'])\n",
    "df.user_id = log.user_id\n",
    "df.problem_id = log.problem_id\n",
    "df.skill_id = log.skill_id\n",
    "# df.timestamp = log.start_time.apply(lambda t: time.mktime(time.strptime(t, '%Y-%m-%d %H:%M:%S')))\n",
    "# df.dwell_time = df.timestamp - log.end_time.apply(lambda t: time.mktime(time.strptime(t, '%Y-%m-%d %H:%M:%S')))\n",
    "df.correct = log.correct * 1\n",
    "\n",
    "time_format = \"%Y-%m-%d %H:%M:%S\"\n",
    "log.startime = log.start_time.apply(lambda t: time.mktime(datetime.strptime(t.split('.')[0], time_format).timetuple()))\n",
    "log.endtime = log.end_time.apply(lambda t: time.mktime(datetime.strptime(t.split('.')[0], time_format).timetuple()))\n",
    "df.timestamp = (log.startime+log.endtime)/2\n",
    "df.dwell_time = log.endtime - log.startime"
   ]
  },
  {
   "cell_type": "code",
   "execution_count": 15,
   "metadata": {},
   "outputs": [],
   "source": [
    "df = df.sort_values('timestamp', ascending=True)"
   ]
  },
  {
   "cell_type": "code",
   "execution_count": 16,
   "metadata": {},
   "outputs": [],
   "source": [
    "# re-index\n",
    "# - skill\n",
    "skill_id = list(df['skill_id'].unique())\n",
    "skill_dict = dict(zip(skill_id, range(len(skill_id))))\n",
    "df['skill_id'] = df['skill_id'].apply(lambda x: skill_dict[x])\n",
    "\n",
    "# - problem\n",
    "pro_id = list(df['problem_id'].unique())\n",
    "pro_dict = dict(zip(pro_id, range(len(pro_id))))\n",
    "df['problem_id'] = df['problem_id'].apply(lambda x: pro_dict[x])\n",
    "\n",
    "# - student\n",
    "stu_id = list(df['user_id'].unique())\n",
    "stu_dict = dict(zip(stu_id, range(len(stu_id))))\n",
    "df['user_id'] = df['user_id'].apply(lambda x: stu_dict[x])"
   ]
  },
  {
   "cell_type": "code",
   "execution_count": 17,
   "metadata": {},
   "outputs": [
    {
     "data": {
      "text/html": [
       "<div>\n",
       "<style scoped>\n",
       "    .dataframe tbody tr th:only-of-type {\n",
       "        vertical-align: middle;\n",
       "    }\n",
       "\n",
       "    .dataframe tbody tr th {\n",
       "        vertical-align: top;\n",
       "    }\n",
       "\n",
       "    .dataframe thead th {\n",
       "        text-align: right;\n",
       "    }\n",
       "</style>\n",
       "<table border=\"1\" class=\"dataframe\">\n",
       "  <thead>\n",
       "    <tr style=\"text-align: right;\">\n",
       "      <th></th>\n",
       "      <th>user_id</th>\n",
       "      <th>problem_id</th>\n",
       "      <th>skill_id</th>\n",
       "      <th>timestamp</th>\n",
       "      <th>dwell_time</th>\n",
       "      <th>correct</th>\n",
       "    </tr>\n",
       "  </thead>\n",
       "  <tbody>\n",
       "    <tr>\n",
       "      <th>1582259</th>\n",
       "      <td>0</td>\n",
       "      <td>0</td>\n",
       "      <td>0</td>\n",
       "      <td>1.346450e+09</td>\n",
       "      <td>120.0</td>\n",
       "      <td>0.0</td>\n",
       "    </tr>\n",
       "    <tr>\n",
       "      <th>2012329</th>\n",
       "      <td>1</td>\n",
       "      <td>1</td>\n",
       "      <td>1</td>\n",
       "      <td>1.346450e+09</td>\n",
       "      <td>17.0</td>\n",
       "      <td>1.0</td>\n",
       "    </tr>\n",
       "    <tr>\n",
       "      <th>3961249</th>\n",
       "      <td>1</td>\n",
       "      <td>2</td>\n",
       "      <td>1</td>\n",
       "      <td>1.346451e+09</td>\n",
       "      <td>73.0</td>\n",
       "      <td>0.0</td>\n",
       "    </tr>\n",
       "    <tr>\n",
       "      <th>4703521</th>\n",
       "      <td>0</td>\n",
       "      <td>3</td>\n",
       "      <td>0</td>\n",
       "      <td>1.346451e+09</td>\n",
       "      <td>105.0</td>\n",
       "      <td>1.0</td>\n",
       "    </tr>\n",
       "    <tr>\n",
       "      <th>6065676</th>\n",
       "      <td>1</td>\n",
       "      <td>4</td>\n",
       "      <td>1</td>\n",
       "      <td>1.346451e+09</td>\n",
       "      <td>67.0</td>\n",
       "      <td>0.0</td>\n",
       "    </tr>\n",
       "    <tr>\n",
       "      <th>...</th>\n",
       "      <td>...</td>\n",
       "      <td>...</td>\n",
       "      <td>...</td>\n",
       "      <td>...</td>\n",
       "      <td>...</td>\n",
       "      <td>...</td>\n",
       "    </tr>\n",
       "    <tr>\n",
       "      <th>357851</th>\n",
       "      <td>10715</td>\n",
       "      <td>7435</td>\n",
       "      <td>69</td>\n",
       "      <td>1.379175e+09</td>\n",
       "      <td>3297933.0</td>\n",
       "      <td>0.0</td>\n",
       "    </tr>\n",
       "    <tr>\n",
       "      <th>752604</th>\n",
       "      <td>12328</td>\n",
       "      <td>3023</td>\n",
       "      <td>45</td>\n",
       "      <td>1.379249e+09</td>\n",
       "      <td>3672604.0</td>\n",
       "      <td>0.0</td>\n",
       "    </tr>\n",
       "    <tr>\n",
       "      <th>406102</th>\n",
       "      <td>11370</td>\n",
       "      <td>17009</td>\n",
       "      <td>45</td>\n",
       "      <td>1.379265e+09</td>\n",
       "      <td>4152537.0</td>\n",
       "      <td>0.0</td>\n",
       "    </tr>\n",
       "    <tr>\n",
       "      <th>3288044</th>\n",
       "      <td>10742</td>\n",
       "      <td>8867</td>\n",
       "      <td>81</td>\n",
       "      <td>1.379521e+09</td>\n",
       "      <td>3450799.0</td>\n",
       "      <td>0.0</td>\n",
       "    </tr>\n",
       "    <tr>\n",
       "      <th>1817838</th>\n",
       "      <td>10742</td>\n",
       "      <td>2383</td>\n",
       "      <td>69</td>\n",
       "      <td>1.379521e+09</td>\n",
       "      <td>3450761.0</td>\n",
       "      <td>0.0</td>\n",
       "    </tr>\n",
       "  </tbody>\n",
       "</table>\n",
       "<p>2431788 rows × 6 columns</p>\n",
       "</div>"
      ],
      "text/plain": [
       "         user_id  problem_id  skill_id     timestamp  dwell_time  correct\n",
       "1582259        0           0         0  1.346450e+09       120.0      0.0\n",
       "2012329        1           1         1  1.346450e+09        17.0      1.0\n",
       "3961249        1           2         1  1.346451e+09        73.0      0.0\n",
       "4703521        0           3         0  1.346451e+09       105.0      1.0\n",
       "6065676        1           4         1  1.346451e+09        67.0      0.0\n",
       "...          ...         ...       ...           ...         ...      ...\n",
       "357851     10715        7435        69  1.379175e+09   3297933.0      0.0\n",
       "752604     12328        3023        45  1.379249e+09   3672604.0      0.0\n",
       "406102     11370       17009        45  1.379265e+09   4152537.0      0.0\n",
       "3288044    10742        8867        81  1.379521e+09   3450799.0      0.0\n",
       "1817838    10742        2383        69  1.379521e+09   3450761.0      0.0\n",
       "\n",
       "[2431788 rows x 6 columns]"
      ]
     },
     "execution_count": 17,
     "metadata": {},
     "output_type": "execute_result"
    }
   ],
   "source": [
    "df"
   ]
  },
  {
   "cell_type": "code",
   "execution_count": 18,
   "metadata": {},
   "outputs": [],
   "source": [
    "df = df.astype({\n",
    "    'timestamp': np.float64,\n",
    "    'dwell_time': np.float64,\n",
    "    'correct': np.float64,\n",
    "    'problem_id': np.int64,\n",
    "    'skill_id': np.int64,\n",
    "    'user_id': np.int64\n",
    "    })"
   ]
  },
  {
   "cell_type": "code",
   "execution_count": 19,
   "metadata": {},
   "outputs": [],
   "source": [
    "# Save\n",
    "df.to_csv('/mnt/qb/work/mlcolab/hzhou52/kt/assistment12/'+'interactions_{}.csv'.format(remove_thres), sep='\\t', index=False)"
   ]
  },
  {
   "cell_type": "code",
   "execution_count": 20,
   "metadata": {},
   "outputs": [
    {
     "name": "stdout",
     "output_type": "stream",
     "text": [
      "number of unique value in user_id: 12443\n",
      "number of unique value in problem_id: 51866\n",
      "number of unique value in skill_id: 263\n",
      "number of unique value in timestamp: 2280512\n",
      "number of unique value in dwell_time: 24573\n",
      "number of unique value in correct: 8\n"
     ]
    },
    {
     "data": {
      "text/plain": [
       "2431788"
      ]
     },
     "execution_count": 20,
     "metadata": {},
     "output_type": "execute_result"
    }
   ],
   "source": [
    "count_unique(df, list(df.columns))\n",
    "len(df)"
   ]
  },
  {
   "cell_type": "code",
   "execution_count": null,
   "metadata": {},
   "outputs": [],
   "source": [
    "####################################"
   ]
  },
  {
   "cell_type": "code",
   "execution_count": 5,
   "metadata": {},
   "outputs": [],
   "source": [
    "inter = pd.read_csv('/mnt/qb/work/mlcolab/hzhou52/kt/assistment12/interactions_50.csv',sep='\\t')"
   ]
  },
  {
   "cell_type": "code",
   "execution_count": 6,
   "metadata": {},
   "outputs": [
    {
     "data": {
      "text/html": [
       "<div>\n",
       "<style scoped>\n",
       "    .dataframe tbody tr th:only-of-type {\n",
       "        vertical-align: middle;\n",
       "    }\n",
       "\n",
       "    .dataframe tbody tr th {\n",
       "        vertical-align: top;\n",
       "    }\n",
       "\n",
       "    .dataframe thead th {\n",
       "        text-align: right;\n",
       "    }\n",
       "</style>\n",
       "<table border=\"1\" class=\"dataframe\">\n",
       "  <thead>\n",
       "    <tr style=\"text-align: right;\">\n",
       "      <th></th>\n",
       "      <th>user_id</th>\n",
       "      <th>problem_id</th>\n",
       "      <th>skill_id</th>\n",
       "      <th>timestamp</th>\n",
       "      <th>dwell_time</th>\n",
       "      <th>correct</th>\n",
       "    </tr>\n",
       "  </thead>\n",
       "  <tbody>\n",
       "    <tr>\n",
       "      <th>0</th>\n",
       "      <td>0</td>\n",
       "      <td>0</td>\n",
       "      <td>0</td>\n",
       "      <td>1.346450e+09</td>\n",
       "      <td>120.0</td>\n",
       "      <td>0.0</td>\n",
       "    </tr>\n",
       "    <tr>\n",
       "      <th>1</th>\n",
       "      <td>1</td>\n",
       "      <td>1</td>\n",
       "      <td>1</td>\n",
       "      <td>1.346450e+09</td>\n",
       "      <td>17.0</td>\n",
       "      <td>1.0</td>\n",
       "    </tr>\n",
       "    <tr>\n",
       "      <th>2</th>\n",
       "      <td>1</td>\n",
       "      <td>2</td>\n",
       "      <td>1</td>\n",
       "      <td>1.346451e+09</td>\n",
       "      <td>73.0</td>\n",
       "      <td>0.0</td>\n",
       "    </tr>\n",
       "    <tr>\n",
       "      <th>3</th>\n",
       "      <td>0</td>\n",
       "      <td>3</td>\n",
       "      <td>0</td>\n",
       "      <td>1.346451e+09</td>\n",
       "      <td>105.0</td>\n",
       "      <td>1.0</td>\n",
       "    </tr>\n",
       "    <tr>\n",
       "      <th>4</th>\n",
       "      <td>1</td>\n",
       "      <td>4</td>\n",
       "      <td>1</td>\n",
       "      <td>1.346451e+09</td>\n",
       "      <td>67.0</td>\n",
       "      <td>0.0</td>\n",
       "    </tr>\n",
       "    <tr>\n",
       "      <th>...</th>\n",
       "      <td>...</td>\n",
       "      <td>...</td>\n",
       "      <td>...</td>\n",
       "      <td>...</td>\n",
       "      <td>...</td>\n",
       "      <td>...</td>\n",
       "    </tr>\n",
       "    <tr>\n",
       "      <th>2431783</th>\n",
       "      <td>10715</td>\n",
       "      <td>7435</td>\n",
       "      <td>69</td>\n",
       "      <td>1.379175e+09</td>\n",
       "      <td>3297933.0</td>\n",
       "      <td>0.0</td>\n",
       "    </tr>\n",
       "    <tr>\n",
       "      <th>2431784</th>\n",
       "      <td>12328</td>\n",
       "      <td>3023</td>\n",
       "      <td>45</td>\n",
       "      <td>1.379249e+09</td>\n",
       "      <td>3672604.0</td>\n",
       "      <td>0.0</td>\n",
       "    </tr>\n",
       "    <tr>\n",
       "      <th>2431785</th>\n",
       "      <td>11370</td>\n",
       "      <td>17009</td>\n",
       "      <td>45</td>\n",
       "      <td>1.379265e+09</td>\n",
       "      <td>4152537.0</td>\n",
       "      <td>0.0</td>\n",
       "    </tr>\n",
       "    <tr>\n",
       "      <th>2431786</th>\n",
       "      <td>10742</td>\n",
       "      <td>8867</td>\n",
       "      <td>81</td>\n",
       "      <td>1.379521e+09</td>\n",
       "      <td>3450799.0</td>\n",
       "      <td>0.0</td>\n",
       "    </tr>\n",
       "    <tr>\n",
       "      <th>2431787</th>\n",
       "      <td>10742</td>\n",
       "      <td>2383</td>\n",
       "      <td>69</td>\n",
       "      <td>1.379521e+09</td>\n",
       "      <td>3450761.0</td>\n",
       "      <td>0.0</td>\n",
       "    </tr>\n",
       "  </tbody>\n",
       "</table>\n",
       "<p>2431788 rows × 6 columns</p>\n",
       "</div>"
      ],
      "text/plain": [
       "         user_id  problem_id  skill_id     timestamp  dwell_time  correct\n",
       "0              0           0         0  1.346450e+09       120.0      0.0\n",
       "1              1           1         1  1.346450e+09        17.0      1.0\n",
       "2              1           2         1  1.346451e+09        73.0      0.0\n",
       "3              0           3         0  1.346451e+09       105.0      1.0\n",
       "4              1           4         1  1.346451e+09        67.0      0.0\n",
       "...          ...         ...       ...           ...         ...      ...\n",
       "2431783    10715        7435        69  1.379175e+09   3297933.0      0.0\n",
       "2431784    12328        3023        45  1.379249e+09   3672604.0      0.0\n",
       "2431785    11370       17009        45  1.379265e+09   4152537.0      0.0\n",
       "2431786    10742        8867        81  1.379521e+09   3450799.0      0.0\n",
       "2431787    10742        2383        69  1.379521e+09   3450761.0      0.0\n",
       "\n",
       "[2431788 rows x 6 columns]"
      ]
     },
     "execution_count": 6,
     "metadata": {},
     "output_type": "execute_result"
    }
   ],
   "source": [
    "inter"
   ]
  },
  {
   "cell_type": "code",
   "execution_count": 9,
   "metadata": {},
   "outputs": [],
   "source": [
    "user_wise_dict = dict()\n",
    "cnt, n_inters = 0, 0\n",
    "for user, user_df in inter.groupby('user_id'):\n",
    "    df = user_df[:50]  # consider the first 50 interactions\n",
    "    user_wise_dict[cnt] = {\n",
    "        'user_id': user,\n",
    "        'skill_seq': df['skill_id'].values.tolist(), \n",
    "        'correct_seq': [round(x) for x in df['correct']],\n",
    "        'time_seq': df['timestamp'].values.tolist(),\n",
    "        'problem_seq': df['problem_id'].values.tolist()\n",
    "    }\n",
    "    cnt += 1\n",
    "    n_inters += len(df)"
   ]
  },
  {
   "cell_type": "code",
   "execution_count": 11,
   "metadata": {},
   "outputs": [],
   "source": [
    "user_seq_df = pd.DataFrame.from_dict(user_wise_dict, orient='index')"
   ]
  },
  {
   "cell_type": "code",
   "execution_count": 17,
   "metadata": {},
   "outputs": [],
   "source": [
    "skill_seq = np.stack(list(user_seq_df['skill_seq']))[:9000]"
   ]
  },
  {
   "cell_type": "code",
   "execution_count": 18,
   "metadata": {},
   "outputs": [
    {
     "data": {
      "text/plain": [
       "array([[ 0,  0,  0, ..., 25, 37, 30],\n",
       "       [ 1,  1,  1, ...,  7,  0,  0],\n",
       "       [ 2,  2,  2, ...,  9,  9,  9],\n",
       "       ...,\n",
       "       [68, 68, 68, ..., 22, 22, 15],\n",
       "       [68, 68, 68, ..., 22, 22, 22],\n",
       "       [39, 39, 39, ..., 42, 42, 42]])"
      ]
     },
     "execution_count": 18,
     "metadata": {},
     "output_type": "execute_result"
    }
   ],
   "source": [
    "skill_seq"
   ]
  },
  {
   "cell_type": "code",
   "execution_count": 52,
   "metadata": {},
   "outputs": [],
   "source": [
    "cross = []\n",
    "for i in range(30):\n",
    "    for j in range(20):\n",
    "        test = np.concatenate([skill_seq[:, i:i+1], skill_seq[:, 30+j:31+j]], axis=-1)\n",
    "        cross.append(test)"
   ]
  },
  {
   "cell_type": "code",
   "execution_count": 53,
   "metadata": {},
   "outputs": [
    {
     "data": {
      "text/plain": [
       "600"
      ]
     },
     "execution_count": 53,
     "metadata": {},
     "output_type": "execute_result"
    }
   ],
   "source": [
    "len(cross)"
   ]
  },
  {
   "cell_type": "code",
   "execution_count": 57,
   "metadata": {},
   "outputs": [],
   "source": [
    "cross = np.stack(cross, 0).reshape(-1, 2)"
   ]
  },
  {
   "cell_type": "code",
   "execution_count": 59,
   "metadata": {},
   "outputs": [],
   "source": [
    "unique_cross = np.unique(cross, axis=0)"
   ]
  },
  {
   "cell_type": "code",
   "execution_count": 60,
   "metadata": {},
   "outputs": [
    {
     "data": {
      "text/plain": [
       "(15389, 2)"
      ]
     },
     "execution_count": 60,
     "metadata": {},
     "output_type": "execute_result"
    }
   ],
   "source": [
    "unique_cross.shape"
   ]
  },
  {
   "cell_type": "code",
   "execution_count": 61,
   "metadata": {},
   "outputs": [
    {
     "data": {
      "text/plain": [
       "69169"
      ]
     },
     "execution_count": 61,
     "metadata": {},
     "output_type": "execute_result"
    }
   ],
   "source": [
    "263*263"
   ]
  },
  {
   "cell_type": "code",
   "execution_count": 64,
   "metadata": {},
   "outputs": [],
   "source": [
    "cross = []\n",
    "for i in range(49):\n",
    "    for j in range(i+1, 50):\n",
    "        test = np.concatenate([skill_seq[:, i:i+1], skill_seq[:, j:j+1]], axis=-1)\n",
    "        cross.append(test)"
   ]
  },
  {
   "cell_type": "code",
   "execution_count": 65,
   "metadata": {},
   "outputs": [
    {
     "data": {
      "text/plain": [
       "1225"
      ]
     },
     "execution_count": 65,
     "metadata": {},
     "output_type": "execute_result"
    }
   ],
   "source": [
    "len(cross)"
   ]
  },
  {
   "cell_type": "code",
   "execution_count": 66,
   "metadata": {},
   "outputs": [],
   "source": [
    "cross = np.stack(cross, 0).reshape(-1, 2)"
   ]
  },
  {
   "cell_type": "code",
   "execution_count": 67,
   "metadata": {},
   "outputs": [],
   "source": [
    "unique_cross = np.unique(cross, axis=0)"
   ]
  },
  {
   "cell_type": "code",
   "execution_count": 68,
   "metadata": {},
   "outputs": [
    {
     "data": {
      "text/plain": [
       "(18108, 2)"
      ]
     },
     "execution_count": 68,
     "metadata": {},
     "output_type": "execute_result"
    }
   ],
   "source": [
    "unique_cross.shape"
   ]
  },
  {
   "cell_type": "code",
   "execution_count": null,
   "metadata": {},
   "outputs": [],
   "source": []
  }
 ],
 "metadata": {
  "interpreter": {
   "hash": "3c2509e27662ce56f108009dad52848cf38f1485dce3b4941071b3bbc5cf42be"
  },
  "kernelspec": {
   "display_name": "Python 3 (ipykernel)",
   "language": "python",
   "name": "python3"
  },
  "language_info": {
   "codemirror_mode": {
    "name": "ipython",
    "version": 3
   },
   "file_extension": ".py",
   "mimetype": "text/x-python",
   "name": "python",
   "nbconvert_exporter": "python",
   "pygments_lexer": "ipython3",
   "version": "3.9.12"
  }
 },
 "nbformat": 4,
 "nbformat_minor": 2
}
