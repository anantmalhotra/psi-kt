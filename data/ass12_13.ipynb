{
 "cells": [
  {
   "cell_type": "code",
   "execution_count": 11,
   "metadata": {},
   "outputs": [],
   "source": [
    "import numpy as np\n",
    "import pandas as pd\n",
    "from collections import defaultdict\n",
    "import operator\n",
    "import time, datetime\n",
    "from utils import *"
   ]
  },
  {
   "cell_type": "code",
   "execution_count": 3,
   "metadata": {},
   "outputs": [],
   "source": [
    "bath_path = '/mnt/qb/work/mlcolab/hzhou52/kt/assistment/2012-2013-data-with-predictions-4-final.csv'\n",
    "log = pd.read_csv(bath_path, encoding = \"utf-8\",low_memory=False)"
   ]
  },
  {
   "cell_type": "code",
   "execution_count": 5,
   "metadata": {},
   "outputs": [
    {
     "data": {
      "text/plain": [
       "Index(['problem_log_id', 'skill', 'problem_id', 'user_id', 'assignment_id',\n",
       "       'assistment_id', 'start_time', 'end_time', 'problem_type', 'original',\n",
       "       'correct', 'bottom_hint', 'hint_count', 'actions', 'attempt_count',\n",
       "       'ms_first_response', 'tutor_mode', 'sequence_id', 'student_class_id',\n",
       "       'position', 'type', 'base_sequence_id', 'skill_id', 'teacher_id',\n",
       "       'school_id', 'overlap_time', 'template_id', 'answer_id', 'answer_text',\n",
       "       'first_action', 'problemlogid', 'Average_confidence(FRUSTRATED)',\n",
       "       'Average_confidence(CONFUSED)', 'Average_confidence(CONCENTRATING)',\n",
       "       'Average_confidence(BORED)'],\n",
       "      dtype='object')"
      ]
     },
     "execution_count": 5,
     "metadata": {},
     "output_type": "execute_result"
    }
   ],
   "source": [
    "log.columns"
   ]
  },
  {
   "cell_type": "code",
   "execution_count": 6,
   "metadata": {},
   "outputs": [
    {
     "name": "stdout",
     "output_type": "stream",
     "text": [
      "number of NaN in column problem_log_id: 0\n",
      "number of NaN in column skill: 3493190\n",
      "number of NaN in column problem_id: 0\n",
      "number of NaN in column user_id: 0\n",
      "number of NaN in column assignment_id: 0\n",
      "number of NaN in column assistment_id: 0\n",
      "number of NaN in column start_time: 0\n",
      "number of NaN in column end_time: 0\n",
      "number of NaN in column problem_type: 0\n",
      "number of NaN in column original: 0\n",
      "number of NaN in column correct: 0\n",
      "number of NaN in column bottom_hint: 60348\n",
      "number of NaN in column hint_count: 0\n",
      "number of NaN in column actions: 0\n",
      "number of NaN in column attempt_count: 0\n",
      "number of NaN in column ms_first_response: 0\n",
      "number of NaN in column tutor_mode: 0\n",
      "number of NaN in column sequence_id: 0\n",
      "number of NaN in column student_class_id: 0\n",
      "number of NaN in column position: 0\n",
      "number of NaN in column type: 0\n",
      "number of NaN in column base_sequence_id: 0\n",
      "number of NaN in column skill_id: 3411457\n",
      "number of NaN in column teacher_id: 0\n",
      "number of NaN in column school_id: 157\n",
      "number of NaN in column overlap_time: 0\n",
      "number of NaN in column template_id: 0\n",
      "number of NaN in column answer_id: 6114995\n",
      "number of NaN in column answer_text: 346338\n",
      "number of NaN in column first_action: 0\n",
      "number of NaN in column problemlogid: 0\n",
      "number of NaN in column Average_confidence(FRUSTRATED): 0\n",
      "number of NaN in column Average_confidence(CONFUSED): 0\n",
      "number of NaN in column Average_confidence(CONCENTRATING): 0\n",
      "number of NaN in column Average_confidence(BORED): 0\n",
      "number of unique value in user_id: 46674\n",
      "number of unique value in skill_id: 266\n",
      "number of unique value in problem_id: 179999\n",
      "6123270\n"
     ]
    }
   ],
   "source": [
    "check_nan(log)\n",
    "count_unique(log, ['user_id', 'skill_id', 'problem_id'])\n",
    "print(len(log))"
   ]
  },
  {
   "cell_type": "code",
   "execution_count": 7,
   "metadata": {},
   "outputs": [
    {
     "name": "stdout",
     "output_type": "stream",
     "text": [
      "2710913\n"
     ]
    }
   ],
   "source": [
    "log = log[~log.skill_id.isna()]\n",
    "log = remove_log(log, 'user_id')\n",
    "print(len(log))"
   ]
  },
  {
   "cell_type": "markdown",
   "metadata": {},
   "source": [
    "# pre-process"
   ]
  },
  {
   "cell_type": "code",
   "execution_count": 10,
   "metadata": {},
   "outputs": [],
   "source": [
    "# create new data\n",
    "df = pd.DataFrame(columns=['user_id', 'problem_id', 'skill_id', 'timestamp', 'dwell_time', 'correct'])\n",
    "df.user_id = log.user_id\n",
    "df.problem_id = log.problem_id\n",
    "df.skill_id = log.skill_id\n",
    "# df.timestamp = log.start_time.apply(lambda t: time.mktime(time.strptime(t, '%Y-%m-%d %H:%M:%S')))\n",
    "# df.dwell_time = df.timestamp - log.end_time.apply(lambda t: time.mktime(time.strptime(t, '%Y-%m-%d %H:%M:%S')))\n",
    "df.correct = log.correct * 1\n",
    "\n",
    "time_format = \"%Y-%m-%d %H:%M:%S\"\n",
    "log.startime = log.start_time.apply(lambda t: time.mktime(datetime.strptime(t.split('.')[0], time_format).timetuple()))\n",
    "log.endtime = log.end_time.apply(lambda t: time.mktime(datetime.strptime(t.split('.')[0], time_format).timetuple()))\n",
    "df.timestamp = (log.startime+log.endtime)/2\n",
    "df.dwell_time = log.endtime - log.startime"
   ]
  },
  {
   "cell_type": "code",
   "execution_count": 18,
   "metadata": {},
   "outputs": [],
   "source": [
    "# re-index\n",
    "# - skill\n",
    "skill_id = list(df['skill_id'].unique())\n",
    "skill_dict = dict(zip(skill_id, range(len(skill_id))))\n",
    "df['skill_id'] = df['skill_id'].apply(lambda x: skill_dict[x])\n",
    "\n",
    "# - problem\n",
    "pro_id = list(df['problem_id'].unique())\n",
    "pro_dict = dict(zip(pro_id, range(len(pro_id))))\n",
    "df['problem_id'] = df['problem_id'].apply(lambda x: pro_dict[x])\n",
    "\n",
    "# - student\n",
    "stu_id = list(df['user_id'].unique())\n",
    "stu_dict = dict(zip(stu_id, range(len(stu_id))))\n",
    "df['user_id'] = df['user_id'].apply(lambda x: stu_dict[x])"
   ]
  },
  {
   "cell_type": "code",
   "execution_count": 19,
   "metadata": {},
   "outputs": [
    {
     "data": {
      "text/html": [
       "<div>\n",
       "<style scoped>\n",
       "    .dataframe tbody tr th:only-of-type {\n",
       "        vertical-align: middle;\n",
       "    }\n",
       "\n",
       "    .dataframe tbody tr th {\n",
       "        vertical-align: top;\n",
       "    }\n",
       "\n",
       "    .dataframe thead th {\n",
       "        text-align: right;\n",
       "    }\n",
       "</style>\n",
       "<table border=\"1\" class=\"dataframe\">\n",
       "  <thead>\n",
       "    <tr style=\"text-align: right;\">\n",
       "      <th></th>\n",
       "      <th>user_id</th>\n",
       "      <th>problem_id</th>\n",
       "      <th>skill_id</th>\n",
       "      <th>timestamp</th>\n",
       "      <th>dwell_time</th>\n",
       "      <th>correct</th>\n",
       "    </tr>\n",
       "  </thead>\n",
       "  <tbody>\n",
       "    <tr>\n",
       "      <th>1</th>\n",
       "      <td>0</td>\n",
       "      <td>0</td>\n",
       "      <td>0</td>\n",
       "      <td>1.349773e+09</td>\n",
       "      <td>21.0</td>\n",
       "      <td>1.0</td>\n",
       "    </tr>\n",
       "    <tr>\n",
       "      <th>2</th>\n",
       "      <td>0</td>\n",
       "      <td>1</td>\n",
       "      <td>1</td>\n",
       "      <td>1.362650e+09</td>\n",
       "      <td>8.0</td>\n",
       "      <td>0.0</td>\n",
       "    </tr>\n",
       "    <tr>\n",
       "      <th>3</th>\n",
       "      <td>0</td>\n",
       "      <td>2</td>\n",
       "      <td>2</td>\n",
       "      <td>1.377021e+09</td>\n",
       "      <td>25.0</td>\n",
       "      <td>1.0</td>\n",
       "    </tr>\n",
       "    <tr>\n",
       "      <th>5</th>\n",
       "      <td>1</td>\n",
       "      <td>3</td>\n",
       "      <td>3</td>\n",
       "      <td>1.355342e+09</td>\n",
       "      <td>12.0</td>\n",
       "      <td>1.0</td>\n",
       "    </tr>\n",
       "    <tr>\n",
       "      <th>7</th>\n",
       "      <td>2</td>\n",
       "      <td>4</td>\n",
       "      <td>4</td>\n",
       "      <td>1.350376e+09</td>\n",
       "      <td>61.0</td>\n",
       "      <td>1.0</td>\n",
       "    </tr>\n",
       "    <tr>\n",
       "      <th>...</th>\n",
       "      <td>...</td>\n",
       "      <td>...</td>\n",
       "      <td>...</td>\n",
       "      <td>...</td>\n",
       "      <td>...</td>\n",
       "      <td>...</td>\n",
       "    </tr>\n",
       "    <tr>\n",
       "      <th>6123259</th>\n",
       "      <td>18202</td>\n",
       "      <td>2992</td>\n",
       "      <td>47</td>\n",
       "      <td>1.377775e+09</td>\n",
       "      <td>25.0</td>\n",
       "      <td>1.0</td>\n",
       "    </tr>\n",
       "    <tr>\n",
       "      <th>6123260</th>\n",
       "      <td>3953</td>\n",
       "      <td>4055</td>\n",
       "      <td>13</td>\n",
       "      <td>1.377786e+09</td>\n",
       "      <td>32.0</td>\n",
       "      <td>1.0</td>\n",
       "    </tr>\n",
       "    <tr>\n",
       "      <th>6123262</th>\n",
       "      <td>14539</td>\n",
       "      <td>3945</td>\n",
       "      <td>35</td>\n",
       "      <td>1.377955e+09</td>\n",
       "      <td>7.0</td>\n",
       "      <td>1.0</td>\n",
       "    </tr>\n",
       "    <tr>\n",
       "      <th>6123264</th>\n",
       "      <td>18493</td>\n",
       "      <td>3704</td>\n",
       "      <td>19</td>\n",
       "      <td>1.377901e+09</td>\n",
       "      <td>98.0</td>\n",
       "      <td>0.0</td>\n",
       "    </tr>\n",
       "    <tr>\n",
       "      <th>6123267</th>\n",
       "      <td>11188</td>\n",
       "      <td>9520</td>\n",
       "      <td>21</td>\n",
       "      <td>1.377855e+09</td>\n",
       "      <td>30.0</td>\n",
       "      <td>0.0</td>\n",
       "    </tr>\n",
       "  </tbody>\n",
       "</table>\n",
       "<p>2710913 rows × 6 columns</p>\n",
       "</div>"
      ],
      "text/plain": [
       "         user_id  problem_id  skill_id     timestamp  dwell_time  correct\n",
       "1              0           0         0  1.349773e+09        21.0      1.0\n",
       "2              0           1         1  1.362650e+09         8.0      0.0\n",
       "3              0           2         2  1.377021e+09        25.0      1.0\n",
       "5              1           3         3  1.355342e+09        12.0      1.0\n",
       "7              2           4         4  1.350376e+09        61.0      1.0\n",
       "...          ...         ...       ...           ...         ...      ...\n",
       "6123259    18202        2992        47  1.377775e+09        25.0      1.0\n",
       "6123260     3953        4055        13  1.377786e+09        32.0      1.0\n",
       "6123262    14539        3945        35  1.377955e+09         7.0      1.0\n",
       "6123264    18493        3704        19  1.377901e+09        98.0      0.0\n",
       "6123267    11188        9520        21  1.377855e+09        30.0      0.0\n",
       "\n",
       "[2710913 rows x 6 columns]"
      ]
     },
     "execution_count": 19,
     "metadata": {},
     "output_type": "execute_result"
    }
   ],
   "source": [
    "df"
   ]
  },
  {
   "cell_type": "code",
   "execution_count": 20,
   "metadata": {},
   "outputs": [],
   "source": [
    "df = df.astype({\n",
    "    'timestamp': np.float64,\n",
    "    'dwell_time': np.float64,\n",
    "    'correct': np.float64,\n",
    "    'problem_id': np.int64,\n",
    "    'skill_id': np.int64,\n",
    "    'user_id': np.int64\n",
    "    })"
   ]
  },
  {
   "cell_type": "code",
   "execution_count": 18,
   "metadata": {},
   "outputs": [],
   "source": [
    "# Save\n",
    "df.to_csv('/mnt/qb/work/mlcolab/hzhou52/kt/assistment/12_13/'+'interactions.csv', sep='\\t', index=False)"
   ]
  },
  {
   "cell_type": "code",
   "execution_count": 21,
   "metadata": {},
   "outputs": [
    {
     "name": "stdout",
     "output_type": "stream",
     "text": [
      "number of unique value in user_id: 28118\n",
      "number of unique value in problem_id: 53084\n",
      "number of unique value in skill_id: 265\n",
      "number of unique value in timestamp: 2524471\n",
      "number of unique value in dwell_time: 26708\n",
      "number of unique value in correct: 8\n"
     ]
    },
    {
     "data": {
      "text/plain": [
       "2710913"
      ]
     },
     "execution_count": 21,
     "metadata": {},
     "output_type": "execute_result"
    }
   ],
   "source": [
    "count_unique(df, list(df.columns))\n",
    "len(df)"
   ]
  },
  {
   "cell_type": "code",
   "execution_count": null,
   "metadata": {},
   "outputs": [],
   "source": []
  }
 ],
 "metadata": {
  "interpreter": {
   "hash": "3c2509e27662ce56f108009dad52848cf38f1485dce3b4941071b3bbc5cf42be"
  },
  "kernelspec": {
   "display_name": "Python 3.8.13 ('kt')",
   "language": "python",
   "name": "python3"
  },
  "language_info": {
   "codemirror_mode": {
    "name": "ipython",
    "version": 3
   },
   "file_extension": ".py",
   "mimetype": "text/x-python",
   "name": "python",
   "nbconvert_exporter": "python",
   "pygments_lexer": "ipython3",
   "version": "3.8.13"
  },
  "orig_nbformat": 4
 },
 "nbformat": 4,
 "nbformat_minor": 2
}
